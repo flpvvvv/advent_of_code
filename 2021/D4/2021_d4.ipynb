{
 "cells": [
  {
   "cell_type": "raw",
   "id": "under-italic",
   "metadata": {},
   "source": [
    "--- Day 4: Giant Squid ---\n",
    "You're already almost 1.5km (almost a mile) below the surface of the ocean, already so deep that you can't see any sunlight. What you can see, however, is a giant squid that has attached itself to the outside of your submarine.\n",
    "\n",
    "Maybe it wants to play bingo?\n",
    "\n",
    "Bingo is played on a set of boards each consisting of a 5x5 grid of numbers. Numbers are chosen at random, and the chosen number is marked on all boards on which it appears. (Numbers may not appear on all boards.) If all numbers in any row or any column of a board are marked, that board wins. (Diagonals don't count.)\n",
    "\n",
    "The submarine has a bingo subsystem to help passengers (currently, you and the giant squid) pass the time. It automatically generates a random order in which to draw numbers and a random set of boards (your puzzle input). For example:\n",
    "\n",
    "7,4,9,5,11,17,23,2,0,14,21,24,10,16,13,6,15,25,12,22,18,20,8,19,3,26,1\n",
    "\n",
    "22 13 17 11  0\n",
    " 8  2 23  4 24\n",
    "21  9 14 16  7\n",
    " 6 10  3 18  5\n",
    " 1 12 20 15 19\n",
    "\n",
    " 3 15  0  2 22\n",
    " 9 18 13 17  5\n",
    "19  8  7 25 23\n",
    "20 11 10 24  4\n",
    "14 21 16 12  6\n",
    "\n",
    "14 21 17 24  4\n",
    "10 16 15  9 19\n",
    "18  8 23 26 20\n",
    "22 11 13  6  5\n",
    " 2  0 12  3  7\n",
    "After the first five numbers are drawn (7, 4, 9, 5, and 11), there are no winners, but the boards are marked as follows (shown here adjacent to each other to save space):\n",
    "\n",
    "22 13 17 11  0         3 15  0  2 22        14 21 17 24  4\n",
    " 8  2 23  4 24         9 18 13 17  5        10 16 15  9 19\n",
    "21  9 14 16  7        19  8  7 25 23        18  8 23 26 20\n",
    " 6 10  3 18  5        20 11 10 24  4        22 11 13  6  5\n",
    " 1 12 20 15 19        14 21 16 12  6         2  0 12  3  7\n",
    "After the next six numbers are drawn (17, 23, 2, 0, 14, and 21), there are still no winners:\n",
    "\n",
    "22 13 17 11  0         3 15  0  2 22        14 21 17 24  4\n",
    " 8  2 23  4 24         9 18 13 17  5        10 16 15  9 19\n",
    "21  9 14 16  7        19  8  7 25 23        18  8 23 26 20\n",
    " 6 10  3 18  5        20 11 10 24  4        22 11 13  6  5\n",
    " 1 12 20 15 19        14 21 16 12  6         2  0 12  3  7\n",
    "Finally, 24 is drawn:\n",
    "\n",
    "22 13 17 11  0         3 15  0  2 22        14 21 17 24  4\n",
    " 8  2 23  4 24         9 18 13 17  5        10 16 15  9 19\n",
    "21  9 14 16  7        19  8  7 25 23        18  8 23 26 20\n",
    " 6 10  3 18  5        20 11 10 24  4        22 11 13  6  5\n",
    " 1 12 20 15 19        14 21 16 12  6         2  0 12  3  7\n",
    "At this point, the third board wins because it has at least one complete row or column of marked numbers (in this case, the entire top row is marked: 14 21 17 24 4).\n",
    "\n",
    "The score of the winning board can now be calculated. Start by finding the sum of all unmarked numbers on that board; in this case, the sum is 188. Then, multiply that sum by the number that was just called when the board won, 24, to get the final score, 188 * 24 = 4512.\n",
    "\n",
    "To guarantee victory against the giant squid, figure out which board will win first. What will your final score be if you choose that board?\n",
    "\n",
    "Your puzzle answer was 5685.\n",
    "\n",
    "--- Part Two ---\n",
    "On the other hand, it might be wise to try a different strategy: let the giant squid win.\n",
    "\n",
    "You aren't sure how many bingo boards a giant squid could play at once, so rather than waste time counting its arms, the safe thing to do is to figure out which board will win last and choose that one. That way, no matter which boards it picks, it will win for sure.\n",
    "\n",
    "In the above example, the second board is the last to win, which happens after 13 is eventually called and its middle column is completely marked. If you were to keep playing until this point, the second board would have a sum of unmarked numbers equal to 148 for a final score of 148 * 13 = 1924.\n",
    "\n",
    "Figure out which board will win last. Once it wins, what would its final score be?\n",
    "\n",
    "Your puzzle answer was 21070."
   ]
  },
  {
   "cell_type": "code",
   "execution_count": 1,
   "id": "attended-silver",
   "metadata": {},
   "outputs": [],
   "source": [
    "import warnings\n",
    "\n",
    "warnings.filterwarnings(\"ignore\")\n",
    "\n",
    "import os\n",
    "import re\n",
    "import sys\n",
    "from pathlib import Path\n",
    "\n",
    "import numpy as np\n",
    "import pandas as pd\n",
    "from rich import print\n",
    "from tqdm import tqdm"
   ]
  },
  {
   "cell_type": "code",
   "execution_count": 2,
   "id": "right-queensland",
   "metadata": {},
   "outputs": [],
   "source": [
    "def read_file_to_str_li(fp, print_exp=True):\n",
    "    with open(fp, \"r\") as f:\n",
    "        lines = f.read().split(\"\\n\")\n",
    "    if print_exp:\n",
    "        print(f\"Read from {fp}:\")\n",
    "        print(f\"First line: {lines[0]} | Last line: {lines[-1]}\")\n",
    "        print(\"-\" * 6)\n",
    "\n",
    "    return lines\n",
    "\n",
    "\n",
    "# define the function blocks\n",
    "def convert_to_int(input_str):\n",
    "    if input_str == \"\" or input_str == \" \":\n",
    "        return None\n",
    "    return int(input_str)\n",
    "\n",
    "\n",
    "def convert_to_str(input_str):\n",
    "    return str(input_str)\n",
    "\n",
    "\n",
    "# map the inputs to the function blocks\n",
    "converts = {\n",
    "    \"i\": convert_to_int,\n",
    "    \"s\": convert_to_str,\n",
    "}\n",
    "\n",
    "\n",
    "def convert_str_li_to_other_li(\n",
    "    str_li, pattern=\"i\", per_letter=False, sep=\" \", start_row=0, end_row=None\n",
    "):\n",
    "    \"\"\" Convert a list of string to a list of other types\n",
    "    \n",
    "    pattern: a list of types for one item. \n",
    "        'i' for int, 's' for string\n",
    "        'si' means: convert the 1st item to string, the rest to integer\n",
    "        If separated items are more than pattern items,\n",
    "        use the last one from the parttern.\n",
    "    if per_letter=True, ignore sep and separate item per letter\n",
    "    \"\"\"\n",
    "    target_str_li = str_li[start_row:end_row]\n",
    "    # find max item num\n",
    "    max_item_num = 1\n",
    "    if per_letter:\n",
    "        max_item_num = max([len(s) for s in target_str_li])\n",
    "    else:\n",
    "        max_item_num = max([len(s.split(sep)) for s in target_str_li])\n",
    "\n",
    "    # extend the pattern to the max itme num\n",
    "    pattern = (\n",
    "        pattern + f\"{pattern[-1]}\" * (max_item_num - len(pattern))\n",
    "        if max_item_num > len(pattern)\n",
    "        else pattern\n",
    "    )\n",
    "\n",
    "    # convert\n",
    "    if per_letter:\n",
    "        return [\n",
    "            [converts[pattern[idx]](item) for idx, item in enumerate(s)]\n",
    "            for s in target_str_li\n",
    "        ]\n",
    "    else:\n",
    "        if sep == \" \":\n",
    "            return [\n",
    "                [converts[pattern[idx]](item) for idx, item in enumerate(s.split())]\n",
    "                for s in target_str_li\n",
    "            ]\n",
    "        else:\n",
    "            return [\n",
    "                [converts[pattern[idx]](item) for idx, item in enumerate(s.split(sep))]\n",
    "                for s in target_str_li\n",
    "            ]"
   ]
  },
  {
   "cell_type": "code",
   "execution_count": 3,
   "id": "matched-arthur",
   "metadata": {},
   "outputs": [
    {
     "data": {
      "text/html": [
       "<pre style=\"white-space:pre;overflow-x:auto;line-height:normal;font-family:Menlo,'DejaVu Sans Mono',consolas,'Courier New',monospace\">Read from input.txt:\n",
       "</pre>\n"
      ],
      "text/plain": [
       "Read from input.txt:\n"
      ]
     },
     "metadata": {},
     "output_type": "display_data"
    },
    {
     "data": {
      "text/html": [
       "<pre style=\"white-space:pre;overflow-x:auto;line-height:normal;font-family:Menlo,'DejaVu Sans Mono',consolas,'Courier New',monospace\">First line: <span style=\"color: #008080; text-decoration-color: #008080; font-weight: bold\">1</span>,<span style=\"color: #008080; text-decoration-color: #008080; font-weight: bold\">76</span>,<span style=\"color: #008080; text-decoration-color: #008080; font-weight: bold\">38</span>,<span style=\"color: #008080; text-decoration-color: #008080; font-weight: bold\">96</span>,<span style=\"color: #008080; text-decoration-color: #008080; font-weight: bold\">62</span>,<span style=\"color: #008080; text-decoration-color: #008080; font-weight: bold\">41</span>,<span style=\"color: #008080; text-decoration-color: #008080; font-weight: bold\">27</span>,<span style=\"color: #008080; text-decoration-color: #008080; font-weight: bold\">33</span>,<span style=\"color: #008080; text-decoration-color: #008080; font-weight: bold\">4</span>,<span style=\"color: #008080; text-decoration-color: #008080; font-weight: bold\">2</span>,<span style=\"color: #008080; text-decoration-color: #008080; font-weight: bold\">94</span>,<span style=\"color: #008080; text-decoration-color: #008080; font-weight: bold\">15</span>,<span style=\"color: #008080; text-decoration-color: #008080; font-weight: bold\">89</span>,<span style=\"color: #008080; text-decoration-color: #008080; font-weight: bold\">25</span>,<span style=\"color: #008080; text-decoration-color: #008080; font-weight: bold\">66</span>,<span style=\"color: #008080; text-decoration-color: #008080; font-weight: bold\">14</span>,<span style=\"color: #008080; text-decoration-color: #008080; font-weight: bold\">30</span>,<span style=\"color: #008080; text-decoration-color: #008080; font-weight: bold\">0</span>,<span style=\"color: #008080; text-decoration-color: #008080; font-weight: bold\">71</span>,<span style=\"color: #008080; text-decoration-color: #008080; font-weight: bold\">21</span>,<span style=\"color: #008080; text-decoration-color: #008080; font-weight: bold\">48</span>,<span style=\"color: #008080; text-decoration-color: #008080; font-weight: bold\">44</span>,<span style=\"color: #008080; text-decoration-color: #008080; font-weight: bold\">87</span>,<span style=\"color: #008080; text-decoration-color: #008080; font-weight: bold\">73</span>,<span style=\"color: #008080; text-decoration-color: #008080; font-weight: bold\">60</span>,<span style=\"color: #008080; text-decoration-color: #008080; font-weight: bold\">50</span>,<span style=\"color: #008080; text-decoration-color: #008080; font-weight: bold\">77</span>,<span style=\"color: #008080; text-decoration-color: #008080; font-weight: bold\">45</span>,<span style=\"color: #008080; text-decoration-color: #008080; font-weight: bold\">2</span>\n",
       "<span style=\"color: #008080; text-decoration-color: #008080; font-weight: bold\">9</span>,<span style=\"color: #008080; text-decoration-color: #008080; font-weight: bold\">18</span>,<span style=\"color: #008080; text-decoration-color: #008080; font-weight: bold\">5</span>,<span style=\"color: #008080; text-decoration-color: #008080; font-weight: bold\">99</span>,<span style=\"color: #008080; text-decoration-color: #008080; font-weight: bold\">65</span>,<span style=\"color: #008080; text-decoration-color: #008080; font-weight: bold\">16</span>,<span style=\"color: #008080; text-decoration-color: #008080; font-weight: bold\">93</span>,<span style=\"color: #008080; text-decoration-color: #008080; font-weight: bold\">95</span>,<span style=\"color: #008080; text-decoration-color: #008080; font-weight: bold\">37</span>,<span style=\"color: #008080; text-decoration-color: #008080; font-weight: bold\">3</span>,<span style=\"color: #008080; text-decoration-color: #008080; font-weight: bold\">52</span>,<span style=\"color: #008080; text-decoration-color: #008080; font-weight: bold\">32</span>,<span style=\"color: #008080; text-decoration-color: #008080; font-weight: bold\">46</span>,<span style=\"color: #008080; text-decoration-color: #008080; font-weight: bold\">80</span>,<span style=\"color: #008080; text-decoration-color: #008080; font-weight: bold\">98</span>,<span style=\"color: #008080; text-decoration-color: #008080; font-weight: bold\">63</span>,<span style=\"color: #008080; text-decoration-color: #008080; font-weight: bold\">92</span>,<span style=\"color: #008080; text-decoration-color: #008080; font-weight: bold\">24</span>,<span style=\"color: #008080; text-decoration-color: #008080; font-weight: bold\">35</span>,<span style=\"color: #008080; text-decoration-color: #008080; font-weight: bold\">55</span>,<span style=\"color: #008080; text-decoration-color: #008080; font-weight: bold\">12</span>,<span style=\"color: #008080; text-decoration-color: #008080; font-weight: bold\">81</span>,<span style=\"color: #008080; text-decoration-color: #008080; font-weight: bold\">51</span>,<span style=\"color: #008080; text-decoration-color: #008080; font-weight: bold\">17</span>,<span style=\"color: #008080; text-decoration-color: #008080; font-weight: bold\">70</span>,<span style=\"color: #008080; text-decoration-color: #008080; font-weight: bold\">78</span>,<span style=\"color: #008080; text-decoration-color: #008080; font-weight: bold\">61</span>,<span style=\"color: #008080; text-decoration-color: #008080; font-weight: bold\">91</span>,<span style=\"color: #008080; text-decoration-color: #008080; font-weight: bold\">54</span>,<span style=\"color: #008080; text-decoration-color: #008080; font-weight: bold\">8</span>,<span style=\"color: #008080; text-decoration-color: #008080; font-weight: bold\">72</span>,<span style=\"color: #008080; text-decoration-color: #008080; font-weight: bold\">40</span>,<span style=\"color: #008080; text-decoration-color: #008080; font-weight: bold\">7</span>\n",
       "<span style=\"color: #008080; text-decoration-color: #008080; font-weight: bold\">4</span>,<span style=\"color: #008080; text-decoration-color: #008080; font-weight: bold\">68</span>,<span style=\"color: #008080; text-decoration-color: #008080; font-weight: bold\">75</span>,<span style=\"color: #008080; text-decoration-color: #008080; font-weight: bold\">67</span>,<span style=\"color: #008080; text-decoration-color: #008080; font-weight: bold\">39</span>,<span style=\"color: #008080; text-decoration-color: #008080; font-weight: bold\">64</span>,<span style=\"color: #008080; text-decoration-color: #008080; font-weight: bold\">10</span>,<span style=\"color: #008080; text-decoration-color: #008080; font-weight: bold\">53</span>,<span style=\"color: #008080; text-decoration-color: #008080; font-weight: bold\">9</span>,<span style=\"color: #008080; text-decoration-color: #008080; font-weight: bold\">31</span>,<span style=\"color: #008080; text-decoration-color: #008080; font-weight: bold\">6</span>,<span style=\"color: #008080; text-decoration-color: #008080; font-weight: bold\">7</span>,<span style=\"color: #008080; text-decoration-color: #008080; font-weight: bold\">47</span>,<span style=\"color: #008080; text-decoration-color: #008080; font-weight: bold\">42</span>,<span style=\"color: #008080; text-decoration-color: #008080; font-weight: bold\">90</span>,<span style=\"color: #008080; text-decoration-color: #008080; font-weight: bold\">20</span>,<span style=\"color: #008080; text-decoration-color: #008080; font-weight: bold\">19</span>,<span style=\"color: #008080; text-decoration-color: #008080; font-weight: bold\">36</span>,<span style=\"color: #008080; text-decoration-color: #008080; font-weight: bold\">22</span>,<span style=\"color: #008080; text-decoration-color: #008080; font-weight: bold\">43</span>,<span style=\"color: #008080; text-decoration-color: #008080; font-weight: bold\">58</span>,<span style=\"color: #008080; text-decoration-color: #008080; font-weight: bold\">28</span>,<span style=\"color: #008080; text-decoration-color: #008080; font-weight: bold\">79</span>,<span style=\"color: #008080; text-decoration-color: #008080; font-weight: bold\">86</span>,<span style=\"color: #008080; text-decoration-color: #008080; font-weight: bold\">57</span>,<span style=\"color: #008080; text-decoration-color: #008080; font-weight: bold\">49</span>,<span style=\"color: #008080; text-decoration-color: #008080; font-weight: bold\">83</span>,<span style=\"color: #008080; text-decoration-color: #008080; font-weight: bold\">84</span>,<span style=\"color: #008080; text-decoration-color: #008080; font-weight: bold\">97</span>,<span style=\"color: #008080; text-decoration-color: #008080; font-weight: bold\">11</span>,<span style=\"color: #008080; text-decoration-color: #008080; font-weight: bold\">85</span>,<span style=\"color: #008080; text-decoration-color: #008080; font-weight: bold\">26</span>,<span style=\"color: #008080; text-decoration-color: #008080; font-weight: bold\">6</span>\n",
       "<span style=\"color: #008080; text-decoration-color: #008080; font-weight: bold\">9</span>,<span style=\"color: #008080; text-decoration-color: #008080; font-weight: bold\">23</span>,<span style=\"color: #008080; text-decoration-color: #008080; font-weight: bold\">59</span>,<span style=\"color: #008080; text-decoration-color: #008080; font-weight: bold\">82</span>,<span style=\"color: #008080; text-decoration-color: #008080; font-weight: bold\">88</span>,<span style=\"color: #008080; text-decoration-color: #008080; font-weight: bold\">34</span>,<span style=\"color: #008080; text-decoration-color: #008080; font-weight: bold\">56</span>,<span style=\"color: #008080; text-decoration-color: #008080; font-weight: bold\">13</span> | Last line: <span style=\"color: #008080; text-decoration-color: #008080; font-weight: bold\">46</span> <span style=\"color: #008080; text-decoration-color: #008080; font-weight: bold\">50</span> <span style=\"color: #008080; text-decoration-color: #008080; font-weight: bold\">48</span> <span style=\"color: #008080; text-decoration-color: #008080; font-weight: bold\">76</span>  <span style=\"color: #008080; text-decoration-color: #008080; font-weight: bold\">5</span>\n",
       "</pre>\n"
      ],
      "text/plain": [
       "First line: \u001b[1;36m1\u001b[0m,\u001b[1;36m76\u001b[0m,\u001b[1;36m38\u001b[0m,\u001b[1;36m96\u001b[0m,\u001b[1;36m62\u001b[0m,\u001b[1;36m41\u001b[0m,\u001b[1;36m27\u001b[0m,\u001b[1;36m33\u001b[0m,\u001b[1;36m4\u001b[0m,\u001b[1;36m2\u001b[0m,\u001b[1;36m94\u001b[0m,\u001b[1;36m15\u001b[0m,\u001b[1;36m89\u001b[0m,\u001b[1;36m25\u001b[0m,\u001b[1;36m66\u001b[0m,\u001b[1;36m14\u001b[0m,\u001b[1;36m30\u001b[0m,\u001b[1;36m0\u001b[0m,\u001b[1;36m71\u001b[0m,\u001b[1;36m21\u001b[0m,\u001b[1;36m48\u001b[0m,\u001b[1;36m44\u001b[0m,\u001b[1;36m87\u001b[0m,\u001b[1;36m73\u001b[0m,\u001b[1;36m60\u001b[0m,\u001b[1;36m50\u001b[0m,\u001b[1;36m77\u001b[0m,\u001b[1;36m45\u001b[0m,\u001b[1;36m2\u001b[0m\n",
       "\u001b[1;36m9\u001b[0m,\u001b[1;36m18\u001b[0m,\u001b[1;36m5\u001b[0m,\u001b[1;36m99\u001b[0m,\u001b[1;36m65\u001b[0m,\u001b[1;36m16\u001b[0m,\u001b[1;36m93\u001b[0m,\u001b[1;36m95\u001b[0m,\u001b[1;36m37\u001b[0m,\u001b[1;36m3\u001b[0m,\u001b[1;36m52\u001b[0m,\u001b[1;36m32\u001b[0m,\u001b[1;36m46\u001b[0m,\u001b[1;36m80\u001b[0m,\u001b[1;36m98\u001b[0m,\u001b[1;36m63\u001b[0m,\u001b[1;36m92\u001b[0m,\u001b[1;36m24\u001b[0m,\u001b[1;36m35\u001b[0m,\u001b[1;36m55\u001b[0m,\u001b[1;36m12\u001b[0m,\u001b[1;36m81\u001b[0m,\u001b[1;36m51\u001b[0m,\u001b[1;36m17\u001b[0m,\u001b[1;36m70\u001b[0m,\u001b[1;36m78\u001b[0m,\u001b[1;36m61\u001b[0m,\u001b[1;36m91\u001b[0m,\u001b[1;36m54\u001b[0m,\u001b[1;36m8\u001b[0m,\u001b[1;36m72\u001b[0m,\u001b[1;36m40\u001b[0m,\u001b[1;36m7\u001b[0m\n",
       "\u001b[1;36m4\u001b[0m,\u001b[1;36m68\u001b[0m,\u001b[1;36m75\u001b[0m,\u001b[1;36m67\u001b[0m,\u001b[1;36m39\u001b[0m,\u001b[1;36m64\u001b[0m,\u001b[1;36m10\u001b[0m,\u001b[1;36m53\u001b[0m,\u001b[1;36m9\u001b[0m,\u001b[1;36m31\u001b[0m,\u001b[1;36m6\u001b[0m,\u001b[1;36m7\u001b[0m,\u001b[1;36m47\u001b[0m,\u001b[1;36m42\u001b[0m,\u001b[1;36m90\u001b[0m,\u001b[1;36m20\u001b[0m,\u001b[1;36m19\u001b[0m,\u001b[1;36m36\u001b[0m,\u001b[1;36m22\u001b[0m,\u001b[1;36m43\u001b[0m,\u001b[1;36m58\u001b[0m,\u001b[1;36m28\u001b[0m,\u001b[1;36m79\u001b[0m,\u001b[1;36m86\u001b[0m,\u001b[1;36m57\u001b[0m,\u001b[1;36m49\u001b[0m,\u001b[1;36m83\u001b[0m,\u001b[1;36m84\u001b[0m,\u001b[1;36m97\u001b[0m,\u001b[1;36m11\u001b[0m,\u001b[1;36m85\u001b[0m,\u001b[1;36m26\u001b[0m,\u001b[1;36m6\u001b[0m\n",
       "\u001b[1;36m9\u001b[0m,\u001b[1;36m23\u001b[0m,\u001b[1;36m59\u001b[0m,\u001b[1;36m82\u001b[0m,\u001b[1;36m88\u001b[0m,\u001b[1;36m34\u001b[0m,\u001b[1;36m56\u001b[0m,\u001b[1;36m13\u001b[0m | Last line: \u001b[1;36m46\u001b[0m \u001b[1;36m50\u001b[0m \u001b[1;36m48\u001b[0m \u001b[1;36m76\u001b[0m  \u001b[1;36m5\u001b[0m\n"
      ]
     },
     "metadata": {},
     "output_type": "display_data"
    },
    {
     "data": {
      "text/html": [
       "<pre style=\"white-space:pre;overflow-x:auto;line-height:normal;font-family:Menlo,'DejaVu Sans Mono',consolas,'Courier New',monospace\">------\n",
       "</pre>\n"
      ],
      "text/plain": [
       "------\n"
      ]
     },
     "metadata": {},
     "output_type": "display_data"
    },
    {
     "data": {
      "text/html": [
       "<pre style=\"white-space:pre;overflow-x:auto;line-height:normal;font-family:Menlo,'DejaVu Sans Mono',consolas,'Courier New',monospace\">Convert to:\n",
       "</pre>\n"
      ],
      "text/plain": [
       "Convert to:\n"
      ]
     },
     "metadata": {},
     "output_type": "display_data"
    },
    {
     "data": {
      "text/html": [
       "<pre style=\"white-space:pre;overflow-x:auto;line-height:normal;font-family:Menlo,'DejaVu Sans Mono',consolas,'Courier New',monospace\">Head:\n",
       "<span style=\"font-weight: bold\">[[</span><span style=\"color: #008080; text-decoration-color: #008080; font-weight: bold\">1</span>, <span style=\"color: #008080; text-decoration-color: #008080; font-weight: bold\">76</span>, <span style=\"color: #008080; text-decoration-color: #008080; font-weight: bold\">38</span>, <span style=\"color: #008080; text-decoration-color: #008080; font-weight: bold\">96</span>, <span style=\"color: #008080; text-decoration-color: #008080; font-weight: bold\">62</span>, <span style=\"color: #008080; text-decoration-color: #008080; font-weight: bold\">41</span>, <span style=\"color: #008080; text-decoration-color: #008080; font-weight: bold\">27</span>, <span style=\"color: #008080; text-decoration-color: #008080; font-weight: bold\">33</span>, <span style=\"color: #008080; text-decoration-color: #008080; font-weight: bold\">4</span>, <span style=\"color: #008080; text-decoration-color: #008080; font-weight: bold\">2</span>, <span style=\"color: #008080; text-decoration-color: #008080; font-weight: bold\">94</span>, <span style=\"color: #008080; text-decoration-color: #008080; font-weight: bold\">15</span>, <span style=\"color: #008080; text-decoration-color: #008080; font-weight: bold\">89</span>, <span style=\"color: #008080; text-decoration-color: #008080; font-weight: bold\">25</span>, <span style=\"color: #008080; text-decoration-color: #008080; font-weight: bold\">66</span>, <span style=\"color: #008080; text-decoration-color: #008080; font-weight: bold\">14</span>, <span style=\"color: #008080; text-decoration-color: #008080; font-weight: bold\">30</span>, <span style=\"color: #008080; text-decoration-color: #008080; font-weight: bold\">0</span>, <span style=\"color: #008080; text-decoration-color: #008080; font-weight: bold\">71</span>, <span style=\"color: #008080; text-decoration-color: #008080; font-weight: bold\">21</span>, <span style=\"color: #008080; text-decoration-color: #008080; font-weight: bold\">48</span>, <span style=\"color: #008080; text-decoration-color: #008080; font-weight: bold\">44</span>, <span style=\"color: #008080; text-decoration-color: #008080; font-weight: bold\">87</span>, <span style=\"color: #008080; text-decoration-color: #008080; font-weight: bold\">73</span>,\n",
       "<span style=\"color: #008080; text-decoration-color: #008080; font-weight: bold\">60</span>, <span style=\"color: #008080; text-decoration-color: #008080; font-weight: bold\">50</span>, <span style=\"color: #008080; text-decoration-color: #008080; font-weight: bold\">77</span>, <span style=\"color: #008080; text-decoration-color: #008080; font-weight: bold\">45</span>, <span style=\"color: #008080; text-decoration-color: #008080; font-weight: bold\">29</span>, <span style=\"color: #008080; text-decoration-color: #008080; font-weight: bold\">18</span>, <span style=\"color: #008080; text-decoration-color: #008080; font-weight: bold\">5</span>, <span style=\"color: #008080; text-decoration-color: #008080; font-weight: bold\">99</span>, <span style=\"color: #008080; text-decoration-color: #008080; font-weight: bold\">65</span>, <span style=\"color: #008080; text-decoration-color: #008080; font-weight: bold\">16</span>, <span style=\"color: #008080; text-decoration-color: #008080; font-weight: bold\">93</span>, <span style=\"color: #008080; text-decoration-color: #008080; font-weight: bold\">95</span>, <span style=\"color: #008080; text-decoration-color: #008080; font-weight: bold\">37</span>, <span style=\"color: #008080; text-decoration-color: #008080; font-weight: bold\">3</span>, <span style=\"color: #008080; text-decoration-color: #008080; font-weight: bold\">52</span>, <span style=\"color: #008080; text-decoration-color: #008080; font-weight: bold\">32</span>, <span style=\"color: #008080; text-decoration-color: #008080; font-weight: bold\">46</span>, <span style=\"color: #008080; text-decoration-color: #008080; font-weight: bold\">80</span>, <span style=\"color: #008080; text-decoration-color: #008080; font-weight: bold\">98</span>, <span style=\"color: #008080; text-decoration-color: #008080; font-weight: bold\">63</span>, <span style=\"color: #008080; text-decoration-color: #008080; font-weight: bold\">92</span>, <span style=\"color: #008080; text-decoration-color: #008080; font-weight: bold\">24</span>, <span style=\"color: #008080; text-decoration-color: #008080; font-weight: bold\">35</span>, <span style=\"color: #008080; text-decoration-color: #008080; font-weight: bold\">55</span>,\n",
       "<span style=\"color: #008080; text-decoration-color: #008080; font-weight: bold\">12</span>, <span style=\"color: #008080; text-decoration-color: #008080; font-weight: bold\">81</span>, <span style=\"color: #008080; text-decoration-color: #008080; font-weight: bold\">51</span>, <span style=\"color: #008080; text-decoration-color: #008080; font-weight: bold\">17</span>, <span style=\"color: #008080; text-decoration-color: #008080; font-weight: bold\">70</span>, <span style=\"color: #008080; text-decoration-color: #008080; font-weight: bold\">78</span>, <span style=\"color: #008080; text-decoration-color: #008080; font-weight: bold\">61</span>, <span style=\"color: #008080; text-decoration-color: #008080; font-weight: bold\">91</span>, <span style=\"color: #008080; text-decoration-color: #008080; font-weight: bold\">54</span>, <span style=\"color: #008080; text-decoration-color: #008080; font-weight: bold\">8</span>, <span style=\"color: #008080; text-decoration-color: #008080; font-weight: bold\">72</span>, <span style=\"color: #008080; text-decoration-color: #008080; font-weight: bold\">40</span>, <span style=\"color: #008080; text-decoration-color: #008080; font-weight: bold\">74</span>, <span style=\"color: #008080; text-decoration-color: #008080; font-weight: bold\">68</span>, <span style=\"color: #008080; text-decoration-color: #008080; font-weight: bold\">75</span>, <span style=\"color: #008080; text-decoration-color: #008080; font-weight: bold\">67</span>, <span style=\"color: #008080; text-decoration-color: #008080; font-weight: bold\">39</span>, <span style=\"color: #008080; text-decoration-color: #008080; font-weight: bold\">64</span>, <span style=\"color: #008080; text-decoration-color: #008080; font-weight: bold\">10</span>, <span style=\"color: #008080; text-decoration-color: #008080; font-weight: bold\">53</span>, <span style=\"color: #008080; text-decoration-color: #008080; font-weight: bold\">9</span>, <span style=\"color: #008080; text-decoration-color: #008080; font-weight: bold\">31</span>, <span style=\"color: #008080; text-decoration-color: #008080; font-weight: bold\">6</span>, <span style=\"color: #008080; text-decoration-color: #008080; font-weight: bold\">7</span>, \n",
       "<span style=\"color: #008080; text-decoration-color: #008080; font-weight: bold\">47</span>, <span style=\"color: #008080; text-decoration-color: #008080; font-weight: bold\">42</span>, <span style=\"color: #008080; text-decoration-color: #008080; font-weight: bold\">90</span>, <span style=\"color: #008080; text-decoration-color: #008080; font-weight: bold\">20</span>, <span style=\"color: #008080; text-decoration-color: #008080; font-weight: bold\">19</span>, <span style=\"color: #008080; text-decoration-color: #008080; font-weight: bold\">36</span>, <span style=\"color: #008080; text-decoration-color: #008080; font-weight: bold\">22</span>, <span style=\"color: #008080; text-decoration-color: #008080; font-weight: bold\">43</span>, <span style=\"color: #008080; text-decoration-color: #008080; font-weight: bold\">58</span>, <span style=\"color: #008080; text-decoration-color: #008080; font-weight: bold\">28</span>, <span style=\"color: #008080; text-decoration-color: #008080; font-weight: bold\">79</span>, <span style=\"color: #008080; text-decoration-color: #008080; font-weight: bold\">86</span>, <span style=\"color: #008080; text-decoration-color: #008080; font-weight: bold\">57</span>, <span style=\"color: #008080; text-decoration-color: #008080; font-weight: bold\">49</span>, <span style=\"color: #008080; text-decoration-color: #008080; font-weight: bold\">83</span>, <span style=\"color: #008080; text-decoration-color: #008080; font-weight: bold\">84</span>, <span style=\"color: #008080; text-decoration-color: #008080; font-weight: bold\">97</span>, <span style=\"color: #008080; text-decoration-color: #008080; font-weight: bold\">11</span>, <span style=\"color: #008080; text-decoration-color: #008080; font-weight: bold\">85</span>, <span style=\"color: #008080; text-decoration-color: #008080; font-weight: bold\">26</span>, <span style=\"color: #008080; text-decoration-color: #008080; font-weight: bold\">69</span>, <span style=\"color: #008080; text-decoration-color: #008080; font-weight: bold\">23</span>, <span style=\"color: #008080; text-decoration-color: #008080; font-weight: bold\">59</span>, \n",
       "<span style=\"color: #008080; text-decoration-color: #008080; font-weight: bold\">82</span>, <span style=\"color: #008080; text-decoration-color: #008080; font-weight: bold\">88</span>, <span style=\"color: #008080; text-decoration-color: #008080; font-weight: bold\">34</span>, <span style=\"color: #008080; text-decoration-color: #008080; font-weight: bold\">56</span>, <span style=\"color: #008080; text-decoration-color: #008080; font-weight: bold\">13</span><span style=\"font-weight: bold\">]]</span>\n",
       "</pre>\n"
      ],
      "text/plain": [
       "Head:\n",
       "\u001b[1m[\u001b[0m\u001b[1m[\u001b[0m\u001b[1;36m1\u001b[0m, \u001b[1;36m76\u001b[0m, \u001b[1;36m38\u001b[0m, \u001b[1;36m96\u001b[0m, \u001b[1;36m62\u001b[0m, \u001b[1;36m41\u001b[0m, \u001b[1;36m27\u001b[0m, \u001b[1;36m33\u001b[0m, \u001b[1;36m4\u001b[0m, \u001b[1;36m2\u001b[0m, \u001b[1;36m94\u001b[0m, \u001b[1;36m15\u001b[0m, \u001b[1;36m89\u001b[0m, \u001b[1;36m25\u001b[0m, \u001b[1;36m66\u001b[0m, \u001b[1;36m14\u001b[0m, \u001b[1;36m30\u001b[0m, \u001b[1;36m0\u001b[0m, \u001b[1;36m71\u001b[0m, \u001b[1;36m21\u001b[0m, \u001b[1;36m48\u001b[0m, \u001b[1;36m44\u001b[0m, \u001b[1;36m87\u001b[0m, \u001b[1;36m73\u001b[0m,\n",
       "\u001b[1;36m60\u001b[0m, \u001b[1;36m50\u001b[0m, \u001b[1;36m77\u001b[0m, \u001b[1;36m45\u001b[0m, \u001b[1;36m29\u001b[0m, \u001b[1;36m18\u001b[0m, \u001b[1;36m5\u001b[0m, \u001b[1;36m99\u001b[0m, \u001b[1;36m65\u001b[0m, \u001b[1;36m16\u001b[0m, \u001b[1;36m93\u001b[0m, \u001b[1;36m95\u001b[0m, \u001b[1;36m37\u001b[0m, \u001b[1;36m3\u001b[0m, \u001b[1;36m52\u001b[0m, \u001b[1;36m32\u001b[0m, \u001b[1;36m46\u001b[0m, \u001b[1;36m80\u001b[0m, \u001b[1;36m98\u001b[0m, \u001b[1;36m63\u001b[0m, \u001b[1;36m92\u001b[0m, \u001b[1;36m24\u001b[0m, \u001b[1;36m35\u001b[0m, \u001b[1;36m55\u001b[0m,\n",
       "\u001b[1;36m12\u001b[0m, \u001b[1;36m81\u001b[0m, \u001b[1;36m51\u001b[0m, \u001b[1;36m17\u001b[0m, \u001b[1;36m70\u001b[0m, \u001b[1;36m78\u001b[0m, \u001b[1;36m61\u001b[0m, \u001b[1;36m91\u001b[0m, \u001b[1;36m54\u001b[0m, \u001b[1;36m8\u001b[0m, \u001b[1;36m72\u001b[0m, \u001b[1;36m40\u001b[0m, \u001b[1;36m74\u001b[0m, \u001b[1;36m68\u001b[0m, \u001b[1;36m75\u001b[0m, \u001b[1;36m67\u001b[0m, \u001b[1;36m39\u001b[0m, \u001b[1;36m64\u001b[0m, \u001b[1;36m10\u001b[0m, \u001b[1;36m53\u001b[0m, \u001b[1;36m9\u001b[0m, \u001b[1;36m31\u001b[0m, \u001b[1;36m6\u001b[0m, \u001b[1;36m7\u001b[0m, \n",
       "\u001b[1;36m47\u001b[0m, \u001b[1;36m42\u001b[0m, \u001b[1;36m90\u001b[0m, \u001b[1;36m20\u001b[0m, \u001b[1;36m19\u001b[0m, \u001b[1;36m36\u001b[0m, \u001b[1;36m22\u001b[0m, \u001b[1;36m43\u001b[0m, \u001b[1;36m58\u001b[0m, \u001b[1;36m28\u001b[0m, \u001b[1;36m79\u001b[0m, \u001b[1;36m86\u001b[0m, \u001b[1;36m57\u001b[0m, \u001b[1;36m49\u001b[0m, \u001b[1;36m83\u001b[0m, \u001b[1;36m84\u001b[0m, \u001b[1;36m97\u001b[0m, \u001b[1;36m11\u001b[0m, \u001b[1;36m85\u001b[0m, \u001b[1;36m26\u001b[0m, \u001b[1;36m69\u001b[0m, \u001b[1;36m23\u001b[0m, \u001b[1;36m59\u001b[0m, \n",
       "\u001b[1;36m82\u001b[0m, \u001b[1;36m88\u001b[0m, \u001b[1;36m34\u001b[0m, \u001b[1;36m56\u001b[0m, \u001b[1;36m13\u001b[0m\u001b[1m]\u001b[0m\u001b[1m]\u001b[0m\n"
      ]
     },
     "metadata": {},
     "output_type": "display_data"
    },
    {
     "data": {
      "text/html": [
       "<pre style=\"white-space:pre;overflow-x:auto;line-height:normal;font-family:Menlo,'DejaVu Sans Mono',consolas,'Courier New',monospace\">First line: <span style=\"font-weight: bold\">[</span><span style=\"color: #008080; text-decoration-color: #008080; font-weight: bold\">85</span>, <span style=\"color: #008080; text-decoration-color: #008080; font-weight: bold\">23</span>, <span style=\"color: #008080; text-decoration-color: #008080; font-weight: bold\">65</span>, <span style=\"color: #008080; text-decoration-color: #008080; font-weight: bold\">78</span>, <span style=\"color: #008080; text-decoration-color: #008080; font-weight: bold\">93</span><span style=\"font-weight: bold\">]</span>\n",
       "</pre>\n"
      ],
      "text/plain": [
       "First line: \u001b[1m[\u001b[0m\u001b[1;36m85\u001b[0m, \u001b[1;36m23\u001b[0m, \u001b[1;36m65\u001b[0m, \u001b[1;36m78\u001b[0m, \u001b[1;36m93\u001b[0m\u001b[1m]\u001b[0m\n"
      ]
     },
     "metadata": {},
     "output_type": "display_data"
    },
    {
     "data": {
      "text/html": [
       "<pre style=\"white-space:pre;overflow-x:auto;line-height:normal;font-family:Menlo,'DejaVu Sans Mono',consolas,'Courier New',monospace\">Last line: <span style=\"font-weight: bold\">[</span><span style=\"color: #008080; text-decoration-color: #008080; font-weight: bold\">46</span>, <span style=\"color: #008080; text-decoration-color: #008080; font-weight: bold\">50</span>, <span style=\"color: #008080; text-decoration-color: #008080; font-weight: bold\">48</span>, <span style=\"color: #008080; text-decoration-color: #008080; font-weight: bold\">76</span>, <span style=\"color: #008080; text-decoration-color: #008080; font-weight: bold\">5</span><span style=\"font-weight: bold\">]</span>\n",
       "</pre>\n"
      ],
      "text/plain": [
       "Last line: \u001b[1m[\u001b[0m\u001b[1;36m46\u001b[0m, \u001b[1;36m50\u001b[0m, \u001b[1;36m48\u001b[0m, \u001b[1;36m76\u001b[0m, \u001b[1;36m5\u001b[0m\u001b[1m]\u001b[0m\n"
      ]
     },
     "metadata": {},
     "output_type": "display_data"
    },
    {
     "data": {
      "text/html": [
       "<pre style=\"white-space:pre;overflow-x:auto;line-height:normal;font-family:Menlo,'DejaVu Sans Mono',consolas,'Courier New',monospace\">------\n",
       "</pre>\n"
      ],
      "text/plain": [
       "------\n"
      ]
     },
     "metadata": {},
     "output_type": "display_data"
    }
   ],
   "source": [
    "fp = \"input.txt\"\n",
    "lines = read_file_to_str_li(fp)\n",
    "\n",
    "print(\"Convert to:\")\n",
    "\n",
    "head = convert_str_li_to_other_li(\n",
    "    lines, pattern=\"i\", per_letter=False, sep=\",\", start_row=0, end_row=1\n",
    ")\n",
    "\n",
    "print(f\"Head:\\n{head}\")\n",
    "\n",
    "data = convert_str_li_to_other_li(\n",
    "    lines, pattern=\"i\", per_letter=False, sep=\" \", start_row=2, end_row=None\n",
    ")\n",
    "# data = convert_str_li_to_other_li(\n",
    "#     lines, pattern=\"si\", per_letter=False, sep=\" \", start_row=0, end_row=None\n",
    "# )\n",
    "# data = convert_str_li_to_other_li(\n",
    "#     lines, pattern=\"i\", per_letter=True, sep=\" \", start_row=0, end_row=None\n",
    "# )\n",
    "\n",
    "print(f\"First line: {data[0]}\")\n",
    "print(f\"Last line: {data[-1]}\")\n",
    "print(\"-\" * 6)"
   ]
  },
  {
   "cell_type": "code",
   "execution_count": 4,
   "id": "likely-differential",
   "metadata": {},
   "outputs": [
    {
     "data": {
      "text/html": [
       "<pre style=\"white-space:pre;overflow-x:auto;line-height:normal;font-family:Menlo,'DejaVu Sans Mono',consolas,'Courier New',monospace\">Answer to Q1: <span style=\"color: #008080; text-decoration-color: #008080; font-weight: bold\">5685</span>\n",
       "</pre>\n"
      ],
      "text/plain": [
       "Answer to Q1: \u001b[1;36m5685\u001b[0m\n"
      ]
     },
     "metadata": {},
     "output_type": "display_data"
    },
    {
     "data": {
      "text/html": [
       "<pre style=\"white-space:pre;overflow-x:auto;line-height:normal;font-family:Menlo,'DejaVu Sans Mono',consolas,'Courier New',monospace\">Answer to Q2: <span style=\"color: #008080; text-decoration-color: #008080; font-weight: bold\">21070</span>\n",
       "</pre>\n"
      ],
      "text/plain": [
       "Answer to Q2: \u001b[1;36m21070\u001b[0m\n"
      ]
     },
     "metadata": {},
     "output_type": "display_data"
    }
   ],
   "source": [
    "class Bingo_Board_Set:\n",
    "    def __init__(self, set_numbers):\n",
    "        self.numbers = np.array(set_numbers)\n",
    "        self.mask = np.full_like(set_numbers, False)\n",
    "        self.shape = self.numbers.shape\n",
    "\n",
    "    def set_a_new_num(self, new_num):\n",
    "        self.mask |= self.numbers == new_num\n",
    "\n",
    "    def set_a_list_num(self, num_li):\n",
    "        for num in num_li:\n",
    "            self.set_a_new_num(num)\n",
    "\n",
    "    def print_current_mask(self):\n",
    "        print(self.mask)\n",
    "\n",
    "    def print_numbers(self):\n",
    "        print(self.numbers)\n",
    "\n",
    "    def check_win(self):\n",
    "        win = False\n",
    "        for idx, total_count in enumerate(self.shape):\n",
    "            win |= np.any(np.sum(self.mask, axis=idx) == total_count)\n",
    "        return win\n",
    "\n",
    "    def count_masked(self):\n",
    "        return np.sum(self.numbers * self.mask)\n",
    "\n",
    "    def count_unmasked(self):\n",
    "        return np.sum(self.numbers) - self.count_masked()\n",
    "\n",
    "\n",
    "def load_data(data):\n",
    "    all_set = []\n",
    "    total_set = (len(data) + 1) // 6\n",
    "    for set_num in range(total_set):\n",
    "        all_set.append(Bingo_Board_Set(data[set_num * 6 : set_num * 6 + 5]))\n",
    "    #     print(\"Last set:\")\n",
    "    #     all_set[total_set-1].print_numbers()\n",
    "    return all_set\n",
    "\n",
    "\n",
    "all_set = load_data(data)\n",
    "\n",
    "\n",
    "def play_game(head, all_set):\n",
    "    win_or_not = np.zeros(len(all_set))\n",
    "    all_res = []\n",
    "    for num in head[0]:\n",
    "        for idx, one_set in enumerate(all_set):\n",
    "            if win_or_not[idx] == 0:\n",
    "                one_set.set_a_new_num(num)\n",
    "                if one_set.check_win():\n",
    "                    win_or_not[idx] = 1\n",
    "                    res = one_set.count_unmasked() * num\n",
    "                    all_res.append(res)\n",
    "    return all_res\n",
    "\n",
    "\n",
    "all_res = play_game(head, all_set)\n",
    "print(f\"Answer to Q1: {all_res[0]}\")\n",
    "print(f\"Answer to Q2: {all_res[-1]}\")"
   ]
  },
  {
   "cell_type": "code",
   "execution_count": null,
   "id": "considerable-gossip",
   "metadata": {},
   "outputs": [],
   "source": []
  },
  {
   "cell_type": "code",
   "execution_count": null,
   "id": "closed-atlanta",
   "metadata": {},
   "outputs": [],
   "source": []
  },
  {
   "cell_type": "code",
   "execution_count": null,
   "id": "roman-atlanta",
   "metadata": {},
   "outputs": [],
   "source": []
  }
 ],
 "metadata": {
  "kernelspec": {
   "display_name": "Python [conda env:.conda-ds38]",
   "language": "python",
   "name": "conda-env-.conda-ds38-py"
  },
  "language_info": {
   "codemirror_mode": {
    "name": "ipython",
    "version": 3
   },
   "file_extension": ".py",
   "mimetype": "text/x-python",
   "name": "python",
   "nbconvert_exporter": "python",
   "pygments_lexer": "ipython3",
   "version": "3.8.10"
  }
 },
 "nbformat": 4,
 "nbformat_minor": 5
}
