{
 "cells": [
  {
   "cell_type": "raw",
   "id": "simple-algorithm",
   "metadata": {
    "jupyter": {
     "source_hidden": true
    }
   },
   "source": [
    "--- Day 20: Trench Map ---\n",
    "With the scanners fully deployed, you turn their attention to mapping the floor of the ocean trench.\n",
    "\n",
    "When you get back the image from the scanners, it seems to just be random noise. Perhaps you can combine an image enhancement algorithm and the input image (your puzzle input) to clean it up a little.\n",
    "\n",
    "For example:\n",
    "\n",
    "..#.#..#####.#.#.#.###.##.....###.##.#..###.####..#####..#....#..#..##..##\n",
    "#..######.###...####..#..#####..##..#.#####...##.#.#..#.##..#.#......#.###\n",
    ".######.###.####...#.##.##..#..#..#####.....#.#....###..#.##......#.....#.\n",
    ".#..#..##..#...##.######.####.####.#.#...#.......#..#.#.#...####.##.#.....\n",
    ".#..#...##.#.##..#...##.#.##..###.#......#.#.......#.#.#.####.###.##...#..\n",
    "...####.#..#..#.##.#....##..#.####....##...##..#...#......#.#.......#.....\n",
    "..##..####..#...#.#.#...##..#.#..###..#####........#..####......#..#\n",
    "\n",
    "#..#.\n",
    "#....\n",
    "##..#\n",
    "..#..\n",
    "..###\n",
    "The first section is the image enhancement algorithm. It is normally given on a single line, but it has been wrapped to multiple lines in this example for legibility. The second section is the input image, a two-dimensional grid of light pixels (#) and dark pixels (.).\n",
    "\n",
    "The image enhancement algorithm describes how to enhance an image by simultaneously converting all pixels in the input image into an output image. Each pixel of the output image is determined by looking at a 3x3 square of pixels centered on the corresponding input image pixel. So, to determine the value of the pixel at (5,10) in the output image, nine pixels from the input image need to be considered: (4,9), (4,10), (4,11), (5,9), (5,10), (5,11), (6,9), (6,10), and (6,11). These nine input pixels are combined into a single binary number that is used as an index in the image enhancement algorithm string.\n",
    "\n",
    "For example, to determine the output pixel that corresponds to the very middle pixel of the input image, the nine pixels marked by [...] would need to be considered:\n",
    "\n",
    "# . . # .\n",
    "#[. . .].\n",
    "#[# . .]#\n",
    ".[. # .].\n",
    ". . # # #\n",
    "Starting from the top-left and reading across each row, these pixels are ..., then #.., then .#.; combining these forms ...#...#.. By turning dark pixels (.) into 0 and light pixels (#) into 1, the binary number 000100010 can be formed, which is 34 in decimal.\n",
    "\n",
    "The image enhancement algorithm string is exactly 512 characters long, enough to match every possible 9-bit binary number. The first few characters of the string (numbered starting from zero) are as follows:\n",
    "\n",
    "0         10        20        30  34    40        50        60        70\n",
    "|         |         |         |   |     |         |         |         |\n",
    "..#.#..#####.#.#.#.###.##.....###.##.#..###.####..#####..#....#..#..##..##\n",
    "In the middle of this first group of characters, the character at index 34 can be found: #. So, the output pixel in the center of the output image should be #, a light pixel.\n",
    "\n",
    "This process can then be repeated to calculate every pixel of the output image.\n",
    "\n",
    "Through advances in imaging technology, the images being operated on here are infinite in size. Every pixel of the infinite output image needs to be calculated exactly based on the relevant pixels of the input image. The small input image you have is only a small region of the actual infinite input image; the rest of the input image consists of dark pixels (.). For the purposes of the example, to save on space, only a portion of the infinite-sized input and output images will be shown.\n",
    "\n",
    "The starting input image, therefore, looks something like this, with more dark pixels (.) extending forever in every direction not shown here:\n",
    "\n",
    "...............\n",
    "...............\n",
    "...............\n",
    "...............\n",
    "...............\n",
    ".....#..#......\n",
    ".....#.........\n",
    ".....##..#.....\n",
    ".......#.......\n",
    ".......###.....\n",
    "...............\n",
    "...............\n",
    "...............\n",
    "...............\n",
    "...............\n",
    "By applying the image enhancement algorithm to every pixel simultaneously, the following output image can be obtained:\n",
    "\n",
    "...............\n",
    "...............\n",
    "...............\n",
    "...............\n",
    ".....##.##.....\n",
    "....#..#.#.....\n",
    "....##.#..#....\n",
    "....####..#....\n",
    ".....#..##.....\n",
    "......##..#....\n",
    ".......#.#.....\n",
    "...............\n",
    "...............\n",
    "...............\n",
    "...............\n",
    "Through further advances in imaging technology, the above output image can also be used as an input image! This allows it to be enhanced a second time:\n",
    "\n",
    "...............\n",
    "...............\n",
    "...............\n",
    "..........#....\n",
    "....#..#.#.....\n",
    "...#.#...###...\n",
    "...#...##.#....\n",
    "...#.....#.#...\n",
    "....#.#####....\n",
    ".....#.#####...\n",
    "......##.##....\n",
    ".......###.....\n",
    "...............\n",
    "...............\n",
    "...............\n",
    "Truly incredible - now the small details are really starting to come through. After enhancing the original input image twice, 35 pixels are lit.\n",
    "\n",
    "Start with the original input image and apply the image enhancement algorithm twice, being careful to account for the infinite size of the images. How many pixels are lit in the resulting image?\n",
    "\n",
    "Your puzzle answer was 5361.\n",
    "\n",
    "--- Part Two ---\n",
    "You still can't quite make out the details in the image. Maybe you just didn't enhance it enough.\n",
    "\n",
    "If you enhance the starting input image in the above example a total of 50 times, 3351 pixels are lit in the final output image.\n",
    "\n",
    "Start again with the original input image and apply the image enhancement algorithm 50 times. How many pixels are lit in the resulting image?\n",
    "\n",
    "Your puzzle answer was 16826."
   ]
  },
  {
   "cell_type": "code",
   "execution_count": 1,
   "id": "adapted-export",
   "metadata": {},
   "outputs": [],
   "source": [
    "import warnings\n",
    "\n",
    "warnings.filterwarnings(\"ignore\")\n",
    "\n",
    "import copy\n",
    "import json\n",
    "import os\n",
    "import re\n",
    "import sys\n",
    "from collections import Counter\n",
    "from pathlib import Path\n",
    "\n",
    "import matplotlib.pyplot as plt\n",
    "import numpy as np\n",
    "import pandas as pd\n",
    "from rich import print\n",
    "from scipy.ndimage import convolve\n",
    "from tqdm import tqdm"
   ]
  },
  {
   "cell_type": "code",
   "execution_count": 2,
   "id": "timely-transparency",
   "metadata": {},
   "outputs": [],
   "source": [
    "def read_file_to_str_li(fp, print_exp=True):\n",
    "    with open(fp, \"r\") as f:\n",
    "        lines = f.read().split(\"\\n\")\n",
    "    if print_exp:\n",
    "        print(f\"Read from {fp}:\")\n",
    "        print(f\"First line: {lines[0]} | Last line: {lines[-1]}\")\n",
    "        print(\"-\" * 6)\n",
    "\n",
    "    return lines\n",
    "\n",
    "\n",
    "# define the function blocks\n",
    "def convert_to_int(input_str):\n",
    "    if input_str == \"\" or input_str == \" \":\n",
    "        return None\n",
    "    return int(input_str)\n",
    "\n",
    "\n",
    "def convert_to_str(input_str):\n",
    "    return str(input_str)\n",
    "\n",
    "\n",
    "# map the inputs to the function blocks\n",
    "converts = {\n",
    "    \"i\": convert_to_int,\n",
    "    \"s\": convert_to_str,\n",
    "}\n",
    "\n",
    "\n",
    "def convert_str_li_to_other_li(\n",
    "    str_li, pattern=\"i\", per_letter=False, sep=\" \", start_row=0, end_row=None\n",
    "):\n",
    "    \"\"\" Convert a list of string to a list of other types\n",
    "    \n",
    "    pattern: a list of types for one item. \n",
    "        'i' for int, 's' for string\n",
    "        'si' means: convert the 1st item to string, the rest to integer\n",
    "        If separated items are more than pattern items,\n",
    "        use the last one from the parttern.\n",
    "    if per_letter=True, ignore sep and separate item per letter\n",
    "    \"\"\"\n",
    "    target_str_li = str_li[start_row:end_row]\n",
    "    # find max item num\n",
    "    max_item_num = 1\n",
    "    if per_letter:\n",
    "        max_item_num = max([len(s) for s in target_str_li])\n",
    "    else:\n",
    "        max_item_num = max([len(s.split(sep)) for s in target_str_li])\n",
    "\n",
    "    # extend the pattern to the max itme num\n",
    "    pattern = (\n",
    "        pattern + f\"{pattern[-1]}\" * (max_item_num - len(pattern))\n",
    "        if max_item_num > len(pattern)\n",
    "        else pattern\n",
    "    )\n",
    "\n",
    "    # convert\n",
    "    if per_letter:\n",
    "        return [\n",
    "            [converts[pattern[idx]](item) for idx, item in enumerate(s)]\n",
    "            for s in target_str_li\n",
    "        ]\n",
    "    else:\n",
    "        if sep == \" \":\n",
    "            return [\n",
    "                [converts[pattern[idx]](item) for idx, item in enumerate(s.split())]\n",
    "                for s in target_str_li\n",
    "            ]\n",
    "        else:\n",
    "            return [\n",
    "                [converts[pattern[idx]](item) for idx, item in enumerate(s.split(sep))]\n",
    "                for s in target_str_li\n",
    "            ]"
   ]
  },
  {
   "cell_type": "code",
   "execution_count": 3,
   "id": "negative-spirit",
   "metadata": {},
   "outputs": [
    {
     "data": {
      "text/html": [
       "<pre style=\"white-space:pre;overflow-x:auto;line-height:normal;font-family:Menlo,'DejaVu Sans Mono',consolas,'Courier New',monospace\">Read from input.txt:\n",
       "</pre>\n"
      ],
      "text/plain": [
       "Read from input.txt:\n"
      ]
     },
     "metadata": {},
     "output_type": "display_data"
    },
    {
     "data": {
      "text/html": [
       "<pre style=\"white-space:pre;overflow-x:auto;line-height:normal;font-family:Menlo,'DejaVu Sans Mono',consolas,'Courier New',monospace\">First line: ########<span style=\"color: #808000; text-decoration-color: #808000\">...</span>#.###.##..#<span style=\"color: #808000; text-decoration-color: #808000\">...</span>..#####<span style=\"color: #808000; text-decoration-color: #808000\">...</span>.#.#<span style=\"color: #808000; text-decoration-color: #808000\">...</span>#..##..##.###<span style=\"color: #808000; text-decoration-color: #808000\">...</span>..####<span style=\"color: #808000; text-decoration-color: #808000\">...</span>#.#..#.###<span style=\"color: #808000; text-decoration-color: #808000\">...</span>#\n",
       ".#.##<span style=\"color: #808000; text-decoration-color: #808000\">...</span>#..##.###..##<span style=\"color: #808000; text-decoration-color: #808000\">......</span>##<span style=\"color: #808000; text-decoration-color: #808000\">...</span>.##<span style=\"color: #808000; text-decoration-color: #808000\">...</span>.#.#..#<span style=\"color: #808000; text-decoration-color: #808000\">...</span>##.###..#.#.#####..##.##<span style=\"color: #808000; text-decoration-color: #808000\">...</span>.#.#####.#.######<span style=\"color: #808000; text-decoration-color: #808000\">.</span>\n",
       "<span style=\"color: #808000; text-decoration-color: #808000\">..</span>#.####<span style=\"color: #808000; text-decoration-color: #808000\">...</span>.#.#.####..#.####.#.#..##<span style=\"color: #808000; text-decoration-color: #808000\">......</span>#<span style=\"color: #808000; text-decoration-color: #808000\">...</span>.#.##<span style=\"color: #808000; text-decoration-color: #808000\">...</span>#<span style=\"color: #808000; text-decoration-color: #808000\">...</span>#<span style=\"color: #808000; text-decoration-color: #808000\">...</span>#<span style=\"color: #808000; text-decoration-color: #808000\">......</span>#<span style=\"color: #808000; text-decoration-color: #808000\">...</span>#<span style=\"color: #808000; text-decoration-color: #808000\">...</span>#.#<span style=\"color: #808000; text-decoration-color: #808000\">...</span>..###..#.#\n",
       "#..#<span style=\"color: #808000; text-decoration-color: #808000\">...</span>####.##<span style=\"color: #808000; text-decoration-color: #808000\">...</span>.#.#.#<span style=\"color: #808000; text-decoration-color: #808000\">...</span>##<span style=\"color: #808000; text-decoration-color: #808000\">...</span>####.#####.####.###.##.###.##<span style=\"color: #808000; text-decoration-color: #808000\">...</span>#.#.#<span style=\"color: #808000; text-decoration-color: #808000\">...</span>###.######<span style=\"color: #808000; text-decoration-color: #808000\">...</span>.#.#.#.#.\n",
       ".#.#<span style=\"color: #808000; text-decoration-color: #808000\">...</span>.#####.#.##<span style=\"color: #808000; text-decoration-color: #808000\">...</span>##<span style=\"color: #808000; text-decoration-color: #808000\">...</span>##<span style=\"color: #808000; text-decoration-color: #808000\">...</span>##<span style=\"color: #808000; text-decoration-color: #808000\">...</span>#.#.#####.#<span style=\"color: #808000; text-decoration-color: #808000\">...</span>#.#######..#<span style=\"color: #808000; text-decoration-color: #808000\">...</span>##..#..#<span style=\"color: #808000; text-decoration-color: #808000\">...</span>#..####<span style=\"color: #808000; text-decoration-color: #808000\">...</span>.###..#\n",
       "..##.##..#.#.##<span style=\"color: #808000; text-decoration-color: #808000\">...</span>#####<span style=\"color: #808000; text-decoration-color: #808000\">......</span>#.#.###.####<span style=\"color: #808000; text-decoration-color: #808000\">...</span>#.#.###.#.##.#. | Last line: ..##<span style=\"color: #808000; text-decoration-color: #808000\">...</span>#.#.#.####.#.\n",
       ".#.####<span style=\"color: #808000; text-decoration-color: #808000\">...</span>#<span style=\"color: #808000; text-decoration-color: #808000\">...</span>###.#..###..#.###.####<span style=\"color: #808000; text-decoration-color: #808000\">...</span>.#.#<span style=\"color: #808000; text-decoration-color: #808000\">...</span>.#<span style=\"color: #808000; text-decoration-color: #808000\">...</span>##<span style=\"color: #808000; text-decoration-color: #808000\">...</span>#.#.#<span style=\"color: #808000; text-decoration-color: #808000\">...</span>.##.#.#.##<span style=\"color: #808000; text-decoration-color: #808000\">...</span>.##\n",
       "</pre>\n"
      ],
      "text/plain": [
       "First line: ########\u001b[33m...\u001b[0m#.###.##..#\u001b[33m...\u001b[0m..#####\u001b[33m...\u001b[0m.#.#\u001b[33m...\u001b[0m#..##..##.###\u001b[33m...\u001b[0m..####\u001b[33m...\u001b[0m#.#..#.###\u001b[33m...\u001b[0m#\n",
       ".#.##\u001b[33m...\u001b[0m#..##.###..##\u001b[33m...\u001b[0m\u001b[33m...\u001b[0m##\u001b[33m...\u001b[0m.##\u001b[33m...\u001b[0m.#.#..#\u001b[33m...\u001b[0m##.###..#.#.#####..##.##\u001b[33m...\u001b[0m.#.#####.#.######\u001b[33m.\u001b[0m\n",
       "\u001b[33m..\u001b[0m#.####\u001b[33m...\u001b[0m.#.#.####..#.####.#.#..##\u001b[33m...\u001b[0m\u001b[33m...\u001b[0m#\u001b[33m...\u001b[0m.#.##\u001b[33m...\u001b[0m#\u001b[33m...\u001b[0m#\u001b[33m...\u001b[0m#\u001b[33m...\u001b[0m\u001b[33m...\u001b[0m#\u001b[33m...\u001b[0m#\u001b[33m...\u001b[0m#.#\u001b[33m...\u001b[0m..###..#.#\n",
       "#..#\u001b[33m...\u001b[0m####.##\u001b[33m...\u001b[0m.#.#.#\u001b[33m...\u001b[0m##\u001b[33m...\u001b[0m####.#####.####.###.##.###.##\u001b[33m...\u001b[0m#.#.#\u001b[33m...\u001b[0m###.######\u001b[33m...\u001b[0m.#.#.#.#.\n",
       ".#.#\u001b[33m...\u001b[0m.#####.#.##\u001b[33m...\u001b[0m##\u001b[33m...\u001b[0m##\u001b[33m...\u001b[0m##\u001b[33m...\u001b[0m#.#.#####.#\u001b[33m...\u001b[0m#.#######..#\u001b[33m...\u001b[0m##..#..#\u001b[33m...\u001b[0m#..####\u001b[33m...\u001b[0m.###..#\n",
       "..##.##..#.#.##\u001b[33m...\u001b[0m#####\u001b[33m...\u001b[0m\u001b[33m...\u001b[0m#.#.###.####\u001b[33m...\u001b[0m#.#.###.#.##.#. | Last line: ..##\u001b[33m...\u001b[0m#.#.#.####.#.\n",
       ".#.####\u001b[33m...\u001b[0m#\u001b[33m...\u001b[0m###.#..###..#.###.####\u001b[33m...\u001b[0m.#.#\u001b[33m...\u001b[0m.#\u001b[33m...\u001b[0m##\u001b[33m...\u001b[0m#.#.#\u001b[33m...\u001b[0m.##.#.#.##\u001b[33m...\u001b[0m.##\n"
      ]
     },
     "metadata": {},
     "output_type": "display_data"
    },
    {
     "data": {
      "text/html": [
       "<pre style=\"white-space:pre;overflow-x:auto;line-height:normal;font-family:Menlo,'DejaVu Sans Mono',consolas,'Courier New',monospace\">------\n",
       "</pre>\n"
      ],
      "text/plain": [
       "------\n"
      ]
     },
     "metadata": {},
     "output_type": "display_data"
    },
    {
     "data": {
      "text/html": [
       "<pre style=\"white-space:pre;overflow-x:auto;line-height:normal;font-family:Menlo,'DejaVu Sans Mono',consolas,'Courier New',monospace\">Convert to:\n",
       "</pre>\n"
      ],
      "text/plain": [
       "Convert to:\n"
      ]
     },
     "metadata": {},
     "output_type": "display_data"
    },
    {
     "data": {
      "text/html": [
       "<pre style=\"white-space:pre;overflow-x:auto;line-height:normal;font-family:Menlo,'DejaVu Sans Mono',consolas,'Courier New',monospace\">Head:\n",
       "<span style=\"font-weight: bold\">[[</span><span style=\"color: #008000; text-decoration-color: #008000\">'#'</span>, <span style=\"color: #008000; text-decoration-color: #008000\">'#'</span>, <span style=\"color: #008000; text-decoration-color: #008000\">'#'</span>, <span style=\"color: #008000; text-decoration-color: #008000\">'#'</span>, <span style=\"color: #008000; text-decoration-color: #008000\">'#'</span>, <span style=\"color: #008000; text-decoration-color: #008000\">'#'</span>, <span style=\"color: #008000; text-decoration-color: #008000\">'#'</span>, <span style=\"color: #008000; text-decoration-color: #008000\">'#'</span>, <span style=\"color: #008000; text-decoration-color: #008000\">'.'</span>, <span style=\"color: #008000; text-decoration-color: #008000\">'.'</span>, <span style=\"color: #008000; text-decoration-color: #008000\">'.'</span>, <span style=\"color: #008000; text-decoration-color: #008000\">'#'</span>, <span style=\"color: #008000; text-decoration-color: #008000\">'.'</span>, <span style=\"color: #008000; text-decoration-color: #008000\">'#'</span>, <span style=\"color: #008000; text-decoration-color: #008000\">'#'</span>, <span style=\"color: #008000; text-decoration-color: #008000\">'#'</span>, <span style=\"color: #008000; text-decoration-color: #008000\">'.'</span>, <span style=\"color: #008000; text-decoration-color: #008000\">'#'</span>, \n",
       "<span style=\"color: #008000; text-decoration-color: #008000\">'#'</span>, <span style=\"color: #008000; text-decoration-color: #008000\">'.'</span>, <span style=\"color: #008000; text-decoration-color: #008000\">'.'</span>, <span style=\"color: #008000; text-decoration-color: #008000\">'#'</span>, <span style=\"color: #008000; text-decoration-color: #008000\">'.'</span>, <span style=\"color: #008000; text-decoration-color: #008000\">'.'</span>, <span style=\"color: #008000; text-decoration-color: #008000\">'.'</span>, <span style=\"color: #008000; text-decoration-color: #008000\">'.'</span>, <span style=\"color: #008000; text-decoration-color: #008000\">'.'</span>, <span style=\"color: #008000; text-decoration-color: #008000\">'#'</span>, <span style=\"color: #008000; text-decoration-color: #008000\">'#'</span>, <span style=\"color: #008000; text-decoration-color: #008000\">'#'</span>, <span style=\"color: #008000; text-decoration-color: #008000\">'#'</span>, <span style=\"color: #008000; text-decoration-color: #008000\">'#'</span>, <span style=\"color: #008000; text-decoration-color: #008000\">'.'</span>, <span style=\"color: #008000; text-decoration-color: #008000\">'.'</span>, <span style=\"color: #008000; text-decoration-color: #008000\">'.'</span>, <span style=\"color: #008000; text-decoration-color: #008000\">'.'</span>, \n",
       "<span style=\"color: #008000; text-decoration-color: #008000\">'#'</span>, <span style=\"color: #008000; text-decoration-color: #008000\">'.'</span>, <span style=\"color: #008000; text-decoration-color: #008000\">'#'</span>, <span style=\"color: #008000; text-decoration-color: #008000\">'.'</span>, <span style=\"color: #008000; text-decoration-color: #008000\">'.'</span>, <span style=\"color: #008000; text-decoration-color: #008000\">'.'</span>, <span style=\"color: #008000; text-decoration-color: #008000\">'#'</span>, <span style=\"color: #008000; text-decoration-color: #008000\">'.'</span>, <span style=\"color: #008000; text-decoration-color: #008000\">'.'</span>, <span style=\"color: #008000; text-decoration-color: #008000\">'#'</span>, <span style=\"color: #008000; text-decoration-color: #008000\">'#'</span>, <span style=\"color: #008000; text-decoration-color: #008000\">'.'</span>, <span style=\"color: #008000; text-decoration-color: #008000\">'.'</span>, <span style=\"color: #008000; text-decoration-color: #008000\">'#'</span>, <span style=\"color: #008000; text-decoration-color: #008000\">'#'</span>, <span style=\"color: #008000; text-decoration-color: #008000\">'.'</span>, <span style=\"color: #008000; text-decoration-color: #008000\">'#'</span>, <span style=\"color: #008000; text-decoration-color: #008000\">'#'</span>, \n",
       "<span style=\"color: #008000; text-decoration-color: #008000\">'#'</span>, <span style=\"color: #008000; text-decoration-color: #008000\">'.'</span>, <span style=\"color: #008000; text-decoration-color: #008000\">'.'</span>, <span style=\"color: #008000; text-decoration-color: #008000\">'.'</span>, <span style=\"color: #008000; text-decoration-color: #008000\">'.'</span>, <span style=\"color: #008000; text-decoration-color: #008000\">'.'</span>, <span style=\"color: #008000; text-decoration-color: #008000\">'#'</span>, <span style=\"color: #008000; text-decoration-color: #008000\">'#'</span>, <span style=\"color: #008000; text-decoration-color: #008000\">'#'</span>, <span style=\"color: #008000; text-decoration-color: #008000\">'#'</span>, <span style=\"color: #008000; text-decoration-color: #008000\">'.'</span>, <span style=\"color: #008000; text-decoration-color: #008000\">'.'</span>, <span style=\"color: #008000; text-decoration-color: #008000\">'.'</span>, <span style=\"color: #008000; text-decoration-color: #008000\">'#'</span>, <span style=\"color: #008000; text-decoration-color: #008000\">'.'</span>, <span style=\"color: #008000; text-decoration-color: #008000\">'#'</span>, <span style=\"color: #008000; text-decoration-color: #008000\">'.'</span>, <span style=\"color: #008000; text-decoration-color: #008000\">'.'</span>, \n",
       "<span style=\"color: #008000; text-decoration-color: #008000\">'#'</span>, <span style=\"color: #008000; text-decoration-color: #008000\">'.'</span>, <span style=\"color: #008000; text-decoration-color: #008000\">'#'</span>, <span style=\"color: #008000; text-decoration-color: #008000\">'#'</span>, <span style=\"color: #008000; text-decoration-color: #008000\">'#'</span>, <span style=\"color: #008000; text-decoration-color: #008000\">'.'</span>, <span style=\"color: #008000; text-decoration-color: #008000\">'.'</span>, <span style=\"color: #008000; text-decoration-color: #008000\">'.'</span>, <span style=\"color: #008000; text-decoration-color: #008000\">'#'</span>, <span style=\"color: #008000; text-decoration-color: #008000\">'.'</span>, <span style=\"color: #008000; text-decoration-color: #008000\">'#'</span>, <span style=\"color: #008000; text-decoration-color: #008000\">'.'</span>, <span style=\"color: #008000; text-decoration-color: #008000\">'#'</span>, <span style=\"color: #008000; text-decoration-color: #008000\">'#'</span>, <span style=\"color: #008000; text-decoration-color: #008000\">'.'</span>, <span style=\"color: #008000; text-decoration-color: #008000\">'.'</span>, <span style=\"color: #008000; text-decoration-color: #008000\">'.'</span>, <span style=\"color: #008000; text-decoration-color: #008000\">'#'</span>, \n",
       "<span style=\"color: #008000; text-decoration-color: #008000\">'.'</span>, <span style=\"color: #008000; text-decoration-color: #008000\">'.'</span>, <span style=\"color: #008000; text-decoration-color: #008000\">'#'</span>, <span style=\"color: #008000; text-decoration-color: #008000\">'#'</span>, <span style=\"color: #008000; text-decoration-color: #008000\">'.'</span>, <span style=\"color: #008000; text-decoration-color: #008000\">'#'</span>, <span style=\"color: #008000; text-decoration-color: #008000\">'#'</span>, <span style=\"color: #008000; text-decoration-color: #008000\">'#'</span>, <span style=\"color: #008000; text-decoration-color: #008000\">'.'</span>, <span style=\"color: #008000; text-decoration-color: #008000\">'.'</span>, <span style=\"color: #008000; text-decoration-color: #008000\">'#'</span>, <span style=\"color: #008000; text-decoration-color: #008000\">'#'</span>, <span style=\"color: #008000; text-decoration-color: #008000\">'.'</span>, <span style=\"color: #008000; text-decoration-color: #008000\">'.'</span>, <span style=\"color: #008000; text-decoration-color: #008000\">'.'</span>, <span style=\"color: #008000; text-decoration-color: #008000\">'.'</span>, <span style=\"color: #008000; text-decoration-color: #008000\">'.'</span>, <span style=\"color: #008000; text-decoration-color: #008000\">'.'</span>, \n",
       "<span style=\"color: #008000; text-decoration-color: #008000\">'#'</span>, <span style=\"color: #008000; text-decoration-color: #008000\">'#'</span>, <span style=\"color: #008000; text-decoration-color: #008000\">'.'</span>, <span style=\"color: #008000; text-decoration-color: #008000\">'.'</span>, <span style=\"color: #008000; text-decoration-color: #008000\">'.'</span>, <span style=\"color: #008000; text-decoration-color: #008000\">'.'</span>, <span style=\"color: #008000; text-decoration-color: #008000\">'#'</span>, <span style=\"color: #008000; text-decoration-color: #008000\">'#'</span>, <span style=\"color: #008000; text-decoration-color: #008000\">'.'</span>, <span style=\"color: #008000; text-decoration-color: #008000\">'.'</span>, <span style=\"color: #008000; text-decoration-color: #008000\">'.'</span>, <span style=\"color: #008000; text-decoration-color: #008000\">'.'</span>, <span style=\"color: #008000; text-decoration-color: #008000\">'#'</span>, <span style=\"color: #008000; text-decoration-color: #008000\">'.'</span>, <span style=\"color: #008000; text-decoration-color: #008000\">'#'</span>, <span style=\"color: #008000; text-decoration-color: #008000\">'.'</span>, <span style=\"color: #008000; text-decoration-color: #008000\">'.'</span>, <span style=\"color: #008000; text-decoration-color: #008000\">'#'</span>, \n",
       "<span style=\"color: #008000; text-decoration-color: #008000\">'.'</span>, <span style=\"color: #008000; text-decoration-color: #008000\">'.'</span>, <span style=\"color: #008000; text-decoration-color: #008000\">'.'</span>, <span style=\"color: #008000; text-decoration-color: #008000\">'#'</span>, <span style=\"color: #008000; text-decoration-color: #008000\">'#'</span>, <span style=\"color: #008000; text-decoration-color: #008000\">'.'</span>, <span style=\"color: #008000; text-decoration-color: #008000\">'#'</span>, <span style=\"color: #008000; text-decoration-color: #008000\">'#'</span>, <span style=\"color: #008000; text-decoration-color: #008000\">'#'</span>, <span style=\"color: #008000; text-decoration-color: #008000\">'.'</span>, <span style=\"color: #008000; text-decoration-color: #008000\">'.'</span>, <span style=\"color: #008000; text-decoration-color: #008000\">'#'</span>, <span style=\"color: #008000; text-decoration-color: #008000\">'.'</span>, <span style=\"color: #008000; text-decoration-color: #008000\">'#'</span>, <span style=\"color: #008000; text-decoration-color: #008000\">'.'</span>, <span style=\"color: #008000; text-decoration-color: #008000\">'#'</span>, <span style=\"color: #008000; text-decoration-color: #008000\">'#'</span>, <span style=\"color: #008000; text-decoration-color: #008000\">'#'</span>, \n",
       "<span style=\"color: #008000; text-decoration-color: #008000\">'#'</span>, <span style=\"color: #008000; text-decoration-color: #008000\">'#'</span>, <span style=\"color: #008000; text-decoration-color: #008000\">'.'</span>, <span style=\"color: #008000; text-decoration-color: #008000\">'.'</span>, <span style=\"color: #008000; text-decoration-color: #008000\">'#'</span>, <span style=\"color: #008000; text-decoration-color: #008000\">'#'</span>, <span style=\"color: #008000; text-decoration-color: #008000\">'.'</span>, <span style=\"color: #008000; text-decoration-color: #008000\">'#'</span>, <span style=\"color: #008000; text-decoration-color: #008000\">'#'</span>, <span style=\"color: #008000; text-decoration-color: #008000\">'.'</span>, <span style=\"color: #008000; text-decoration-color: #008000\">'.'</span>, <span style=\"color: #008000; text-decoration-color: #008000\">'.'</span>, <span style=\"color: #008000; text-decoration-color: #008000\">'.'</span>, <span style=\"color: #008000; text-decoration-color: #008000\">'#'</span>, <span style=\"color: #008000; text-decoration-color: #008000\">'.'</span>, <span style=\"color: #008000; text-decoration-color: #008000\">'#'</span>, <span style=\"color: #008000; text-decoration-color: #008000\">'#'</span>, <span style=\"color: #008000; text-decoration-color: #008000\">'#'</span>, \n",
       "<span style=\"color: #008000; text-decoration-color: #008000\">'#'</span>, <span style=\"color: #008000; text-decoration-color: #008000\">'#'</span>, <span style=\"color: #008000; text-decoration-color: #008000\">'.'</span>, <span style=\"color: #008000; text-decoration-color: #008000\">'#'</span>, <span style=\"color: #008000; text-decoration-color: #008000\">'.'</span>, <span style=\"color: #008000; text-decoration-color: #008000\">'#'</span>, <span style=\"color: #008000; text-decoration-color: #008000\">'#'</span>, <span style=\"color: #008000; text-decoration-color: #008000\">'#'</span>, <span style=\"color: #008000; text-decoration-color: #008000\">'#'</span>, <span style=\"color: #008000; text-decoration-color: #008000\">'#'</span>, <span style=\"color: #008000; text-decoration-color: #008000\">'#'</span>, <span style=\"color: #008000; text-decoration-color: #008000\">'.'</span>, <span style=\"color: #008000; text-decoration-color: #008000\">'.'</span>, <span style=\"color: #008000; text-decoration-color: #008000\">'.'</span>, <span style=\"color: #008000; text-decoration-color: #008000\">'#'</span>, <span style=\"color: #008000; text-decoration-color: #008000\">'.'</span>, <span style=\"color: #008000; text-decoration-color: #008000\">'#'</span>, <span style=\"color: #008000; text-decoration-color: #008000\">'#'</span>, \n",
       "<span style=\"color: #008000; text-decoration-color: #008000\">'#'</span>, <span style=\"color: #008000; text-decoration-color: #008000\">'#'</span>, <span style=\"color: #008000; text-decoration-color: #008000\">'.'</span>, <span style=\"color: #008000; text-decoration-color: #008000\">'.'</span>, <span style=\"color: #008000; text-decoration-color: #008000\">'.'</span>, <span style=\"color: #008000; text-decoration-color: #008000\">'.'</span>, <span style=\"color: #008000; text-decoration-color: #008000\">'#'</span>, <span style=\"color: #008000; text-decoration-color: #008000\">'.'</span>, <span style=\"color: #008000; text-decoration-color: #008000\">'#'</span>, <span style=\"color: #008000; text-decoration-color: #008000\">'.'</span>, <span style=\"color: #008000; text-decoration-color: #008000\">'#'</span>, <span style=\"color: #008000; text-decoration-color: #008000\">'#'</span>, <span style=\"color: #008000; text-decoration-color: #008000\">'#'</span>, <span style=\"color: #008000; text-decoration-color: #008000\">'#'</span>, <span style=\"color: #008000; text-decoration-color: #008000\">'.'</span>, <span style=\"color: #008000; text-decoration-color: #008000\">'.'</span>, <span style=\"color: #008000; text-decoration-color: #008000\">'#'</span>, <span style=\"color: #008000; text-decoration-color: #008000\">'.'</span>, \n",
       "<span style=\"color: #008000; text-decoration-color: #008000\">'#'</span>, <span style=\"color: #008000; text-decoration-color: #008000\">'#'</span>, <span style=\"color: #008000; text-decoration-color: #008000\">'#'</span>, <span style=\"color: #008000; text-decoration-color: #008000\">'#'</span>, <span style=\"color: #008000; text-decoration-color: #008000\">'.'</span>, <span style=\"color: #008000; text-decoration-color: #008000\">'#'</span>, <span style=\"color: #008000; text-decoration-color: #008000\">'.'</span>, <span style=\"color: #008000; text-decoration-color: #008000\">'#'</span>, <span style=\"color: #008000; text-decoration-color: #008000\">'.'</span>, <span style=\"color: #008000; text-decoration-color: #008000\">'.'</span>, <span style=\"color: #008000; text-decoration-color: #008000\">'#'</span>, <span style=\"color: #008000; text-decoration-color: #008000\">'#'</span>, <span style=\"color: #008000; text-decoration-color: #008000\">'.'</span>, <span style=\"color: #008000; text-decoration-color: #008000\">'.'</span>, <span style=\"color: #008000; text-decoration-color: #008000\">'.'</span>, <span style=\"color: #008000; text-decoration-color: #008000\">'.'</span>, <span style=\"color: #008000; text-decoration-color: #008000\">'.'</span>, <span style=\"color: #008000; text-decoration-color: #008000\">'.'</span>, \n",
       "<span style=\"color: #008000; text-decoration-color: #008000\">'#'</span>, <span style=\"color: #008000; text-decoration-color: #008000\">'.'</span>, <span style=\"color: #008000; text-decoration-color: #008000\">'.'</span>, <span style=\"color: #008000; text-decoration-color: #008000\">'.'</span>, <span style=\"color: #008000; text-decoration-color: #008000\">'.'</span>, <span style=\"color: #008000; text-decoration-color: #008000\">'#'</span>, <span style=\"color: #008000; text-decoration-color: #008000\">'.'</span>, <span style=\"color: #008000; text-decoration-color: #008000\">'#'</span>, <span style=\"color: #008000; text-decoration-color: #008000\">'#'</span>, <span style=\"color: #008000; text-decoration-color: #008000\">'.'</span>, <span style=\"color: #008000; text-decoration-color: #008000\">'.'</span>, <span style=\"color: #008000; text-decoration-color: #008000\">'.'</span>, <span style=\"color: #008000; text-decoration-color: #008000\">'#'</span>, <span style=\"color: #008000; text-decoration-color: #008000\">'.'</span>, <span style=\"color: #008000; text-decoration-color: #008000\">'.'</span>, <span style=\"color: #008000; text-decoration-color: #008000\">'.'</span>, <span style=\"color: #008000; text-decoration-color: #008000\">'#'</span>, <span style=\"color: #008000; text-decoration-color: #008000\">'.'</span>, \n",
       "<span style=\"color: #008000; text-decoration-color: #008000\">'.'</span>, <span style=\"color: #008000; text-decoration-color: #008000\">'.'</span>, <span style=\"color: #008000; text-decoration-color: #008000\">'#'</span>, <span style=\"color: #008000; text-decoration-color: #008000\">'.'</span>, <span style=\"color: #008000; text-decoration-color: #008000\">'.'</span>, <span style=\"color: #008000; text-decoration-color: #008000\">'.'</span>, <span style=\"color: #008000; text-decoration-color: #008000\">'.'</span>, <span style=\"color: #008000; text-decoration-color: #008000\">'.'</span>, <span style=\"color: #008000; text-decoration-color: #008000\">'.'</span>, <span style=\"color: #008000; text-decoration-color: #008000\">'#'</span>, <span style=\"color: #008000; text-decoration-color: #008000\">'.'</span>, <span style=\"color: #008000; text-decoration-color: #008000\">'.'</span>, <span style=\"color: #008000; text-decoration-color: #008000\">'.'</span>, <span style=\"color: #008000; text-decoration-color: #008000\">'#'</span>, <span style=\"color: #008000; text-decoration-color: #008000\">'.'</span>, <span style=\"color: #008000; text-decoration-color: #008000\">'.'</span>, <span style=\"color: #008000; text-decoration-color: #008000\">'.'</span>, <span style=\"color: #008000; text-decoration-color: #008000\">'#'</span>, \n",
       "<span style=\"color: #008000; text-decoration-color: #008000\">'.'</span>, <span style=\"color: #008000; text-decoration-color: #008000\">'#'</span>, <span style=\"color: #008000; text-decoration-color: #008000\">'.'</span>, <span style=\"color: #008000; text-decoration-color: #008000\">'.'</span>, <span style=\"color: #008000; text-decoration-color: #008000\">'.'</span>, <span style=\"color: #008000; text-decoration-color: #008000\">'.'</span>, <span style=\"color: #008000; text-decoration-color: #008000\">'.'</span>, <span style=\"color: #008000; text-decoration-color: #008000\">'#'</span>, <span style=\"color: #008000; text-decoration-color: #008000\">'#'</span>, <span style=\"color: #008000; text-decoration-color: #008000\">'#'</span>, <span style=\"color: #008000; text-decoration-color: #008000\">'.'</span>, <span style=\"color: #008000; text-decoration-color: #008000\">'.'</span>, <span style=\"color: #008000; text-decoration-color: #008000\">'#'</span>, <span style=\"color: #008000; text-decoration-color: #008000\">'.'</span>, <span style=\"color: #008000; text-decoration-color: #008000\">'#'</span>, <span style=\"color: #008000; text-decoration-color: #008000\">'#'</span>, <span style=\"color: #008000; text-decoration-color: #008000\">'.'</span>, <span style=\"color: #008000; text-decoration-color: #008000\">'.'</span>, \n",
       "<span style=\"color: #008000; text-decoration-color: #008000\">'#'</span>, <span style=\"color: #008000; text-decoration-color: #008000\">'.'</span>, <span style=\"color: #008000; text-decoration-color: #008000\">'.'</span>, <span style=\"color: #008000; text-decoration-color: #008000\">'.'</span>, <span style=\"color: #008000; text-decoration-color: #008000\">'#'</span>, <span style=\"color: #008000; text-decoration-color: #008000\">'#'</span>, <span style=\"color: #008000; text-decoration-color: #008000\">'#'</span>, <span style=\"color: #008000; text-decoration-color: #008000\">'#'</span>, <span style=\"color: #008000; text-decoration-color: #008000\">'.'</span>, <span style=\"color: #008000; text-decoration-color: #008000\">'#'</span>, <span style=\"color: #008000; text-decoration-color: #008000\">'#'</span>, <span style=\"color: #008000; text-decoration-color: #008000\">'.'</span>, <span style=\"color: #008000; text-decoration-color: #008000\">'.'</span>, <span style=\"color: #008000; text-decoration-color: #008000\">'.'</span>, <span style=\"color: #008000; text-decoration-color: #008000\">'.'</span>, <span style=\"color: #008000; text-decoration-color: #008000\">'#'</span>, <span style=\"color: #008000; text-decoration-color: #008000\">'.'</span>, <span style=\"color: #008000; text-decoration-color: #008000\">'#'</span>, \n",
       "<span style=\"color: #008000; text-decoration-color: #008000\">'.'</span>, <span style=\"color: #008000; text-decoration-color: #008000\">'#'</span>, <span style=\"color: #008000; text-decoration-color: #008000\">'.'</span>, <span style=\"color: #008000; text-decoration-color: #008000\">'.'</span>, <span style=\"color: #008000; text-decoration-color: #008000\">'.'</span>, <span style=\"color: #008000; text-decoration-color: #008000\">'#'</span>, <span style=\"color: #008000; text-decoration-color: #008000\">'#'</span>, <span style=\"color: #008000; text-decoration-color: #008000\">'.'</span>, <span style=\"color: #008000; text-decoration-color: #008000\">'.'</span>, <span style=\"color: #008000; text-decoration-color: #008000\">'.'</span>, <span style=\"color: #008000; text-decoration-color: #008000\">'#'</span>, <span style=\"color: #008000; text-decoration-color: #008000\">'#'</span>, <span style=\"color: #008000; text-decoration-color: #008000\">'#'</span>, <span style=\"color: #008000; text-decoration-color: #008000\">'#'</span>, <span style=\"color: #008000; text-decoration-color: #008000\">'.'</span>, <span style=\"color: #008000; text-decoration-color: #008000\">'#'</span>, <span style=\"color: #008000; text-decoration-color: #008000\">'#'</span>, <span style=\"color: #008000; text-decoration-color: #008000\">'#'</span>, \n",
       "<span style=\"color: #008000; text-decoration-color: #008000\">'#'</span>, <span style=\"color: #008000; text-decoration-color: #008000\">'#'</span>, <span style=\"color: #008000; text-decoration-color: #008000\">'.'</span>, <span style=\"color: #008000; text-decoration-color: #008000\">'#'</span>, <span style=\"color: #008000; text-decoration-color: #008000\">'#'</span>, <span style=\"color: #008000; text-decoration-color: #008000\">'#'</span>, <span style=\"color: #008000; text-decoration-color: #008000\">'#'</span>, <span style=\"color: #008000; text-decoration-color: #008000\">'.'</span>, <span style=\"color: #008000; text-decoration-color: #008000\">'#'</span>, <span style=\"color: #008000; text-decoration-color: #008000\">'#'</span>, <span style=\"color: #008000; text-decoration-color: #008000\">'#'</span>, <span style=\"color: #008000; text-decoration-color: #008000\">'.'</span>, <span style=\"color: #008000; text-decoration-color: #008000\">'#'</span>, <span style=\"color: #008000; text-decoration-color: #008000\">'#'</span>, <span style=\"color: #008000; text-decoration-color: #008000\">'.'</span>, <span style=\"color: #008000; text-decoration-color: #008000\">'#'</span>, <span style=\"color: #008000; text-decoration-color: #008000\">'#'</span>, <span style=\"color: #008000; text-decoration-color: #008000\">'#'</span>, \n",
       "<span style=\"color: #008000; text-decoration-color: #008000\">'.'</span>, <span style=\"color: #008000; text-decoration-color: #008000\">'#'</span>, <span style=\"color: #008000; text-decoration-color: #008000\">'#'</span>, <span style=\"color: #008000; text-decoration-color: #008000\">'.'</span>, <span style=\"color: #008000; text-decoration-color: #008000\">'.'</span>, <span style=\"color: #008000; text-decoration-color: #008000\">'.'</span>, <span style=\"color: #008000; text-decoration-color: #008000\">'#'</span>, <span style=\"color: #008000; text-decoration-color: #008000\">'.'</span>, <span style=\"color: #008000; text-decoration-color: #008000\">'#'</span>, <span style=\"color: #008000; text-decoration-color: #008000\">'.'</span>, <span style=\"color: #008000; text-decoration-color: #008000\">'#'</span>, <span style=\"color: #008000; text-decoration-color: #008000\">'.'</span>, <span style=\"color: #008000; text-decoration-color: #008000\">'.'</span>, <span style=\"color: #008000; text-decoration-color: #008000\">'.'</span>, <span style=\"color: #008000; text-decoration-color: #008000\">'#'</span>, <span style=\"color: #008000; text-decoration-color: #008000\">'#'</span>, <span style=\"color: #008000; text-decoration-color: #008000\">'#'</span>, <span style=\"color: #008000; text-decoration-color: #008000\">'.'</span>, \n",
       "<span style=\"color: #008000; text-decoration-color: #008000\">'#'</span>, <span style=\"color: #008000; text-decoration-color: #008000\">'#'</span>, <span style=\"color: #008000; text-decoration-color: #008000\">'#'</span>, <span style=\"color: #008000; text-decoration-color: #008000\">'#'</span>, <span style=\"color: #008000; text-decoration-color: #008000\">'#'</span>, <span style=\"color: #008000; text-decoration-color: #008000\">'#'</span>, <span style=\"color: #008000; text-decoration-color: #008000\">'.'</span>, <span style=\"color: #008000; text-decoration-color: #008000\">'.'</span>, <span style=\"color: #008000; text-decoration-color: #008000\">'.'</span>, <span style=\"color: #008000; text-decoration-color: #008000\">'.'</span>, <span style=\"color: #008000; text-decoration-color: #008000\">'#'</span>, <span style=\"color: #008000; text-decoration-color: #008000\">'.'</span>, <span style=\"color: #008000; text-decoration-color: #008000\">'#'</span>, <span style=\"color: #008000; text-decoration-color: #008000\">'.'</span>, <span style=\"color: #008000; text-decoration-color: #008000\">'#'</span>, <span style=\"color: #008000; text-decoration-color: #008000\">'.'</span>, <span style=\"color: #008000; text-decoration-color: #008000\">'#'</span>, <span style=\"color: #008000; text-decoration-color: #008000\">'.'</span>, \n",
       "<span style=\"color: #008000; text-decoration-color: #008000\">'.'</span>, <span style=\"color: #008000; text-decoration-color: #008000\">'#'</span>, <span style=\"color: #008000; text-decoration-color: #008000\">'.'</span>, <span style=\"color: #008000; text-decoration-color: #008000\">'#'</span>, <span style=\"color: #008000; text-decoration-color: #008000\">'.'</span>, <span style=\"color: #008000; text-decoration-color: #008000\">'.'</span>, <span style=\"color: #008000; text-decoration-color: #008000\">'.'</span>, <span style=\"color: #008000; text-decoration-color: #008000\">'.'</span>, <span style=\"color: #008000; text-decoration-color: #008000\">'#'</span>, <span style=\"color: #008000; text-decoration-color: #008000\">'#'</span>, <span style=\"color: #008000; text-decoration-color: #008000\">'#'</span>, <span style=\"color: #008000; text-decoration-color: #008000\">'#'</span>, <span style=\"color: #008000; text-decoration-color: #008000\">'#'</span>, <span style=\"color: #008000; text-decoration-color: #008000\">'.'</span>, <span style=\"color: #008000; text-decoration-color: #008000\">'#'</span>, <span style=\"color: #008000; text-decoration-color: #008000\">'.'</span>, <span style=\"color: #008000; text-decoration-color: #008000\">'#'</span>, <span style=\"color: #008000; text-decoration-color: #008000\">'#'</span>, \n",
       "<span style=\"color: #008000; text-decoration-color: #008000\">'.'</span>, <span style=\"color: #008000; text-decoration-color: #008000\">'.'</span>, <span style=\"color: #008000; text-decoration-color: #008000\">'.'</span>, <span style=\"color: #008000; text-decoration-color: #008000\">'#'</span>, <span style=\"color: #008000; text-decoration-color: #008000\">'#'</span>, <span style=\"color: #008000; text-decoration-color: #008000\">'.'</span>, <span style=\"color: #008000; text-decoration-color: #008000\">'.'</span>, <span style=\"color: #008000; text-decoration-color: #008000\">'.'</span>, <span style=\"color: #008000; text-decoration-color: #008000\">'#'</span>, <span style=\"color: #008000; text-decoration-color: #008000\">'#'</span>, <span style=\"color: #008000; text-decoration-color: #008000\">'.'</span>, <span style=\"color: #008000; text-decoration-color: #008000\">'.'</span>, <span style=\"color: #008000; text-decoration-color: #008000\">'.'</span>, <span style=\"color: #008000; text-decoration-color: #008000\">'#'</span>, <span style=\"color: #008000; text-decoration-color: #008000\">'#'</span>, <span style=\"color: #008000; text-decoration-color: #008000\">'.'</span>, <span style=\"color: #008000; text-decoration-color: #008000\">'.'</span>, <span style=\"color: #008000; text-decoration-color: #008000\">'.'</span>, \n",
       "<span style=\"color: #008000; text-decoration-color: #008000\">'#'</span>, <span style=\"color: #008000; text-decoration-color: #008000\">'.'</span>, <span style=\"color: #008000; text-decoration-color: #008000\">'#'</span>, <span style=\"color: #008000; text-decoration-color: #008000\">'.'</span>, <span style=\"color: #008000; text-decoration-color: #008000\">'#'</span>, <span style=\"color: #008000; text-decoration-color: #008000\">'#'</span>, <span style=\"color: #008000; text-decoration-color: #008000\">'#'</span>, <span style=\"color: #008000; text-decoration-color: #008000\">'#'</span>, <span style=\"color: #008000; text-decoration-color: #008000\">'#'</span>, <span style=\"color: #008000; text-decoration-color: #008000\">'.'</span>, <span style=\"color: #008000; text-decoration-color: #008000\">'#'</span>, <span style=\"color: #008000; text-decoration-color: #008000\">'.'</span>, <span style=\"color: #008000; text-decoration-color: #008000\">'.'</span>, <span style=\"color: #008000; text-decoration-color: #008000\">'.'</span>, <span style=\"color: #008000; text-decoration-color: #008000\">'#'</span>, <span style=\"color: #008000; text-decoration-color: #008000\">'.'</span>, <span style=\"color: #008000; text-decoration-color: #008000\">'#'</span>, <span style=\"color: #008000; text-decoration-color: #008000\">'#'</span>, \n",
       "<span style=\"color: #008000; text-decoration-color: #008000\">'#'</span>, <span style=\"color: #008000; text-decoration-color: #008000\">'#'</span>, <span style=\"color: #008000; text-decoration-color: #008000\">'#'</span>, <span style=\"color: #008000; text-decoration-color: #008000\">'#'</span>, <span style=\"color: #008000; text-decoration-color: #008000\">'#'</span>, <span style=\"color: #008000; text-decoration-color: #008000\">'.'</span>, <span style=\"color: #008000; text-decoration-color: #008000\">'.'</span>, <span style=\"color: #008000; text-decoration-color: #008000\">'#'</span>, <span style=\"color: #008000; text-decoration-color: #008000\">'.'</span>, <span style=\"color: #008000; text-decoration-color: #008000\">'.'</span>, <span style=\"color: #008000; text-decoration-color: #008000\">'.'</span>, <span style=\"color: #008000; text-decoration-color: #008000\">'#'</span>, <span style=\"color: #008000; text-decoration-color: #008000\">'#'</span>, <span style=\"color: #008000; text-decoration-color: #008000\">'.'</span>, <span style=\"color: #008000; text-decoration-color: #008000\">'.'</span>, <span style=\"color: #008000; text-decoration-color: #008000\">'#'</span>, <span style=\"color: #008000; text-decoration-color: #008000\">'.'</span>, <span style=\"color: #008000; text-decoration-color: #008000\">'.'</span>, \n",
       "<span style=\"color: #008000; text-decoration-color: #008000\">'#'</span>, <span style=\"color: #008000; text-decoration-color: #008000\">'.'</span>, <span style=\"color: #008000; text-decoration-color: #008000\">'.'</span>, <span style=\"color: #008000; text-decoration-color: #008000\">'.'</span>, <span style=\"color: #008000; text-decoration-color: #008000\">'#'</span>, <span style=\"color: #008000; text-decoration-color: #008000\">'.'</span>, <span style=\"color: #008000; text-decoration-color: #008000\">'.'</span>, <span style=\"color: #008000; text-decoration-color: #008000\">'#'</span>, <span style=\"color: #008000; text-decoration-color: #008000\">'#'</span>, <span style=\"color: #008000; text-decoration-color: #008000\">'#'</span>, <span style=\"color: #008000; text-decoration-color: #008000\">'#'</span>, <span style=\"color: #008000; text-decoration-color: #008000\">'.'</span>, <span style=\"color: #008000; text-decoration-color: #008000\">'.'</span>, <span style=\"color: #008000; text-decoration-color: #008000\">'.'</span>, <span style=\"color: #008000; text-decoration-color: #008000\">'.'</span>, <span style=\"color: #008000; text-decoration-color: #008000\">'#'</span>, <span style=\"color: #008000; text-decoration-color: #008000\">'#'</span>, <span style=\"color: #008000; text-decoration-color: #008000\">'#'</span>, \n",
       "<span style=\"color: #008000; text-decoration-color: #008000\">'.'</span>, <span style=\"color: #008000; text-decoration-color: #008000\">'.'</span>, <span style=\"color: #008000; text-decoration-color: #008000\">'#'</span>, <span style=\"color: #008000; text-decoration-color: #008000\">'.'</span>, <span style=\"color: #008000; text-decoration-color: #008000\">'.'</span>, <span style=\"color: #008000; text-decoration-color: #008000\">'#'</span>, <span style=\"color: #008000; text-decoration-color: #008000\">'#'</span>, <span style=\"color: #008000; text-decoration-color: #008000\">'.'</span>, <span style=\"color: #008000; text-decoration-color: #008000\">'#'</span>, <span style=\"color: #008000; text-decoration-color: #008000\">'#'</span>, <span style=\"color: #008000; text-decoration-color: #008000\">'.'</span>, <span style=\"color: #008000; text-decoration-color: #008000\">'.'</span>, <span style=\"color: #008000; text-decoration-color: #008000\">'#'</span>, <span style=\"color: #008000; text-decoration-color: #008000\">'.'</span>, <span style=\"color: #008000; text-decoration-color: #008000\">'#'</span>, <span style=\"color: #008000; text-decoration-color: #008000\">'.'</span>, <span style=\"color: #008000; text-decoration-color: #008000\">'#'</span>, <span style=\"color: #008000; text-decoration-color: #008000\">'#'</span>, \n",
       "<span style=\"color: #008000; text-decoration-color: #008000\">'.'</span>, <span style=\"color: #008000; text-decoration-color: #008000\">'.'</span>, <span style=\"color: #008000; text-decoration-color: #008000\">'.'</span>, <span style=\"color: #008000; text-decoration-color: #008000\">'#'</span>, <span style=\"color: #008000; text-decoration-color: #008000\">'#'</span>, <span style=\"color: #008000; text-decoration-color: #008000\">'#'</span>, <span style=\"color: #008000; text-decoration-color: #008000\">'#'</span>, <span style=\"color: #008000; text-decoration-color: #008000\">'#'</span>, <span style=\"color: #008000; text-decoration-color: #008000\">'.'</span>, <span style=\"color: #008000; text-decoration-color: #008000\">'.'</span>, <span style=\"color: #008000; text-decoration-color: #008000\">'.'</span>, <span style=\"color: #008000; text-decoration-color: #008000\">'.'</span>, <span style=\"color: #008000; text-decoration-color: #008000\">'.'</span>, <span style=\"color: #008000; text-decoration-color: #008000\">'.'</span>, <span style=\"color: #008000; text-decoration-color: #008000\">'#'</span>, <span style=\"color: #008000; text-decoration-color: #008000\">'.'</span>, <span style=\"color: #008000; text-decoration-color: #008000\">'#'</span>, <span style=\"color: #008000; text-decoration-color: #008000\">'.'</span>, \n",
       "<span style=\"color: #008000; text-decoration-color: #008000\">'#'</span>, <span style=\"color: #008000; text-decoration-color: #008000\">'#'</span>, <span style=\"color: #008000; text-decoration-color: #008000\">'#'</span>, <span style=\"color: #008000; text-decoration-color: #008000\">'.'</span>, <span style=\"color: #008000; text-decoration-color: #008000\">'#'</span>, <span style=\"color: #008000; text-decoration-color: #008000\">'#'</span>, <span style=\"color: #008000; text-decoration-color: #008000\">'#'</span>, <span style=\"color: #008000; text-decoration-color: #008000\">'#'</span>, <span style=\"color: #008000; text-decoration-color: #008000\">'.'</span>, <span style=\"color: #008000; text-decoration-color: #008000\">'.'</span>, <span style=\"color: #008000; text-decoration-color: #008000\">'.'</span>, <span style=\"color: #008000; text-decoration-color: #008000\">'#'</span>, <span style=\"color: #008000; text-decoration-color: #008000\">'.'</span>, <span style=\"color: #008000; text-decoration-color: #008000\">'#'</span>, <span style=\"color: #008000; text-decoration-color: #008000\">'.'</span>, <span style=\"color: #008000; text-decoration-color: #008000\">'#'</span>, <span style=\"color: #008000; text-decoration-color: #008000\">'#'</span>, <span style=\"color: #008000; text-decoration-color: #008000\">'#'</span>, \n",
       "<span style=\"color: #008000; text-decoration-color: #008000\">'.'</span>, <span style=\"color: #008000; text-decoration-color: #008000\">'#'</span>, <span style=\"color: #008000; text-decoration-color: #008000\">'.'</span>, <span style=\"color: #008000; text-decoration-color: #008000\">'#'</span>, <span style=\"color: #008000; text-decoration-color: #008000\">'#'</span>, <span style=\"color: #008000; text-decoration-color: #008000\">'.'</span>, <span style=\"color: #008000; text-decoration-color: #008000\">'#'</span>, <span style=\"color: #008000; text-decoration-color: #008000\">'.'</span><span style=\"font-weight: bold\">]]</span>\n",
       "</pre>\n"
      ],
      "text/plain": [
       "Head:\n",
       "\u001b[1m[\u001b[0m\u001b[1m[\u001b[0m\u001b[32m'#'\u001b[0m, \u001b[32m'#'\u001b[0m, \u001b[32m'#'\u001b[0m, \u001b[32m'#'\u001b[0m, \u001b[32m'#'\u001b[0m, \u001b[32m'#'\u001b[0m, \u001b[32m'#'\u001b[0m, \u001b[32m'#'\u001b[0m, \u001b[32m'.'\u001b[0m, \u001b[32m'.'\u001b[0m, \u001b[32m'.'\u001b[0m, \u001b[32m'#'\u001b[0m, \u001b[32m'.'\u001b[0m, \u001b[32m'#'\u001b[0m, \u001b[32m'#'\u001b[0m, \u001b[32m'#'\u001b[0m, \u001b[32m'.'\u001b[0m, \u001b[32m'#'\u001b[0m, \n",
       "\u001b[32m'#'\u001b[0m, \u001b[32m'.'\u001b[0m, \u001b[32m'.'\u001b[0m, \u001b[32m'#'\u001b[0m, \u001b[32m'.'\u001b[0m, \u001b[32m'.'\u001b[0m, \u001b[32m'.'\u001b[0m, \u001b[32m'.'\u001b[0m, \u001b[32m'.'\u001b[0m, \u001b[32m'#'\u001b[0m, \u001b[32m'#'\u001b[0m, \u001b[32m'#'\u001b[0m, \u001b[32m'#'\u001b[0m, \u001b[32m'#'\u001b[0m, \u001b[32m'.'\u001b[0m, \u001b[32m'.'\u001b[0m, \u001b[32m'.'\u001b[0m, \u001b[32m'.'\u001b[0m, \n",
       "\u001b[32m'#'\u001b[0m, \u001b[32m'.'\u001b[0m, \u001b[32m'#'\u001b[0m, \u001b[32m'.'\u001b[0m, \u001b[32m'.'\u001b[0m, \u001b[32m'.'\u001b[0m, \u001b[32m'#'\u001b[0m, \u001b[32m'.'\u001b[0m, \u001b[32m'.'\u001b[0m, \u001b[32m'#'\u001b[0m, \u001b[32m'#'\u001b[0m, \u001b[32m'.'\u001b[0m, \u001b[32m'.'\u001b[0m, \u001b[32m'#'\u001b[0m, \u001b[32m'#'\u001b[0m, \u001b[32m'.'\u001b[0m, \u001b[32m'#'\u001b[0m, \u001b[32m'#'\u001b[0m, \n",
       "\u001b[32m'#'\u001b[0m, \u001b[32m'.'\u001b[0m, \u001b[32m'.'\u001b[0m, \u001b[32m'.'\u001b[0m, \u001b[32m'.'\u001b[0m, \u001b[32m'.'\u001b[0m, \u001b[32m'#'\u001b[0m, \u001b[32m'#'\u001b[0m, \u001b[32m'#'\u001b[0m, \u001b[32m'#'\u001b[0m, \u001b[32m'.'\u001b[0m, \u001b[32m'.'\u001b[0m, \u001b[32m'.'\u001b[0m, \u001b[32m'#'\u001b[0m, \u001b[32m'.'\u001b[0m, \u001b[32m'#'\u001b[0m, \u001b[32m'.'\u001b[0m, \u001b[32m'.'\u001b[0m, \n",
       "\u001b[32m'#'\u001b[0m, \u001b[32m'.'\u001b[0m, \u001b[32m'#'\u001b[0m, \u001b[32m'#'\u001b[0m, \u001b[32m'#'\u001b[0m, \u001b[32m'.'\u001b[0m, \u001b[32m'.'\u001b[0m, \u001b[32m'.'\u001b[0m, \u001b[32m'#'\u001b[0m, \u001b[32m'.'\u001b[0m, \u001b[32m'#'\u001b[0m, \u001b[32m'.'\u001b[0m, \u001b[32m'#'\u001b[0m, \u001b[32m'#'\u001b[0m, \u001b[32m'.'\u001b[0m, \u001b[32m'.'\u001b[0m, \u001b[32m'.'\u001b[0m, \u001b[32m'#'\u001b[0m, \n",
       "\u001b[32m'.'\u001b[0m, \u001b[32m'.'\u001b[0m, \u001b[32m'#'\u001b[0m, \u001b[32m'#'\u001b[0m, \u001b[32m'.'\u001b[0m, \u001b[32m'#'\u001b[0m, \u001b[32m'#'\u001b[0m, \u001b[32m'#'\u001b[0m, \u001b[32m'.'\u001b[0m, \u001b[32m'.'\u001b[0m, \u001b[32m'#'\u001b[0m, \u001b[32m'#'\u001b[0m, \u001b[32m'.'\u001b[0m, \u001b[32m'.'\u001b[0m, \u001b[32m'.'\u001b[0m, \u001b[32m'.'\u001b[0m, \u001b[32m'.'\u001b[0m, \u001b[32m'.'\u001b[0m, \n",
       "\u001b[32m'#'\u001b[0m, \u001b[32m'#'\u001b[0m, \u001b[32m'.'\u001b[0m, \u001b[32m'.'\u001b[0m, \u001b[32m'.'\u001b[0m, \u001b[32m'.'\u001b[0m, \u001b[32m'#'\u001b[0m, \u001b[32m'#'\u001b[0m, \u001b[32m'.'\u001b[0m, \u001b[32m'.'\u001b[0m, \u001b[32m'.'\u001b[0m, \u001b[32m'.'\u001b[0m, \u001b[32m'#'\u001b[0m, \u001b[32m'.'\u001b[0m, \u001b[32m'#'\u001b[0m, \u001b[32m'.'\u001b[0m, \u001b[32m'.'\u001b[0m, \u001b[32m'#'\u001b[0m, \n",
       "\u001b[32m'.'\u001b[0m, \u001b[32m'.'\u001b[0m, \u001b[32m'.'\u001b[0m, \u001b[32m'#'\u001b[0m, \u001b[32m'#'\u001b[0m, \u001b[32m'.'\u001b[0m, \u001b[32m'#'\u001b[0m, \u001b[32m'#'\u001b[0m, \u001b[32m'#'\u001b[0m, \u001b[32m'.'\u001b[0m, \u001b[32m'.'\u001b[0m, \u001b[32m'#'\u001b[0m, \u001b[32m'.'\u001b[0m, \u001b[32m'#'\u001b[0m, \u001b[32m'.'\u001b[0m, \u001b[32m'#'\u001b[0m, \u001b[32m'#'\u001b[0m, \u001b[32m'#'\u001b[0m, \n",
       "\u001b[32m'#'\u001b[0m, \u001b[32m'#'\u001b[0m, \u001b[32m'.'\u001b[0m, \u001b[32m'.'\u001b[0m, \u001b[32m'#'\u001b[0m, \u001b[32m'#'\u001b[0m, \u001b[32m'.'\u001b[0m, \u001b[32m'#'\u001b[0m, \u001b[32m'#'\u001b[0m, \u001b[32m'.'\u001b[0m, \u001b[32m'.'\u001b[0m, \u001b[32m'.'\u001b[0m, \u001b[32m'.'\u001b[0m, \u001b[32m'#'\u001b[0m, \u001b[32m'.'\u001b[0m, \u001b[32m'#'\u001b[0m, \u001b[32m'#'\u001b[0m, \u001b[32m'#'\u001b[0m, \n",
       "\u001b[32m'#'\u001b[0m, \u001b[32m'#'\u001b[0m, \u001b[32m'.'\u001b[0m, \u001b[32m'#'\u001b[0m, \u001b[32m'.'\u001b[0m, \u001b[32m'#'\u001b[0m, \u001b[32m'#'\u001b[0m, \u001b[32m'#'\u001b[0m, \u001b[32m'#'\u001b[0m, \u001b[32m'#'\u001b[0m, \u001b[32m'#'\u001b[0m, \u001b[32m'.'\u001b[0m, \u001b[32m'.'\u001b[0m, \u001b[32m'.'\u001b[0m, \u001b[32m'#'\u001b[0m, \u001b[32m'.'\u001b[0m, \u001b[32m'#'\u001b[0m, \u001b[32m'#'\u001b[0m, \n",
       "\u001b[32m'#'\u001b[0m, \u001b[32m'#'\u001b[0m, \u001b[32m'.'\u001b[0m, \u001b[32m'.'\u001b[0m, \u001b[32m'.'\u001b[0m, \u001b[32m'.'\u001b[0m, \u001b[32m'#'\u001b[0m, \u001b[32m'.'\u001b[0m, \u001b[32m'#'\u001b[0m, \u001b[32m'.'\u001b[0m, \u001b[32m'#'\u001b[0m, \u001b[32m'#'\u001b[0m, \u001b[32m'#'\u001b[0m, \u001b[32m'#'\u001b[0m, \u001b[32m'.'\u001b[0m, \u001b[32m'.'\u001b[0m, \u001b[32m'#'\u001b[0m, \u001b[32m'.'\u001b[0m, \n",
       "\u001b[32m'#'\u001b[0m, \u001b[32m'#'\u001b[0m, \u001b[32m'#'\u001b[0m, \u001b[32m'#'\u001b[0m, \u001b[32m'.'\u001b[0m, \u001b[32m'#'\u001b[0m, \u001b[32m'.'\u001b[0m, \u001b[32m'#'\u001b[0m, \u001b[32m'.'\u001b[0m, \u001b[32m'.'\u001b[0m, \u001b[32m'#'\u001b[0m, \u001b[32m'#'\u001b[0m, \u001b[32m'.'\u001b[0m, \u001b[32m'.'\u001b[0m, \u001b[32m'.'\u001b[0m, \u001b[32m'.'\u001b[0m, \u001b[32m'.'\u001b[0m, \u001b[32m'.'\u001b[0m, \n",
       "\u001b[32m'#'\u001b[0m, \u001b[32m'.'\u001b[0m, \u001b[32m'.'\u001b[0m, \u001b[32m'.'\u001b[0m, \u001b[32m'.'\u001b[0m, \u001b[32m'#'\u001b[0m, \u001b[32m'.'\u001b[0m, \u001b[32m'#'\u001b[0m, \u001b[32m'#'\u001b[0m, \u001b[32m'.'\u001b[0m, \u001b[32m'.'\u001b[0m, \u001b[32m'.'\u001b[0m, \u001b[32m'#'\u001b[0m, \u001b[32m'.'\u001b[0m, \u001b[32m'.'\u001b[0m, \u001b[32m'.'\u001b[0m, \u001b[32m'#'\u001b[0m, \u001b[32m'.'\u001b[0m, \n",
       "\u001b[32m'.'\u001b[0m, \u001b[32m'.'\u001b[0m, \u001b[32m'#'\u001b[0m, \u001b[32m'.'\u001b[0m, \u001b[32m'.'\u001b[0m, \u001b[32m'.'\u001b[0m, \u001b[32m'.'\u001b[0m, \u001b[32m'.'\u001b[0m, \u001b[32m'.'\u001b[0m, \u001b[32m'#'\u001b[0m, \u001b[32m'.'\u001b[0m, \u001b[32m'.'\u001b[0m, \u001b[32m'.'\u001b[0m, \u001b[32m'#'\u001b[0m, \u001b[32m'.'\u001b[0m, \u001b[32m'.'\u001b[0m, \u001b[32m'.'\u001b[0m, \u001b[32m'#'\u001b[0m, \n",
       "\u001b[32m'.'\u001b[0m, \u001b[32m'#'\u001b[0m, \u001b[32m'.'\u001b[0m, \u001b[32m'.'\u001b[0m, \u001b[32m'.'\u001b[0m, \u001b[32m'.'\u001b[0m, \u001b[32m'.'\u001b[0m, \u001b[32m'#'\u001b[0m, \u001b[32m'#'\u001b[0m, \u001b[32m'#'\u001b[0m, \u001b[32m'.'\u001b[0m, \u001b[32m'.'\u001b[0m, \u001b[32m'#'\u001b[0m, \u001b[32m'.'\u001b[0m, \u001b[32m'#'\u001b[0m, \u001b[32m'#'\u001b[0m, \u001b[32m'.'\u001b[0m, \u001b[32m'.'\u001b[0m, \n",
       "\u001b[32m'#'\u001b[0m, \u001b[32m'.'\u001b[0m, \u001b[32m'.'\u001b[0m, \u001b[32m'.'\u001b[0m, \u001b[32m'#'\u001b[0m, \u001b[32m'#'\u001b[0m, \u001b[32m'#'\u001b[0m, \u001b[32m'#'\u001b[0m, \u001b[32m'.'\u001b[0m, \u001b[32m'#'\u001b[0m, \u001b[32m'#'\u001b[0m, \u001b[32m'.'\u001b[0m, \u001b[32m'.'\u001b[0m, \u001b[32m'.'\u001b[0m, \u001b[32m'.'\u001b[0m, \u001b[32m'#'\u001b[0m, \u001b[32m'.'\u001b[0m, \u001b[32m'#'\u001b[0m, \n",
       "\u001b[32m'.'\u001b[0m, \u001b[32m'#'\u001b[0m, \u001b[32m'.'\u001b[0m, \u001b[32m'.'\u001b[0m, \u001b[32m'.'\u001b[0m, \u001b[32m'#'\u001b[0m, \u001b[32m'#'\u001b[0m, \u001b[32m'.'\u001b[0m, \u001b[32m'.'\u001b[0m, \u001b[32m'.'\u001b[0m, \u001b[32m'#'\u001b[0m, \u001b[32m'#'\u001b[0m, \u001b[32m'#'\u001b[0m, \u001b[32m'#'\u001b[0m, \u001b[32m'.'\u001b[0m, \u001b[32m'#'\u001b[0m, \u001b[32m'#'\u001b[0m, \u001b[32m'#'\u001b[0m, \n",
       "\u001b[32m'#'\u001b[0m, \u001b[32m'#'\u001b[0m, \u001b[32m'.'\u001b[0m, \u001b[32m'#'\u001b[0m, \u001b[32m'#'\u001b[0m, \u001b[32m'#'\u001b[0m, \u001b[32m'#'\u001b[0m, \u001b[32m'.'\u001b[0m, \u001b[32m'#'\u001b[0m, \u001b[32m'#'\u001b[0m, \u001b[32m'#'\u001b[0m, \u001b[32m'.'\u001b[0m, \u001b[32m'#'\u001b[0m, \u001b[32m'#'\u001b[0m, \u001b[32m'.'\u001b[0m, \u001b[32m'#'\u001b[0m, \u001b[32m'#'\u001b[0m, \u001b[32m'#'\u001b[0m, \n",
       "\u001b[32m'.'\u001b[0m, \u001b[32m'#'\u001b[0m, \u001b[32m'#'\u001b[0m, \u001b[32m'.'\u001b[0m, \u001b[32m'.'\u001b[0m, \u001b[32m'.'\u001b[0m, \u001b[32m'#'\u001b[0m, \u001b[32m'.'\u001b[0m, \u001b[32m'#'\u001b[0m, \u001b[32m'.'\u001b[0m, \u001b[32m'#'\u001b[0m, \u001b[32m'.'\u001b[0m, \u001b[32m'.'\u001b[0m, \u001b[32m'.'\u001b[0m, \u001b[32m'#'\u001b[0m, \u001b[32m'#'\u001b[0m, \u001b[32m'#'\u001b[0m, \u001b[32m'.'\u001b[0m, \n",
       "\u001b[32m'#'\u001b[0m, \u001b[32m'#'\u001b[0m, \u001b[32m'#'\u001b[0m, \u001b[32m'#'\u001b[0m, \u001b[32m'#'\u001b[0m, \u001b[32m'#'\u001b[0m, \u001b[32m'.'\u001b[0m, \u001b[32m'.'\u001b[0m, \u001b[32m'.'\u001b[0m, \u001b[32m'.'\u001b[0m, \u001b[32m'#'\u001b[0m, \u001b[32m'.'\u001b[0m, \u001b[32m'#'\u001b[0m, \u001b[32m'.'\u001b[0m, \u001b[32m'#'\u001b[0m, \u001b[32m'.'\u001b[0m, \u001b[32m'#'\u001b[0m, \u001b[32m'.'\u001b[0m, \n",
       "\u001b[32m'.'\u001b[0m, \u001b[32m'#'\u001b[0m, \u001b[32m'.'\u001b[0m, \u001b[32m'#'\u001b[0m, \u001b[32m'.'\u001b[0m, \u001b[32m'.'\u001b[0m, \u001b[32m'.'\u001b[0m, \u001b[32m'.'\u001b[0m, \u001b[32m'#'\u001b[0m, \u001b[32m'#'\u001b[0m, \u001b[32m'#'\u001b[0m, \u001b[32m'#'\u001b[0m, \u001b[32m'#'\u001b[0m, \u001b[32m'.'\u001b[0m, \u001b[32m'#'\u001b[0m, \u001b[32m'.'\u001b[0m, \u001b[32m'#'\u001b[0m, \u001b[32m'#'\u001b[0m, \n",
       "\u001b[32m'.'\u001b[0m, \u001b[32m'.'\u001b[0m, \u001b[32m'.'\u001b[0m, \u001b[32m'#'\u001b[0m, \u001b[32m'#'\u001b[0m, \u001b[32m'.'\u001b[0m, \u001b[32m'.'\u001b[0m, \u001b[32m'.'\u001b[0m, \u001b[32m'#'\u001b[0m, \u001b[32m'#'\u001b[0m, \u001b[32m'.'\u001b[0m, \u001b[32m'.'\u001b[0m, \u001b[32m'.'\u001b[0m, \u001b[32m'#'\u001b[0m, \u001b[32m'#'\u001b[0m, \u001b[32m'.'\u001b[0m, \u001b[32m'.'\u001b[0m, \u001b[32m'.'\u001b[0m, \n",
       "\u001b[32m'#'\u001b[0m, \u001b[32m'.'\u001b[0m, \u001b[32m'#'\u001b[0m, \u001b[32m'.'\u001b[0m, \u001b[32m'#'\u001b[0m, \u001b[32m'#'\u001b[0m, \u001b[32m'#'\u001b[0m, \u001b[32m'#'\u001b[0m, \u001b[32m'#'\u001b[0m, \u001b[32m'.'\u001b[0m, \u001b[32m'#'\u001b[0m, \u001b[32m'.'\u001b[0m, \u001b[32m'.'\u001b[0m, \u001b[32m'.'\u001b[0m, \u001b[32m'#'\u001b[0m, \u001b[32m'.'\u001b[0m, \u001b[32m'#'\u001b[0m, \u001b[32m'#'\u001b[0m, \n",
       "\u001b[32m'#'\u001b[0m, \u001b[32m'#'\u001b[0m, \u001b[32m'#'\u001b[0m, \u001b[32m'#'\u001b[0m, \u001b[32m'#'\u001b[0m, \u001b[32m'.'\u001b[0m, \u001b[32m'.'\u001b[0m, \u001b[32m'#'\u001b[0m, \u001b[32m'.'\u001b[0m, \u001b[32m'.'\u001b[0m, \u001b[32m'.'\u001b[0m, \u001b[32m'#'\u001b[0m, \u001b[32m'#'\u001b[0m, \u001b[32m'.'\u001b[0m, \u001b[32m'.'\u001b[0m, \u001b[32m'#'\u001b[0m, \u001b[32m'.'\u001b[0m, \u001b[32m'.'\u001b[0m, \n",
       "\u001b[32m'#'\u001b[0m, \u001b[32m'.'\u001b[0m, \u001b[32m'.'\u001b[0m, \u001b[32m'.'\u001b[0m, \u001b[32m'#'\u001b[0m, \u001b[32m'.'\u001b[0m, \u001b[32m'.'\u001b[0m, \u001b[32m'#'\u001b[0m, \u001b[32m'#'\u001b[0m, \u001b[32m'#'\u001b[0m, \u001b[32m'#'\u001b[0m, \u001b[32m'.'\u001b[0m, \u001b[32m'.'\u001b[0m, \u001b[32m'.'\u001b[0m, \u001b[32m'.'\u001b[0m, \u001b[32m'#'\u001b[0m, \u001b[32m'#'\u001b[0m, \u001b[32m'#'\u001b[0m, \n",
       "\u001b[32m'.'\u001b[0m, \u001b[32m'.'\u001b[0m, \u001b[32m'#'\u001b[0m, \u001b[32m'.'\u001b[0m, \u001b[32m'.'\u001b[0m, \u001b[32m'#'\u001b[0m, \u001b[32m'#'\u001b[0m, \u001b[32m'.'\u001b[0m, \u001b[32m'#'\u001b[0m, \u001b[32m'#'\u001b[0m, \u001b[32m'.'\u001b[0m, \u001b[32m'.'\u001b[0m, \u001b[32m'#'\u001b[0m, \u001b[32m'.'\u001b[0m, \u001b[32m'#'\u001b[0m, \u001b[32m'.'\u001b[0m, \u001b[32m'#'\u001b[0m, \u001b[32m'#'\u001b[0m, \n",
       "\u001b[32m'.'\u001b[0m, \u001b[32m'.'\u001b[0m, \u001b[32m'.'\u001b[0m, \u001b[32m'#'\u001b[0m, \u001b[32m'#'\u001b[0m, \u001b[32m'#'\u001b[0m, \u001b[32m'#'\u001b[0m, \u001b[32m'#'\u001b[0m, \u001b[32m'.'\u001b[0m, \u001b[32m'.'\u001b[0m, \u001b[32m'.'\u001b[0m, \u001b[32m'.'\u001b[0m, \u001b[32m'.'\u001b[0m, \u001b[32m'.'\u001b[0m, \u001b[32m'#'\u001b[0m, \u001b[32m'.'\u001b[0m, \u001b[32m'#'\u001b[0m, \u001b[32m'.'\u001b[0m, \n",
       "\u001b[32m'#'\u001b[0m, \u001b[32m'#'\u001b[0m, \u001b[32m'#'\u001b[0m, \u001b[32m'.'\u001b[0m, \u001b[32m'#'\u001b[0m, \u001b[32m'#'\u001b[0m, \u001b[32m'#'\u001b[0m, \u001b[32m'#'\u001b[0m, \u001b[32m'.'\u001b[0m, \u001b[32m'.'\u001b[0m, \u001b[32m'.'\u001b[0m, \u001b[32m'#'\u001b[0m, \u001b[32m'.'\u001b[0m, \u001b[32m'#'\u001b[0m, \u001b[32m'.'\u001b[0m, \u001b[32m'#'\u001b[0m, \u001b[32m'#'\u001b[0m, \u001b[32m'#'\u001b[0m, \n",
       "\u001b[32m'.'\u001b[0m, \u001b[32m'#'\u001b[0m, \u001b[32m'.'\u001b[0m, \u001b[32m'#'\u001b[0m, \u001b[32m'#'\u001b[0m, \u001b[32m'.'\u001b[0m, \u001b[32m'#'\u001b[0m, \u001b[32m'.'\u001b[0m\u001b[1m]\u001b[0m\u001b[1m]\u001b[0m\n"
      ]
     },
     "metadata": {},
     "output_type": "display_data"
    },
    {
     "data": {
      "text/html": [
       "<pre style=\"white-space:pre;overflow-x:auto;line-height:normal;font-family:Menlo,'DejaVu Sans Mono',consolas,'Courier New',monospace\">First line: <span style=\"font-weight: bold\">[</span><span style=\"color: #008000; text-decoration-color: #008000\">'#'</span>, <span style=\"color: #008000; text-decoration-color: #008000\">'#'</span>, <span style=\"color: #008000; text-decoration-color: #008000\">'#'</span>, <span style=\"color: #008000; text-decoration-color: #008000\">'.'</span>, <span style=\"color: #008000; text-decoration-color: #008000\">'.'</span>, <span style=\"color: #008000; text-decoration-color: #008000\">'.'</span>, <span style=\"color: #008000; text-decoration-color: #008000\">'.'</span>, <span style=\"color: #008000; text-decoration-color: #008000\">'#'</span>, <span style=\"color: #008000; text-decoration-color: #008000\">'#'</span>, <span style=\"color: #008000; text-decoration-color: #008000\">'#'</span>, <span style=\"color: #008000; text-decoration-color: #008000\">'.'</span>, <span style=\"color: #008000; text-decoration-color: #008000\">'#'</span>, <span style=\"color: #008000; text-decoration-color: #008000\">'.'</span>, <span style=\"color: #008000; text-decoration-color: #008000\">'#'</span>, <span style=\"color: #008000; text-decoration-color: #008000\">'#'</span>, <span style=\"color: #008000; text-decoration-color: #008000\">'#'</span>, \n",
       "<span style=\"color: #008000; text-decoration-color: #008000\">'#'</span>, <span style=\"color: #008000; text-decoration-color: #008000\">'#'</span>, <span style=\"color: #008000; text-decoration-color: #008000\">'.'</span>, <span style=\"color: #008000; text-decoration-color: #008000\">'#'</span>, <span style=\"color: #008000; text-decoration-color: #008000\">'.'</span>, <span style=\"color: #008000; text-decoration-color: #008000\">'.'</span>, <span style=\"color: #008000; text-decoration-color: #008000\">'#'</span>, <span style=\"color: #008000; text-decoration-color: #008000\">'.'</span>, <span style=\"color: #008000; text-decoration-color: #008000\">'.'</span>, <span style=\"color: #008000; text-decoration-color: #008000\">'#'</span>, <span style=\"color: #008000; text-decoration-color: #008000\">'.'</span>, <span style=\"color: #008000; text-decoration-color: #008000\">'#'</span>, <span style=\"color: #008000; text-decoration-color: #008000\">'#'</span>, <span style=\"color: #008000; text-decoration-color: #008000\">'.'</span>, <span style=\"color: #008000; text-decoration-color: #008000\">'.'</span>, <span style=\"color: #008000; text-decoration-color: #008000\">'.'</span>, <span style=\"color: #008000; text-decoration-color: #008000\">'#'</span>, <span style=\"color: #008000; text-decoration-color: #008000\">'#'</span>, \n",
       "<span style=\"color: #008000; text-decoration-color: #008000\">'.'</span>, <span style=\"color: #008000; text-decoration-color: #008000\">'#'</span>, <span style=\"color: #008000; text-decoration-color: #008000\">'.'</span>, <span style=\"color: #008000; text-decoration-color: #008000\">'#'</span>, <span style=\"color: #008000; text-decoration-color: #008000\">'#'</span>, <span style=\"color: #008000; text-decoration-color: #008000\">'.'</span>, <span style=\"color: #008000; text-decoration-color: #008000\">'#'</span>, <span style=\"color: #008000; text-decoration-color: #008000\">'.'</span>, <span style=\"color: #008000; text-decoration-color: #008000\">'.'</span>, <span style=\"color: #008000; text-decoration-color: #008000\">'#'</span>, <span style=\"color: #008000; text-decoration-color: #008000\">'#'</span>, <span style=\"color: #008000; text-decoration-color: #008000\">'.'</span>, <span style=\"color: #008000; text-decoration-color: #008000\">'.'</span>, <span style=\"color: #008000; text-decoration-color: #008000\">'#'</span>, <span style=\"color: #008000; text-decoration-color: #008000\">'#'</span>, <span style=\"color: #008000; text-decoration-color: #008000\">'#'</span>, <span style=\"color: #008000; text-decoration-color: #008000\">'#'</span>, <span style=\"color: #008000; text-decoration-color: #008000\">'.'</span>, \n",
       "<span style=\"color: #008000; text-decoration-color: #008000\">'.'</span>, <span style=\"color: #008000; text-decoration-color: #008000\">'#'</span>, <span style=\"color: #008000; text-decoration-color: #008000\">'#'</span>, <span style=\"color: #008000; text-decoration-color: #008000\">'.'</span>, <span style=\"color: #008000; text-decoration-color: #008000\">'.'</span>, <span style=\"color: #008000; text-decoration-color: #008000\">'.'</span>, <span style=\"color: #008000; text-decoration-color: #008000\">'.'</span>, <span style=\"color: #008000; text-decoration-color: #008000\">'#'</span>, <span style=\"color: #008000; text-decoration-color: #008000\">'.'</span>, <span style=\"color: #008000; text-decoration-color: #008000\">'#'</span>, <span style=\"color: #008000; text-decoration-color: #008000\">'#'</span>, <span style=\"color: #008000; text-decoration-color: #008000\">'.'</span>, <span style=\"color: #008000; text-decoration-color: #008000\">'#'</span>, <span style=\"color: #008000; text-decoration-color: #008000\">'#'</span>, <span style=\"color: #008000; text-decoration-color: #008000\">'#'</span>, <span style=\"color: #008000; text-decoration-color: #008000\">'.'</span>, <span style=\"color: #008000; text-decoration-color: #008000\">'.'</span>, <span style=\"color: #008000; text-decoration-color: #008000\">'#'</span>, \n",
       "<span style=\"color: #008000; text-decoration-color: #008000\">'#'</span>, <span style=\"color: #008000; text-decoration-color: #008000\">'.'</span>, <span style=\"color: #008000; text-decoration-color: #008000\">'.'</span>, <span style=\"color: #008000; text-decoration-color: #008000\">'.'</span>, <span style=\"color: #008000; text-decoration-color: #008000\">'.'</span>, <span style=\"color: #008000; text-decoration-color: #008000\">'#'</span>, <span style=\"color: #008000; text-decoration-color: #008000\">'#'</span>, <span style=\"color: #008000; text-decoration-color: #008000\">'#'</span>, <span style=\"color: #008000; text-decoration-color: #008000\">'#'</span>, <span style=\"color: #008000; text-decoration-color: #008000\">'#'</span>, <span style=\"color: #008000; text-decoration-color: #008000\">'.'</span>, <span style=\"color: #008000; text-decoration-color: #008000\">'#'</span>, <span style=\"color: #008000; text-decoration-color: #008000\">'.'</span>, <span style=\"color: #008000; text-decoration-color: #008000\">'.'</span>, <span style=\"color: #008000; text-decoration-color: #008000\">'#'</span>, <span style=\"color: #008000; text-decoration-color: #008000\">'.'</span>, <span style=\"color: #008000; text-decoration-color: #008000\">'#'</span>, <span style=\"color: #008000; text-decoration-color: #008000\">'#'</span>, \n",
       "<span style=\"color: #008000; text-decoration-color: #008000\">'#'</span>, <span style=\"color: #008000; text-decoration-color: #008000\">'#'</span>, <span style=\"color: #008000; text-decoration-color: #008000\">'#'</span>, <span style=\"color: #008000; text-decoration-color: #008000\">'#'</span>, <span style=\"color: #008000; text-decoration-color: #008000\">'.'</span>, <span style=\"color: #008000; text-decoration-color: #008000\">'#'</span>, <span style=\"color: #008000; text-decoration-color: #008000\">'.'</span>, <span style=\"color: #008000; text-decoration-color: #008000\">'#'</span>, <span style=\"color: #008000; text-decoration-color: #008000\">'.'</span>, <span style=\"color: #008000; text-decoration-color: #008000\">'#'</span>, <span style=\"color: #008000; text-decoration-color: #008000\">'#'</span>, <span style=\"color: #008000; text-decoration-color: #008000\">'.'</span><span style=\"font-weight: bold\">]</span>\n",
       "</pre>\n"
      ],
      "text/plain": [
       "First line: \u001b[1m[\u001b[0m\u001b[32m'#'\u001b[0m, \u001b[32m'#'\u001b[0m, \u001b[32m'#'\u001b[0m, \u001b[32m'.'\u001b[0m, \u001b[32m'.'\u001b[0m, \u001b[32m'.'\u001b[0m, \u001b[32m'.'\u001b[0m, \u001b[32m'#'\u001b[0m, \u001b[32m'#'\u001b[0m, \u001b[32m'#'\u001b[0m, \u001b[32m'.'\u001b[0m, \u001b[32m'#'\u001b[0m, \u001b[32m'.'\u001b[0m, \u001b[32m'#'\u001b[0m, \u001b[32m'#'\u001b[0m, \u001b[32m'#'\u001b[0m, \n",
       "\u001b[32m'#'\u001b[0m, \u001b[32m'#'\u001b[0m, \u001b[32m'.'\u001b[0m, \u001b[32m'#'\u001b[0m, \u001b[32m'.'\u001b[0m, \u001b[32m'.'\u001b[0m, \u001b[32m'#'\u001b[0m, \u001b[32m'.'\u001b[0m, \u001b[32m'.'\u001b[0m, \u001b[32m'#'\u001b[0m, \u001b[32m'.'\u001b[0m, \u001b[32m'#'\u001b[0m, \u001b[32m'#'\u001b[0m, \u001b[32m'.'\u001b[0m, \u001b[32m'.'\u001b[0m, \u001b[32m'.'\u001b[0m, \u001b[32m'#'\u001b[0m, \u001b[32m'#'\u001b[0m, \n",
       "\u001b[32m'.'\u001b[0m, \u001b[32m'#'\u001b[0m, \u001b[32m'.'\u001b[0m, \u001b[32m'#'\u001b[0m, \u001b[32m'#'\u001b[0m, \u001b[32m'.'\u001b[0m, \u001b[32m'#'\u001b[0m, \u001b[32m'.'\u001b[0m, \u001b[32m'.'\u001b[0m, \u001b[32m'#'\u001b[0m, \u001b[32m'#'\u001b[0m, \u001b[32m'.'\u001b[0m, \u001b[32m'.'\u001b[0m, \u001b[32m'#'\u001b[0m, \u001b[32m'#'\u001b[0m, \u001b[32m'#'\u001b[0m, \u001b[32m'#'\u001b[0m, \u001b[32m'.'\u001b[0m, \n",
       "\u001b[32m'.'\u001b[0m, \u001b[32m'#'\u001b[0m, \u001b[32m'#'\u001b[0m, \u001b[32m'.'\u001b[0m, \u001b[32m'.'\u001b[0m, \u001b[32m'.'\u001b[0m, \u001b[32m'.'\u001b[0m, \u001b[32m'#'\u001b[0m, \u001b[32m'.'\u001b[0m, \u001b[32m'#'\u001b[0m, \u001b[32m'#'\u001b[0m, \u001b[32m'.'\u001b[0m, \u001b[32m'#'\u001b[0m, \u001b[32m'#'\u001b[0m, \u001b[32m'#'\u001b[0m, \u001b[32m'.'\u001b[0m, \u001b[32m'.'\u001b[0m, \u001b[32m'#'\u001b[0m, \n",
       "\u001b[32m'#'\u001b[0m, \u001b[32m'.'\u001b[0m, \u001b[32m'.'\u001b[0m, \u001b[32m'.'\u001b[0m, \u001b[32m'.'\u001b[0m, \u001b[32m'#'\u001b[0m, \u001b[32m'#'\u001b[0m, \u001b[32m'#'\u001b[0m, \u001b[32m'#'\u001b[0m, \u001b[32m'#'\u001b[0m, \u001b[32m'.'\u001b[0m, \u001b[32m'#'\u001b[0m, \u001b[32m'.'\u001b[0m, \u001b[32m'.'\u001b[0m, \u001b[32m'#'\u001b[0m, \u001b[32m'.'\u001b[0m, \u001b[32m'#'\u001b[0m, \u001b[32m'#'\u001b[0m, \n",
       "\u001b[32m'#'\u001b[0m, \u001b[32m'#'\u001b[0m, \u001b[32m'#'\u001b[0m, \u001b[32m'#'\u001b[0m, \u001b[32m'.'\u001b[0m, \u001b[32m'#'\u001b[0m, \u001b[32m'.'\u001b[0m, \u001b[32m'#'\u001b[0m, \u001b[32m'.'\u001b[0m, \u001b[32m'#'\u001b[0m, \u001b[32m'#'\u001b[0m, \u001b[32m'.'\u001b[0m\u001b[1m]\u001b[0m\n"
      ]
     },
     "metadata": {},
     "output_type": "display_data"
    },
    {
     "data": {
      "text/html": [
       "<pre style=\"white-space:pre;overflow-x:auto;line-height:normal;font-family:Menlo,'DejaVu Sans Mono',consolas,'Courier New',monospace\">Last line: <span style=\"font-weight: bold\">[</span><span style=\"color: #008000; text-decoration-color: #008000\">'.'</span>, <span style=\"color: #008000; text-decoration-color: #008000\">'.'</span>, <span style=\"color: #008000; text-decoration-color: #008000\">'#'</span>, <span style=\"color: #008000; text-decoration-color: #008000\">'#'</span>, <span style=\"color: #008000; text-decoration-color: #008000\">'.'</span>, <span style=\"color: #008000; text-decoration-color: #008000\">'.'</span>, <span style=\"color: #008000; text-decoration-color: #008000\">'.'</span>, <span style=\"color: #008000; text-decoration-color: #008000\">'#'</span>, <span style=\"color: #008000; text-decoration-color: #008000\">'.'</span>, <span style=\"color: #008000; text-decoration-color: #008000\">'#'</span>, <span style=\"color: #008000; text-decoration-color: #008000\">'.'</span>, <span style=\"color: #008000; text-decoration-color: #008000\">'#'</span>, <span style=\"color: #008000; text-decoration-color: #008000\">'.'</span>, <span style=\"color: #008000; text-decoration-color: #008000\">'#'</span>, <span style=\"color: #008000; text-decoration-color: #008000\">'#'</span>, <span style=\"color: #008000; text-decoration-color: #008000\">'#'</span>, \n",
       "<span style=\"color: #008000; text-decoration-color: #008000\">'#'</span>, <span style=\"color: #008000; text-decoration-color: #008000\">'.'</span>, <span style=\"color: #008000; text-decoration-color: #008000\">'#'</span>, <span style=\"color: #008000; text-decoration-color: #008000\">'.'</span>, <span style=\"color: #008000; text-decoration-color: #008000\">'.'</span>, <span style=\"color: #008000; text-decoration-color: #008000\">'#'</span>, <span style=\"color: #008000; text-decoration-color: #008000\">'.'</span>, <span style=\"color: #008000; text-decoration-color: #008000\">'#'</span>, <span style=\"color: #008000; text-decoration-color: #008000\">'#'</span>, <span style=\"color: #008000; text-decoration-color: #008000\">'#'</span>, <span style=\"color: #008000; text-decoration-color: #008000\">'#'</span>, <span style=\"color: #008000; text-decoration-color: #008000\">'.'</span>, <span style=\"color: #008000; text-decoration-color: #008000\">'.'</span>, <span style=\"color: #008000; text-decoration-color: #008000\">'.'</span>, <span style=\"color: #008000; text-decoration-color: #008000\">'#'</span>, <span style=\"color: #008000; text-decoration-color: #008000\">'.'</span>, <span style=\"color: #008000; text-decoration-color: #008000\">'.'</span>, <span style=\"color: #008000; text-decoration-color: #008000\">'.'</span>, \n",
       "<span style=\"color: #008000; text-decoration-color: #008000\">'#'</span>, <span style=\"color: #008000; text-decoration-color: #008000\">'#'</span>, <span style=\"color: #008000; text-decoration-color: #008000\">'#'</span>, <span style=\"color: #008000; text-decoration-color: #008000\">'.'</span>, <span style=\"color: #008000; text-decoration-color: #008000\">'#'</span>, <span style=\"color: #008000; text-decoration-color: #008000\">'.'</span>, <span style=\"color: #008000; text-decoration-color: #008000\">'.'</span>, <span style=\"color: #008000; text-decoration-color: #008000\">'#'</span>, <span style=\"color: #008000; text-decoration-color: #008000\">'#'</span>, <span style=\"color: #008000; text-decoration-color: #008000\">'#'</span>, <span style=\"color: #008000; text-decoration-color: #008000\">'.'</span>, <span style=\"color: #008000; text-decoration-color: #008000\">'.'</span>, <span style=\"color: #008000; text-decoration-color: #008000\">'#'</span>, <span style=\"color: #008000; text-decoration-color: #008000\">'.'</span>, <span style=\"color: #008000; text-decoration-color: #008000\">'#'</span>, <span style=\"color: #008000; text-decoration-color: #008000\">'#'</span>, <span style=\"color: #008000; text-decoration-color: #008000\">'#'</span>, <span style=\"color: #008000; text-decoration-color: #008000\">'.'</span>, \n",
       "<span style=\"color: #008000; text-decoration-color: #008000\">'#'</span>, <span style=\"color: #008000; text-decoration-color: #008000\">'#'</span>, <span style=\"color: #008000; text-decoration-color: #008000\">'#'</span>, <span style=\"color: #008000; text-decoration-color: #008000\">'#'</span>, <span style=\"color: #008000; text-decoration-color: #008000\">'.'</span>, <span style=\"color: #008000; text-decoration-color: #008000\">'.'</span>, <span style=\"color: #008000; text-decoration-color: #008000\">'.'</span>, <span style=\"color: #008000; text-decoration-color: #008000\">'.'</span>, <span style=\"color: #008000; text-decoration-color: #008000\">'#'</span>, <span style=\"color: #008000; text-decoration-color: #008000\">'.'</span>, <span style=\"color: #008000; text-decoration-color: #008000\">'#'</span>, <span style=\"color: #008000; text-decoration-color: #008000\">'.'</span>, <span style=\"color: #008000; text-decoration-color: #008000\">'.'</span>, <span style=\"color: #008000; text-decoration-color: #008000\">'.'</span>, <span style=\"color: #008000; text-decoration-color: #008000\">'.'</span>, <span style=\"color: #008000; text-decoration-color: #008000\">'#'</span>, <span style=\"color: #008000; text-decoration-color: #008000\">'.'</span>, <span style=\"color: #008000; text-decoration-color: #008000\">'.'</span>, \n",
       "<span style=\"color: #008000; text-decoration-color: #008000\">'.'</span>, <span style=\"color: #008000; text-decoration-color: #008000\">'#'</span>, <span style=\"color: #008000; text-decoration-color: #008000\">'#'</span>, <span style=\"color: #008000; text-decoration-color: #008000\">'.'</span>, <span style=\"color: #008000; text-decoration-color: #008000\">'.'</span>, <span style=\"color: #008000; text-decoration-color: #008000\">'.'</span>, <span style=\"color: #008000; text-decoration-color: #008000\">'#'</span>, <span style=\"color: #008000; text-decoration-color: #008000\">'.'</span>, <span style=\"color: #008000; text-decoration-color: #008000\">'#'</span>, <span style=\"color: #008000; text-decoration-color: #008000\">'.'</span>, <span style=\"color: #008000; text-decoration-color: #008000\">'#'</span>, <span style=\"color: #008000; text-decoration-color: #008000\">'.'</span>, <span style=\"color: #008000; text-decoration-color: #008000\">'.'</span>, <span style=\"color: #008000; text-decoration-color: #008000\">'.'</span>, <span style=\"color: #008000; text-decoration-color: #008000\">'.'</span>, <span style=\"color: #008000; text-decoration-color: #008000\">'#'</span>, <span style=\"color: #008000; text-decoration-color: #008000\">'#'</span>, <span style=\"color: #008000; text-decoration-color: #008000\">'.'</span>, \n",
       "<span style=\"color: #008000; text-decoration-color: #008000\">'#'</span>, <span style=\"color: #008000; text-decoration-color: #008000\">'.'</span>, <span style=\"color: #008000; text-decoration-color: #008000\">'#'</span>, <span style=\"color: #008000; text-decoration-color: #008000\">'.'</span>, <span style=\"color: #008000; text-decoration-color: #008000\">'#'</span>, <span style=\"color: #008000; text-decoration-color: #008000\">'#'</span>, <span style=\"color: #008000; text-decoration-color: #008000\">'.'</span>, <span style=\"color: #008000; text-decoration-color: #008000\">'.'</span>, <span style=\"color: #008000; text-decoration-color: #008000\">'.'</span>, <span style=\"color: #008000; text-decoration-color: #008000\">'.'</span>, <span style=\"color: #008000; text-decoration-color: #008000\">'#'</span>, <span style=\"color: #008000; text-decoration-color: #008000\">'#'</span><span style=\"font-weight: bold\">]</span>\n",
       "</pre>\n"
      ],
      "text/plain": [
       "Last line: \u001b[1m[\u001b[0m\u001b[32m'.'\u001b[0m, \u001b[32m'.'\u001b[0m, \u001b[32m'#'\u001b[0m, \u001b[32m'#'\u001b[0m, \u001b[32m'.'\u001b[0m, \u001b[32m'.'\u001b[0m, \u001b[32m'.'\u001b[0m, \u001b[32m'#'\u001b[0m, \u001b[32m'.'\u001b[0m, \u001b[32m'#'\u001b[0m, \u001b[32m'.'\u001b[0m, \u001b[32m'#'\u001b[0m, \u001b[32m'.'\u001b[0m, \u001b[32m'#'\u001b[0m, \u001b[32m'#'\u001b[0m, \u001b[32m'#'\u001b[0m, \n",
       "\u001b[32m'#'\u001b[0m, \u001b[32m'.'\u001b[0m, \u001b[32m'#'\u001b[0m, \u001b[32m'.'\u001b[0m, \u001b[32m'.'\u001b[0m, \u001b[32m'#'\u001b[0m, \u001b[32m'.'\u001b[0m, \u001b[32m'#'\u001b[0m, \u001b[32m'#'\u001b[0m, \u001b[32m'#'\u001b[0m, \u001b[32m'#'\u001b[0m, \u001b[32m'.'\u001b[0m, \u001b[32m'.'\u001b[0m, \u001b[32m'.'\u001b[0m, \u001b[32m'#'\u001b[0m, \u001b[32m'.'\u001b[0m, \u001b[32m'.'\u001b[0m, \u001b[32m'.'\u001b[0m, \n",
       "\u001b[32m'#'\u001b[0m, \u001b[32m'#'\u001b[0m, \u001b[32m'#'\u001b[0m, \u001b[32m'.'\u001b[0m, \u001b[32m'#'\u001b[0m, \u001b[32m'.'\u001b[0m, \u001b[32m'.'\u001b[0m, \u001b[32m'#'\u001b[0m, \u001b[32m'#'\u001b[0m, \u001b[32m'#'\u001b[0m, \u001b[32m'.'\u001b[0m, \u001b[32m'.'\u001b[0m, \u001b[32m'#'\u001b[0m, \u001b[32m'.'\u001b[0m, \u001b[32m'#'\u001b[0m, \u001b[32m'#'\u001b[0m, \u001b[32m'#'\u001b[0m, \u001b[32m'.'\u001b[0m, \n",
       "\u001b[32m'#'\u001b[0m, \u001b[32m'#'\u001b[0m, \u001b[32m'#'\u001b[0m, \u001b[32m'#'\u001b[0m, \u001b[32m'.'\u001b[0m, \u001b[32m'.'\u001b[0m, \u001b[32m'.'\u001b[0m, \u001b[32m'.'\u001b[0m, \u001b[32m'#'\u001b[0m, \u001b[32m'.'\u001b[0m, \u001b[32m'#'\u001b[0m, \u001b[32m'.'\u001b[0m, \u001b[32m'.'\u001b[0m, \u001b[32m'.'\u001b[0m, \u001b[32m'.'\u001b[0m, \u001b[32m'#'\u001b[0m, \u001b[32m'.'\u001b[0m, \u001b[32m'.'\u001b[0m, \n",
       "\u001b[32m'.'\u001b[0m, \u001b[32m'#'\u001b[0m, \u001b[32m'#'\u001b[0m, \u001b[32m'.'\u001b[0m, \u001b[32m'.'\u001b[0m, \u001b[32m'.'\u001b[0m, \u001b[32m'#'\u001b[0m, \u001b[32m'.'\u001b[0m, \u001b[32m'#'\u001b[0m, \u001b[32m'.'\u001b[0m, \u001b[32m'#'\u001b[0m, \u001b[32m'.'\u001b[0m, \u001b[32m'.'\u001b[0m, \u001b[32m'.'\u001b[0m, \u001b[32m'.'\u001b[0m, \u001b[32m'#'\u001b[0m, \u001b[32m'#'\u001b[0m, \u001b[32m'.'\u001b[0m, \n",
       "\u001b[32m'#'\u001b[0m, \u001b[32m'.'\u001b[0m, \u001b[32m'#'\u001b[0m, \u001b[32m'.'\u001b[0m, \u001b[32m'#'\u001b[0m, \u001b[32m'#'\u001b[0m, \u001b[32m'.'\u001b[0m, \u001b[32m'.'\u001b[0m, \u001b[32m'.'\u001b[0m, \u001b[32m'.'\u001b[0m, \u001b[32m'#'\u001b[0m, \u001b[32m'#'\u001b[0m\u001b[1m]\u001b[0m\n"
      ]
     },
     "metadata": {},
     "output_type": "display_data"
    },
    {
     "data": {
      "text/html": [
       "<pre style=\"white-space:pre;overflow-x:auto;line-height:normal;font-family:Menlo,'DejaVu Sans Mono',consolas,'Courier New',monospace\">------\n",
       "</pre>\n"
      ],
      "text/plain": [
       "------\n"
      ]
     },
     "metadata": {},
     "output_type": "display_data"
    }
   ],
   "source": [
    "fp = \"input.txt\"\n",
    "lines = read_file_to_str_li(fp)\n",
    "\n",
    "print(\"Convert to:\")\n",
    "\n",
    "head = convert_str_li_to_other_li(\n",
    "    lines, pattern=\"s\", per_letter=True, sep=\",\", start_row=0, end_row=1\n",
    ")\n",
    "\n",
    "print(f\"Head:\\n{head}\")\n",
    "# print(f\"First line: {head[0]}\")\n",
    "# print(f\"Last line: {head[-1]}\")\n",
    "\n",
    "# data = convert_str_li_to_other_li(\n",
    "#     lines, pattern=\"s\", per_letter=True, sep=\" \", start_row=None, end_row=None\n",
    "# )\n",
    "data = convert_str_li_to_other_li(\n",
    "    lines, pattern=\"s\", per_letter=True, sep=\",\", start_row=2, end_row=None\n",
    ")\n",
    "# data = convert_str_li_to_other_li(\n",
    "#     lines, pattern=\"i\", per_letter=False, sep=\",\", start_row=None, end_row=None\n",
    "# )\n",
    "# data = convert_str_li_to_other_li(\n",
    "#     lines, pattern=\"s\", per_letter=False, sep=\" -> \", start_row=None, end_row=None\n",
    "# )\n",
    "# data = convert_str_li_to_other_li(\n",
    "#     lines, pattern=\"i\", per_letter=False, sep=\" \", start_row=2, end_row=None\n",
    "# )\n",
    "# data = convert_str_li_to_other_li(\n",
    "#     lines, pattern=\"si\", per_letter=False, sep=\" \", start_row=0, end_row=None\n",
    "# )\n",
    "# data = convert_str_li_to_other_li(\n",
    "#     lines, pattern=\"i\", per_letter=True, sep=\" \", start_row=0, end_row=None\n",
    "# )\n",
    "\n",
    "print(f\"First line: {data[0]}\")\n",
    "print(f\"Last line: {data[-1]}\")\n",
    "print(\"-\" * 6)"
   ]
  },
  {
   "cell_type": "code",
   "execution_count": 4,
   "id": "parental-salvation",
   "metadata": {},
   "outputs": [
    {
     "data": {
      "text/html": [
       "<pre style=\"white-space:pre;overflow-x:auto;line-height:normal;font-family:Menlo,'DejaVu Sans Mono',consolas,'Courier New',monospace\">Answer to Q1: <span style=\"color: #008080; text-decoration-color: #008080; font-weight: bold\">5361</span>\n",
       "</pre>\n"
      ],
      "text/plain": [
       "Answer to Q1: \u001b[1;36m5361\u001b[0m\n"
      ]
     },
     "metadata": {},
     "output_type": "display_data"
    },
    {
     "data": {
      "text/html": [
       "<pre style=\"white-space:pre;overflow-x:auto;line-height:normal;font-family:Menlo,'DejaVu Sans Mono',consolas,'Courier New',monospace\">Answer to Q2: <span style=\"color: #008080; text-decoration-color: #008080; font-weight: bold\">16826</span>\n",
       "</pre>\n"
      ],
      "text/plain": [
       "Answer to Q2: \u001b[1;36m16826\u001b[0m\n"
      ]
     },
     "metadata": {},
     "output_type": "display_data"
    }
   ],
   "source": [
    "def update_img(img, pad_value=0):\n",
    "    \"\"\"\n",
    "    pad_value is very important\n",
    "    at the beginning the external lights are off\n",
    "    but since the enh_map[0]=1, after one update, all the external light are ON !!\n",
    "    so the padding value should be changed to 1, then back to 0, and so on\n",
    "    \"\"\"\n",
    "    img = np.pad(img, 3, \"constant\", constant_values=pad_value)\n",
    "    img = convolve(img, kernal, mode=\"constant\", cval=pad_value)\n",
    "    img = np.vectorize(enh_map.get)(img)\n",
    "    return img, img[0, 0]\n",
    "\n",
    "\n",
    "def update_n_times(img, n):\n",
    "    img = init_img\n",
    "    pad_value = 0\n",
    "    for _ in range(n):\n",
    "        img, pad_value = update_img(img, pad_value)\n",
    "    return np.sum(img)\n",
    "\n",
    "\n",
    "enh_map = {idx: 1 if v == \"#\" else 0 for idx, v in enumerate(head[0])}\n",
    "init_img = np.where(np.array(data) == \"#\", 1, 0)\n",
    "kernal = np.array([[1, 2, 4], [8, 16, 32], [64, 128, 256]])\n",
    "\n",
    "print(f\"Answer to Q1: {update_n_times(init_img, 2)}\")\n",
    "print(f\"Answer to Q2: {update_n_times(init_img, 50)}\")"
   ]
  },
  {
   "cell_type": "code",
   "execution_count": null,
   "id": "vital-baker",
   "metadata": {},
   "outputs": [],
   "source": []
  },
  {
   "cell_type": "code",
   "execution_count": null,
   "id": "printable-victorian",
   "metadata": {},
   "outputs": [],
   "source": []
  }
 ],
 "metadata": {
  "kernelspec": {
   "display_name": "Python [conda env:.conda-ds38]",
   "language": "python",
   "name": "conda-env-.conda-ds38-py"
  },
  "language_info": {
   "codemirror_mode": {
    "name": "ipython",
    "version": 3
   },
   "file_extension": ".py",
   "mimetype": "text/x-python",
   "name": "python",
   "nbconvert_exporter": "python",
   "pygments_lexer": "ipython3",
   "version": "3.8.10"
  }
 },
 "nbformat": 4,
 "nbformat_minor": 5
}
