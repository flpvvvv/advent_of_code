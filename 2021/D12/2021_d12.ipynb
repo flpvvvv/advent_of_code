{
 "cells": [
  {
   "cell_type": "raw",
   "id": "preliminary-render",
   "metadata": {},
   "source": [
    "--- Day 12: Passage Pathing ---\n",
    "With your submarine's subterranean subsystems subsisting suboptimally, the only way you're getting out of this cave anytime soon is by finding a path yourself. Not just a path - the only way to know if you've found the best path is to find all of them.\n",
    "\n",
    "Fortunately, the sensors are still mostly working, and so you build a rough map of the remaining caves (your puzzle input). For example:\n",
    "\n",
    "start-A\n",
    "start-b\n",
    "A-c\n",
    "A-b\n",
    "b-d\n",
    "A-end\n",
    "b-end\n",
    "This is a list of how all of the caves are connected. You start in the cave named start, and your destination is the cave named end. An entry like b-d means that cave b is connected to cave d - that is, you can move between them.\n",
    "\n",
    "So, the above cave system looks roughly like this:\n",
    "\n",
    "    start\n",
    "    /   \\\n",
    "c--A-----b--d\n",
    "    \\   /\n",
    "     end\n",
    "Your goal is to find the number of distinct paths that start at start, end at end, and don't visit small caves more than once. There are two types of caves: big caves (written in uppercase, like A) and small caves (written in lowercase, like b). It would be a waste of time to visit any small cave more than once, but big caves are large enough that it might be worth visiting them multiple times. So, all paths you find should visit small caves at most once, and can visit big caves any number of times.\n",
    "\n",
    "Given these rules, there are 10 paths through this example cave system:\n",
    "\n",
    "start,A,b,A,c,A,end\n",
    "start,A,b,A,end\n",
    "start,A,b,end\n",
    "start,A,c,A,b,A,end\n",
    "start,A,c,A,b,end\n",
    "start,A,c,A,end\n",
    "start,A,end\n",
    "start,b,A,c,A,end\n",
    "start,b,A,end\n",
    "start,b,end\n",
    "(Each line in the above list corresponds to a single path; the caves visited by that path are listed in the order they are visited and separated by commas.)\n",
    "\n",
    "Note that in this cave system, cave d is never visited by any path: to do so, cave b would need to be visited twice (once on the way to cave d and a second time when returning from cave d), and since cave b is small, this is not allowed.\n",
    "\n",
    "Here is a slightly larger example:\n",
    "\n",
    "dc-end\n",
    "HN-start\n",
    "start-kj\n",
    "dc-start\n",
    "dc-HN\n",
    "LN-dc\n",
    "HN-end\n",
    "kj-sa\n",
    "kj-HN\n",
    "kj-dc\n",
    "The 19 paths through it are as follows:\n",
    "\n",
    "start,HN,dc,HN,end\n",
    "start,HN,dc,HN,kj,HN,end\n",
    "start,HN,dc,end\n",
    "start,HN,dc,kj,HN,end\n",
    "start,HN,end\n",
    "start,HN,kj,HN,dc,HN,end\n",
    "start,HN,kj,HN,dc,end\n",
    "start,HN,kj,HN,end\n",
    "start,HN,kj,dc,HN,end\n",
    "start,HN,kj,dc,end\n",
    "start,dc,HN,end\n",
    "start,dc,HN,kj,HN,end\n",
    "start,dc,end\n",
    "start,dc,kj,HN,end\n",
    "start,kj,HN,dc,HN,end\n",
    "start,kj,HN,dc,end\n",
    "start,kj,HN,end\n",
    "start,kj,dc,HN,end\n",
    "start,kj,dc,end\n",
    "Finally, this even larger example has 226 paths through it:\n",
    "\n",
    "fs-end\n",
    "he-DX\n",
    "fs-he\n",
    "start-DX\n",
    "pj-DX\n",
    "end-zg\n",
    "zg-sl\n",
    "zg-pj\n",
    "pj-he\n",
    "RW-he\n",
    "fs-DX\n",
    "pj-RW\n",
    "zg-RW\n",
    "start-pj\n",
    "he-WI\n",
    "zg-he\n",
    "pj-fs\n",
    "start-RW\n",
    "How many paths through this cave system are there that visit small caves at most once?\n",
    "\n",
    "Your puzzle answer was 5076.\n",
    "\n",
    "--- Part Two ---\n",
    "After reviewing the available paths, you realize you might have time to visit a single small cave twice. Specifically, big caves can be visited any number of times, a single small cave can be visited at most twice, and the remaining small caves can be visited at most once. However, the caves named start and end can only be visited exactly once each: once you leave the start cave, you may not return to it, and once you reach the end cave, the path must end immediately.\n",
    "\n",
    "Now, the 36 possible paths through the first example above are:\n",
    "\n",
    "start,A,b,A,b,A,c,A,end\n",
    "start,A,b,A,b,A,end\n",
    "start,A,b,A,b,end\n",
    "start,A,b,A,c,A,b,A,end\n",
    "start,A,b,A,c,A,b,end\n",
    "start,A,b,A,c,A,c,A,end\n",
    "start,A,b,A,c,A,end\n",
    "start,A,b,A,end\n",
    "start,A,b,d,b,A,c,A,end\n",
    "start,A,b,d,b,A,end\n",
    "start,A,b,d,b,end\n",
    "start,A,b,end\n",
    "start,A,c,A,b,A,b,A,end\n",
    "start,A,c,A,b,A,b,end\n",
    "start,A,c,A,b,A,c,A,end\n",
    "start,A,c,A,b,A,end\n",
    "start,A,c,A,b,d,b,A,end\n",
    "start,A,c,A,b,d,b,end\n",
    "start,A,c,A,b,end\n",
    "start,A,c,A,c,A,b,A,end\n",
    "start,A,c,A,c,A,b,end\n",
    "start,A,c,A,c,A,end\n",
    "start,A,c,A,end\n",
    "start,A,end\n",
    "start,b,A,b,A,c,A,end\n",
    "start,b,A,b,A,end\n",
    "start,b,A,b,end\n",
    "start,b,A,c,A,b,A,end\n",
    "start,b,A,c,A,b,end\n",
    "start,b,A,c,A,c,A,end\n",
    "start,b,A,c,A,end\n",
    "start,b,A,end\n",
    "start,b,d,b,A,c,A,end\n",
    "start,b,d,b,A,end\n",
    "start,b,d,b,end\n",
    "start,b,end\n",
    "The slightly larger example above now has 103 paths through it, and the even larger example now has 3509 paths through it.\n",
    "\n",
    "Given these new rules, how many paths through this cave system are there?\n",
    "\n",
    "Your puzzle answer was 145643."
   ]
  },
  {
   "cell_type": "code",
   "execution_count": 1,
   "id": "olympic-channel",
   "metadata": {},
   "outputs": [],
   "source": [
    "import warnings\n",
    "\n",
    "warnings.filterwarnings(\"ignore\")\n",
    "\n",
    "import os\n",
    "import re\n",
    "import sys\n",
    "from pathlib import Path\n",
    "\n",
    "import numpy as np\n",
    "import pandas as pd\n",
    "from rich import print\n",
    "from tqdm import tqdm"
   ]
  },
  {
   "cell_type": "code",
   "execution_count": 2,
   "id": "voluntary-content",
   "metadata": {},
   "outputs": [],
   "source": [
    "def read_file_to_str_li(fp, print_exp=True):\n",
    "    with open(fp, \"r\") as f:\n",
    "        lines = f.read().split(\"\\n\")\n",
    "    if print_exp:\n",
    "        print(f\"Read from {fp}:\")\n",
    "        print(f\"First line: {lines[0]} | Last line: {lines[-1]}\")\n",
    "        print(\"-\" * 6)\n",
    "\n",
    "    return lines\n",
    "\n",
    "\n",
    "# define the function blocks\n",
    "def convert_to_int(input_str):\n",
    "    if input_str == \"\" or input_str == \" \":\n",
    "        return None\n",
    "    return int(input_str)\n",
    "\n",
    "\n",
    "def convert_to_str(input_str):\n",
    "    return str(input_str)\n",
    "\n",
    "\n",
    "# map the inputs to the function blocks\n",
    "converts = {\n",
    "    \"i\": convert_to_int,\n",
    "    \"s\": convert_to_str,\n",
    "}\n",
    "\n",
    "\n",
    "def convert_str_li_to_other_li(\n",
    "    str_li, pattern=\"i\", per_letter=False, sep=\" \", start_row=0, end_row=None\n",
    "):\n",
    "    \"\"\" Convert a list of string to a list of other types\n",
    "    \n",
    "    pattern: a list of types for one item. \n",
    "        'i' for int, 's' for string\n",
    "        'si' means: convert the 1st item to string, the rest to integer\n",
    "        If separated items are more than pattern items,\n",
    "        use the last one from the parttern.\n",
    "    if per_letter=True, ignore sep and separate item per letter\n",
    "    \"\"\"\n",
    "    target_str_li = str_li[start_row:end_row]\n",
    "    # find max item num\n",
    "    max_item_num = 1\n",
    "    if per_letter:\n",
    "        max_item_num = max([len(s) for s in target_str_li])\n",
    "    else:\n",
    "        max_item_num = max([len(s.split(sep)) for s in target_str_li])\n",
    "\n",
    "    # extend the pattern to the max itme num\n",
    "    pattern = (\n",
    "        pattern + f\"{pattern[-1]}\" * (max_item_num - len(pattern))\n",
    "        if max_item_num > len(pattern)\n",
    "        else pattern\n",
    "    )\n",
    "\n",
    "    # convert\n",
    "    if per_letter:\n",
    "        return [\n",
    "            [converts[pattern[idx]](item) for idx, item in enumerate(s)]\n",
    "            for s in target_str_li\n",
    "        ]\n",
    "    else:\n",
    "        if sep == \" \":\n",
    "            return [\n",
    "                [converts[pattern[idx]](item) for idx, item in enumerate(s.split())]\n",
    "                for s in target_str_li\n",
    "            ]\n",
    "        else:\n",
    "            return [\n",
    "                [converts[pattern[idx]](item) for idx, item in enumerate(s.split(sep))]\n",
    "                for s in target_str_li\n",
    "            ]"
   ]
  },
  {
   "cell_type": "code",
   "execution_count": 3,
   "id": "perfect-spank",
   "metadata": {},
   "outputs": [
    {
     "data": {
      "text/html": [
       "<pre style=\"white-space:pre;overflow-x:auto;line-height:normal;font-family:Menlo,'DejaVu Sans Mono',consolas,'Courier New',monospace\">Read from input.txt:\n",
       "</pre>\n"
      ],
      "text/plain": [
       "Read from input.txt:\n"
      ]
     },
     "metadata": {},
     "output_type": "display_data"
    },
    {
     "data": {
      "text/html": [
       "<pre style=\"white-space:pre;overflow-x:auto;line-height:normal;font-family:Menlo,'DejaVu Sans Mono',consolas,'Courier New',monospace\">First line: end-MY | Last line: start-NF\n",
       "</pre>\n"
      ],
      "text/plain": [
       "First line: end-MY | Last line: start-NF\n"
      ]
     },
     "metadata": {},
     "output_type": "display_data"
    },
    {
     "data": {
      "text/html": [
       "<pre style=\"white-space:pre;overflow-x:auto;line-height:normal;font-family:Menlo,'DejaVu Sans Mono',consolas,'Courier New',monospace\">------\n",
       "</pre>\n"
      ],
      "text/plain": [
       "------\n"
      ]
     },
     "metadata": {},
     "output_type": "display_data"
    },
    {
     "data": {
      "text/html": [
       "<pre style=\"white-space:pre;overflow-x:auto;line-height:normal;font-family:Menlo,'DejaVu Sans Mono',consolas,'Courier New',monospace\">Convert to:\n",
       "</pre>\n"
      ],
      "text/plain": [
       "Convert to:\n"
      ]
     },
     "metadata": {},
     "output_type": "display_data"
    },
    {
     "data": {
      "text/html": [
       "<pre style=\"white-space:pre;overflow-x:auto;line-height:normal;font-family:Menlo,'DejaVu Sans Mono',consolas,'Courier New',monospace\">First line: <span style=\"font-weight: bold\">[</span><span style=\"color: #008000; text-decoration-color: #008000\">'end'</span>, <span style=\"color: #008000; text-decoration-color: #008000\">'MY'</span><span style=\"font-weight: bold\">]</span>\n",
       "</pre>\n"
      ],
      "text/plain": [
       "First line: \u001b[1m[\u001b[0m\u001b[32m'end'\u001b[0m, \u001b[32m'MY'\u001b[0m\u001b[1m]\u001b[0m\n"
      ]
     },
     "metadata": {},
     "output_type": "display_data"
    },
    {
     "data": {
      "text/html": [
       "<pre style=\"white-space:pre;overflow-x:auto;line-height:normal;font-family:Menlo,'DejaVu Sans Mono',consolas,'Courier New',monospace\">Last line: <span style=\"font-weight: bold\">[</span><span style=\"color: #008000; text-decoration-color: #008000\">'start'</span>, <span style=\"color: #008000; text-decoration-color: #008000\">'NF'</span><span style=\"font-weight: bold\">]</span>\n",
       "</pre>\n"
      ],
      "text/plain": [
       "Last line: \u001b[1m[\u001b[0m\u001b[32m'start'\u001b[0m, \u001b[32m'NF'\u001b[0m\u001b[1m]\u001b[0m\n"
      ]
     },
     "metadata": {},
     "output_type": "display_data"
    },
    {
     "data": {
      "text/html": [
       "<pre style=\"white-space:pre;overflow-x:auto;line-height:normal;font-family:Menlo,'DejaVu Sans Mono',consolas,'Courier New',monospace\">------\n",
       "</pre>\n"
      ],
      "text/plain": [
       "------\n"
      ]
     },
     "metadata": {},
     "output_type": "display_data"
    }
   ],
   "source": [
    "fp = \"input.txt\"\n",
    "lines = read_file_to_str_li(fp)\n",
    "\n",
    "print(\"Convert to:\")\n",
    "\n",
    "# head = convert_str_li_to_other_li(\n",
    "#     lines, pattern=\"i\", per_letter=False, sep=\",\", start_row=0, end_row=1\n",
    "# )\n",
    "\n",
    "# print(f\"Head:\\n{head}\")\n",
    "\n",
    "# data = convert_str_li_to_other_li(\n",
    "#     lines, pattern=\"i\", per_letter=True, sep=\" \", start_row=None, end_row=None\n",
    "# )\n",
    "data = convert_str_li_to_other_li(\n",
    "    lines, pattern=\"s\", per_letter=False, sep=\"-\", start_row=None, end_row=None\n",
    ")\n",
    "# data = convert_str_li_to_other_li(\n",
    "#     lines, pattern=\"i\", per_letter=False, sep=\",\", start_row=None, end_row=None\n",
    "# )\n",
    "# data = convert_str_li_to_other_li(\n",
    "#     lines, pattern=\"s\", per_letter=False, sep=\" -> \", start_row=None, end_row=None\n",
    "# )\n",
    "# data = convert_str_li_to_other_li(\n",
    "#     lines, pattern=\"i\", per_letter=False, sep=\" \", start_row=2, end_row=None\n",
    "# )\n",
    "# data = convert_str_li_to_other_li(\n",
    "#     lines, pattern=\"si\", per_letter=False, sep=\" \", start_row=0, end_row=None\n",
    "# )\n",
    "# data = convert_str_li_to_other_li(\n",
    "#     lines, pattern=\"i\", per_letter=True, sep=\" \", start_row=0, end_row=None\n",
    "# )\n",
    "\n",
    "print(f\"First line: {data[0]}\")\n",
    "print(f\"Last line: {data[-1]}\")\n",
    "print(\"-\" * 6)"
   ]
  },
  {
   "cell_type": "code",
   "execution_count": 4,
   "id": "double-prison",
   "metadata": {},
   "outputs": [],
   "source": [
    "connections = {}\n",
    "small_cave_li = []\n",
    "big_cave_li = []\n",
    "\n",
    "for line in data:\n",
    "    if \"start\" in line:\n",
    "        if \"start\" not in connections:\n",
    "            connections[\"start\"] = [line[1]]\n",
    "        else:\n",
    "            connections[\"start\"].append(line[1])\n",
    "    elif \"end\" in line:\n",
    "        if line[1] not in connections:\n",
    "            connections[line[1]] = [\"end\"]\n",
    "        else:\n",
    "            connections[line[1]].append(\"end\")\n",
    "    else:\n",
    "        if line[0] not in connections:\n",
    "            connections[line[0]] = [line[1]]\n",
    "        else:\n",
    "            connections[line[0]].append(line[1])\n",
    "        if line[1] not in connections:\n",
    "            connections[line[1]] = [line[0]]\n",
    "        else:\n",
    "            connections[line[1]].append(line[0])\n",
    "\n",
    "all_caves = list(connections.keys())\n",
    "all_caves.remove(\"start\")\n",
    "for cave in all_caves:\n",
    "    if cave.isupper():\n",
    "        big_cave_li.append(cave)\n",
    "    else:\n",
    "        small_cave_li.append(cave)"
   ]
  },
  {
   "cell_type": "code",
   "execution_count": 13,
   "id": "certified-deposit",
   "metadata": {},
   "outputs": [
    {
     "data": {
      "text/html": [
       "<pre style=\"white-space:pre;overflow-x:auto;line-height:normal;font-family:Menlo,'DejaVu Sans Mono',consolas,'Courier New',monospace\">Answer to Q1: <span style=\"color: #008080; text-decoration-color: #008080; font-weight: bold\">5076</span>\n",
       "</pre>\n"
      ],
      "text/plain": [
       "Answer to Q1: \u001b[1;36m5076\u001b[0m\n"
      ]
     },
     "metadata": {},
     "output_type": "display_data"
    },
    {
     "data": {
      "text/html": [
       "<pre style=\"white-space:pre;overflow-x:auto;line-height:normal;font-family:Menlo,'DejaVu Sans Mono',consolas,'Courier New',monospace\">Answer to Q2: <span style=\"color: #008080; text-decoration-color: #008080; font-weight: bold\">145643</span>\n",
       "</pre>\n"
      ],
      "text/plain": [
       "Answer to Q2: \u001b[1;36m145643\u001b[0m\n"
      ]
     },
     "metadata": {},
     "output_type": "display_data"
    },
    {
     "name": "stdout",
     "output_type": "stream",
     "text": [
      "Wall time: 1min 32s\n"
     ]
    }
   ],
   "source": [
    "%%time\n",
    "def move_step_q1(path):\n",
    "    current_cave = path[-1]\n",
    "    if current_cave == \"end\":\n",
    "        return []\n",
    "    return [\n",
    "        cave\n",
    "        for cave in connections[current_cave]\n",
    "        if (cave == \"end\")\n",
    "        or (cave in big_cave_li)\n",
    "        or ((cave in small_cave_li) and (cave not in path))\n",
    "    ]\n",
    "\n",
    "\n",
    "from collections import Counter\n",
    "\n",
    "\n",
    "def move_step_q2(path):\n",
    "    current_cave = path[-1]\n",
    "    if current_cave == \"end\":\n",
    "        return []\n",
    "    return [\n",
    "        cave\n",
    "        for cave in connections[current_cave]\n",
    "        if (cave == \"end\")\n",
    "        or (cave in big_cave_li)\n",
    "        or (\n",
    "            (cave in small_cave_li)\n",
    "            and (\n",
    "                (cave not in path)\n",
    "                or (\n",
    "                    len(np.intersect1d(path, small_cave_li)) == 0\n",
    "                    or (\n",
    "                        Counter([i for i in path if i in small_cave_li]).most_common(1)[\n",
    "                            0\n",
    "                        ][1]\n",
    "                        < 2\n",
    "                    )\n",
    "                )\n",
    "            )\n",
    "        )\n",
    "    ]\n",
    "\n",
    "\n",
    "def count_path(record_paths, move_fun):\n",
    "    flag = True\n",
    "    while flag:\n",
    "        flag = False\n",
    "        new_record_paths = []\n",
    "        for path in record_paths:\n",
    "            next_caves = move_fun(path)\n",
    "            if len(next_caves) == 0:\n",
    "                continue\n",
    "            flag = True\n",
    "            org_path = path[:]\n",
    "            path.append(next_caves[0])\n",
    "            if len(next_caves) > 1:\n",
    "                for idx in range(len(next_caves) - 1):\n",
    "                    new_path = org_path[:]\n",
    "                    new_path.append(next_caves[idx + 1])\n",
    "                    new_record_paths.append(new_path)\n",
    "\n",
    "        record_paths.extend(new_record_paths)\n",
    "\n",
    "    count = 0\n",
    "    for path in record_paths:\n",
    "        if path[-1] == \"end\":\n",
    "            count += 1\n",
    "    return count\n",
    "\n",
    "\n",
    "record_paths = [[\"start\"]]\n",
    "print(f\"Answer to Q1: {count_path(record_paths, move_step_q1)}\")\n",
    "record_paths = [[\"start\"]]\n",
    "print(f\"Answer to Q2: {count_path(record_paths, move_step_q2)}\")"
   ]
  },
  {
   "cell_type": "code",
   "execution_count": null,
   "id": "opponent-bruce",
   "metadata": {},
   "outputs": [],
   "source": []
  },
  {
   "cell_type": "code",
   "execution_count": null,
   "id": "hourly-analyst",
   "metadata": {},
   "outputs": [],
   "source": []
  },
  {
   "cell_type": "code",
   "execution_count": 14,
   "id": "horizontal-scene",
   "metadata": {},
   "outputs": [
    {
     "data": {
      "text/html": [
       "<pre style=\"white-space:pre;overflow-x:auto;line-height:normal;font-family:Menlo,'DejaVu Sans Mono',consolas,'Courier New',monospace\">Answer to Q1: <span style=\"color: #008080; text-decoration-color: #008080; font-weight: bold\">5076</span>\n",
       "</pre>\n"
      ],
      "text/plain": [
       "Answer to Q1: \u001b[1;36m5076\u001b[0m\n"
      ]
     },
     "metadata": {},
     "output_type": "display_data"
    },
    {
     "data": {
      "text/html": [
       "<pre style=\"white-space:pre;overflow-x:auto;line-height:normal;font-family:Menlo,'DejaVu Sans Mono',consolas,'Courier New',monospace\">Answer to Q2: <span style=\"color: #008080; text-decoration-color: #008080; font-weight: bold\">145643</span>\n",
       "</pre>\n"
      ],
      "text/plain": [
       "Answer to Q2: \u001b[1;36m145643\u001b[0m\n"
      ]
     },
     "metadata": {},
     "output_type": "display_data"
    },
    {
     "name": "stdout",
     "output_type": "stream",
     "text": [
      "Wall time: 1min 18s\n"
     ]
    }
   ],
   "source": [
    "%%time\n",
    "def move_step_q1(path):\n",
    "    current_cave = path[-1]\n",
    "    if current_cave == \"end\":\n",
    "        return []\n",
    "    return [\n",
    "        cave\n",
    "        for cave in connections[current_cave]\n",
    "        if (cave == \"end\")\n",
    "        or (cave in big_cave_li)\n",
    "        or ((cave in small_cave_li) and (cave not in path))\n",
    "    ]\n",
    "\n",
    "\n",
    "def move_step_q2(path):\n",
    "    current_cave = path[-1]\n",
    "    if current_cave == \"end\":\n",
    "        return []\n",
    "    return [\n",
    "        cave\n",
    "        for cave in connections[current_cave]\n",
    "        if (cave == \"end\")\n",
    "        or (cave in big_cave_li)\n",
    "        or (\n",
    "            (cave in small_cave_li)\n",
    "            and (\n",
    "                (cave not in path)\n",
    "                or (\n",
    "                    len(np.intersect1d(path, small_cave_li))==len([i for i in path if i in small_cave_li])\n",
    "                )\n",
    "            )\n",
    "        )\n",
    "    ]\n",
    "\n",
    "\n",
    "def count_path(record_paths, move_fun):\n",
    "    flag = True\n",
    "    while flag:\n",
    "        flag = False\n",
    "        new_record_paths = []\n",
    "        for path in record_paths:\n",
    "            next_caves = move_fun(path)\n",
    "            if len(next_caves) == 0:\n",
    "                continue\n",
    "            flag = True\n",
    "            org_path = path[:]\n",
    "            path.append(next_caves[0])\n",
    "            if len(next_caves) > 1:\n",
    "                for idx in range(len(next_caves) - 1):\n",
    "                    new_path = org_path[:]\n",
    "                    new_path.append(next_caves[idx + 1])\n",
    "                    new_record_paths.append(new_path)\n",
    "\n",
    "        record_paths.extend(new_record_paths)\n",
    "\n",
    "    count = 0\n",
    "    for path in record_paths:\n",
    "        if path[-1] == \"end\":\n",
    "            count += 1\n",
    "    return count\n",
    "\n",
    "\n",
    "record_paths = [[\"start\"]]\n",
    "print(f\"Answer to Q1: {count_path(record_paths, move_step_q1)}\")\n",
    "record_paths = [[\"start\"]]\n",
    "print(f\"Answer to Q2: {count_path(record_paths, move_step_q2)}\")"
   ]
  },
  {
   "cell_type": "code",
   "execution_count": null,
   "id": "ceramic-duplicate",
   "metadata": {},
   "outputs": [],
   "source": []
  },
  {
   "cell_type": "code",
   "execution_count": 12,
   "id": "limited-london",
   "metadata": {},
   "outputs": [
    {
     "data": {
      "text/html": [
       "<pre style=\"white-space:pre;overflow-x:auto;line-height:normal;font-family:Menlo,'DejaVu Sans Mono',consolas,'Courier New',monospace\">Answer to Q1: <span style=\"color: #008080; text-decoration-color: #008080; font-weight: bold\">5076</span>\n",
       "</pre>\n"
      ],
      "text/plain": [
       "Answer to Q1: \u001b[1;36m5076\u001b[0m\n"
      ]
     },
     "metadata": {},
     "output_type": "display_data"
    },
    {
     "data": {
      "text/html": [
       "<pre style=\"white-space:pre;overflow-x:auto;line-height:normal;font-family:Menlo,'DejaVu Sans Mono',consolas,'Courier New',monospace\">Answer to Q2: <span style=\"color: #008080; text-decoration-color: #008080; font-weight: bold\">145643</span>\n",
       "</pre>\n"
      ],
      "text/plain": [
       "Answer to Q2: \u001b[1;36m145643\u001b[0m\n"
      ]
     },
     "metadata": {},
     "output_type": "display_data"
    },
    {
     "name": "stdout",
     "output_type": "stream",
     "text": [
      "Wall time: 3min 55s\n"
     ]
    }
   ],
   "source": [
    "%%time\n",
    "def move_step_q1(path):\n",
    "    current_cave = path[-1]\n",
    "    if current_cave == \"end\":\n",
    "        return []\n",
    "    return [\n",
    "        cave\n",
    "        for cave in connections[current_cave]\n",
    "        if (cave == \"end\")\n",
    "        or (cave in big_cave_li)\n",
    "        or ((cave in small_cave_li) and (cave not in path))\n",
    "    ]\n",
    "\n",
    "\n",
    "from collections import Counter\n",
    "\n",
    "\n",
    "def move_step_q2(path):\n",
    "    current_cave = path[-1]\n",
    "    if current_cave == \"end\":\n",
    "        return []\n",
    "    return [\n",
    "        cave\n",
    "        for cave in connections[current_cave]\n",
    "        if (cave == \"end\")\n",
    "        or (cave in big_cave_li)\n",
    "        or (\n",
    "            (cave in small_cave_li)\n",
    "            and (\n",
    "                (cave not in path)\n",
    "                or (\n",
    "                    len(np.intersect1d(path, small_cave_li)) == 0\n",
    "                    or (\n",
    "                        Counter([i for i in path if i in small_cave_li]).most_common(1)[\n",
    "                            0\n",
    "                        ][1]\n",
    "                        < 2\n",
    "                    )\n",
    "                )\n",
    "            )\n",
    "        )\n",
    "    ]\n",
    "\n",
    "\n",
    "def count_path(record_paths, move_fun):\n",
    "\n",
    "    count = 0\n",
    "    flag = True\n",
    "    while flag:\n",
    "        flag = False\n",
    "        new_record_paths = []\n",
    "        record_path_to_remove = []\n",
    "        finished_path = []\n",
    "        for path in record_paths:\n",
    "            next_caves = move_fun(path)\n",
    "            if len(next_caves) == 0:\n",
    "                if path[-1] != \"end\":\n",
    "                    record_path_to_remove.append(path)\n",
    "                else:\n",
    "                    finished_path.append(path)\n",
    "                continue\n",
    "            flag = True\n",
    "            org_path = path[:]\n",
    "            path.append(next_caves[0])\n",
    "            if len(next_caves) > 1:\n",
    "                for idx in range(len(next_caves) - 1):\n",
    "                    new_path = org_path[:]\n",
    "                    new_path.append(next_caves[idx + 1])\n",
    "                    new_record_paths.append(new_path)\n",
    "\n",
    "        record_paths.extend(new_record_paths)\n",
    "        for path in [*record_path_to_remove, *finished_path]:\n",
    "            record_paths.remove(path)\n",
    "        count += len(finished_path)\n",
    "    return count\n",
    "\n",
    "\n",
    "record_paths = [[\"start\"]]\n",
    "print(f\"Answer to Q1: {count_path(record_paths, move_step_q1)}\")\n",
    "record_paths = [[\"start\"]]\n",
    "print(f\"Answer to Q2: {count_path(record_paths, move_step_q2)}\")"
   ]
  },
  {
   "cell_type": "code",
   "execution_count": null,
   "id": "apart-block",
   "metadata": {},
   "outputs": [],
   "source": []
  }
 ],
 "metadata": {
  "kernelspec": {
   "display_name": "Python [conda env:.conda-ds38]",
   "language": "python",
   "name": "conda-env-.conda-ds38-py"
  },
  "language_info": {
   "codemirror_mode": {
    "name": "ipython",
    "version": 3
   },
   "file_extension": ".py",
   "mimetype": "text/x-python",
   "name": "python",
   "nbconvert_exporter": "python",
   "pygments_lexer": "ipython3",
   "version": "3.8.10"
  }
 },
 "nbformat": 4,
 "nbformat_minor": 5
}
