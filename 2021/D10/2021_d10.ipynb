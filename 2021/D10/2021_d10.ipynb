{
 "cells": [
  {
   "cell_type": "raw",
   "id": "superb-apache",
   "metadata": {},
   "source": [
    "--- Day 10: Syntax Scoring ---\n",
    "You ask the submarine to determine the best route out of the deep-sea cave, but it only replies:\n",
    "\n",
    "Syntax error in navigation subsystem on line: all of them\n",
    "All of them?! The damage is worse than you thought. You bring up a copy of the navigation subsystem (your puzzle input).\n",
    "\n",
    "The navigation subsystem syntax is made of several lines containing chunks. There are one or more chunks on each line, and chunks contain zero or more other chunks. Adjacent chunks are not separated by any delimiter; if one chunk stops, the next chunk (if any) can immediately start. Every chunk must open and close with one of four legal pairs of matching characters:\n",
    "\n",
    "If a chunk opens with (, it must close with ).\n",
    "If a chunk opens with [, it must close with ].\n",
    "If a chunk opens with {, it must close with }.\n",
    "If a chunk opens with <, it must close with >.\n",
    "So, () is a legal chunk that contains no other chunks, as is []. More complex but valid chunks include ([]), {()()()}, <([{}])>, [<>({}){}[([])<>]], and even (((((((((()))))))))).\n",
    "\n",
    "Some lines are incomplete, but others are corrupted. Find and discard the corrupted lines first.\n",
    "\n",
    "A corrupted line is one where a chunk closes with the wrong character - that is, where the characters it opens and closes with do not form one of the four legal pairs listed above.\n",
    "\n",
    "Examples of corrupted chunks include (], {()()()>, (((()))}, and <([]){()}[{}]). Such a chunk can appear anywhere within a line, and its presence causes the whole line to be considered corrupted.\n",
    "\n",
    "For example, consider the following navigation subsystem:\n",
    "\n",
    "[({(<(())[]>[[{[]{<()<>>\n",
    "[(()[<>])]({[<{<<[]>>(\n",
    "{([(<{}[<>[]}>{[]{[(<()>\n",
    "(((({<>}<{<{<>}{[]{[]{}\n",
    "[[<[([]))<([[{}[[()]]]\n",
    "[{[{({}]{}}([{[{{{}}([]\n",
    "{<[[]]>}<{[{[{[]{()[[[]\n",
    "[<(<(<(<{}))><([]([]()\n",
    "<{([([[(<>()){}]>(<<{{\n",
    "<{([{{}}[<[[[<>{}]]]>[]]\n",
    "Some of the lines aren't corrupted, just incomplete; you can ignore these lines for now. The remaining five lines are corrupted:\n",
    "\n",
    "{([(<{}[<>[]}>{[]{[(<()> - Expected ], but found } instead.\n",
    "[[<[([]))<([[{}[[()]]] - Expected ], but found ) instead.\n",
    "[{[{({}]{}}([{[{{{}}([] - Expected ), but found ] instead.\n",
    "[<(<(<(<{}))><([]([]() - Expected >, but found ) instead.\n",
    "<{([([[(<>()){}]>(<<{{ - Expected ], but found > instead.\n",
    "Stop at the first incorrect closing character on each corrupted line.\n",
    "\n",
    "Did you know that syntax checkers actually have contests to see who can get the high score for syntax errors in a file? It's true! To calculate the syntax error score for a line, take the first illegal character on the line and look it up in the following table:\n",
    "\n",
    "): 3 points.\n",
    "]: 57 points.\n",
    "}: 1197 points.\n",
    ">: 25137 points.\n",
    "In the above example, an illegal ) was found twice (2*3 = 6 points), an illegal ] was found once (57 points), an illegal } was found once (1197 points), and an illegal > was found once (25137 points). So, the total syntax error score for this file is 6+57+1197+25137 = 26397 points!\n",
    "\n",
    "Find the first illegal character in each corrupted line of the navigation subsystem. What is the total syntax error score for those errors?\n",
    "\n",
    "Your puzzle answer was 294195.\n",
    "\n",
    "--- Part Two ---\n",
    "Now, discard the corrupted lines. The remaining lines are incomplete.\n",
    "\n",
    "Incomplete lines don't have any incorrect characters - instead, they're missing some closing characters at the end of the line. To repair the navigation subsystem, you just need to figure out the sequence of closing characters that complete all open chunks in the line.\n",
    "\n",
    "You can only use closing characters (), ], }, or >), and you must add them in the correct order so that only legal pairs are formed and all chunks end up closed.\n",
    "\n",
    "In the example above, there are five incomplete lines:\n",
    "\n",
    "[({(<(())[]>[[{[]{<()<>> - Complete by adding }}]])})].\n",
    "[(()[<>])]({[<{<<[]>>( - Complete by adding )}>]}).\n",
    "(((({<>}<{<{<>}{[]{[]{} - Complete by adding }}>}>)))).\n",
    "{<[[]]>}<{[{[{[]{()[[[] - Complete by adding ]]}}]}]}>.\n",
    "<{([{{}}[<[[[<>{}]]]>[]] - Complete by adding ])}>.\n",
    "Did you know that autocomplete tools also have contests? It's true! The score is determined by considering the completion string character-by-character. Start with a total score of 0. Then, for each character, multiply the total score by 5 and then increase the total score by the point value given for the character in the following table:\n",
    "\n",
    "): 1 point.\n",
    "]: 2 points.\n",
    "}: 3 points.\n",
    ">: 4 points.\n",
    "So, the last completion string above - ])}> - would be scored as follows:\n",
    "\n",
    "Start with a total score of 0.\n",
    "Multiply the total score by 5 to get 0, then add the value of ] (2) to get a new total score of 2.\n",
    "Multiply the total score by 5 to get 10, then add the value of ) (1) to get a new total score of 11.\n",
    "Multiply the total score by 5 to get 55, then add the value of } (3) to get a new total score of 58.\n",
    "Multiply the total score by 5 to get 290, then add the value of > (4) to get a new total score of 294.\n",
    "The five lines' completion strings have total scores as follows:\n",
    "\n",
    "}}]])})] - 288957 total points.\n",
    ")}>]}) - 5566 total points.\n",
    "}}>}>)))) - 1480781 total points.\n",
    "]]}}]}]}> - 995444 total points.\n",
    "])}> - 294 total points.\n",
    "Autocomplete tools are an odd bunch: the winner is found by sorting all of the scores and then taking the middle score. (There will always be an odd number of scores to consider.) In this example, the middle score is 288957 because there are the same number of scores smaller and larger than it.\n",
    "\n",
    "Find the completion string for each incomplete line, score the completion strings, and sort the scores. What is the middle score?\n",
    "\n",
    "Your puzzle answer was 3490802734."
   ]
  },
  {
   "cell_type": "code",
   "execution_count": 1,
   "id": "graphic-locking",
   "metadata": {},
   "outputs": [],
   "source": [
    "import warnings\n",
    "\n",
    "warnings.filterwarnings(\"ignore\")\n",
    "\n",
    "import os\n",
    "import re\n",
    "import sys\n",
    "from pathlib import Path\n",
    "\n",
    "import numpy as np\n",
    "import pandas as pd\n",
    "from rich import print\n",
    "from tqdm import tqdm"
   ]
  },
  {
   "cell_type": "code",
   "execution_count": 2,
   "id": "defined-cross",
   "metadata": {},
   "outputs": [],
   "source": [
    "def read_file_to_str_li(fp, print_exp=True):\n",
    "    with open(fp, \"r\") as f:\n",
    "        lines = f.read().split(\"\\n\")\n",
    "    if print_exp:\n",
    "        print(f\"Read from {fp}:\")\n",
    "        print(f\"First line: {lines[0]} | Last line: {lines[-1]}\")\n",
    "        print(\"-\" * 6)\n",
    "\n",
    "    return lines\n",
    "\n",
    "\n",
    "# define the function blocks\n",
    "def convert_to_int(input_str):\n",
    "    if input_str == \"\" or input_str == \" \":\n",
    "        return None\n",
    "    return int(input_str)\n",
    "\n",
    "\n",
    "def convert_to_str(input_str):\n",
    "    return str(input_str)\n",
    "\n",
    "\n",
    "# map the inputs to the function blocks\n",
    "converts = {\n",
    "    \"i\": convert_to_int,\n",
    "    \"s\": convert_to_str,\n",
    "}\n",
    "\n",
    "\n",
    "def convert_str_li_to_other_li(\n",
    "    str_li, pattern=\"i\", per_letter=False, sep=\" \", start_row=0, end_row=None\n",
    "):\n",
    "    \"\"\" Convert a list of string to a list of other types\n",
    "    \n",
    "    pattern: a list of types for one item. \n",
    "        'i' for int, 's' for string\n",
    "        'si' means: convert the 1st item to string, the rest to integer\n",
    "        If separated items are more than pattern items,\n",
    "        use the last one from the parttern.\n",
    "    if per_letter=True, ignore sep and separate item per letter\n",
    "    \"\"\"\n",
    "    target_str_li = str_li[start_row:end_row]\n",
    "    # find max item num\n",
    "    max_item_num = 1\n",
    "    if per_letter:\n",
    "        max_item_num = max([len(s) for s in target_str_li])\n",
    "    else:\n",
    "        max_item_num = max([len(s.split(sep)) for s in target_str_li])\n",
    "\n",
    "    # extend the pattern to the max itme num\n",
    "    pattern = (\n",
    "        pattern + f\"{pattern[-1]}\" * (max_item_num - len(pattern))\n",
    "        if max_item_num > len(pattern)\n",
    "        else pattern\n",
    "    )\n",
    "\n",
    "    # convert\n",
    "    if per_letter:\n",
    "        return [\n",
    "            [converts[pattern[idx]](item) for idx, item in enumerate(s)]\n",
    "            for s in target_str_li\n",
    "        ]\n",
    "    else:\n",
    "        if sep == \" \":\n",
    "            return [\n",
    "                [converts[pattern[idx]](item) for idx, item in enumerate(s.split())]\n",
    "                for s in target_str_li\n",
    "            ]\n",
    "        else:\n",
    "            return [\n",
    "                [converts[pattern[idx]](item) for idx, item in enumerate(s.split(sep))]\n",
    "                for s in target_str_li\n",
    "            ]"
   ]
  },
  {
   "cell_type": "code",
   "execution_count": 3,
   "id": "worthy-roulette",
   "metadata": {},
   "outputs": [
    {
     "data": {
      "text/html": [
       "<pre style=\"white-space:pre;overflow-x:auto;line-height:normal;font-family:Menlo,'DejaVu Sans Mono',consolas,'Courier New',monospace\">Read from input.txt:\n",
       "</pre>\n"
      ],
      "text/plain": [
       "Read from input.txt:\n"
      ]
     },
     "metadata": {},
     "output_type": "display_data"
    },
    {
     "data": {
      "text/html": [
       "<pre style=\"white-space:pre;overflow-x:auto;line-height:normal;font-family:Menlo,'DejaVu Sans Mono',consolas,'Courier New',monospace\">First line: <span style=\"font-weight: bold\">{[&lt;</span><span style=\"color: #000000; text-decoration-color: #000000; font-weight: bold\">([</span><span style=\"color: #000000; text-decoration-color: #000000\">&lt;</span><span style=\"color: #000000; text-decoration-color: #000000; font-weight: bold\">[[(</span><span style=\"color: #000000; text-decoration-color: #000000\">&lt;</span><span style=\"color: #000000; text-decoration-color: #000000; font-weight: bold\">[({</span><span style=\"color: #000000; text-decoration-color: #000000\">&lt;&lt;</span><span style=\"font-weight: bold\">&gt;&lt;&gt;</span>&gt;<span style=\"font-weight: bold\">&lt;</span><span style=\"color: #000000; text-decoration-color: #000000; font-weight: bold\">()[]</span><span style=\"font-weight: bold\">&gt;}&lt;</span><span style=\"color: #000000; text-decoration-color: #000000; font-weight: bold\">(()())(())</span><span style=\"font-weight: bold\">&gt;)&lt;</span><span style=\"color: #000000; text-decoration-color: #000000; font-weight: bold\">(([]())){</span><span style=\"color: #000000; text-decoration-color: #000000\">&lt;</span><span style=\"color: #000000; text-decoration-color: #000000; font-weight: bold\">()()</span><span style=\"font-weight: bold\">&gt;&lt;</span><span style=\"color: #000000; text-decoration-color: #000000; font-weight: bold\">{}</span><span style=\"color: #000000; text-decoration-color: #000000\">&lt;</span><span style=\"font-weight: bold\">&gt;)}</span>&gt;<span style=\"font-weight: bold\">][(((()&lt;&gt;)[{}{}]){</span>\n",
       "<span style=\"font-weight: bold\">&lt;</span><span style=\"color: #000000; text-decoration-color: #000000; font-weight: bold\">[]</span><span style=\"color: #000000; text-decoration-color: #000000\">&lt;</span><span style=\"font-weight: bold\">&gt;</span>&gt;<span style=\"font-weight: bold\">({}{})})]</span>&gt;<span style=\"font-weight: bold\">)[(({([{}[]]</span> | Last line: \n",
       "<span style=\"font-weight: bold\">[(&lt;</span><span style=\"color: #000000; text-decoration-color: #000000; font-weight: bold\">[([([{{{</span><span style=\"color: #000000; text-decoration-color: #000000\">&lt;</span><span style=\"color: #000000; text-decoration-color: #000000; font-weight: bold\">([[]</span><span style=\"color: #000000; text-decoration-color: #000000\">&lt;</span><span style=\"font-weight: bold\">&gt;]&lt;</span><span style=\"color: #000000; text-decoration-color: #000000\">&lt;</span><span style=\"font-weight: bold\">&gt;</span>&gt;<span style=\"font-weight: bold\">)[{&lt;&gt;[]}{{}&lt;&gt;}]}({(())[{}()]}[&lt;</span><span style=\"color: #000000; text-decoration-color: #000000; font-weight: bold\">{}</span><span style=\"color: #000000; text-decoration-color: #000000\">&lt;</span><span style=\"font-weight: bold\">&gt;</span>&gt;<span style=\"font-weight: bold\">{&lt;&gt;()}])}([&lt;</span><span style=\"color: #000000; text-decoration-color: #000000; font-weight: bold\">[(){}]([][])</span><span style=\"font-weight: bold\">&gt;</span>&lt;<span style=\"font-weight: bold\">(()())</span>\n",
       "</pre>\n"
      ],
      "text/plain": [
       "First line: \u001b[1m{\u001b[0m\u001b[1m[\u001b[0m\u001b[1m<\u001b[0m\u001b[1;39m(\u001b[0m\u001b[1;39m[\u001b[0m\u001b[39m<\u001b[0m\u001b[1;39m[\u001b[0m\u001b[1;39m[\u001b[0m\u001b[1;39m(\u001b[0m\u001b[39m<\u001b[0m\u001b[1;39m[\u001b[0m\u001b[1;39m(\u001b[0m\u001b[1;39m{\u001b[0m\u001b[39m<<\u001b[0m\u001b[1m>\u001b[0m\u001b[1m<\u001b[0m\u001b[1m>\u001b[0m>\u001b[1m<\u001b[0m\u001b[1;39m(\u001b[0m\u001b[1;39m)\u001b[0m\u001b[1;39m[\u001b[0m\u001b[1;39m]\u001b[0m\u001b[1m>\u001b[0m\u001b[1m}\u001b[0m\u001b[1m<\u001b[0m\u001b[1;39m(\u001b[0m\u001b[1;39m(\u001b[0m\u001b[1;39m)\u001b[0m\u001b[1;39m(\u001b[0m\u001b[1;39m)\u001b[0m\u001b[1;39m)\u001b[0m\u001b[1;39m(\u001b[0m\u001b[1;39m(\u001b[0m\u001b[1;39m)\u001b[0m\u001b[1;39m)\u001b[0m\u001b[1m>\u001b[0m\u001b[1m)\u001b[0m\u001b[1m<\u001b[0m\u001b[1;39m(\u001b[0m\u001b[1;39m(\u001b[0m\u001b[1;39m[\u001b[0m\u001b[1;39m]\u001b[0m\u001b[1;39m(\u001b[0m\u001b[1;39m)\u001b[0m\u001b[1;39m)\u001b[0m\u001b[1;39m)\u001b[0m\u001b[1;39m{\u001b[0m\u001b[39m<\u001b[0m\u001b[1;39m(\u001b[0m\u001b[1;39m)\u001b[0m\u001b[1;39m(\u001b[0m\u001b[1;39m)\u001b[0m\u001b[1m>\u001b[0m\u001b[1m<\u001b[0m\u001b[1;39m{\u001b[0m\u001b[1;39m}\u001b[0m\u001b[39m<\u001b[0m\u001b[1m>\u001b[0m\u001b[1m)\u001b[0m\u001b[1m}\u001b[0m>\u001b[1m]\u001b[0m\u001b[1m[\u001b[0m\u001b[1m(\u001b[0m\u001b[1m(\u001b[0m\u001b[1m(\u001b[0m\u001b[1m(\u001b[0m\u001b[1m)\u001b[0m\u001b[1m<\u001b[0m\u001b[1m>\u001b[0m\u001b[1m)\u001b[0m\u001b[1m[\u001b[0m\u001b[1m{\u001b[0m\u001b[1m}\u001b[0m\u001b[1m{\u001b[0m\u001b[1m}\u001b[0m\u001b[1m]\u001b[0m\u001b[1m)\u001b[0m\u001b[1m{\u001b[0m\n",
       "\u001b[1m<\u001b[0m\u001b[1;39m[\u001b[0m\u001b[1;39m]\u001b[0m\u001b[39m<\u001b[0m\u001b[1m>\u001b[0m>\u001b[1m(\u001b[0m\u001b[1m{\u001b[0m\u001b[1m}\u001b[0m\u001b[1m{\u001b[0m\u001b[1m}\u001b[0m\u001b[1m)\u001b[0m\u001b[1m}\u001b[0m\u001b[1m)\u001b[0m\u001b[1m]\u001b[0m>\u001b[1m)\u001b[0m\u001b[1m[\u001b[0m\u001b[1m(\u001b[0m\u001b[1m(\u001b[0m\u001b[1m{\u001b[0m\u001b[1m(\u001b[0m\u001b[1m[\u001b[0m\u001b[1m{\u001b[0m\u001b[1m}\u001b[0m\u001b[1m[\u001b[0m\u001b[1m]\u001b[0m\u001b[1m]\u001b[0m | Last line: \n",
       "\u001b[1m[\u001b[0m\u001b[1m(\u001b[0m\u001b[1m<\u001b[0m\u001b[1;39m[\u001b[0m\u001b[1;39m(\u001b[0m\u001b[1;39m[\u001b[0m\u001b[1;39m(\u001b[0m\u001b[1;39m[\u001b[0m\u001b[1;39m{\u001b[0m\u001b[1;39m{\u001b[0m\u001b[1;39m{\u001b[0m\u001b[39m<\u001b[0m\u001b[1;39m(\u001b[0m\u001b[1;39m[\u001b[0m\u001b[1;39m[\u001b[0m\u001b[1;39m]\u001b[0m\u001b[39m<\u001b[0m\u001b[1m>\u001b[0m\u001b[1m]\u001b[0m\u001b[1m<\u001b[0m\u001b[39m<\u001b[0m\u001b[1m>\u001b[0m>\u001b[1m)\u001b[0m\u001b[1m[\u001b[0m\u001b[1m{\u001b[0m\u001b[1m<\u001b[0m\u001b[1m>\u001b[0m\u001b[1m[\u001b[0m\u001b[1m]\u001b[0m\u001b[1m}\u001b[0m\u001b[1m{\u001b[0m\u001b[1m{\u001b[0m\u001b[1m}\u001b[0m\u001b[1m<\u001b[0m\u001b[1m>\u001b[0m\u001b[1m}\u001b[0m\u001b[1m]\u001b[0m\u001b[1m}\u001b[0m\u001b[1m(\u001b[0m\u001b[1m{\u001b[0m\u001b[1m(\u001b[0m\u001b[1m(\u001b[0m\u001b[1m)\u001b[0m\u001b[1m)\u001b[0m\u001b[1m[\u001b[0m\u001b[1m{\u001b[0m\u001b[1m}\u001b[0m\u001b[1m(\u001b[0m\u001b[1m)\u001b[0m\u001b[1m]\u001b[0m\u001b[1m}\u001b[0m\u001b[1m[\u001b[0m\u001b[1m<\u001b[0m\u001b[1;39m{\u001b[0m\u001b[1;39m}\u001b[0m\u001b[39m<\u001b[0m\u001b[1m>\u001b[0m>\u001b[1m{\u001b[0m\u001b[1m<\u001b[0m\u001b[1m>\u001b[0m\u001b[1m(\u001b[0m\u001b[1m)\u001b[0m\u001b[1m}\u001b[0m\u001b[1m]\u001b[0m\u001b[1m)\u001b[0m\u001b[1m}\u001b[0m\u001b[1m(\u001b[0m\u001b[1m[\u001b[0m\u001b[1m<\u001b[0m\u001b[1;39m[\u001b[0m\u001b[1;39m(\u001b[0m\u001b[1;39m)\u001b[0m\u001b[1;39m{\u001b[0m\u001b[1;39m}\u001b[0m\u001b[1;39m]\u001b[0m\u001b[1;39m(\u001b[0m\u001b[1;39m[\u001b[0m\u001b[1;39m]\u001b[0m\u001b[1;39m[\u001b[0m\u001b[1;39m]\u001b[0m\u001b[1;39m)\u001b[0m\u001b[1m>\u001b[0m<\u001b[1m(\u001b[0m\u001b[1m(\u001b[0m\u001b[1m)\u001b[0m\u001b[1m(\u001b[0m\u001b[1m)\u001b[0m\u001b[1m)\u001b[0m\n"
      ]
     },
     "metadata": {},
     "output_type": "display_data"
    },
    {
     "data": {
      "text/html": [
       "<pre style=\"white-space:pre;overflow-x:auto;line-height:normal;font-family:Menlo,'DejaVu Sans Mono',consolas,'Courier New',monospace\">------\n",
       "</pre>\n"
      ],
      "text/plain": [
       "------\n"
      ]
     },
     "metadata": {},
     "output_type": "display_data"
    },
    {
     "data": {
      "text/html": [
       "<pre style=\"white-space:pre;overflow-x:auto;line-height:normal;font-family:Menlo,'DejaVu Sans Mono',consolas,'Courier New',monospace\">Convert to:\n",
       "</pre>\n"
      ],
      "text/plain": [
       "Convert to:\n"
      ]
     },
     "metadata": {},
     "output_type": "display_data"
    },
    {
     "data": {
      "text/html": [
       "<pre style=\"white-space:pre;overflow-x:auto;line-height:normal;font-family:Menlo,'DejaVu Sans Mono',consolas,'Courier New',monospace\">First line: <span style=\"font-weight: bold\">[</span><span style=\"color: #008000; text-decoration-color: #008000\">'{'</span>, <span style=\"color: #008000; text-decoration-color: #008000\">'['</span>, <span style=\"color: #008000; text-decoration-color: #008000\">'&lt;'</span><span style=\"color: #000000; text-decoration-color: #000000\">, </span><span style=\"color: #008000; text-decoration-color: #008000\">'('</span><span style=\"color: #000000; text-decoration-color: #000000\">, </span><span style=\"color: #008000; text-decoration-color: #008000\">'['</span><span style=\"color: #000000; text-decoration-color: #000000\">, </span><span style=\"color: #008000; text-decoration-color: #008000\">'&lt;'</span><span style=\"color: #000000; text-decoration-color: #000000\">, </span><span style=\"color: #008000; text-decoration-color: #008000\">'['</span><span style=\"color: #000000; text-decoration-color: #000000\">, </span><span style=\"color: #008000; text-decoration-color: #008000\">'['</span><span style=\"color: #000000; text-decoration-color: #000000\">, </span><span style=\"color: #008000; text-decoration-color: #008000\">'('</span><span style=\"color: #000000; text-decoration-color: #000000\">, </span><span style=\"color: #008000; text-decoration-color: #008000\">'&lt;'</span><span style=\"color: #000000; text-decoration-color: #000000\">, </span><span style=\"color: #008000; text-decoration-color: #008000\">'['</span><span style=\"color: #000000; text-decoration-color: #000000\">, </span><span style=\"color: #008000; text-decoration-color: #008000\">'('</span><span style=\"color: #000000; text-decoration-color: #000000\">, </span><span style=\"color: #008000; text-decoration-color: #008000\">'{'</span><span style=\"color: #000000; text-decoration-color: #000000\">, </span><span style=\"color: #008000; text-decoration-color: #008000\">'&lt;'</span><span style=\"color: #000000; text-decoration-color: #000000\">, </span><span style=\"color: #008000; text-decoration-color: #008000\">'&lt;'</span><span style=\"color: #000000; text-decoration-color: #000000\">, </span><span style=\"color: #008000; text-decoration-color: #008000\">'&gt;'</span>, \n",
       "<span style=\"color: #008000; text-decoration-color: #008000\">'&lt;'</span><span style=\"color: #000000; text-decoration-color: #000000\">, </span><span style=\"color: #008000; text-decoration-color: #008000\">'&gt;'</span>, <span style=\"color: #008000; text-decoration-color: #008000\">'&gt;'</span>, <span style=\"color: #008000; text-decoration-color: #008000\">'&lt;'</span><span style=\"color: #000000; text-decoration-color: #000000\">, </span><span style=\"color: #008000; text-decoration-color: #008000\">'('</span><span style=\"color: #000000; text-decoration-color: #000000\">, </span><span style=\"color: #008000; text-decoration-color: #008000\">')'</span><span style=\"color: #000000; text-decoration-color: #000000\">, </span><span style=\"color: #008000; text-decoration-color: #008000\">'['</span><span style=\"color: #000000; text-decoration-color: #000000\">, </span><span style=\"color: #008000; text-decoration-color: #008000\">']'</span><span style=\"color: #000000; text-decoration-color: #000000\">, </span><span style=\"color: #008000; text-decoration-color: #008000\">'&gt;'</span>, <span style=\"color: #008000; text-decoration-color: #008000\">'}'</span>, <span style=\"color: #008000; text-decoration-color: #008000\">'&lt;'</span><span style=\"color: #000000; text-decoration-color: #000000\">, </span><span style=\"color: #008000; text-decoration-color: #008000\">'('</span><span style=\"color: #000000; text-decoration-color: #000000\">, </span><span style=\"color: #008000; text-decoration-color: #008000\">'('</span><span style=\"color: #000000; text-decoration-color: #000000\">, </span><span style=\"color: #008000; text-decoration-color: #008000\">')'</span><span style=\"color: #000000; text-decoration-color: #000000\">, </span><span style=\"color: #008000; text-decoration-color: #008000\">'('</span><span style=\"color: #000000; text-decoration-color: #000000\">, </span><span style=\"color: #008000; text-decoration-color: #008000\">')'</span><span style=\"color: #000000; text-decoration-color: #000000\">, </span><span style=\"color: #008000; text-decoration-color: #008000\">')'</span><span style=\"color: #000000; text-decoration-color: #000000\">, </span><span style=\"color: #008000; text-decoration-color: #008000\">'('</span><span style=\"color: #000000; text-decoration-color: #000000\">, </span>\n",
       "<span style=\"color: #008000; text-decoration-color: #008000\">'('</span><span style=\"color: #000000; text-decoration-color: #000000\">, </span><span style=\"color: #008000; text-decoration-color: #008000\">')'</span><span style=\"color: #000000; text-decoration-color: #000000\">, </span><span style=\"color: #008000; text-decoration-color: #008000\">')'</span><span style=\"color: #000000; text-decoration-color: #000000\">, </span><span style=\"color: #008000; text-decoration-color: #008000\">'&gt;'</span>, <span style=\"color: #008000; text-decoration-color: #008000\">')'</span>, <span style=\"color: #008000; text-decoration-color: #008000\">'&lt;'</span><span style=\"color: #000000; text-decoration-color: #000000\">, </span><span style=\"color: #008000; text-decoration-color: #008000\">'('</span><span style=\"color: #000000; text-decoration-color: #000000\">, </span><span style=\"color: #008000; text-decoration-color: #008000\">'('</span><span style=\"color: #000000; text-decoration-color: #000000\">, </span><span style=\"color: #008000; text-decoration-color: #008000\">'['</span><span style=\"color: #000000; text-decoration-color: #000000\">, </span><span style=\"color: #008000; text-decoration-color: #008000\">']'</span><span style=\"color: #000000; text-decoration-color: #000000\">, </span><span style=\"color: #008000; text-decoration-color: #008000\">'('</span><span style=\"color: #000000; text-decoration-color: #000000\">, </span><span style=\"color: #008000; text-decoration-color: #008000\">')'</span><span style=\"color: #000000; text-decoration-color: #000000\">, </span><span style=\"color: #008000; text-decoration-color: #008000\">')'</span><span style=\"color: #000000; text-decoration-color: #000000\">, </span><span style=\"color: #008000; text-decoration-color: #008000\">')'</span><span style=\"color: #000000; text-decoration-color: #000000\">, </span><span style=\"color: #008000; text-decoration-color: #008000\">'{'</span><span style=\"color: #000000; text-decoration-color: #000000\">, </span><span style=\"color: #008000; text-decoration-color: #008000\">'&lt;'</span><span style=\"color: #000000; text-decoration-color: #000000\">, </span><span style=\"color: #008000; text-decoration-color: #008000\">'('</span><span style=\"color: #000000; text-decoration-color: #000000\">, </span><span style=\"color: #008000; text-decoration-color: #008000\">')'</span><span style=\"color: #000000; text-decoration-color: #000000\">, </span>\n",
       "<span style=\"color: #008000; text-decoration-color: #008000\">'('</span><span style=\"color: #000000; text-decoration-color: #000000\">, </span><span style=\"color: #008000; text-decoration-color: #008000\">')'</span><span style=\"color: #000000; text-decoration-color: #000000\">, </span><span style=\"color: #008000; text-decoration-color: #008000\">'&gt;'</span>, <span style=\"color: #008000; text-decoration-color: #008000\">'&lt;'</span><span style=\"color: #000000; text-decoration-color: #000000\">, </span><span style=\"color: #008000; text-decoration-color: #008000\">'{'</span><span style=\"color: #000000; text-decoration-color: #000000\">, </span><span style=\"color: #008000; text-decoration-color: #008000\">'}'</span><span style=\"color: #000000; text-decoration-color: #000000\">, </span><span style=\"color: #008000; text-decoration-color: #008000\">'&lt;'</span><span style=\"color: #000000; text-decoration-color: #000000\">, </span><span style=\"color: #008000; text-decoration-color: #008000\">'&gt;'</span>, <span style=\"color: #008000; text-decoration-color: #008000\">')'</span>, <span style=\"color: #008000; text-decoration-color: #008000\">'}'</span>, <span style=\"color: #008000; text-decoration-color: #008000\">'&gt;'</span>, <span style=\"color: #008000; text-decoration-color: #008000\">']'</span>, <span style=\"color: #008000; text-decoration-color: #008000\">'['</span>, <span style=\"color: #008000; text-decoration-color: #008000\">'('</span>, <span style=\"color: #008000; text-decoration-color: #008000\">'('</span>, <span style=\"color: #008000; text-decoration-color: #008000\">'('</span>, <span style=\"color: #008000; text-decoration-color: #008000\">'('</span>, <span style=\"color: #008000; text-decoration-color: #008000\">')'</span>, \n",
       "<span style=\"color: #008000; text-decoration-color: #008000\">'&lt;'</span><span style=\"color: #000000; text-decoration-color: #000000\">, </span><span style=\"color: #008000; text-decoration-color: #008000\">'&gt;'</span>, <span style=\"color: #008000; text-decoration-color: #008000\">')'</span>, <span style=\"color: #008000; text-decoration-color: #008000\">'['</span>, <span style=\"color: #008000; text-decoration-color: #008000\">'{'</span>, <span style=\"color: #008000; text-decoration-color: #008000\">'}'</span>, <span style=\"color: #008000; text-decoration-color: #008000\">'{'</span>, <span style=\"color: #008000; text-decoration-color: #008000\">'}'</span>, <span style=\"color: #008000; text-decoration-color: #008000\">']'</span>, <span style=\"color: #008000; text-decoration-color: #008000\">')'</span>, <span style=\"color: #008000; text-decoration-color: #008000\">'{'</span>, <span style=\"color: #008000; text-decoration-color: #008000\">'&lt;'</span><span style=\"color: #000000; text-decoration-color: #000000\">, </span><span style=\"color: #008000; text-decoration-color: #008000\">'['</span><span style=\"color: #000000; text-decoration-color: #000000\">, </span><span style=\"color: #008000; text-decoration-color: #008000\">']'</span><span style=\"color: #000000; text-decoration-color: #000000\">, </span><span style=\"color: #008000; text-decoration-color: #008000\">'&lt;'</span><span style=\"color: #000000; text-decoration-color: #000000\">, </span><span style=\"color: #008000; text-decoration-color: #008000\">'&gt;'</span>, <span style=\"color: #008000; text-decoration-color: #008000\">'&gt;'</span>, <span style=\"color: #008000; text-decoration-color: #008000\">'('</span>, \n",
       "<span style=\"color: #008000; text-decoration-color: #008000\">'{'</span>, <span style=\"color: #008000; text-decoration-color: #008000\">'}'</span>, <span style=\"color: #008000; text-decoration-color: #008000\">'{'</span>, <span style=\"color: #008000; text-decoration-color: #008000\">'}'</span>, <span style=\"color: #008000; text-decoration-color: #008000\">')'</span>, <span style=\"color: #008000; text-decoration-color: #008000\">'}'</span>, <span style=\"color: #008000; text-decoration-color: #008000\">')'</span>, <span style=\"color: #008000; text-decoration-color: #008000\">']'</span>, <span style=\"color: #008000; text-decoration-color: #008000\">'&gt;'</span>, <span style=\"color: #008000; text-decoration-color: #008000\">')'</span>, <span style=\"color: #008000; text-decoration-color: #008000\">'['</span>, <span style=\"color: #008000; text-decoration-color: #008000\">'('</span>, <span style=\"color: #008000; text-decoration-color: #008000\">'('</span>, <span style=\"color: #008000; text-decoration-color: #008000\">'{'</span>, <span style=\"color: #008000; text-decoration-color: #008000\">'('</span>, <span style=\"color: #008000; text-decoration-color: #008000\">'['</span>, <span style=\"color: #008000; text-decoration-color: #008000\">'{'</span>, <span style=\"color: #008000; text-decoration-color: #008000\">'}'</span>, \n",
       "<span style=\"color: #008000; text-decoration-color: #008000\">'['</span>, <span style=\"color: #008000; text-decoration-color: #008000\">']'</span>, <span style=\"color: #008000; text-decoration-color: #008000\">']'</span><span style=\"font-weight: bold\">]</span>\n",
       "</pre>\n"
      ],
      "text/plain": [
       "First line: \u001b[1m[\u001b[0m\u001b[32m'\u001b[0m\u001b[32m{\u001b[0m\u001b[32m'\u001b[0m, \u001b[32m'\u001b[0m\u001b[32m[\u001b[0m\u001b[32m'\u001b[0m, \u001b[32m'\u001b[0m\u001b[32m<\u001b[0m\u001b[32m'\u001b[0m\u001b[39m, \u001b[0m\u001b[32m'\u001b[0m\u001b[32m(\u001b[0m\u001b[32m'\u001b[0m\u001b[39m, \u001b[0m\u001b[32m'\u001b[0m\u001b[32m[\u001b[0m\u001b[32m'\u001b[0m\u001b[39m, \u001b[0m\u001b[32m'<'\u001b[0m\u001b[39m, \u001b[0m\u001b[32m'\u001b[0m\u001b[32m[\u001b[0m\u001b[32m'\u001b[0m\u001b[39m, \u001b[0m\u001b[32m'\u001b[0m\u001b[32m[\u001b[0m\u001b[32m'\u001b[0m\u001b[39m, \u001b[0m\u001b[32m'\u001b[0m\u001b[32m(\u001b[0m\u001b[32m'\u001b[0m\u001b[39m, \u001b[0m\u001b[32m'<'\u001b[0m\u001b[39m, \u001b[0m\u001b[32m'\u001b[0m\u001b[32m[\u001b[0m\u001b[32m'\u001b[0m\u001b[39m, \u001b[0m\u001b[32m'\u001b[0m\u001b[32m(\u001b[0m\u001b[32m'\u001b[0m\u001b[39m, \u001b[0m\u001b[32m'\u001b[0m\u001b[32m{\u001b[0m\u001b[32m'\u001b[0m\u001b[39m, \u001b[0m\u001b[32m'<'\u001b[0m\u001b[39m, \u001b[0m\u001b[32m'<'\u001b[0m\u001b[39m, \u001b[0m\u001b[32m'\u001b[0m\u001b[32m>\u001b[0m\u001b[32m'\u001b[0m, \n",
       "\u001b[32m'\u001b[0m\u001b[32m<\u001b[0m\u001b[32m'\u001b[0m\u001b[39m, \u001b[0m\u001b[32m'\u001b[0m\u001b[32m>\u001b[0m\u001b[32m'\u001b[0m, \u001b[32m'>'\u001b[0m, \u001b[32m'\u001b[0m\u001b[32m<\u001b[0m\u001b[32m'\u001b[0m\u001b[39m, \u001b[0m\u001b[32m'\u001b[0m\u001b[32m(\u001b[0m\u001b[32m'\u001b[0m\u001b[39m, \u001b[0m\u001b[32m'\u001b[0m\u001b[32m)\u001b[0m\u001b[32m'\u001b[0m\u001b[39m, \u001b[0m\u001b[32m'\u001b[0m\u001b[32m[\u001b[0m\u001b[32m'\u001b[0m\u001b[39m, \u001b[0m\u001b[32m'\u001b[0m\u001b[32m]\u001b[0m\u001b[32m'\u001b[0m\u001b[39m, \u001b[0m\u001b[32m'\u001b[0m\u001b[32m>\u001b[0m\u001b[32m'\u001b[0m, \u001b[32m'\u001b[0m\u001b[32m}\u001b[0m\u001b[32m'\u001b[0m, \u001b[32m'\u001b[0m\u001b[32m<\u001b[0m\u001b[32m'\u001b[0m\u001b[39m, \u001b[0m\u001b[32m'\u001b[0m\u001b[32m(\u001b[0m\u001b[32m'\u001b[0m\u001b[39m, \u001b[0m\u001b[32m'\u001b[0m\u001b[32m(\u001b[0m\u001b[32m'\u001b[0m\u001b[39m, \u001b[0m\u001b[32m'\u001b[0m\u001b[32m)\u001b[0m\u001b[32m'\u001b[0m\u001b[39m, \u001b[0m\u001b[32m'\u001b[0m\u001b[32m(\u001b[0m\u001b[32m'\u001b[0m\u001b[39m, \u001b[0m\u001b[32m'\u001b[0m\u001b[32m)\u001b[0m\u001b[32m'\u001b[0m\u001b[39m, \u001b[0m\u001b[32m'\u001b[0m\u001b[32m)\u001b[0m\u001b[32m'\u001b[0m\u001b[39m, \u001b[0m\u001b[32m'\u001b[0m\u001b[32m(\u001b[0m\u001b[32m'\u001b[0m\u001b[39m, \u001b[0m\n",
       "\u001b[32m'\u001b[0m\u001b[32m(\u001b[0m\u001b[32m'\u001b[0m\u001b[39m, \u001b[0m\u001b[32m'\u001b[0m\u001b[32m)\u001b[0m\u001b[32m'\u001b[0m\u001b[39m, \u001b[0m\u001b[32m'\u001b[0m\u001b[32m)\u001b[0m\u001b[32m'\u001b[0m\u001b[39m, \u001b[0m\u001b[32m'\u001b[0m\u001b[32m>\u001b[0m\u001b[32m'\u001b[0m, \u001b[32m'\u001b[0m\u001b[32m)\u001b[0m\u001b[32m'\u001b[0m, \u001b[32m'\u001b[0m\u001b[32m<\u001b[0m\u001b[32m'\u001b[0m\u001b[39m, \u001b[0m\u001b[32m'\u001b[0m\u001b[32m(\u001b[0m\u001b[32m'\u001b[0m\u001b[39m, \u001b[0m\u001b[32m'\u001b[0m\u001b[32m(\u001b[0m\u001b[32m'\u001b[0m\u001b[39m, \u001b[0m\u001b[32m'\u001b[0m\u001b[32m[\u001b[0m\u001b[32m'\u001b[0m\u001b[39m, \u001b[0m\u001b[32m'\u001b[0m\u001b[32m]\u001b[0m\u001b[32m'\u001b[0m\u001b[39m, \u001b[0m\u001b[32m'\u001b[0m\u001b[32m(\u001b[0m\u001b[32m'\u001b[0m\u001b[39m, \u001b[0m\u001b[32m'\u001b[0m\u001b[32m)\u001b[0m\u001b[32m'\u001b[0m\u001b[39m, \u001b[0m\u001b[32m'\u001b[0m\u001b[32m)\u001b[0m\u001b[32m'\u001b[0m\u001b[39m, \u001b[0m\u001b[32m'\u001b[0m\u001b[32m)\u001b[0m\u001b[32m'\u001b[0m\u001b[39m, \u001b[0m\u001b[32m'\u001b[0m\u001b[32m{\u001b[0m\u001b[32m'\u001b[0m\u001b[39m, \u001b[0m\u001b[32m'<'\u001b[0m\u001b[39m, \u001b[0m\u001b[32m'\u001b[0m\u001b[32m(\u001b[0m\u001b[32m'\u001b[0m\u001b[39m, \u001b[0m\u001b[32m'\u001b[0m\u001b[32m)\u001b[0m\u001b[32m'\u001b[0m\u001b[39m, \u001b[0m\n",
       "\u001b[32m'\u001b[0m\u001b[32m(\u001b[0m\u001b[32m'\u001b[0m\u001b[39m, \u001b[0m\u001b[32m'\u001b[0m\u001b[32m)\u001b[0m\u001b[32m'\u001b[0m\u001b[39m, \u001b[0m\u001b[32m'\u001b[0m\u001b[32m>\u001b[0m\u001b[32m'\u001b[0m, \u001b[32m'\u001b[0m\u001b[32m<\u001b[0m\u001b[32m'\u001b[0m\u001b[39m, \u001b[0m\u001b[32m'\u001b[0m\u001b[32m{\u001b[0m\u001b[32m'\u001b[0m\u001b[39m, \u001b[0m\u001b[32m'\u001b[0m\u001b[32m}\u001b[0m\u001b[32m'\u001b[0m\u001b[39m, \u001b[0m\u001b[32m'<'\u001b[0m\u001b[39m, \u001b[0m\u001b[32m'\u001b[0m\u001b[32m>\u001b[0m\u001b[32m'\u001b[0m, \u001b[32m'\u001b[0m\u001b[32m)\u001b[0m\u001b[32m'\u001b[0m, \u001b[32m'\u001b[0m\u001b[32m}\u001b[0m\u001b[32m'\u001b[0m, \u001b[32m'>'\u001b[0m, \u001b[32m'\u001b[0m\u001b[32m]\u001b[0m\u001b[32m'\u001b[0m, \u001b[32m'\u001b[0m\u001b[32m[\u001b[0m\u001b[32m'\u001b[0m, \u001b[32m'\u001b[0m\u001b[32m(\u001b[0m\u001b[32m'\u001b[0m, \u001b[32m'\u001b[0m\u001b[32m(\u001b[0m\u001b[32m'\u001b[0m, \u001b[32m'\u001b[0m\u001b[32m(\u001b[0m\u001b[32m'\u001b[0m, \u001b[32m'\u001b[0m\u001b[32m(\u001b[0m\u001b[32m'\u001b[0m, \u001b[32m'\u001b[0m\u001b[32m)\u001b[0m\u001b[32m'\u001b[0m, \n",
       "\u001b[32m'\u001b[0m\u001b[32m<\u001b[0m\u001b[32m'\u001b[0m\u001b[39m, \u001b[0m\u001b[32m'\u001b[0m\u001b[32m>\u001b[0m\u001b[32m'\u001b[0m, \u001b[32m'\u001b[0m\u001b[32m)\u001b[0m\u001b[32m'\u001b[0m, \u001b[32m'\u001b[0m\u001b[32m[\u001b[0m\u001b[32m'\u001b[0m, \u001b[32m'\u001b[0m\u001b[32m{\u001b[0m\u001b[32m'\u001b[0m, \u001b[32m'\u001b[0m\u001b[32m}\u001b[0m\u001b[32m'\u001b[0m, \u001b[32m'\u001b[0m\u001b[32m{\u001b[0m\u001b[32m'\u001b[0m, \u001b[32m'\u001b[0m\u001b[32m}\u001b[0m\u001b[32m'\u001b[0m, \u001b[32m'\u001b[0m\u001b[32m]\u001b[0m\u001b[32m'\u001b[0m, \u001b[32m'\u001b[0m\u001b[32m)\u001b[0m\u001b[32m'\u001b[0m, \u001b[32m'\u001b[0m\u001b[32m{\u001b[0m\u001b[32m'\u001b[0m, \u001b[32m'\u001b[0m\u001b[32m<\u001b[0m\u001b[32m'\u001b[0m\u001b[39m, \u001b[0m\u001b[32m'\u001b[0m\u001b[32m[\u001b[0m\u001b[32m'\u001b[0m\u001b[39m, \u001b[0m\u001b[32m'\u001b[0m\u001b[32m]\u001b[0m\u001b[32m'\u001b[0m\u001b[39m, \u001b[0m\u001b[32m'<'\u001b[0m\u001b[39m, \u001b[0m\u001b[32m'\u001b[0m\u001b[32m>\u001b[0m\u001b[32m'\u001b[0m, \u001b[32m'>'\u001b[0m, \u001b[32m'\u001b[0m\u001b[32m(\u001b[0m\u001b[32m'\u001b[0m, \n",
       "\u001b[32m'\u001b[0m\u001b[32m{\u001b[0m\u001b[32m'\u001b[0m, \u001b[32m'\u001b[0m\u001b[32m}\u001b[0m\u001b[32m'\u001b[0m, \u001b[32m'\u001b[0m\u001b[32m{\u001b[0m\u001b[32m'\u001b[0m, \u001b[32m'\u001b[0m\u001b[32m}\u001b[0m\u001b[32m'\u001b[0m, \u001b[32m'\u001b[0m\u001b[32m)\u001b[0m\u001b[32m'\u001b[0m, \u001b[32m'\u001b[0m\u001b[32m}\u001b[0m\u001b[32m'\u001b[0m, \u001b[32m'\u001b[0m\u001b[32m)\u001b[0m\u001b[32m'\u001b[0m, \u001b[32m'\u001b[0m\u001b[32m]\u001b[0m\u001b[32m'\u001b[0m, \u001b[32m'>'\u001b[0m, \u001b[32m'\u001b[0m\u001b[32m)\u001b[0m\u001b[32m'\u001b[0m, \u001b[32m'\u001b[0m\u001b[32m[\u001b[0m\u001b[32m'\u001b[0m, \u001b[32m'\u001b[0m\u001b[32m(\u001b[0m\u001b[32m'\u001b[0m, \u001b[32m'\u001b[0m\u001b[32m(\u001b[0m\u001b[32m'\u001b[0m, \u001b[32m'\u001b[0m\u001b[32m{\u001b[0m\u001b[32m'\u001b[0m, \u001b[32m'\u001b[0m\u001b[32m(\u001b[0m\u001b[32m'\u001b[0m, \u001b[32m'\u001b[0m\u001b[32m[\u001b[0m\u001b[32m'\u001b[0m, \u001b[32m'\u001b[0m\u001b[32m{\u001b[0m\u001b[32m'\u001b[0m, \u001b[32m'\u001b[0m\u001b[32m}\u001b[0m\u001b[32m'\u001b[0m, \n",
       "\u001b[32m'\u001b[0m\u001b[32m[\u001b[0m\u001b[32m'\u001b[0m, \u001b[32m'\u001b[0m\u001b[32m]\u001b[0m\u001b[32m'\u001b[0m, \u001b[32m'\u001b[0m\u001b[32m]\u001b[0m\u001b[32m'\u001b[0m\u001b[1m]\u001b[0m\n"
      ]
     },
     "metadata": {},
     "output_type": "display_data"
    },
    {
     "data": {
      "text/html": [
       "<pre style=\"white-space:pre;overflow-x:auto;line-height:normal;font-family:Menlo,'DejaVu Sans Mono',consolas,'Courier New',monospace\">Last line: <span style=\"font-weight: bold\">[</span><span style=\"color: #008000; text-decoration-color: #008000\">'['</span>, <span style=\"color: #008000; text-decoration-color: #008000\">'('</span>, <span style=\"color: #008000; text-decoration-color: #008000\">'&lt;'</span><span style=\"color: #000000; text-decoration-color: #000000\">, </span><span style=\"color: #008000; text-decoration-color: #008000\">'['</span><span style=\"color: #000000; text-decoration-color: #000000\">, </span><span style=\"color: #008000; text-decoration-color: #008000\">'('</span><span style=\"color: #000000; text-decoration-color: #000000\">, </span><span style=\"color: #008000; text-decoration-color: #008000\">'['</span><span style=\"color: #000000; text-decoration-color: #000000\">, </span><span style=\"color: #008000; text-decoration-color: #008000\">'('</span><span style=\"color: #000000; text-decoration-color: #000000\">, </span><span style=\"color: #008000; text-decoration-color: #008000\">'['</span><span style=\"color: #000000; text-decoration-color: #000000\">, </span><span style=\"color: #008000; text-decoration-color: #008000\">'{'</span><span style=\"color: #000000; text-decoration-color: #000000\">, </span><span style=\"color: #008000; text-decoration-color: #008000\">'{'</span><span style=\"color: #000000; text-decoration-color: #000000\">, </span><span style=\"color: #008000; text-decoration-color: #008000\">'{'</span><span style=\"color: #000000; text-decoration-color: #000000\">, </span><span style=\"color: #008000; text-decoration-color: #008000\">'&lt;'</span><span style=\"color: #000000; text-decoration-color: #000000\">, </span><span style=\"color: #008000; text-decoration-color: #008000\">'('</span><span style=\"color: #000000; text-decoration-color: #000000\">, </span><span style=\"color: #008000; text-decoration-color: #008000\">'['</span><span style=\"color: #000000; text-decoration-color: #000000\">, </span><span style=\"color: #008000; text-decoration-color: #008000\">'['</span><span style=\"color: #000000; text-decoration-color: #000000\">, </span><span style=\"color: #008000; text-decoration-color: #008000\">']'</span><span style=\"color: #000000; text-decoration-color: #000000\">, </span>\n",
       "<span style=\"color: #008000; text-decoration-color: #008000\">'&lt;'</span><span style=\"color: #000000; text-decoration-color: #000000\">, </span><span style=\"color: #008000; text-decoration-color: #008000\">'&gt;'</span>, <span style=\"color: #008000; text-decoration-color: #008000\">']'</span>, <span style=\"color: #008000; text-decoration-color: #008000\">'&lt;'</span><span style=\"color: #000000; text-decoration-color: #000000\">, </span><span style=\"color: #008000; text-decoration-color: #008000\">'&lt;'</span><span style=\"color: #000000; text-decoration-color: #000000\">, </span><span style=\"color: #008000; text-decoration-color: #008000\">'&gt;'</span>, <span style=\"color: #008000; text-decoration-color: #008000\">'&gt;'</span>, <span style=\"color: #008000; text-decoration-color: #008000\">')'</span>, <span style=\"color: #008000; text-decoration-color: #008000\">'['</span>, <span style=\"color: #008000; text-decoration-color: #008000\">'{'</span>, <span style=\"color: #008000; text-decoration-color: #008000\">'&lt;'</span><span style=\"color: #000000; text-decoration-color: #000000\">, </span><span style=\"color: #008000; text-decoration-color: #008000\">'&gt;'</span>, <span style=\"color: #008000; text-decoration-color: #008000\">'['</span>, <span style=\"color: #008000; text-decoration-color: #008000\">']'</span>, <span style=\"color: #008000; text-decoration-color: #008000\">'}'</span>, <span style=\"color: #008000; text-decoration-color: #008000\">'{'</span>, <span style=\"color: #008000; text-decoration-color: #008000\">'{'</span>, <span style=\"color: #008000; text-decoration-color: #008000\">'}'</span>, \n",
       "<span style=\"color: #008000; text-decoration-color: #008000\">'&lt;'</span><span style=\"color: #000000; text-decoration-color: #000000\">, </span><span style=\"color: #008000; text-decoration-color: #008000\">'&gt;'</span>, <span style=\"color: #008000; text-decoration-color: #008000\">'}'</span>, <span style=\"color: #008000; text-decoration-color: #008000\">']'</span>, <span style=\"color: #008000; text-decoration-color: #008000\">'}'</span>, <span style=\"color: #008000; text-decoration-color: #008000\">'('</span>, <span style=\"color: #008000; text-decoration-color: #008000\">'{'</span>, <span style=\"color: #008000; text-decoration-color: #008000\">'('</span>, <span style=\"color: #008000; text-decoration-color: #008000\">'('</span>, <span style=\"color: #008000; text-decoration-color: #008000\">')'</span>, <span style=\"color: #008000; text-decoration-color: #008000\">')'</span>, <span style=\"color: #008000; text-decoration-color: #008000\">'['</span>, <span style=\"color: #008000; text-decoration-color: #008000\">'{'</span>, <span style=\"color: #008000; text-decoration-color: #008000\">'}'</span>, <span style=\"color: #008000; text-decoration-color: #008000\">'('</span>, <span style=\"color: #008000; text-decoration-color: #008000\">')'</span>, <span style=\"color: #008000; text-decoration-color: #008000\">']'</span>, <span style=\"color: #008000; text-decoration-color: #008000\">'}'</span>, \n",
       "<span style=\"color: #008000; text-decoration-color: #008000\">'['</span>, <span style=\"color: #008000; text-decoration-color: #008000\">'&lt;'</span><span style=\"color: #000000; text-decoration-color: #000000\">, </span><span style=\"color: #008000; text-decoration-color: #008000\">'{'</span><span style=\"color: #000000; text-decoration-color: #000000\">, </span><span style=\"color: #008000; text-decoration-color: #008000\">'}'</span><span style=\"color: #000000; text-decoration-color: #000000\">, </span><span style=\"color: #008000; text-decoration-color: #008000\">'&lt;'</span><span style=\"color: #000000; text-decoration-color: #000000\">, </span><span style=\"color: #008000; text-decoration-color: #008000\">'&gt;'</span>, <span style=\"color: #008000; text-decoration-color: #008000\">'&gt;'</span>, <span style=\"color: #008000; text-decoration-color: #008000\">'{'</span>, <span style=\"color: #008000; text-decoration-color: #008000\">'&lt;'</span><span style=\"color: #000000; text-decoration-color: #000000\">, </span><span style=\"color: #008000; text-decoration-color: #008000\">'&gt;'</span>, <span style=\"color: #008000; text-decoration-color: #008000\">'('</span>, <span style=\"color: #008000; text-decoration-color: #008000\">')'</span>, <span style=\"color: #008000; text-decoration-color: #008000\">'}'</span>, <span style=\"color: #008000; text-decoration-color: #008000\">']'</span>, <span style=\"color: #008000; text-decoration-color: #008000\">')'</span>, <span style=\"color: #008000; text-decoration-color: #008000\">'}'</span>, <span style=\"color: #008000; text-decoration-color: #008000\">'('</span>, <span style=\"color: #008000; text-decoration-color: #008000\">'['</span>, \n",
       "<span style=\"color: #008000; text-decoration-color: #008000\">'&lt;'</span><span style=\"color: #000000; text-decoration-color: #000000\">, </span><span style=\"color: #008000; text-decoration-color: #008000\">'['</span><span style=\"color: #000000; text-decoration-color: #000000\">, </span><span style=\"color: #008000; text-decoration-color: #008000\">'('</span><span style=\"color: #000000; text-decoration-color: #000000\">, </span><span style=\"color: #008000; text-decoration-color: #008000\">')'</span><span style=\"color: #000000; text-decoration-color: #000000\">, </span><span style=\"color: #008000; text-decoration-color: #008000\">'{'</span><span style=\"color: #000000; text-decoration-color: #000000\">, </span><span style=\"color: #008000; text-decoration-color: #008000\">'}'</span><span style=\"color: #000000; text-decoration-color: #000000\">, </span><span style=\"color: #008000; text-decoration-color: #008000\">']'</span><span style=\"color: #000000; text-decoration-color: #000000\">, </span><span style=\"color: #008000; text-decoration-color: #008000\">'('</span><span style=\"color: #000000; text-decoration-color: #000000\">, </span><span style=\"color: #008000; text-decoration-color: #008000\">'['</span><span style=\"color: #000000; text-decoration-color: #000000\">, </span><span style=\"color: #008000; text-decoration-color: #008000\">']'</span><span style=\"color: #000000; text-decoration-color: #000000\">, </span><span style=\"color: #008000; text-decoration-color: #008000\">'['</span><span style=\"color: #000000; text-decoration-color: #000000\">, </span><span style=\"color: #008000; text-decoration-color: #008000\">']'</span><span style=\"color: #000000; text-decoration-color: #000000\">, </span><span style=\"color: #008000; text-decoration-color: #008000\">')'</span><span style=\"color: #000000; text-decoration-color: #000000\">, </span><span style=\"color: #008000; text-decoration-color: #008000\">'&gt;'</span>, <span style=\"color: #008000; text-decoration-color: #008000\">'&lt;'</span>, <span style=\"color: #008000; text-decoration-color: #008000\">'('</span>, <span style=\"color: #008000; text-decoration-color: #008000\">'('</span>, <span style=\"color: #008000; text-decoration-color: #008000\">')'</span>, \n",
       "<span style=\"color: #008000; text-decoration-color: #008000\">'('</span>, <span style=\"color: #008000; text-decoration-color: #008000\">')'</span>, <span style=\"color: #008000; text-decoration-color: #008000\">')'</span><span style=\"font-weight: bold\">]</span>\n",
       "</pre>\n"
      ],
      "text/plain": [
       "Last line: \u001b[1m[\u001b[0m\u001b[32m'\u001b[0m\u001b[32m[\u001b[0m\u001b[32m'\u001b[0m, \u001b[32m'\u001b[0m\u001b[32m(\u001b[0m\u001b[32m'\u001b[0m, \u001b[32m'\u001b[0m\u001b[32m<\u001b[0m\u001b[32m'\u001b[0m\u001b[39m, \u001b[0m\u001b[32m'\u001b[0m\u001b[32m[\u001b[0m\u001b[32m'\u001b[0m\u001b[39m, \u001b[0m\u001b[32m'\u001b[0m\u001b[32m(\u001b[0m\u001b[32m'\u001b[0m\u001b[39m, \u001b[0m\u001b[32m'\u001b[0m\u001b[32m[\u001b[0m\u001b[32m'\u001b[0m\u001b[39m, \u001b[0m\u001b[32m'\u001b[0m\u001b[32m(\u001b[0m\u001b[32m'\u001b[0m\u001b[39m, \u001b[0m\u001b[32m'\u001b[0m\u001b[32m[\u001b[0m\u001b[32m'\u001b[0m\u001b[39m, \u001b[0m\u001b[32m'\u001b[0m\u001b[32m{\u001b[0m\u001b[32m'\u001b[0m\u001b[39m, \u001b[0m\u001b[32m'\u001b[0m\u001b[32m{\u001b[0m\u001b[32m'\u001b[0m\u001b[39m, \u001b[0m\u001b[32m'\u001b[0m\u001b[32m{\u001b[0m\u001b[32m'\u001b[0m\u001b[39m, \u001b[0m\u001b[32m'<'\u001b[0m\u001b[39m, \u001b[0m\u001b[32m'\u001b[0m\u001b[32m(\u001b[0m\u001b[32m'\u001b[0m\u001b[39m, \u001b[0m\u001b[32m'\u001b[0m\u001b[32m[\u001b[0m\u001b[32m'\u001b[0m\u001b[39m, \u001b[0m\u001b[32m'\u001b[0m\u001b[32m[\u001b[0m\u001b[32m'\u001b[0m\u001b[39m, \u001b[0m\u001b[32m'\u001b[0m\u001b[32m]\u001b[0m\u001b[32m'\u001b[0m\u001b[39m, \u001b[0m\n",
       "\u001b[32m'<'\u001b[0m\u001b[39m, \u001b[0m\u001b[32m'\u001b[0m\u001b[32m>\u001b[0m\u001b[32m'\u001b[0m, \u001b[32m'\u001b[0m\u001b[32m]\u001b[0m\u001b[32m'\u001b[0m, \u001b[32m'\u001b[0m\u001b[32m<\u001b[0m\u001b[32m'\u001b[0m\u001b[39m, \u001b[0m\u001b[32m'<'\u001b[0m\u001b[39m, \u001b[0m\u001b[32m'\u001b[0m\u001b[32m>\u001b[0m\u001b[32m'\u001b[0m, \u001b[32m'>'\u001b[0m, \u001b[32m'\u001b[0m\u001b[32m)\u001b[0m\u001b[32m'\u001b[0m, \u001b[32m'\u001b[0m\u001b[32m[\u001b[0m\u001b[32m'\u001b[0m, \u001b[32m'\u001b[0m\u001b[32m{\u001b[0m\u001b[32m'\u001b[0m, \u001b[32m'\u001b[0m\u001b[32m<\u001b[0m\u001b[32m'\u001b[0m\u001b[39m, \u001b[0m\u001b[32m'\u001b[0m\u001b[32m>\u001b[0m\u001b[32m'\u001b[0m, \u001b[32m'\u001b[0m\u001b[32m[\u001b[0m\u001b[32m'\u001b[0m, \u001b[32m'\u001b[0m\u001b[32m]\u001b[0m\u001b[32m'\u001b[0m, \u001b[32m'\u001b[0m\u001b[32m}\u001b[0m\u001b[32m'\u001b[0m, \u001b[32m'\u001b[0m\u001b[32m{\u001b[0m\u001b[32m'\u001b[0m, \u001b[32m'\u001b[0m\u001b[32m{\u001b[0m\u001b[32m'\u001b[0m, \u001b[32m'\u001b[0m\u001b[32m}\u001b[0m\u001b[32m'\u001b[0m, \n",
       "\u001b[32m'\u001b[0m\u001b[32m<\u001b[0m\u001b[32m'\u001b[0m\u001b[39m, \u001b[0m\u001b[32m'\u001b[0m\u001b[32m>\u001b[0m\u001b[32m'\u001b[0m, \u001b[32m'\u001b[0m\u001b[32m}\u001b[0m\u001b[32m'\u001b[0m, \u001b[32m'\u001b[0m\u001b[32m]\u001b[0m\u001b[32m'\u001b[0m, \u001b[32m'\u001b[0m\u001b[32m}\u001b[0m\u001b[32m'\u001b[0m, \u001b[32m'\u001b[0m\u001b[32m(\u001b[0m\u001b[32m'\u001b[0m, \u001b[32m'\u001b[0m\u001b[32m{\u001b[0m\u001b[32m'\u001b[0m, \u001b[32m'\u001b[0m\u001b[32m(\u001b[0m\u001b[32m'\u001b[0m, \u001b[32m'\u001b[0m\u001b[32m(\u001b[0m\u001b[32m'\u001b[0m, \u001b[32m'\u001b[0m\u001b[32m)\u001b[0m\u001b[32m'\u001b[0m, \u001b[32m'\u001b[0m\u001b[32m)\u001b[0m\u001b[32m'\u001b[0m, \u001b[32m'\u001b[0m\u001b[32m[\u001b[0m\u001b[32m'\u001b[0m, \u001b[32m'\u001b[0m\u001b[32m{\u001b[0m\u001b[32m'\u001b[0m, \u001b[32m'\u001b[0m\u001b[32m}\u001b[0m\u001b[32m'\u001b[0m, \u001b[32m'\u001b[0m\u001b[32m(\u001b[0m\u001b[32m'\u001b[0m, \u001b[32m'\u001b[0m\u001b[32m)\u001b[0m\u001b[32m'\u001b[0m, \u001b[32m'\u001b[0m\u001b[32m]\u001b[0m\u001b[32m'\u001b[0m, \u001b[32m'\u001b[0m\u001b[32m}\u001b[0m\u001b[32m'\u001b[0m, \n",
       "\u001b[32m'\u001b[0m\u001b[32m[\u001b[0m\u001b[32m'\u001b[0m, \u001b[32m'\u001b[0m\u001b[32m<\u001b[0m\u001b[32m'\u001b[0m\u001b[39m, \u001b[0m\u001b[32m'\u001b[0m\u001b[32m{\u001b[0m\u001b[32m'\u001b[0m\u001b[39m, \u001b[0m\u001b[32m'\u001b[0m\u001b[32m}\u001b[0m\u001b[32m'\u001b[0m\u001b[39m, \u001b[0m\u001b[32m'<'\u001b[0m\u001b[39m, \u001b[0m\u001b[32m'\u001b[0m\u001b[32m>\u001b[0m\u001b[32m'\u001b[0m, \u001b[32m'>'\u001b[0m, \u001b[32m'\u001b[0m\u001b[32m{\u001b[0m\u001b[32m'\u001b[0m, \u001b[32m'\u001b[0m\u001b[32m<\u001b[0m\u001b[32m'\u001b[0m\u001b[39m, \u001b[0m\u001b[32m'\u001b[0m\u001b[32m>\u001b[0m\u001b[32m'\u001b[0m, \u001b[32m'\u001b[0m\u001b[32m(\u001b[0m\u001b[32m'\u001b[0m, \u001b[32m'\u001b[0m\u001b[32m)\u001b[0m\u001b[32m'\u001b[0m, \u001b[32m'\u001b[0m\u001b[32m}\u001b[0m\u001b[32m'\u001b[0m, \u001b[32m'\u001b[0m\u001b[32m]\u001b[0m\u001b[32m'\u001b[0m, \u001b[32m'\u001b[0m\u001b[32m)\u001b[0m\u001b[32m'\u001b[0m, \u001b[32m'\u001b[0m\u001b[32m}\u001b[0m\u001b[32m'\u001b[0m, \u001b[32m'\u001b[0m\u001b[32m(\u001b[0m\u001b[32m'\u001b[0m, \u001b[32m'\u001b[0m\u001b[32m[\u001b[0m\u001b[32m'\u001b[0m, \n",
       "\u001b[32m'\u001b[0m\u001b[32m<\u001b[0m\u001b[32m'\u001b[0m\u001b[39m, \u001b[0m\u001b[32m'\u001b[0m\u001b[32m[\u001b[0m\u001b[32m'\u001b[0m\u001b[39m, \u001b[0m\u001b[32m'\u001b[0m\u001b[32m(\u001b[0m\u001b[32m'\u001b[0m\u001b[39m, \u001b[0m\u001b[32m'\u001b[0m\u001b[32m)\u001b[0m\u001b[32m'\u001b[0m\u001b[39m, \u001b[0m\u001b[32m'\u001b[0m\u001b[32m{\u001b[0m\u001b[32m'\u001b[0m\u001b[39m, \u001b[0m\u001b[32m'\u001b[0m\u001b[32m}\u001b[0m\u001b[32m'\u001b[0m\u001b[39m, \u001b[0m\u001b[32m'\u001b[0m\u001b[32m]\u001b[0m\u001b[32m'\u001b[0m\u001b[39m, \u001b[0m\u001b[32m'\u001b[0m\u001b[32m(\u001b[0m\u001b[32m'\u001b[0m\u001b[39m, \u001b[0m\u001b[32m'\u001b[0m\u001b[32m[\u001b[0m\u001b[32m'\u001b[0m\u001b[39m, \u001b[0m\u001b[32m'\u001b[0m\u001b[32m]\u001b[0m\u001b[32m'\u001b[0m\u001b[39m, \u001b[0m\u001b[32m'\u001b[0m\u001b[32m[\u001b[0m\u001b[32m'\u001b[0m\u001b[39m, \u001b[0m\u001b[32m'\u001b[0m\u001b[32m]\u001b[0m\u001b[32m'\u001b[0m\u001b[39m, \u001b[0m\u001b[32m'\u001b[0m\u001b[32m)\u001b[0m\u001b[32m'\u001b[0m\u001b[39m, \u001b[0m\u001b[32m'\u001b[0m\u001b[32m>\u001b[0m\u001b[32m'\u001b[0m, \u001b[32m'<'\u001b[0m, \u001b[32m'\u001b[0m\u001b[32m(\u001b[0m\u001b[32m'\u001b[0m, \u001b[32m'\u001b[0m\u001b[32m(\u001b[0m\u001b[32m'\u001b[0m, \u001b[32m'\u001b[0m\u001b[32m)\u001b[0m\u001b[32m'\u001b[0m, \n",
       "\u001b[32m'\u001b[0m\u001b[32m(\u001b[0m\u001b[32m'\u001b[0m, \u001b[32m'\u001b[0m\u001b[32m)\u001b[0m\u001b[32m'\u001b[0m, \u001b[32m'\u001b[0m\u001b[32m)\u001b[0m\u001b[32m'\u001b[0m\u001b[1m]\u001b[0m\n"
      ]
     },
     "metadata": {},
     "output_type": "display_data"
    },
    {
     "data": {
      "text/html": [
       "<pre style=\"white-space:pre;overflow-x:auto;line-height:normal;font-family:Menlo,'DejaVu Sans Mono',consolas,'Courier New',monospace\">------\n",
       "</pre>\n"
      ],
      "text/plain": [
       "------\n"
      ]
     },
     "metadata": {},
     "output_type": "display_data"
    }
   ],
   "source": [
    "fp = \"input.txt\"\n",
    "lines = read_file_to_str_li(fp)\n",
    "\n",
    "print(\"Convert to:\")\n",
    "\n",
    "# head = convert_str_li_to_other_li(\n",
    "#     lines, pattern=\"i\", per_letter=False, sep=\",\", start_row=0, end_row=1\n",
    "# )\n",
    "\n",
    "# print(f\"Head:\\n{head}\")\n",
    "\n",
    "data = convert_str_li_to_other_li(\n",
    "    lines, pattern=\"s\", per_letter=True, sep=\" \", start_row=None, end_row=None\n",
    ")\n",
    "\n",
    "# data = convert_str_li_to_other_li(\n",
    "#     lines, pattern=\"s\", per_letter=False, sep=\" | \", start_row=None, end_row=None\n",
    "# )\n",
    "# data = convert_str_li_to_other_li(\n",
    "#     lines, pattern=\"i\", per_letter=False, sep=\",\", start_row=None, end_row=None\n",
    "# )\n",
    "# data = convert_str_li_to_other_li(\n",
    "#     lines, pattern=\"s\", per_letter=False, sep=\" -> \", start_row=None, end_row=None\n",
    "# )\n",
    "# data = convert_str_li_to_other_li(\n",
    "#     lines, pattern=\"i\", per_letter=False, sep=\" \", start_row=2, end_row=None\n",
    "# )\n",
    "# data = convert_str_li_to_other_li(\n",
    "#     lines, pattern=\"si\", per_letter=False, sep=\" \", start_row=0, end_row=None\n",
    "# )\n",
    "# data = convert_str_li_to_other_li(\n",
    "#     lines, pattern=\"i\", per_letter=True, sep=\" \", start_row=0, end_row=None\n",
    "# )\n",
    "\n",
    "print(f\"First line: {data[0]}\")\n",
    "print(f\"Last line: {data[-1]}\")\n",
    "print(\"-\" * 6)"
   ]
  },
  {
   "cell_type": "code",
   "execution_count": 4,
   "id": "entitled-aging",
   "metadata": {},
   "outputs": [
    {
     "data": {
      "text/html": [
       "<pre style=\"white-space:pre;overflow-x:auto;line-height:normal;font-family:Menlo,'DejaVu Sans Mono',consolas,'Courier New',monospace\">Answer to Q1: <span style=\"color: #008080; text-decoration-color: #008080; font-weight: bold\">294195</span>\n",
       "</pre>\n"
      ],
      "text/plain": [
       "Answer to Q1: \u001b[1;36m294195\u001b[0m\n"
      ]
     },
     "metadata": {},
     "output_type": "display_data"
    }
   ],
   "source": [
    "score_map = {\n",
    "    \"{\": 1197,\n",
    "    \"[\": 57,\n",
    "    \"<\": 25137,\n",
    "    \"(\": 3,\n",
    "    \"}\": -1197,\n",
    "    \"]\": -57,\n",
    "    \">\": -25137,\n",
    "    \")\": -3,\n",
    "}\n",
    "\n",
    "new_lines = []\n",
    "for line in data:\n",
    "    digi_line = [score_map[i] for i in line]\n",
    "    while True:\n",
    "        list_to_pop = []\n",
    "        for idx in range(len(digi_line) - 1):\n",
    "            if (digi_line[idx] > 0) and (digi_line[idx] + digi_line[idx + 1] == 0):\n",
    "                list_to_pop.extend([idx, idx + 1])\n",
    "        digi_line = np.delete(digi_line, list_to_pop)\n",
    "        if len(list_to_pop) == 0:\n",
    "            break\n",
    "    new_lines.append(digi_line)\n",
    "    \n",
    "q1 = np.sum(\n",
    "    [\n",
    "        -digi_line[np.argmax(digi_line < 0)] if np.any(digi_line < 0) else 0\n",
    "        for digi_line in new_lines\n",
    "    ]\n",
    ")\n",
    "    \n",
    "print(f\"Answer to Q1: {q1}\")"
   ]
  },
  {
   "cell_type": "code",
   "execution_count": 5,
   "id": "automated-continuity",
   "metadata": {},
   "outputs": [
    {
     "data": {
      "text/html": [
       "<pre style=\"white-space:pre;overflow-x:auto;line-height:normal;font-family:Menlo,'DejaVu Sans Mono',consolas,'Courier New',monospace\">Answer to Q2: <span style=\"color: #008080; text-decoration-color: #008080; font-weight: bold\">3490802734</span>\n",
       "</pre>\n"
      ],
      "text/plain": [
       "Answer to Q2: \u001b[1;36m3490802734\u001b[0m\n"
      ]
     },
     "metadata": {},
     "output_type": "display_data"
    }
   ],
   "source": [
    "new_score_map = {1197: 3, 57: 2, 3: 1, 25137: 4}\n",
    "\n",
    "scores = []\n",
    "for digi_line in new_lines:\n",
    "    score = np.int64(0)\n",
    "    if np.any(digi_line < 0):\n",
    "        continue\n",
    "    digi_line = np.flip([new_score_map[d] for d in digi_line])\n",
    "    for s in digi_line:\n",
    "        score = score*5 + s\n",
    "    scores.append(score)\n",
    "q2 = int(np.median(scores))\n",
    "print(f\"Answer to Q2: {q2}\")"
   ]
  },
  {
   "cell_type": "code",
   "execution_count": null,
   "id": "athletic-floating",
   "metadata": {},
   "outputs": [],
   "source": []
  },
  {
   "cell_type": "code",
   "execution_count": null,
   "id": "sexual-forty",
   "metadata": {},
   "outputs": [],
   "source": []
  }
 ],
 "metadata": {
  "kernelspec": {
   "display_name": "Python [conda env:.conda-ds38]",
   "language": "python",
   "name": "conda-env-.conda-ds38-py"
  },
  "language_info": {
   "codemirror_mode": {
    "name": "ipython",
    "version": 3
   },
   "file_extension": ".py",
   "mimetype": "text/x-python",
   "name": "python",
   "nbconvert_exporter": "python",
   "pygments_lexer": "ipython3",
   "version": "3.8.10"
  }
 },
 "nbformat": 4,
 "nbformat_minor": 5
}
