{
 "cells": [
  {
   "cell_type": "raw",
   "id": "reserved-subscriber",
   "metadata": {},
   "source": [
    "--- Day 5: Hydrothermal Venture ---\n",
    "You come across a field of hydrothermal vents on the ocean floor! These vents constantly produce large, opaque clouds, so it would be best to avoid them if possible.\n",
    "\n",
    "They tend to form in lines; the submarine helpfully produces a list of nearby lines of vents (your puzzle input) for you to review. For example:\n",
    "\n",
    "0,9 -> 5,9\n",
    "8,0 -> 0,8\n",
    "9,4 -> 3,4\n",
    "2,2 -> 2,1\n",
    "7,0 -> 7,4\n",
    "6,4 -> 2,0\n",
    "0,9 -> 2,9\n",
    "3,4 -> 1,4\n",
    "0,0 -> 8,8\n",
    "5,5 -> 8,2\n",
    "Each line of vents is given as a line segment in the format x1,y1 -> x2,y2 where x1,y1 are the coordinates of one end the line segment and x2,y2 are the coordinates of the other end. These line segments include the points at both ends. In other words:\n",
    "\n",
    "An entry like 1,1 -> 1,3 covers points 1,1, 1,2, and 1,3.\n",
    "An entry like 9,7 -> 7,7 covers points 9,7, 8,7, and 7,7.\n",
    "For now, only consider horizontal and vertical lines: lines where either x1 = x2 or y1 = y2.\n",
    "\n",
    "So, the horizontal and vertical lines from the above list would produce the following diagram:\n",
    "\n",
    ".......1..\n",
    "..1....1..\n",
    "..1....1..\n",
    ".......1..\n",
    ".112111211\n",
    "..........\n",
    "..........\n",
    "..........\n",
    "..........\n",
    "222111....\n",
    "In this diagram, the top left corner is 0,0 and the bottom right corner is 9,9. Each position is shown as the number of lines which cover that point or . if no line covers that point. The top-left pair of 1s, for example, comes from 2,2 -> 2,1; the very bottom row is formed by the overlapping lines 0,9 -> 5,9 and 0,9 -> 2,9.\n",
    "\n",
    "To avoid the most dangerous areas, you need to determine the number of points where at least two lines overlap. In the above example, this is anywhere in the diagram with a 2 or larger - a total of 5 points.\n",
    "\n",
    "Consider only horizontal and vertical lines. At how many points do at least two lines overlap?\n",
    "\n",
    "Your puzzle answer was 6564.\n",
    "\n",
    "--- Part Two ---\n",
    "Unfortunately, considering only horizontal and vertical lines doesn't give you the full picture; you need to also consider diagonal lines.\n",
    "\n",
    "Because of the limits of the hydrothermal vent mapping system, the lines in your list will only ever be horizontal, vertical, or a diagonal line at exactly 45 degrees. In other words:\n",
    "\n",
    "An entry like 1,1 -> 3,3 covers points 1,1, 2,2, and 3,3.\n",
    "An entry like 9,7 -> 7,9 covers points 9,7, 8,8, and 7,9.\n",
    "Considering all lines from the above example would now produce the following diagram:\n",
    "\n",
    "1.1....11.\n",
    ".111...2..\n",
    "..2.1.111.\n",
    "...1.2.2..\n",
    ".112313211\n",
    "...1.2....\n",
    "..1...1...\n",
    ".1.....1..\n",
    "1.......1.\n",
    "222111....\n",
    "You still need to determine the number of points where at least two lines overlap. In the above example, this is still anywhere in the diagram with a 2 or larger - now a total of 12 points.\n",
    "\n",
    "Consider all of the lines. At how many points do at least two lines overlap?\n",
    "\n",
    "Your puzzle answer was 19172."
   ]
  },
  {
   "cell_type": "code",
   "execution_count": 1,
   "id": "sublime-looking",
   "metadata": {},
   "outputs": [],
   "source": [
    "import warnings\n",
    "\n",
    "warnings.filterwarnings(\"ignore\")\n",
    "\n",
    "import os\n",
    "import re\n",
    "import sys\n",
    "from pathlib import Path\n",
    "\n",
    "import numpy as np\n",
    "import pandas as pd\n",
    "from rich import print\n",
    "from tqdm import tqdm"
   ]
  },
  {
   "cell_type": "code",
   "execution_count": 2,
   "id": "second-catch",
   "metadata": {},
   "outputs": [],
   "source": [
    "def read_file_to_str_li(fp, print_exp=True):\n",
    "    with open(fp, \"r\") as f:\n",
    "        lines = f.read().split(\"\\n\")\n",
    "    if print_exp:\n",
    "        print(f\"Read from {fp}:\")\n",
    "        print(f\"First line: {lines[0]} | Last line: {lines[-1]}\")\n",
    "        print(\"-\" * 6)\n",
    "\n",
    "    return lines\n",
    "\n",
    "\n",
    "# define the function blocks\n",
    "def convert_to_int(input_str):\n",
    "    if input_str == \"\" or input_str == \" \":\n",
    "        return None\n",
    "    return int(input_str)\n",
    "\n",
    "\n",
    "def convert_to_str(input_str):\n",
    "    return str(input_str)\n",
    "\n",
    "\n",
    "# map the inputs to the function blocks\n",
    "converts = {\n",
    "    \"i\": convert_to_int,\n",
    "    \"s\": convert_to_str,\n",
    "}\n",
    "\n",
    "\n",
    "def convert_str_li_to_other_li(\n",
    "    str_li, pattern=\"i\", per_letter=False, sep=\" \", start_row=0, end_row=None\n",
    "):\n",
    "    \"\"\" Convert a list of string to a list of other types\n",
    "    \n",
    "    pattern: a list of types for one item. \n",
    "        'i' for int, 's' for string\n",
    "        'si' means: convert the 1st item to string, the rest to integer\n",
    "        If separated items are more than pattern items,\n",
    "        use the last one from the parttern.\n",
    "    if per_letter=True, ignore sep and separate item per letter\n",
    "    \"\"\"\n",
    "    target_str_li = str_li[start_row:end_row]\n",
    "    # find max item num\n",
    "    max_item_num = 1\n",
    "    if per_letter:\n",
    "        max_item_num = max([len(s) for s in target_str_li])\n",
    "    else:\n",
    "        max_item_num = max([len(s.split(sep)) for s in target_str_li])\n",
    "\n",
    "    # extend the pattern to the max itme num\n",
    "    pattern = (\n",
    "        pattern + f\"{pattern[-1]}\" * (max_item_num - len(pattern))\n",
    "        if max_item_num > len(pattern)\n",
    "        else pattern\n",
    "    )\n",
    "\n",
    "    # convert\n",
    "    if per_letter:\n",
    "        return [\n",
    "            [converts[pattern[idx]](item) for idx, item in enumerate(s)]\n",
    "            for s in target_str_li\n",
    "        ]\n",
    "    else:\n",
    "        if sep == \" \":\n",
    "            return [\n",
    "                [converts[pattern[idx]](item) for idx, item in enumerate(s.split())]\n",
    "                for s in target_str_li\n",
    "            ]\n",
    "        else:\n",
    "            return [\n",
    "                [converts[pattern[idx]](item) for idx, item in enumerate(s.split(sep))]\n",
    "                for s in target_str_li\n",
    "            ]"
   ]
  },
  {
   "cell_type": "code",
   "execution_count": 3,
   "id": "visible-merchandise",
   "metadata": {},
   "outputs": [
    {
     "data": {
      "text/html": [
       "<pre style=\"white-space:pre;overflow-x:auto;line-height:normal;font-family:Menlo,'DejaVu Sans Mono',consolas,'Courier New',monospace\">Read from input.txt:\n",
       "</pre>\n"
      ],
      "text/plain": [
       "Read from input.txt:\n"
      ]
     },
     "metadata": {},
     "output_type": "display_data"
    },
    {
     "data": {
      "text/html": [
       "<pre style=\"white-space:pre;overflow-x:auto;line-height:normal;font-family:Menlo,'DejaVu Sans Mono',consolas,'Courier New',monospace\">First line: <span style=\"color: #008080; text-decoration-color: #008080; font-weight: bold\">529</span>,<span style=\"color: #008080; text-decoration-color: #008080; font-weight: bold\">822</span> -&gt; <span style=\"color: #008080; text-decoration-color: #008080; font-weight: bold\">529</span>,<span style=\"color: #008080; text-decoration-color: #008080; font-weight: bold\">562</span> | Last line: <span style=\"color: #008080; text-decoration-color: #008080; font-weight: bold\">906</span>,<span style=\"color: #008080; text-decoration-color: #008080; font-weight: bold\">28</span> -&gt; <span style=\"color: #008080; text-decoration-color: #008080; font-weight: bold\">906</span>,<span style=\"color: #008080; text-decoration-color: #008080; font-weight: bold\">957</span>\n",
       "</pre>\n"
      ],
      "text/plain": [
       "First line: \u001b[1;36m529\u001b[0m,\u001b[1;36m822\u001b[0m -> \u001b[1;36m529\u001b[0m,\u001b[1;36m562\u001b[0m | Last line: \u001b[1;36m906\u001b[0m,\u001b[1;36m28\u001b[0m -> \u001b[1;36m906\u001b[0m,\u001b[1;36m957\u001b[0m\n"
      ]
     },
     "metadata": {},
     "output_type": "display_data"
    },
    {
     "data": {
      "text/html": [
       "<pre style=\"white-space:pre;overflow-x:auto;line-height:normal;font-family:Menlo,'DejaVu Sans Mono',consolas,'Courier New',monospace\">------\n",
       "</pre>\n"
      ],
      "text/plain": [
       "------\n"
      ]
     },
     "metadata": {},
     "output_type": "display_data"
    },
    {
     "data": {
      "text/html": [
       "<pre style=\"white-space:pre;overflow-x:auto;line-height:normal;font-family:Menlo,'DejaVu Sans Mono',consolas,'Courier New',monospace\">Convert to:\n",
       "</pre>\n"
      ],
      "text/plain": [
       "Convert to:\n"
      ]
     },
     "metadata": {},
     "output_type": "display_data"
    },
    {
     "data": {
      "text/html": [
       "<pre style=\"white-space:pre;overflow-x:auto;line-height:normal;font-family:Menlo,'DejaVu Sans Mono',consolas,'Courier New',monospace\">First line: <span style=\"font-weight: bold\">[</span><span style=\"color: #008000; text-decoration-color: #008000\">'529,822'</span>, <span style=\"color: #008000; text-decoration-color: #008000\">'529,562'</span><span style=\"font-weight: bold\">]</span>\n",
       "</pre>\n"
      ],
      "text/plain": [
       "First line: \u001b[1m[\u001b[0m\u001b[32m'529,822'\u001b[0m, \u001b[32m'529,562'\u001b[0m\u001b[1m]\u001b[0m\n"
      ]
     },
     "metadata": {},
     "output_type": "display_data"
    },
    {
     "data": {
      "text/html": [
       "<pre style=\"white-space:pre;overflow-x:auto;line-height:normal;font-family:Menlo,'DejaVu Sans Mono',consolas,'Courier New',monospace\">Last line: <span style=\"font-weight: bold\">[</span><span style=\"color: #008000; text-decoration-color: #008000\">'906,28'</span>, <span style=\"color: #008000; text-decoration-color: #008000\">'906,957'</span><span style=\"font-weight: bold\">]</span>\n",
       "</pre>\n"
      ],
      "text/plain": [
       "Last line: \u001b[1m[\u001b[0m\u001b[32m'906,28'\u001b[0m, \u001b[32m'906,957'\u001b[0m\u001b[1m]\u001b[0m\n"
      ]
     },
     "metadata": {},
     "output_type": "display_data"
    },
    {
     "data": {
      "text/html": [
       "<pre style=\"white-space:pre;overflow-x:auto;line-height:normal;font-family:Menlo,'DejaVu Sans Mono',consolas,'Courier New',monospace\">------\n",
       "</pre>\n"
      ],
      "text/plain": [
       "------\n"
      ]
     },
     "metadata": {},
     "output_type": "display_data"
    }
   ],
   "source": [
    "fp = \"input.txt\"\n",
    "lines = read_file_to_str_li(fp)\n",
    "\n",
    "print(\"Convert to:\")\n",
    "\n",
    "# head = convert_str_li_to_other_li(\n",
    "#     lines, pattern=\"i\", per_letter=False, sep=\",\", start_row=0, end_row=1\n",
    "# )\n",
    "\n",
    "# print(f\"Head:\\n{head}\")\n",
    "\n",
    "data = convert_str_li_to_other_li(\n",
    "    lines, pattern=\"s\", per_letter=False, sep=\" -> \", start_row=None, end_row=None\n",
    ")\n",
    "# data = convert_str_li_to_other_li(\n",
    "#     lines, pattern=\"i\", per_letter=False, sep=\" \", start_row=2, end_row=None\n",
    "# )\n",
    "# data = convert_str_li_to_other_li(\n",
    "#     lines, pattern=\"si\", per_letter=False, sep=\" \", start_row=0, end_row=None\n",
    "# )\n",
    "# data = convert_str_li_to_other_li(\n",
    "#     lines, pattern=\"i\", per_letter=True, sep=\" \", start_row=0, end_row=None\n",
    "# )\n",
    "\n",
    "print(f\"First line: {data[0]}\")\n",
    "print(f\"Last line: {data[-1]}\")\n",
    "print(\"-\" * 6)"
   ]
  },
  {
   "cell_type": "code",
   "execution_count": 4,
   "id": "loose-developer",
   "metadata": {},
   "outputs": [],
   "source": [
    "from math import gcd\n",
    "\n",
    "\n",
    "class Line:\n",
    "    def __init__(self, input_coord):\n",
    "        self.x1 = int(input_coord[0].split(\",\")[0])\n",
    "        self.y1 = int(input_coord[0].split(\",\")[1])\n",
    "        self.x2 = int(input_coord[1].split(\",\")[0])\n",
    "        self.y2 = int(input_coord[1].split(\",\")[1])\n",
    "\n",
    "    def check_hor_or_ver(self):\n",
    "        if self.x1 == self.x2 or self.y1 == self.y2:\n",
    "            return True\n",
    "        else:\n",
    "            return False\n",
    "\n",
    "    def max_coord_x(self):\n",
    "        return max(self.x1, self.x2)\n",
    "\n",
    "    def max_coord_y(self):\n",
    "        return max(self.y1, self.y2)\n",
    "\n",
    "    def covered_points(self):\n",
    "        rel_x = self.x2 - self.x1\n",
    "        rel_y = self.y2 - self.y1\n",
    "        divisor = gcd(rel_x, rel_y)\n",
    "        step_x = rel_x // divisor\n",
    "        step_y = rel_y // divisor\n",
    "        points = []\n",
    "        for i in range(divisor + 1):\n",
    "            # print(self.x1 + step_x*i, self.y1 + step_y*i)\n",
    "            points.append((self.x1 + step_x * i, self.y1 + step_y * i))\n",
    "        return points"
   ]
  },
  {
   "cell_type": "code",
   "execution_count": 5,
   "id": "strange-translator",
   "metadata": {},
   "outputs": [
    {
     "data": {
      "text/html": [
       "<pre style=\"white-space:pre;overflow-x:auto;line-height:normal;font-family:Menlo,'DejaVu Sans Mono',consolas,'Courier New',monospace\">Answer to Q1: <span style=\"color: #008080; text-decoration-color: #008080; font-weight: bold\">6564</span>\n",
       "</pre>\n"
      ],
      "text/plain": [
       "Answer to Q1: \u001b[1;36m6564\u001b[0m\n"
      ]
     },
     "metadata": {},
     "output_type": "display_data"
    },
    {
     "data": {
      "text/html": [
       "<pre style=\"white-space:pre;overflow-x:auto;line-height:normal;font-family:Menlo,'DejaVu Sans Mono',consolas,'Courier New',monospace\">Answer to Q2: <span style=\"color: #008080; text-decoration-color: #008080; font-weight: bold\">19172</span>\n",
       "</pre>\n"
      ],
      "text/plain": [
       "Answer to Q2: \u001b[1;36m19172\u001b[0m\n"
      ]
     },
     "metadata": {},
     "output_type": "display_data"
    }
   ],
   "source": [
    "# load line classes\n",
    "lines = []\n",
    "for input_coord in data:\n",
    "    lines.append(Line(input_coord))\n",
    "\n",
    "# find max_coord\n",
    "max_coord_x = max([line.max_coord_x() for line in lines])\n",
    "max_coord_y = max([line.max_coord_y() for line in lines])\n",
    "# print(max_coord_x, max_coord_y)\n",
    "\n",
    "# Q1\n",
    "count_covered_points = np.zeros((max_coord_x+1,max_coord_y+1))\n",
    "for line in lines:\n",
    "    if not line.check_hor_or_ver():  # only consider horizontal and vertical lines\n",
    "        continue\n",
    "    for point in line.covered_points():\n",
    "        count_covered_points[point] +=1\n",
    "print(f\"Answer to Q1: {(count_covered_points>1).sum()}\")\n",
    "\n",
    "# Q2\n",
    "count_covered_points = np.zeros((max_coord_x+1,max_coord_y+1))\n",
    "for line in lines:\n",
    "#     if not line.check_hor_or_ver():  # only consider horizontal and vertical lines\n",
    "#         continue\n",
    "    for point in line.covered_points():\n",
    "        count_covered_points[point] +=1\n",
    "print(f\"Answer to Q2: {(count_covered_points>1).sum()}\")"
   ]
  },
  {
   "cell_type": "code",
   "execution_count": null,
   "id": "protected-january",
   "metadata": {},
   "outputs": [],
   "source": []
  }
 ],
 "metadata": {
  "kernelspec": {
   "display_name": "Python [conda env:.conda-ds38]",
   "language": "python",
   "name": "conda-env-.conda-ds38-py"
  },
  "language_info": {
   "codemirror_mode": {
    "name": "ipython",
    "version": 3
   },
   "file_extension": ".py",
   "mimetype": "text/x-python",
   "name": "python",
   "nbconvert_exporter": "python",
   "pygments_lexer": "ipython3",
   "version": "3.8.10"
  }
 },
 "nbformat": 4,
 "nbformat_minor": 5
}
