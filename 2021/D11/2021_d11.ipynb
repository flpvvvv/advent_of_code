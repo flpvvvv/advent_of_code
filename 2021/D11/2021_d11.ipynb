{
 "cells": [
  {
   "cell_type": "raw",
   "id": "stunning-convertible",
   "metadata": {},
   "source": [
    "--- Day 11: Dumbo Octopus ---\n",
    "You enter a large cavern full of rare bioluminescent dumbo octopuses! They seem to not like the Christmas lights on your submarine, so you turn them off for now.\n",
    "\n",
    "There are 100 octopuses arranged neatly in a 10 by 10 grid. Each octopus slowly gains energy over time and flashes brightly for a moment when its energy is full. Although your lights are off, maybe you could navigate through the cave without disturbing the octopuses if you could predict when the flashes of light will happen.\n",
    "\n",
    "Each octopus has an energy level - your submarine can remotely measure the energy level of each octopus (your puzzle input). For example:\n",
    "\n",
    "5483143223\n",
    "2745854711\n",
    "5264556173\n",
    "6141336146\n",
    "6357385478\n",
    "4167524645\n",
    "2176841721\n",
    "6882881134\n",
    "4846848554\n",
    "5283751526\n",
    "The energy level of each octopus is a value between 0 and 9. Here, the top-left octopus has an energy level of 5, the bottom-right one has an energy level of 6, and so on.\n",
    "\n",
    "You can model the energy levels and flashes of light in steps. During a single step, the following occurs:\n",
    "\n",
    "First, the energy level of each octopus increases by 1.\n",
    "Then, any octopus with an energy level greater than 9 flashes. This increases the energy level of all adjacent octopuses by 1, including octopuses that are diagonally adjacent. If this causes an octopus to have an energy level greater than 9, it also flashes. This process continues as long as new octopuses keep having their energy level increased beyond 9. (An octopus can only flash at most once per step.)\n",
    "Finally, any octopus that flashed during this step has its energy level set to 0, as it used all of its energy to flash.\n",
    "Adjacent flashes can cause an octopus to flash on a step even if it begins that step with very little energy. Consider the middle octopus with 1 energy in this situation:\n",
    "\n",
    "Before any steps:\n",
    "11111\n",
    "19991\n",
    "19191\n",
    "19991\n",
    "11111\n",
    "\n",
    "After step 1:\n",
    "34543\n",
    "40004\n",
    "50005\n",
    "40004\n",
    "34543\n",
    "\n",
    "After step 2:\n",
    "45654\n",
    "51115\n",
    "61116\n",
    "51115\n",
    "45654\n",
    "An octopus is highlighted when it flashed during the given step.\n",
    "\n",
    "Here is how the larger example above progresses:\n",
    "\n",
    "Before any steps:\n",
    "5483143223\n",
    "2745854711\n",
    "5264556173\n",
    "6141336146\n",
    "6357385478\n",
    "4167524645\n",
    "2176841721\n",
    "6882881134\n",
    "4846848554\n",
    "5283751526\n",
    "\n",
    "After step 1:\n",
    "6594254334\n",
    "3856965822\n",
    "6375667284\n",
    "7252447257\n",
    "7468496589\n",
    "5278635756\n",
    "3287952832\n",
    "7993992245\n",
    "5957959665\n",
    "6394862637\n",
    "\n",
    "After step 2:\n",
    "8807476555\n",
    "5089087054\n",
    "8597889608\n",
    "8485769600\n",
    "8700908800\n",
    "6600088989\n",
    "6800005943\n",
    "0000007456\n",
    "9000000876\n",
    "8700006848\n",
    "\n",
    "After step 3:\n",
    "0050900866\n",
    "8500800575\n",
    "9900000039\n",
    "9700000041\n",
    "9935080063\n",
    "7712300000\n",
    "7911250009\n",
    "2211130000\n",
    "0421125000\n",
    "0021119000\n",
    "\n",
    "After step 4:\n",
    "2263031977\n",
    "0923031697\n",
    "0032221150\n",
    "0041111163\n",
    "0076191174\n",
    "0053411122\n",
    "0042361120\n",
    "5532241122\n",
    "1532247211\n",
    "1132230211\n",
    "\n",
    "After step 5:\n",
    "4484144000\n",
    "2044144000\n",
    "2253333493\n",
    "1152333274\n",
    "1187303285\n",
    "1164633233\n",
    "1153472231\n",
    "6643352233\n",
    "2643358322\n",
    "2243341322\n",
    "\n",
    "After step 6:\n",
    "5595255111\n",
    "3155255222\n",
    "3364444605\n",
    "2263444496\n",
    "2298414396\n",
    "2275744344\n",
    "2264583342\n",
    "7754463344\n",
    "3754469433\n",
    "3354452433\n",
    "\n",
    "After step 7:\n",
    "6707366222\n",
    "4377366333\n",
    "4475555827\n",
    "3496655709\n",
    "3500625609\n",
    "3509955566\n",
    "3486694453\n",
    "8865585555\n",
    "4865580644\n",
    "4465574644\n",
    "\n",
    "After step 8:\n",
    "7818477333\n",
    "5488477444\n",
    "5697666949\n",
    "4608766830\n",
    "4734946730\n",
    "4740097688\n",
    "6900007564\n",
    "0000009666\n",
    "8000004755\n",
    "6800007755\n",
    "\n",
    "After step 9:\n",
    "9060000644\n",
    "7800000976\n",
    "6900000080\n",
    "5840000082\n",
    "5858000093\n",
    "6962400000\n",
    "8021250009\n",
    "2221130009\n",
    "9111128097\n",
    "7911119976\n",
    "\n",
    "After step 10:\n",
    "0481112976\n",
    "0031112009\n",
    "0041112504\n",
    "0081111406\n",
    "0099111306\n",
    "0093511233\n",
    "0442361130\n",
    "5532252350\n",
    "0532250600\n",
    "0032240000\n",
    "After step 10, there have been a total of 204 flashes. Fast forwarding, here is the same configuration every 10 steps:\n",
    "\n",
    "After step 20:\n",
    "3936556452\n",
    "5686556806\n",
    "4496555690\n",
    "4448655580\n",
    "4456865570\n",
    "5680086577\n",
    "7000009896\n",
    "0000000344\n",
    "6000000364\n",
    "4600009543\n",
    "\n",
    "After step 30:\n",
    "0643334118\n",
    "4253334611\n",
    "3374333458\n",
    "2225333337\n",
    "2229333338\n",
    "2276733333\n",
    "2754574565\n",
    "5544458511\n",
    "9444447111\n",
    "7944446119\n",
    "\n",
    "After step 40:\n",
    "6211111981\n",
    "0421111119\n",
    "0042111115\n",
    "0003111115\n",
    "0003111116\n",
    "0065611111\n",
    "0532351111\n",
    "3322234597\n",
    "2222222976\n",
    "2222222762\n",
    "\n",
    "After step 50:\n",
    "9655556447\n",
    "4865556805\n",
    "4486555690\n",
    "4458655580\n",
    "4574865570\n",
    "5700086566\n",
    "6000009887\n",
    "8000000533\n",
    "6800000633\n",
    "5680000538\n",
    "\n",
    "After step 60:\n",
    "2533334200\n",
    "2743334640\n",
    "2264333458\n",
    "2225333337\n",
    "2225333338\n",
    "2287833333\n",
    "3854573455\n",
    "1854458611\n",
    "1175447111\n",
    "1115446111\n",
    "\n",
    "After step 70:\n",
    "8211111164\n",
    "0421111166\n",
    "0042111114\n",
    "0004211115\n",
    "0000211116\n",
    "0065611111\n",
    "0532351111\n",
    "7322235117\n",
    "5722223475\n",
    "4572222754\n",
    "\n",
    "After step 80:\n",
    "1755555697\n",
    "5965555609\n",
    "4486555680\n",
    "4458655580\n",
    "4570865570\n",
    "5700086566\n",
    "7000008666\n",
    "0000000990\n",
    "0000000800\n",
    "0000000000\n",
    "\n",
    "After step 90:\n",
    "7433333522\n",
    "2643333522\n",
    "2264333458\n",
    "2226433337\n",
    "2222433338\n",
    "2287833333\n",
    "2854573333\n",
    "4854458333\n",
    "3387779333\n",
    "3333333333\n",
    "\n",
    "After step 100:\n",
    "0397666866\n",
    "0749766918\n",
    "0053976933\n",
    "0004297822\n",
    "0004229892\n",
    "0053222877\n",
    "0532222966\n",
    "9322228966\n",
    "7922286866\n",
    "6789998766\n",
    "After 100 steps, there have been a total of 1656 flashes.\n",
    "\n",
    "Given the starting energy levels of the dumbo octopuses in your cavern, simulate 100 steps. How many total flashes are there after 100 steps?\n",
    "\n",
    "Your puzzle answer was 1749.\n",
    "\n",
    "--- Part Two ---\n",
    "It seems like the individual flashes aren't bright enough to navigate. However, you might have a better option: the flashes seem to be synchronizing!\n",
    "\n",
    "In the example above, the first time all octopuses flash simultaneously is step 195:\n",
    "\n",
    "After step 193:\n",
    "5877777777\n",
    "8877777777\n",
    "7777777777\n",
    "7777777777\n",
    "7777777777\n",
    "7777777777\n",
    "7777777777\n",
    "7777777777\n",
    "7777777777\n",
    "7777777777\n",
    "\n",
    "After step 194:\n",
    "6988888888\n",
    "9988888888\n",
    "8888888888\n",
    "8888888888\n",
    "8888888888\n",
    "8888888888\n",
    "8888888888\n",
    "8888888888\n",
    "8888888888\n",
    "8888888888\n",
    "\n",
    "After step 195:\n",
    "0000000000\n",
    "0000000000\n",
    "0000000000\n",
    "0000000000\n",
    "0000000000\n",
    "0000000000\n",
    "0000000000\n",
    "0000000000\n",
    "0000000000\n",
    "0000000000\n",
    "If you can calculate the exact moments when the octopuses will all flash simultaneously, you should be able to navigate through the cavern. What is the first step during which all octopuses flash?\n",
    "\n",
    "Your puzzle answer was 285."
   ]
  },
  {
   "cell_type": "code",
   "execution_count": 1,
   "id": "married-peeing",
   "metadata": {},
   "outputs": [],
   "source": [
    "import warnings\n",
    "\n",
    "warnings.filterwarnings(\"ignore\")\n",
    "\n",
    "import os\n",
    "import re\n",
    "import sys\n",
    "from pathlib import Path\n",
    "\n",
    "import numpy as np\n",
    "import pandas as pd\n",
    "from rich import print\n",
    "from tqdm import tqdm"
   ]
  },
  {
   "cell_type": "code",
   "execution_count": 2,
   "id": "fewer-communications",
   "metadata": {},
   "outputs": [],
   "source": [
    "def read_file_to_str_li(fp, print_exp=True):\n",
    "    with open(fp, \"r\") as f:\n",
    "        lines = f.read().split(\"\\n\")\n",
    "    if print_exp:\n",
    "        print(f\"Read from {fp}:\")\n",
    "        print(f\"First line: {lines[0]} | Last line: {lines[-1]}\")\n",
    "        print(\"-\" * 6)\n",
    "\n",
    "    return lines\n",
    "\n",
    "\n",
    "# define the function blocks\n",
    "def convert_to_int(input_str):\n",
    "    if input_str == \"\" or input_str == \" \":\n",
    "        return None\n",
    "    return int(input_str)\n",
    "\n",
    "\n",
    "def convert_to_str(input_str):\n",
    "    return str(input_str)\n",
    "\n",
    "\n",
    "# map the inputs to the function blocks\n",
    "converts = {\n",
    "    \"i\": convert_to_int,\n",
    "    \"s\": convert_to_str,\n",
    "}\n",
    "\n",
    "\n",
    "def convert_str_li_to_other_li(\n",
    "    str_li, pattern=\"i\", per_letter=False, sep=\" \", start_row=0, end_row=None\n",
    "):\n",
    "    \"\"\" Convert a list of string to a list of other types\n",
    "    \n",
    "    pattern: a list of types for one item. \n",
    "        'i' for int, 's' for string\n",
    "        'si' means: convert the 1st item to string, the rest to integer\n",
    "        If separated items are more than pattern items,\n",
    "        use the last one from the parttern.\n",
    "    if per_letter=True, ignore sep and separate item per letter\n",
    "    \"\"\"\n",
    "    target_str_li = str_li[start_row:end_row]\n",
    "    # find max item num\n",
    "    max_item_num = 1\n",
    "    if per_letter:\n",
    "        max_item_num = max([len(s) for s in target_str_li])\n",
    "    else:\n",
    "        max_item_num = max([len(s.split(sep)) for s in target_str_li])\n",
    "\n",
    "    # extend the pattern to the max itme num\n",
    "    pattern = (\n",
    "        pattern + f\"{pattern[-1]}\" * (max_item_num - len(pattern))\n",
    "        if max_item_num > len(pattern)\n",
    "        else pattern\n",
    "    )\n",
    "\n",
    "    # convert\n",
    "    if per_letter:\n",
    "        return [\n",
    "            [converts[pattern[idx]](item) for idx, item in enumerate(s)]\n",
    "            for s in target_str_li\n",
    "        ]\n",
    "    else:\n",
    "        if sep == \" \":\n",
    "            return [\n",
    "                [converts[pattern[idx]](item) for idx, item in enumerate(s.split())]\n",
    "                for s in target_str_li\n",
    "            ]\n",
    "        else:\n",
    "            return [\n",
    "                [converts[pattern[idx]](item) for idx, item in enumerate(s.split(sep))]\n",
    "                for s in target_str_li\n",
    "            ]"
   ]
  },
  {
   "cell_type": "code",
   "execution_count": 3,
   "id": "exterior-begin",
   "metadata": {},
   "outputs": [
    {
     "data": {
      "text/html": [
       "<pre style=\"white-space:pre;overflow-x:auto;line-height:normal;font-family:Menlo,'DejaVu Sans Mono',consolas,'Courier New',monospace\">Read from input.txt:\n",
       "</pre>\n"
      ],
      "text/plain": [
       "Read from input.txt:\n"
      ]
     },
     "metadata": {},
     "output_type": "display_data"
    },
    {
     "data": {
      "text/html": [
       "<pre style=\"white-space:pre;overflow-x:auto;line-height:normal;font-family:Menlo,'DejaVu Sans Mono',consolas,'Courier New',monospace\">First line: <span style=\"color: #008080; text-decoration-color: #008080; font-weight: bold\">1326253315</span> | Last line: <span style=\"color: #008080; text-decoration-color: #008080; font-weight: bold\">4824541522</span>\n",
       "</pre>\n"
      ],
      "text/plain": [
       "First line: \u001b[1;36m1326253315\u001b[0m | Last line: \u001b[1;36m4824541522\u001b[0m\n"
      ]
     },
     "metadata": {},
     "output_type": "display_data"
    },
    {
     "data": {
      "text/html": [
       "<pre style=\"white-space:pre;overflow-x:auto;line-height:normal;font-family:Menlo,'DejaVu Sans Mono',consolas,'Courier New',monospace\">------\n",
       "</pre>\n"
      ],
      "text/plain": [
       "------\n"
      ]
     },
     "metadata": {},
     "output_type": "display_data"
    },
    {
     "data": {
      "text/html": [
       "<pre style=\"white-space:pre;overflow-x:auto;line-height:normal;font-family:Menlo,'DejaVu Sans Mono',consolas,'Courier New',monospace\">Convert to:\n",
       "</pre>\n"
      ],
      "text/plain": [
       "Convert to:\n"
      ]
     },
     "metadata": {},
     "output_type": "display_data"
    },
    {
     "data": {
      "text/html": [
       "<pre style=\"white-space:pre;overflow-x:auto;line-height:normal;font-family:Menlo,'DejaVu Sans Mono',consolas,'Courier New',monospace\">First line: <span style=\"font-weight: bold\">[</span><span style=\"color: #008080; text-decoration-color: #008080; font-weight: bold\">1</span>, <span style=\"color: #008080; text-decoration-color: #008080; font-weight: bold\">3</span>, <span style=\"color: #008080; text-decoration-color: #008080; font-weight: bold\">2</span>, <span style=\"color: #008080; text-decoration-color: #008080; font-weight: bold\">6</span>, <span style=\"color: #008080; text-decoration-color: #008080; font-weight: bold\">2</span>, <span style=\"color: #008080; text-decoration-color: #008080; font-weight: bold\">5</span>, <span style=\"color: #008080; text-decoration-color: #008080; font-weight: bold\">3</span>, <span style=\"color: #008080; text-decoration-color: #008080; font-weight: bold\">3</span>, <span style=\"color: #008080; text-decoration-color: #008080; font-weight: bold\">1</span>, <span style=\"color: #008080; text-decoration-color: #008080; font-weight: bold\">5</span><span style=\"font-weight: bold\">]</span>\n",
       "</pre>\n"
      ],
      "text/plain": [
       "First line: \u001b[1m[\u001b[0m\u001b[1;36m1\u001b[0m, \u001b[1;36m3\u001b[0m, \u001b[1;36m2\u001b[0m, \u001b[1;36m6\u001b[0m, \u001b[1;36m2\u001b[0m, \u001b[1;36m5\u001b[0m, \u001b[1;36m3\u001b[0m, \u001b[1;36m3\u001b[0m, \u001b[1;36m1\u001b[0m, \u001b[1;36m5\u001b[0m\u001b[1m]\u001b[0m\n"
      ]
     },
     "metadata": {},
     "output_type": "display_data"
    },
    {
     "data": {
      "text/html": [
       "<pre style=\"white-space:pre;overflow-x:auto;line-height:normal;font-family:Menlo,'DejaVu Sans Mono',consolas,'Courier New',monospace\">Last line: <span style=\"font-weight: bold\">[</span><span style=\"color: #008080; text-decoration-color: #008080; font-weight: bold\">4</span>, <span style=\"color: #008080; text-decoration-color: #008080; font-weight: bold\">8</span>, <span style=\"color: #008080; text-decoration-color: #008080; font-weight: bold\">2</span>, <span style=\"color: #008080; text-decoration-color: #008080; font-weight: bold\">4</span>, <span style=\"color: #008080; text-decoration-color: #008080; font-weight: bold\">5</span>, <span style=\"color: #008080; text-decoration-color: #008080; font-weight: bold\">4</span>, <span style=\"color: #008080; text-decoration-color: #008080; font-weight: bold\">1</span>, <span style=\"color: #008080; text-decoration-color: #008080; font-weight: bold\">5</span>, <span style=\"color: #008080; text-decoration-color: #008080; font-weight: bold\">2</span>, <span style=\"color: #008080; text-decoration-color: #008080; font-weight: bold\">2</span><span style=\"font-weight: bold\">]</span>\n",
       "</pre>\n"
      ],
      "text/plain": [
       "Last line: \u001b[1m[\u001b[0m\u001b[1;36m4\u001b[0m, \u001b[1;36m8\u001b[0m, \u001b[1;36m2\u001b[0m, \u001b[1;36m4\u001b[0m, \u001b[1;36m5\u001b[0m, \u001b[1;36m4\u001b[0m, \u001b[1;36m1\u001b[0m, \u001b[1;36m5\u001b[0m, \u001b[1;36m2\u001b[0m, \u001b[1;36m2\u001b[0m\u001b[1m]\u001b[0m\n"
      ]
     },
     "metadata": {},
     "output_type": "display_data"
    },
    {
     "data": {
      "text/html": [
       "<pre style=\"white-space:pre;overflow-x:auto;line-height:normal;font-family:Menlo,'DejaVu Sans Mono',consolas,'Courier New',monospace\">------\n",
       "</pre>\n"
      ],
      "text/plain": [
       "------\n"
      ]
     },
     "metadata": {},
     "output_type": "display_data"
    }
   ],
   "source": [
    "fp = \"input.txt\"\n",
    "lines = read_file_to_str_li(fp)\n",
    "\n",
    "print(\"Convert to:\")\n",
    "\n",
    "# head = convert_str_li_to_other_li(\n",
    "#     lines, pattern=\"i\", per_letter=False, sep=\",\", start_row=0, end_row=1\n",
    "# )\n",
    "\n",
    "# print(f\"Head:\\n{head}\")\n",
    "\n",
    "data = convert_str_li_to_other_li(\n",
    "    lines, pattern=\"i\", per_letter=True, sep=\" \", start_row=None, end_row=None\n",
    ")\n",
    "\n",
    "# data = convert_str_li_to_other_li(\n",
    "#     lines, pattern=\"s\", per_letter=False, sep=\" | \", start_row=None, end_row=None\n",
    "# )\n",
    "# data = convert_str_li_to_other_li(\n",
    "#     lines, pattern=\"i\", per_letter=False, sep=\",\", start_row=None, end_row=None\n",
    "# )\n",
    "# data = convert_str_li_to_other_li(\n",
    "#     lines, pattern=\"s\", per_letter=False, sep=\" -> \", start_row=None, end_row=None\n",
    "# )\n",
    "# data = convert_str_li_to_other_li(\n",
    "#     lines, pattern=\"i\", per_letter=False, sep=\" \", start_row=2, end_row=None\n",
    "# )\n",
    "# data = convert_str_li_to_other_li(\n",
    "#     lines, pattern=\"si\", per_letter=False, sep=\" \", start_row=0, end_row=None\n",
    "# )\n",
    "# data = convert_str_li_to_other_li(\n",
    "#     lines, pattern=\"i\", per_letter=True, sep=\" \", start_row=0, end_row=None\n",
    "# )\n",
    "\n",
    "print(f\"First line: {data[0]}\")\n",
    "print(f\"Last line: {data[-1]}\")\n",
    "print(\"-\" * 6)"
   ]
  },
  {
   "cell_type": "code",
   "execution_count": 4,
   "id": "equivalent-welcome",
   "metadata": {},
   "outputs": [
    {
     "data": {
      "text/html": [
       "<pre style=\"white-space:pre;overflow-x:auto;line-height:normal;font-family:Menlo,'DejaVu Sans Mono',consolas,'Courier New',monospace\">Answer to Q1: <span style=\"color: #008080; text-decoration-color: #008080; font-weight: bold\">1749</span>\n",
       "</pre>\n"
      ],
      "text/plain": [
       "Answer to Q1: \u001b[1;36m1749\u001b[0m\n"
      ]
     },
     "metadata": {},
     "output_type": "display_data"
    },
    {
     "data": {
      "text/html": [
       "<pre style=\"white-space:pre;overflow-x:auto;line-height:normal;font-family:Menlo,'DejaVu Sans Mono',consolas,'Courier New',monospace\">Answer to Q2: <span style=\"color: #008080; text-decoration-color: #008080; font-weight: bold\">285</span>\n",
       "</pre>\n"
      ],
      "text/plain": [
       "Answer to Q2: \u001b[1;36m285\u001b[0m\n"
      ]
     },
     "metadata": {},
     "output_type": "display_data"
    }
   ],
   "source": [
    "def add_step(old_arr):\n",
    "    new_pad = np.pad(old_arr, pad_width=1, constant_values=-1) + 1\n",
    "\n",
    "    total_flash_mask = new_pad >= 10\n",
    "    new_flash_mask = np.copy(total_flash_mask)\n",
    "\n",
    "    while np.sum(new_flash_mask) > 0:\n",
    "        down = np.roll(new_flash_mask, 1, axis=0).astype(\"int\")\n",
    "        up = np.roll(new_flash_mask, -1, axis=0).astype(\"int\")\n",
    "        right = np.roll(new_flash_mask, 1, axis=1).astype(\"int\")\n",
    "        left = np.roll(new_flash_mask, -1, axis=1).astype(\"int\")\n",
    "        up_left = np.roll(up, -1, axis=1)\n",
    "        up_right = np.roll(up, 1, axis=1)\n",
    "        down_left = np.roll(down, -1, axis=1)\n",
    "        down_right = np.roll(down, 1, axis=1)\n",
    "\n",
    "        new_pad += (\n",
    "            down + up + right + left + up_left + up_right + down_left + down_right\n",
    "        )\n",
    "\n",
    "        new_flash_mask = (new_pad >= 10) & (~total_flash_mask)\n",
    "        total_flash_mask = new_pad >= 10\n",
    "\n",
    "    new_pad = np.where(total_flash_mask, 0, new_pad)\n",
    "    new_arr = new_pad[1:-1, 1:-1]\n",
    "    flash_num = np.sum(total_flash_mask)\n",
    "    return new_arr, flash_num, total_flash_mask[1:-1, 1:-1]\n",
    "\n",
    "\n",
    "oct_arr = np.array(data)\n",
    "\n",
    "step = 100\n",
    "count_flash = 0\n",
    "count = 0\n",
    "save_flash = []\n",
    "save_title = []\n",
    "while True:\n",
    "    count += 1\n",
    "    new_oct_arr, new_flash, flash_mask = add_step(oct_arr)\n",
    "    count_flash += new_flash\n",
    "    oct_arr = new_oct_arr\n",
    "    save_flash.append(flash_mask)\n",
    "    save_title.append(f\"Step {count} (light #: {new_flash})\")\n",
    "    if count == 100:\n",
    "        print(f\"Answer to Q1: {count_flash}\")\n",
    "    if new_flash == oct_arr.size:\n",
    "        print(f\"Answer to Q2: {count}\")\n",
    "        break"
   ]
  },
  {
   "cell_type": "code",
   "execution_count": 5,
   "id": "atmospheric-league",
   "metadata": {},
   "outputs": [
    {
     "data": {
      "text/html": [
       "<pre style=\"white-space:pre;overflow-x:auto;line-height:normal;font-family:Menlo,'DejaVu Sans Mono',consolas,'Courier New',monospace\">Answer to Q1: <span style=\"color: #008080; text-decoration-color: #008080; font-weight: bold\">1749</span>\n",
       "</pre>\n"
      ],
      "text/plain": [
       "Answer to Q1: \u001b[1;36m1749\u001b[0m\n"
      ]
     },
     "metadata": {},
     "output_type": "display_data"
    },
    {
     "data": {
      "text/html": [
       "<pre style=\"white-space:pre;overflow-x:auto;line-height:normal;font-family:Menlo,'DejaVu Sans Mono',consolas,'Courier New',monospace\">Answer to Q2: <span style=\"color: #008080; text-decoration-color: #008080; font-weight: bold\">285</span>\n",
       "</pre>\n"
      ],
      "text/plain": [
       "Answer to Q2: \u001b[1;36m285\u001b[0m\n"
      ]
     },
     "metadata": {},
     "output_type": "display_data"
    }
   ],
   "source": [
    "from scipy.signal import convolve\n",
    "\n",
    "adj_kernal = np.ones((3, 3)).astype(\"int\")\n",
    "adj_kernal[1, 1] = 0\n",
    "\n",
    "\n",
    "def add_step(oct_arr):\n",
    "    oct_arr += 1\n",
    "    total_flash_mask = oct_arr >= 10\n",
    "    new_flash_mask = np.copy(total_flash_mask)\n",
    "\n",
    "    while np.sum(new_flash_mask) > 0:\n",
    "        oct_arr += convolve(new_flash_mask, adj_kernal, mode=\"same\")\n",
    "        new_flash_mask = (oct_arr >= 10) & (~total_flash_mask)\n",
    "        total_flash_mask = oct_arr >= 10\n",
    "\n",
    "    oct_arr = np.where(total_flash_mask, 0, oct_arr)\n",
    "    flash_num = np.sum(total_flash_mask)\n",
    "    return oct_arr, flash_num, total_flash_mask\n",
    "\n",
    "\n",
    "oct_arr = np.array(data)\n",
    "\n",
    "step = 100\n",
    "count_flash = 0\n",
    "count = 0\n",
    "save_flash = []\n",
    "save_title = []\n",
    "while True:\n",
    "    count += 1\n",
    "    new_oct_arr, new_flash, flash_mask = add_step(oct_arr)\n",
    "    count_flash += new_flash\n",
    "    oct_arr = new_oct_arr\n",
    "    save_flash.append(flash_mask)\n",
    "    save_title.append(f\"Step {count} (light #: {new_flash})\")\n",
    "    if count == 100:\n",
    "        print(f\"Answer to Q1: {count_flash}\")\n",
    "    if new_flash == oct_arr.size:\n",
    "        print(f\"Answer to Q2: {count}\")\n",
    "        break"
   ]
  },
  {
   "cell_type": "code",
   "execution_count": null,
   "id": "unsigned-promotion",
   "metadata": {},
   "outputs": [],
   "source": []
  },
  {
   "cell_type": "code",
   "execution_count": 6,
   "id": "specific-jaguar",
   "metadata": {},
   "outputs": [],
   "source": [
    "import matplotlib.pyplot as plt\n",
    "\n",
    "\n",
    "def show_light(low_map_pad, title):\n",
    "    plt.imshow(low_map_pad.astype(\"int\"), interpolation=\"none\")\n",
    "    plt.axis(\"off\")\n",
    "    plt.title(title)\n",
    "    plt.show()"
   ]
  },
  {
   "cell_type": "code",
   "execution_count": 7,
   "id": "clear-cornwall",
   "metadata": {},
   "outputs": [
    {
     "data": {
      "image/png": "[encoded data removed]",
      "text/plain": [
       "<Figure size 432x288 with 1 Axes>"
      ]
     },
     "metadata": {
      "needs_background": "light"
     },
     "output_type": "display_data"
    },
    {
     "data": {
      "image/png": "[encoded data removed]",
      "text/plain": [
       "<Figure size 432x288 with 1 Axes>"
      ]
     },
     "metadata": {
      "needs_background": "light"
     },
     "output_type": "display_data"
    },
    {
     "data": {
      "image/png": "[encoded data removed]",
      "text/plain": [
       "<Figure size 432x288 with 1 Axes>"
      ]
     },
     "metadata": {
      "needs_background": "light"
     },
     "output_type": "display_data"
    },
    {
     "data": {
      "image/png": "[encoded data removed]",
      "text/plain": [
       "<Figure size 432x288 with 1 Axes>"
      ]
     },
     "metadata": {
      "needs_background": "light"
     },
     "output_type": "display_data"
    },
    {
     "data": {
      "image/png": "[encoded data removed]",
      "text/plain": [
       "<Figure size 432x288 with 1 Axes>"
      ]
     },
     "metadata": {
      "needs_background": "light"
     },
     "output_type": "display_data"
    }
   ],
   "source": [
    "for i in range(5):\n",
    "    show_light(np.pad(save_flash[i],pad_width=1, constant_values=0), save_title[i])"
   ]
  },
  {
   "cell_type": "code",
   "execution_count": null,
   "id": "controlled-consolidation",
   "metadata": {},
   "outputs": [],
   "source": []
  },
  {
   "cell_type": "code",
   "execution_count": 8,
   "id": "comfortable-copper",
   "metadata": {},
   "outputs": [],
   "source": [
    "%matplotlib inline"
   ]
  },
  {
   "cell_type": "code",
   "execution_count": 9,
   "id": "micro-proxy",
   "metadata": {},
   "outputs": [],
   "source": [
    "import matplotlib.pyplot as plt\n",
    "import numpy as np\n",
    "from IPython.display import HTML, Image\n",
    "from matplotlib import animation, rc"
   ]
  },
  {
   "cell_type": "code",
   "execution_count": 10,
   "id": "attractive-buddy",
   "metadata": {},
   "outputs": [],
   "source": [
    "# equivalent to rcParams['animation.html'] = 'html5'\n",
    "rc(\"animation\", html=\"html5\")"
   ]
  },
  {
   "cell_type": "code",
   "execution_count": 11,
   "id": "linear-thought",
   "metadata": {},
   "outputs": [
    {
     "data": {
      "image/png": "[encoded data removed]",
      "text/plain": [
       "<Figure size 144x144 with 1 Axes>"
      ]
     },
     "metadata": {
      "needs_background": "light"
     },
     "output_type": "display_data"
    }
   ],
   "source": [
    "# First set up the figure, the axis, and the plot element we want to animate\n",
    "fig, ax = plt.subplots(figsize=(2, 2))\n",
    "ax.axis(\"off\")\n",
    "ax.set_title(\"Step 0\")\n",
    "img = ax.imshow(save_flash[0], interpolation=\"none\")"
   ]
  },
  {
   "cell_type": "code",
   "execution_count": 12,
   "id": "executive-webcam",
   "metadata": {},
   "outputs": [],
   "source": [
    "# initialization function: plot the background of each frame\n",
    "def init():\n",
    "    ax.imshow(np.pad(np.zeros_like(save_flash[0]),pad_width=1, constant_values=0), interpolation=\"none\")\n",
    "    return [img]"
   ]
  },
  {
   "cell_type": "code",
   "execution_count": 13,
   "id": "challenging-limitation",
   "metadata": {},
   "outputs": [],
   "source": [
    "# animation function. This is called sequentially\n",
    "def animate(i):\n",
    "    show_img = min(len(save_flash) - 1, i)\n",
    "    ax.imshow(np.pad(save_flash[show_img],pad_width=1, constant_values=0), interpolation=\"none\")\n",
    "    ax.set_title(f\"Step {show_img+1}\")\n",
    "    return [img]"
   ]
  },
  {
   "cell_type": "code",
   "execution_count": 14,
   "id": "swiss-logic",
   "metadata": {},
   "outputs": [],
   "source": [
    "# call the animator. blit=True means only re-draw the parts that\n",
    "# have changed.\n",
    "anim = animation.FuncAnimation(\n",
    "    fig,\n",
    "    animate,\n",
    "    init_func=init,\n",
    "    frames=range(0, len(save_flash) + 50, 5),\n",
    "    interval=20,\n",
    "    blit=True,\n",
    ")"
   ]
  },
  {
   "cell_type": "code",
   "execution_count": 15,
   "id": "optical-lighter",
   "metadata": {},
   "outputs": [],
   "source": [
    "writergif = animation.PillowWriter(fps=30)\n",
    "anim.save(\"animation.gif\", writer=writergif)"
   ]
  },
  {
   "cell_type": "code",
   "execution_count": 16,
   "id": "optical-samuel",
   "metadata": {},
   "outputs": [
    {
     "data": {
      "text/html": [
       "<img src=\"animation.gif\"/>"
      ],
      "text/plain": [
       "<IPython.core.display.Image object>"
      ]
     },
     "execution_count": 16,
     "metadata": {},
     "output_type": "execute_result"
    }
   ],
   "source": [
    "Image(url=\"animation.gif\")"
   ]
  }
 ],
 "metadata": {
  "kernelspec": {
   "display_name": "Python [conda env:.conda-ds38]",
   "language": "python",
   "name": "conda-env-.conda-ds38-py"
  },
  "language_info": {
   "codemirror_mode": {
    "name": "ipython",
    "version": 3
   },
   "file_extension": ".py",
   "mimetype": "text/x-python",
   "name": "python",
   "nbconvert_exporter": "python",
   "pygments_lexer": "ipython3",
   "version": "3.8.10"
  }
 },
 "nbformat": 4,
 "nbformat_minor": 5
}
