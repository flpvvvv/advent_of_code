{
 "cells": [
  {
   "cell_type": "raw",
   "id": "accessory-breakfast",
   "metadata": {
    "tags": []
   },
   "source": [
    "--- Day 6: Tuning Trouble ---\n",
    "The preparations are finally complete; you and the Elves leave camp on foot and begin to make your way toward the star fruit grove.\n",
    "\n",
    "As you move through the dense undergrowth, one of the Elves gives you a handheld device. He says that it has many fancy features, but the most important one to set up right now is the communication system.\n",
    "\n",
    "However, because he's heard you have significant experience dealing with signal-based systems, he convinced the other Elves that it would be okay to give you their one malfunctioning device - surely you'll have no problem fixing it.\n",
    "\n",
    "As if inspired by comedic timing, the device emits a few colorful sparks.\n",
    "\n",
    "To be able to communicate with the Elves, the device needs to lock on to their signal. The signal is a series of seemingly-random characters that the device receives one at a time.\n",
    "\n",
    "To fix the communication system, you need to add a subroutine to the device that detects a start-of-packet marker in the datastream. In the protocol being used by the Elves, the start of a packet is indicated by a sequence of four characters that are all different.\n",
    "\n",
    "The device will send your subroutine a datastream buffer (your puzzle input); your subroutine needs to identify the first position where the four most recently received characters were all different. Specifically, it needs to report the number of characters from the beginning of the buffer to the end of the first such four-character marker.\n",
    "\n",
    "For example, suppose you receive the following datastream buffer:\n",
    "\n",
    "mjqjpqmgbljsphdztnvjfqwrcgsmlb\n",
    "After the first three characters (mjq) have been received, there haven't been enough characters received yet to find the marker. The first time a marker could occur is after the fourth character is received, making the most recent four characters mjqj. Because j is repeated, this isn't a marker.\n",
    "\n",
    "The first time a marker appears is after the seventh character arrives. Once it does, the last four characters received are jpqm, which are all different. In this case, your subroutine should report the value 7, because the first start-of-packet marker is complete after 7 characters have been processed.\n",
    "\n",
    "Here are a few more examples:\n",
    "\n",
    "bvwbjplbgvbhsrlpgdmjqwftvncz: first marker after character 5\n",
    "nppdvjthqldpwncqszvftbrmjlhg: first marker after character 6\n",
    "nznrnfrfntjfmvfwmzdfjlvtqnbhcprsg: first marker after character 10\n",
    "zcfzfwzzqfrljwzlrfnpqdbhtmscgvjw: first marker after character 11\n",
    "How many characters need to be processed before the first start-of-packet marker is detected?\n",
    "\n",
    "Your puzzle answer was 1343.\n",
    "\n",
    "--- Part Two ---\n",
    "Your device's communication system is correctly detecting packets, but still isn't working. It looks like it also needs to look for messages.\n",
    "\n",
    "A start-of-message marker is just like a start-of-packet marker, except it consists of 14 distinct characters rather than 4.\n",
    "\n",
    "Here are the first positions of start-of-message markers for all of the above examples:\n",
    "\n",
    "mjqjpqmgbljsphdztnvjfqwrcgsmlb: first marker after character 19\n",
    "bvwbjplbgvbhsrlpgdmjqwftvncz: first marker after character 23\n",
    "nppdvjthqldpwncqszvftbrmjlhg: first marker after character 23\n",
    "nznrnfrfntjfmvfwmzdfjlvtqnbhcprsg: first marker after character 29\n",
    "zcfzfwzzqfrljwzlrfnpqdbhtmscgvjw: first marker after character 26\n",
    "How many characters need to be processed before the first start-of-message marker is detected?\n",
    "\n",
    "Your puzzle answer was 2193."
   ]
  },
  {
   "cell_type": "code",
   "execution_count": 1,
   "id": "reflected-thunder",
   "metadata": {},
   "outputs": [],
   "source": [
    "import warnings\n",
    "\n",
    "warnings.filterwarnings(\"ignore\")\n",
    "\n",
    "import os\n",
    "import re\n",
    "import sys\n",
    "from collections import Counter\n",
    "from functools import reduce\n",
    "from pathlib import Path\n",
    "\n",
    "import matplotlib.pyplot as plt\n",
    "import numpy as np\n",
    "import pandas as pd\n",
    "from rich import print\n",
    "from tqdm import tqdm"
   ]
  },
  {
   "cell_type": "raw",
   "id": "laughing-australian",
   "metadata": {},
   "source": [
    "def read_file_to_str_li(fp, print_exp=True):\n",
    "    with open(fp, \"r\") as f:\n",
    "        lines = f.read().split(\"\\n\")\n",
    "    if print_exp:\n",
    "        print(f\"Read from {fp}:\")\n",
    "        print(f\"First line: {lines[0]} | Last line: {lines[-1]}\")\n",
    "        print(\"-\" * 6)\n",
    "\n",
    "    return lines\n",
    "\n",
    "\n",
    "# define the function blocks\n",
    "def convert_to_int(input_str):\n",
    "    if input_str == \"\" or input_str == \" \":\n",
    "        return None\n",
    "    return int(input_str)\n",
    "\n",
    "\n",
    "def convert_to_str(input_str):\n",
    "    return str(input_str)\n",
    "\n",
    "\n",
    "# map the inputs to the function blocks\n",
    "converts = {\n",
    "    \"i\": convert_to_int,\n",
    "    \"s\": convert_to_str,\n",
    "}\n",
    "\n",
    "\n",
    "def convert_str_li_to_other_li(\n",
    "    str_li, pattern=\"i\", per_letter=False, sep=\" \", start_row=0, end_row=None\n",
    "):\n",
    "    \"\"\"Convert a list of string to a list of other types\n",
    "\n",
    "    pattern: a list of types for one item.\n",
    "        'i' for int, 's' for string\n",
    "        'si' means: convert the 1st item to string, the rest to integer\n",
    "        If separated items are more than pattern items,\n",
    "        use the last one from the parttern.\n",
    "    if per_letter=True, ignore sep and separate item per letter\n",
    "    \"\"\"\n",
    "    target_str_li = str_li[start_row:end_row]\n",
    "    # find max item num\n",
    "    max_item_num = 1\n",
    "    if per_letter:\n",
    "        max_item_num = max([len(s) for s in target_str_li])\n",
    "    else:\n",
    "        max_item_num = max([len(s.split(sep)) for s in target_str_li])\n",
    "\n",
    "    # extend the pattern to the max itme num\n",
    "    pattern = (\n",
    "        pattern + f\"{pattern[-1]}\" * (max_item_num - len(pattern))\n",
    "        if max_item_num > len(pattern)\n",
    "        else pattern\n",
    "    )\n",
    "\n",
    "    # convert\n",
    "    if per_letter:\n",
    "        return [\n",
    "            [converts[pattern[idx]](item) for idx, item in enumerate(s)]\n",
    "            for s in target_str_li\n",
    "        ]\n",
    "    else:\n",
    "        if sep == \" \":\n",
    "            return [\n",
    "                [converts[pattern[idx]](item) for idx, item in enumerate(s.split())]\n",
    "                for s in target_str_li\n",
    "            ]\n",
    "        else:\n",
    "            return [\n",
    "                [converts[pattern[idx]](item) for idx, item in enumerate(s.split(sep))]\n",
    "                for s in target_str_li\n",
    "            ]"
   ]
  },
  {
   "cell_type": "raw",
   "id": "sublime-aggregate",
   "metadata": {},
   "source": [
    "fp = \"input.txt\"\n",
    "lines = read_file_to_str_li(fp)\n",
    "\n",
    "print(\"Convert to:\")\n",
    "\n",
    "# head = convert_str_li_to_other_li(\n",
    "#     lines, pattern=\"s\", per_letter=True, sep=\",\", start_row=0, end_row=1\n",
    "# )\n",
    "\n",
    "# print(f\"Head:\\n{head}\")\n",
    "# print(f\"First line: {head[0]}\")\n",
    "# print(f\"Last line: {head[-1]}\")\n",
    "\n",
    "data = convert_str_li_to_other_li(\n",
    "    lines, pattern=\"s\", per_letter=True, sep=\" \", start_row=10, end_row=None\n",
    ")\n",
    "\n",
    "\n",
    "print(f\"First line: {data[0]}\")\n",
    "print(f\"Last line: {data[-1]}\")\n",
    "print(\"-\" * 6)"
   ]
  },
  {
   "cell_type": "code",
   "execution_count": 2,
   "id": "personal-attraction",
   "metadata": {},
   "outputs": [
    {
     "data": {
      "text/html": [
       "<pre style=\"white-space:pre;overflow-x:auto;line-height:normal;font-family:Menlo,'DejaVu Sans Mono',consolas,'Courier New',monospace\">first marker after character <span style=\"color: #008080; text-decoration-color: #008080; font-weight: bold\">1343</span>: qwhd\n",
       "</pre>\n"
      ],
      "text/plain": [
       "first marker after character \u001b[1;36m1343\u001b[0m: qwhd\n"
      ]
     },
     "metadata": {},
     "output_type": "display_data"
    },
    {
     "data": {
      "text/html": [
       "<pre style=\"white-space:pre;overflow-x:auto;line-height:normal;font-family:Menlo,'DejaVu Sans Mono',consolas,'Courier New',monospace\">Answer to Q1: <span style=\"color: #008080; text-decoration-color: #008080; font-weight: bold\">1343</span>\n",
       "</pre>\n"
      ],
      "text/plain": [
       "Answer to Q1: \u001b[1;36m1343\u001b[0m\n"
      ]
     },
     "metadata": {},
     "output_type": "display_data"
    },
    {
     "data": {
      "text/html": [
       "<pre style=\"white-space:pre;overflow-x:auto;line-height:normal;font-family:Menlo,'DejaVu Sans Mono',consolas,'Courier New',monospace\">first marker after character <span style=\"color: #008080; text-decoration-color: #008080; font-weight: bold\">2193</span>: thmdzjcflwpnrs\n",
       "</pre>\n"
      ],
      "text/plain": [
       "first marker after character \u001b[1;36m2193\u001b[0m: thmdzjcflwpnrs\n"
      ]
     },
     "metadata": {},
     "output_type": "display_data"
    },
    {
     "data": {
      "text/html": [
       "<pre style=\"white-space:pre;overflow-x:auto;line-height:normal;font-family:Menlo,'DejaVu Sans Mono',consolas,'Courier New',monospace\">Answer to Q2: <span style=\"color: #008080; text-decoration-color: #008080; font-weight: bold\">2193</span>\n",
       "</pre>\n"
      ],
      "text/plain": [
       "Answer to Q2: \u001b[1;36m2193\u001b[0m\n"
      ]
     },
     "metadata": {},
     "output_type": "display_data"
    }
   ],
   "source": [
    "with open(\"input.txt\", \"r\") as f:\n",
    "    input_str = f.read()\n",
    "\n",
    "n = 4\n",
    "for i in range(n, len(input_str) + 1):\n",
    "    str2check = input_str[i - n : i]\n",
    "    if len(set(str2check)) == len(str2check):\n",
    "        print(f\"first marker after character {i}: {str2check}\")\n",
    "        print(f\"Answer to Q1: {i}\")\n",
    "        break\n",
    "\n",
    "n = 14\n",
    "for i in range(n, len(input_str) + 1):\n",
    "    str2check = input_str[i - n : i]\n",
    "    if len(set(str2check)) == len(str2check):\n",
    "        print(f\"first marker after character {i}: {str2check}\")\n",
    "        print(f\"Answer to Q2: {i}\")\n",
    "        break"
   ]
  },
  {
   "cell_type": "code",
   "execution_count": null,
   "id": "round-vegetable",
   "metadata": {},
   "outputs": [],
   "source": []
  }
 ],
 "metadata": {
  "kernelspec": {
   "display_name": "Python [conda env:.conda-ds38]",
   "language": "python",
   "name": "conda-env-.conda-ds38-py"
  },
  "language_info": {
   "codemirror_mode": {
    "name": "ipython",
    "version": 3
   },
   "file_extension": ".py",
   "mimetype": "text/x-python",
   "name": "python",
   "nbconvert_exporter": "python",
   "pygments_lexer": "ipython3",
   "version": "3.8.10"
  }
 },
 "nbformat": 4,
 "nbformat_minor": 5
}
