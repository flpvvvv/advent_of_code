{
 "cells": [
  {
   "cell_type": "raw",
   "id": "parliamentary-bronze",
   "metadata": {
    "jupyter": {
     "source_hidden": true
    },
    "tags": []
   },
   "source": [
    "--- Day 20: Grove Positioning System ---\n",
    "It's finally time to meet back up with the Elves. When you try to contact them, however, you get no reply. Perhaps you're out of range?\n",
    "\n",
    "You know they're headed to the grove where the star fruit grows, so if you can figure out where that is, you should be able to meet back up with them.\n",
    "\n",
    "Fortunately, your handheld device has a file (your puzzle input) that contains the grove's coordinates! Unfortunately, the file is encrypted - just in case the device were to fall into the wrong hands.\n",
    "\n",
    "Maybe you can decrypt it?\n",
    "\n",
    "When you were still back at the camp, you overheard some Elves talking about coordinate file encryption. The main operation involved in decrypting the file is called mixing.\n",
    "\n",
    "The encrypted file is a list of numbers. To mix the file, move each number forward or backward in the file a number of positions equal to the value of the number being moved. The list is circular, so moving a number off one end of the list wraps back around to the other end as if the ends were connected.\n",
    "\n",
    "For example, to move the 1 in a sequence like 4, 5, 6, 1, 7, 8, 9, the 1 moves one position forward: 4, 5, 6, 7, 1, 8, 9. To move the -2 in a sequence like 4, -2, 5, 6, 7, 8, 9, the -2 moves two positions backward, wrapping around: 4, 5, 6, 7, 8, -2, 9.\n",
    "\n",
    "The numbers should be moved in the order they originally appear in the encrypted file. Numbers moving around during the mixing process do not change the order in which the numbers are moved.\n",
    "\n",
    "Consider this encrypted file:\n",
    "\n",
    "1\n",
    "2\n",
    "-3\n",
    "3\n",
    "-2\n",
    "0\n",
    "4\n",
    "Mixing this file proceeds as follows:\n",
    "\n",
    "Initial arrangement:\n",
    "1, 2, -3, 3, -2, 0, 4\n",
    "\n",
    "1 moves between 2 and -3:\n",
    "2, 1, -3, 3, -2, 0, 4\n",
    "\n",
    "2 moves between -3 and 3:\n",
    "1, -3, 2, 3, -2, 0, 4\n",
    "\n",
    "-3 moves between -2 and 0:\n",
    "1, 2, 3, -2, -3, 0, 4\n",
    "\n",
    "3 moves between 0 and 4:\n",
    "1, 2, -2, -3, 0, 3, 4\n",
    "\n",
    "-2 moves between 4 and 1:\n",
    "1, 2, -3, 0, 3, 4, -2\n",
    "\n",
    "0 does not move:\n",
    "1, 2, -3, 0, 3, 4, -2\n",
    "\n",
    "4 moves between -3 and 0:\n",
    "1, 2, -3, 4, 0, 3, -2\n",
    "Then, the grove coordinates can be found by looking at the 1000th, 2000th, and 3000th numbers after the value 0, wrapping around the list as necessary. In the above example, the 1000th number after 0 is 4, the 2000th is -3, and the 3000th is 2; adding these together produces 3.\n",
    "\n",
    "Mix your encrypted file exactly once. What is the sum of the three numbers that form the grove coordinates?\n",
    "\n",
    "Your puzzle answer was 7228.\n",
    "\n",
    "--- Part Two ---\n",
    "The grove coordinate values seem nonsensical. While you ponder the mysteries of Elf encryption, you suddenly remember the rest of the decryption routine you overheard back at camp.\n",
    "\n",
    "First, you need to apply the decryption key, 811589153. Multiply each number by the decryption key before you begin; this will produce the actual list of numbers to mix.\n",
    "\n",
    "Second, you need to mix the list of numbers ten times. The order in which the numbers are mixed does not change during mixing; the numbers are still moved in the order they appeared in the original, pre-mixed list. (So, if -3 appears fourth in the original list of numbers to mix, -3 will be the fourth number to move during each round of mixing.)\n",
    "\n",
    "Using the same example as above:\n",
    "\n",
    "Initial arrangement:\n",
    "811589153, 1623178306, -2434767459, 2434767459, -1623178306, 0, 3246356612\n",
    "\n",
    "After 1 round of mixing:\n",
    "0, -2434767459, 3246356612, -1623178306, 2434767459, 1623178306, 811589153\n",
    "\n",
    "After 2 rounds of mixing:\n",
    "0, 2434767459, 1623178306, 3246356612, -2434767459, -1623178306, 811589153\n",
    "\n",
    "After 3 rounds of mixing:\n",
    "0, 811589153, 2434767459, 3246356612, 1623178306, -1623178306, -2434767459\n",
    "\n",
    "After 4 rounds of mixing:\n",
    "0, 1623178306, -2434767459, 811589153, 2434767459, 3246356612, -1623178306\n",
    "\n",
    "After 5 rounds of mixing:\n",
    "0, 811589153, -1623178306, 1623178306, -2434767459, 3246356612, 2434767459\n",
    "\n",
    "After 6 rounds of mixing:\n",
    "0, 811589153, -1623178306, 3246356612, -2434767459, 1623178306, 2434767459\n",
    "\n",
    "After 7 rounds of mixing:\n",
    "0, -2434767459, 2434767459, 1623178306, -1623178306, 811589153, 3246356612\n",
    "\n",
    "After 8 rounds of mixing:\n",
    "0, 1623178306, 3246356612, 811589153, -2434767459, 2434767459, -1623178306\n",
    "\n",
    "After 9 rounds of mixing:\n",
    "0, 811589153, 1623178306, -2434767459, 3246356612, 2434767459, -1623178306\n",
    "\n",
    "After 10 rounds of mixing:\n",
    "0, -2434767459, 1623178306, 3246356612, -1623178306, 2434767459, 811589153\n",
    "The grove coordinates can still be found in the same way. Here, the 1000th number after 0 is 811589153, the 2000th is 2434767459, and the 3000th is -1623178306; adding these together produces 1623178306.\n",
    "\n",
    "Apply the decryption key and mix your encrypted file ten times. What is the sum of the three numbers that form the grove coordinates?\n",
    "\n",
    "Your puzzle answer was 4526232706281."
   ]
  },
  {
   "cell_type": "code",
   "execution_count": 1,
   "id": "supposed-hampshire",
   "metadata": {},
   "outputs": [],
   "source": [
    "import warnings\n",
    "\n",
    "warnings.filterwarnings(\"ignore\")\n",
    "\n",
    "import itertools\n",
    "import json\n",
    "import math\n",
    "import os\n",
    "import re\n",
    "import sys\n",
    "from collections import Counter\n",
    "from copy import deepcopy\n",
    "from functools import reduce\n",
    "from pathlib import Path\n",
    "\n",
    "import matplotlib.pyplot as plt\n",
    "import networkx as nx\n",
    "import numpy as np\n",
    "import pandas as pd\n",
    "import seaborn as sns\n",
    "from networkx.algorithms.shortest_paths.weighted import dijkstra_path_length\n",
    "from rich import print\n",
    "from tqdm import tqdm"
   ]
  },
  {
   "cell_type": "code",
   "execution_count": 2,
   "id": "compatible-ferry",
   "metadata": {},
   "outputs": [],
   "source": [
    "def plot_mtx(mtx, figsize=(10, 10)):\n",
    "    fig, ax = plt.subplots(figsize=figsize)\n",
    "    ax.matshow(mtx, cmap=plt.cm.Blues)\n",
    "    plt.plot()"
   ]
  },
  {
   "cell_type": "code",
   "execution_count": 3,
   "id": "proof-speed",
   "metadata": {},
   "outputs": [],
   "source": [
    "def read_file_to_str_li(fp, print_exp=True):\n",
    "    with open(fp, \"r\") as f:\n",
    "        lines = f.read().split(\"\\n\")\n",
    "    if print_exp:\n",
    "        print(f\"Read from {fp}:\")\n",
    "        print(f\"First line: {lines[0]} | Last line: {lines[-1]}\")\n",
    "        print(\"-\" * 6)\n",
    "\n",
    "    return lines\n",
    "\n",
    "\n",
    "# define the function blocks\n",
    "def convert_to_int(input_str):\n",
    "    if input_str == \"\" or input_str == \" \":\n",
    "        return None\n",
    "    return int(input_str)\n",
    "\n",
    "\n",
    "def convert_to_str(input_str):\n",
    "    return str(input_str)\n",
    "\n",
    "\n",
    "# map the inputs to the function blocks\n",
    "converts = {\n",
    "    \"i\": convert_to_int,\n",
    "    \"s\": convert_to_str,\n",
    "}\n",
    "\n",
    "\n",
    "def convert_str_li_to_other_li(\n",
    "    str_li, pattern=\"i\", per_letter=False, sep=\" \", start_row=0, end_row=None\n",
    "):\n",
    "    \"\"\"Convert a list of string to a list of other types\n",
    "\n",
    "    pattern: a list of types for one item.\n",
    "        'i' for int, 's' for string\n",
    "        'si' means: convert the 1st item to string, the rest to integer\n",
    "        If separated items are more than pattern items,\n",
    "        use the last one from the parttern.\n",
    "    if per_letter=True, ignore sep and separate item per letter\n",
    "    \"\"\"\n",
    "    target_str_li = str_li[start_row:end_row]\n",
    "    # find max item num\n",
    "    max_item_num = 1\n",
    "    if per_letter:\n",
    "        max_item_num = max([len(s) for s in target_str_li])\n",
    "    else:\n",
    "        max_item_num = max([len(s.split(sep)) for s in target_str_li])\n",
    "\n",
    "    # extend the pattern to the max itme num\n",
    "    pattern = (\n",
    "        pattern + f\"{pattern[-1]}\" * (max_item_num - len(pattern))\n",
    "        if max_item_num > len(pattern)\n",
    "        else pattern\n",
    "    )\n",
    "\n",
    "    # convert\n",
    "    if per_letter:\n",
    "        return [\n",
    "            [converts[pattern[idx]](item) for idx, item in enumerate(s)]\n",
    "            for s in target_str_li\n",
    "        ]\n",
    "    else:\n",
    "        if sep == \" \":\n",
    "            return [\n",
    "                [converts[pattern[idx]](item) for idx, item in enumerate(s.split())]\n",
    "                for s in target_str_li\n",
    "            ]\n",
    "        else:\n",
    "            return [\n",
    "                [converts[pattern[idx]](item) for idx, item in enumerate(s.split(sep))]\n",
    "                for s in target_str_li\n",
    "            ]"
   ]
  },
  {
   "cell_type": "code",
   "execution_count": 4,
   "id": "moderate-massage",
   "metadata": {
    "tags": []
   },
   "outputs": [
    {
     "data": {
      "text/html": [
       "<pre style=\"white-space:pre;overflow-x:auto;line-height:normal;font-family:Menlo,'DejaVu Sans Mono',consolas,'Courier New',monospace\">Read from input.txt:\n",
       "</pre>\n"
      ],
      "text/plain": [
       "Read from input.txt:\n"
      ]
     },
     "metadata": {},
     "output_type": "display_data"
    },
    {
     "data": {
      "text/html": [
       "<pre style=\"white-space:pre;overflow-x:auto;line-height:normal;font-family:Menlo,'DejaVu Sans Mono',consolas,'Courier New',monospace\">First line: <span style=\"color: #008080; text-decoration-color: #008080; font-weight: bold\">7144</span> | Last line: <span style=\"color: #008080; text-decoration-color: #008080; font-weight: bold\">8274</span>\n",
       "</pre>\n"
      ],
      "text/plain": [
       "First line: \u001b[1;36m7144\u001b[0m | Last line: \u001b[1;36m8274\u001b[0m\n"
      ]
     },
     "metadata": {},
     "output_type": "display_data"
    },
    {
     "data": {
      "text/html": [
       "<pre style=\"white-space:pre;overflow-x:auto;line-height:normal;font-family:Menlo,'DejaVu Sans Mono',consolas,'Courier New',monospace\">------\n",
       "</pre>\n"
      ],
      "text/plain": [
       "------\n"
      ]
     },
     "metadata": {},
     "output_type": "display_data"
    },
    {
     "data": {
      "text/html": [
       "<pre style=\"white-space:pre;overflow-x:auto;line-height:normal;font-family:Menlo,'DejaVu Sans Mono',consolas,'Courier New',monospace\">Convert to:\n",
       "</pre>\n"
      ],
      "text/plain": [
       "Convert to:\n"
      ]
     },
     "metadata": {},
     "output_type": "display_data"
    },
    {
     "data": {
      "text/html": [
       "<pre style=\"white-space:pre;overflow-x:auto;line-height:normal;font-family:Menlo,'DejaVu Sans Mono',consolas,'Courier New',monospace\">First line: <span style=\"font-weight: bold\">[</span><span style=\"color: #008080; text-decoration-color: #008080; font-weight: bold\">7144</span><span style=\"font-weight: bold\">]</span>\n",
       "</pre>\n"
      ],
      "text/plain": [
       "First line: \u001b[1m[\u001b[0m\u001b[1;36m7144\u001b[0m\u001b[1m]\u001b[0m\n"
      ]
     },
     "metadata": {},
     "output_type": "display_data"
    },
    {
     "data": {
      "text/html": [
       "<pre style=\"white-space:pre;overflow-x:auto;line-height:normal;font-family:Menlo,'DejaVu Sans Mono',consolas,'Courier New',monospace\">Last line: <span style=\"font-weight: bold\">[</span><span style=\"color: #008080; text-decoration-color: #008080; font-weight: bold\">8274</span><span style=\"font-weight: bold\">]</span>\n",
       "</pre>\n"
      ],
      "text/plain": [
       "Last line: \u001b[1m[\u001b[0m\u001b[1;36m8274\u001b[0m\u001b[1m]\u001b[0m\n"
      ]
     },
     "metadata": {},
     "output_type": "display_data"
    },
    {
     "data": {
      "text/html": [
       "<pre style=\"white-space:pre;overflow-x:auto;line-height:normal;font-family:Menlo,'DejaVu Sans Mono',consolas,'Courier New',monospace\">------\n",
       "</pre>\n"
      ],
      "text/plain": [
       "------\n"
      ]
     },
     "metadata": {},
     "output_type": "display_data"
    }
   ],
   "source": [
    "fp = \"input.txt\"\n",
    "lines = read_file_to_str_li(fp)\n",
    "\n",
    "print(\"Convert to:\")\n",
    "\n",
    "# head = convert_str_li_to_other_li(\n",
    "#     lines, pattern=\"s\", per_letter=True, sep=\",\", start_row=0, end_row=1\n",
    "# )\n",
    "\n",
    "# print(f\"Head:\\n{head}\")\n",
    "# print(f\"First line: {head[0]}\")\n",
    "# print(f\"Last line: {head[-1]}\")\n",
    "\n",
    "data = convert_str_li_to_other_li(\n",
    "    lines, pattern=\"i\", per_letter=False, sep=\" \", start_row=None, end_row=None\n",
    ")\n",
    "\n",
    "\n",
    "print(f\"First line: {data[0]}\")\n",
    "print(f\"Last line: {data[-1]}\")\n",
    "print(\"-\" * 6)"
   ]
  },
  {
   "cell_type": "code",
   "execution_count": 5,
   "id": "fewer-concept",
   "metadata": {},
   "outputs": [],
   "source": [
    "def re_order(queue_dict):\n",
    "\n",
    "    for idx in range(len(num_li)):\n",
    "        move_step = queue_dict[idx][0]\n",
    "        move_step = abs(move_step) % (len(num_li) - 1) * np.sign(move_step)\n",
    "\n",
    "        if move_step == 0:\n",
    "            continue\n",
    "\n",
    "        # Take the num out\n",
    "        pre_1, pre_2 = queue_dict[idx][1], queue_dict[idx][2]\n",
    "        queue_dict[pre_1][2] = pre_2\n",
    "        queue_dict[pre_2][1] = pre_1\n",
    "\n",
    "        new_idx = idx\n",
    "\n",
    "        if move_step > 0:\n",
    "            for _ in range(move_step):\n",
    "                new_idx = queue_dict[new_idx][2]\n",
    "            pre_3, pre_4, pre_5 = (\n",
    "                new_idx,\n",
    "                idx,\n",
    "                queue_dict[new_idx][2],\n",
    "            )\n",
    "\n",
    "        else:  # move_step < 0\n",
    "            for _ in range(-move_step):\n",
    "                new_idx = queue_dict[new_idx][1]\n",
    "            pre_3, pre_4, pre_5 = (\n",
    "                queue_dict[new_idx][1],\n",
    "                idx,\n",
    "                new_idx,\n",
    "            )\n",
    "\n",
    "        queue_dict[pre_3][2] = pre_4\n",
    "        queue_dict[pre_4][1], queue_dict[pre_4][2] = pre_3, pre_5\n",
    "        queue_dict[pre_5][1] = pre_4\n",
    "\n",
    "    return queue_dict"
   ]
  },
  {
   "cell_type": "code",
   "execution_count": 6,
   "id": "economic-pencil",
   "metadata": {},
   "outputs": [
    {
     "name": "stderr",
     "output_type": "stream",
     "text": [
      "100%|███████████████████████████████████████████████████████████████| 1/1 [00:01<00:00,  1.99s/it]\n"
     ]
    },
    {
     "data": {
      "text/html": [
       "<pre style=\"white-space:pre;overflow-x:auto;line-height:normal;font-family:Menlo,'DejaVu Sans Mono',consolas,'Courier New',monospace\">Answer to Q1: <span style=\"color: #008080; text-decoration-color: #008080; font-weight: bold\">7228</span>\n",
       "</pre>\n"
      ],
      "text/plain": [
       "Answer to Q1: \u001b[1;36m7228\u001b[0m\n"
      ]
     },
     "metadata": {},
     "output_type": "display_data"
    },
    {
     "name": "stderr",
     "output_type": "stream",
     "text": [
      "100%|█████████████████████████████████████████████████████████████| 10/10 [00:27<00:00,  2.70s/it]\n"
     ]
    },
    {
     "data": {
      "text/html": [
       "<pre style=\"white-space:pre;overflow-x:auto;line-height:normal;font-family:Menlo,'DejaVu Sans Mono',consolas,'Courier New',monospace\">Answer to Q2: <span style=\"color: #008080; text-decoration-color: #008080; font-weight: bold\">4526232706281</span>\n",
       "</pre>\n"
      ],
      "text/plain": [
       "Answer to Q2: \u001b[1;36m4526232706281\u001b[0m\n"
      ]
     },
     "metadata": {},
     "output_type": "display_data"
    }
   ],
   "source": [
    "num_li = np.array(data, dtype=\"int64\").flatten()\n",
    "idx_zero = np.where(num_li == 0)[0][0]\n",
    "\n",
    "for q, l, m in [(1, 1, 1), (2, 10, 811589153)]:\n",
    "    loop_num = l\n",
    "    num_li = num_li * m\n",
    "\n",
    "    queue_dict = {}\n",
    "    for idx in range(len(num_li)):\n",
    "        queue_dict[idx] = [num_li[idx], idx - 1, idx + 1]\n",
    "    queue_dict[0] = [num_li[0], len(num_li) - 1, 1]\n",
    "    queue_dict[len(num_li) - 1] = [num_li[-1], len(num_li) - 2, 0]\n",
    "\n",
    "    for loop in tqdm(range(loop_num)):\n",
    "        queue_dict = re_order(queue_dict)\n",
    "\n",
    "    new_idx = idx_zero\n",
    "    res_sum = 0\n",
    "    for i in range(3000):\n",
    "        new_idx = queue_dict[new_idx][2]\n",
    "        if i in [1000 - 1, 2000 - 1, 3000 - 1]:\n",
    "            res_sum += int(queue_dict[new_idx][0])\n",
    "    print(f\"Answer to Q{q}: {res_sum}\")"
   ]
  },
  {
   "cell_type": "code",
   "execution_count": null,
   "id": "rational-conversation",
   "metadata": {},
   "outputs": [],
   "source": []
  }
 ],
 "metadata": {
  "kernelspec": {
   "display_name": "Python [conda env:.conda-ds38]",
   "language": "python",
   "name": "conda-env-.conda-ds38-py"
  },
  "language_info": {
   "codemirror_mode": {
    "name": "ipython",
    "version": 3
   },
   "file_extension": ".py",
   "mimetype": "text/x-python",
   "name": "python",
   "nbconvert_exporter": "python",
   "pygments_lexer": "ipython3",
   "version": "3.8.10"
  }
 },
 "nbformat": 4,
 "nbformat_minor": 5
}
