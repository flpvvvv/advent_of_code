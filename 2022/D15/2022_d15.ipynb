{
 "cells": [
  {
   "cell_type": "raw",
   "id": "smooth-tiffany",
   "metadata": {
    "jupyter": {
     "source_hidden": true
    },
    "tags": []
   },
   "source": [
    "--- Day 15: Beacon Exclusion Zone ---\n",
    "You feel the ground rumble again as the distress signal leads you to a large network of subterranean tunnels. You don't have time to search them all, but you don't need to: your pack contains a set of deployable sensors that you imagine were originally built to locate lost Elves.\n",
    "\n",
    "The sensors aren't very powerful, but that's okay; your handheld device indicates that you're close enough to the source of the distress signal to use them. You pull the emergency sensor system out of your pack, hit the big button on top, and the sensors zoom off down the tunnels.\n",
    "\n",
    "Once a sensor finds a spot it thinks will give it a good reading, it attaches itself to a hard surface and begins monitoring for the nearest signal source beacon. Sensors and beacons always exist at integer coordinates. Each sensor knows its own position and can determine the position of a beacon precisely; however, sensors can only lock on to the one beacon closest to the sensor as measured by the Manhattan distance. (There is never a tie where two beacons are the same distance to a sensor.)\n",
    "\n",
    "It doesn't take long for the sensors to report back their positions and closest beacons (your puzzle input). For example:\n",
    "\n",
    "Sensor at x=2, y=18: closest beacon is at x=-2, y=15\n",
    "Sensor at x=9, y=16: closest beacon is at x=10, y=16\n",
    "Sensor at x=13, y=2: closest beacon is at x=15, y=3\n",
    "Sensor at x=12, y=14: closest beacon is at x=10, y=16\n",
    "Sensor at x=10, y=20: closest beacon is at x=10, y=16\n",
    "Sensor at x=14, y=17: closest beacon is at x=10, y=16\n",
    "Sensor at x=8, y=7: closest beacon is at x=2, y=10\n",
    "Sensor at x=2, y=0: closest beacon is at x=2, y=10\n",
    "Sensor at x=0, y=11: closest beacon is at x=2, y=10\n",
    "Sensor at x=20, y=14: closest beacon is at x=25, y=17\n",
    "Sensor at x=17, y=20: closest beacon is at x=21, y=22\n",
    "Sensor at x=16, y=7: closest beacon is at x=15, y=3\n",
    "Sensor at x=14, y=3: closest beacon is at x=15, y=3\n",
    "Sensor at x=20, y=1: closest beacon is at x=15, y=3\n",
    "So, consider the sensor at 2,18; the closest beacon to it is at -2,15. For the sensor at 9,16, the closest beacon to it is at 10,16.\n",
    "\n",
    "Drawing sensors as S and beacons as B, the above arrangement of sensors and beacons looks like this:\n",
    "\n",
    "               1    1    2    2\n",
    "     0    5    0    5    0    5\n",
    " 0 ....S.......................\n",
    " 1 ......................S.....\n",
    " 2 ...............S............\n",
    " 3 ................SB..........\n",
    " 4 ............................\n",
    " 5 ............................\n",
    " 6 ............................\n",
    " 7 ..........S.......S.........\n",
    " 8 ............................\n",
    " 9 ............................\n",
    "10 ....B.......................\n",
    "11 ..S.........................\n",
    "12 ............................\n",
    "13 ............................\n",
    "14 ..............S.......S.....\n",
    "15 B...........................\n",
    "16 ...........SB...............\n",
    "17 ................S..........B\n",
    "18 ....S.......................\n",
    "19 ............................\n",
    "20 ............S......S........\n",
    "21 ............................\n",
    "22 .......................B....\n",
    "This isn't necessarily a comprehensive map of all beacons in the area, though. Because each sensor only identifies its closest beacon, if a sensor detects a beacon, you know there are no other beacons that close or closer to that sensor. There could still be beacons that just happen to not be the closest beacon to any sensor. Consider the sensor at 8,7:\n",
    "\n",
    "               1    1    2    2\n",
    "     0    5    0    5    0    5\n",
    "-2 ..........#.................\n",
    "-1 .........###................\n",
    " 0 ....S...#####...............\n",
    " 1 .......#######........S.....\n",
    " 2 ......#########S............\n",
    " 3 .....###########SB..........\n",
    " 4 ....#############...........\n",
    " 5 ...###############..........\n",
    " 6 ..#################.........\n",
    " 7 .#########S#######S#........\n",
    " 8 ..#################.........\n",
    " 9 ...###############..........\n",
    "10 ....B############...........\n",
    "11 ..S..###########............\n",
    "12 ......#########.............\n",
    "13 .......#######..............\n",
    "14 ........#####.S.......S.....\n",
    "15 B........###................\n",
    "16 ..........#SB...............\n",
    "17 ................S..........B\n",
    "18 ....S.......................\n",
    "19 ............................\n",
    "20 ............S......S........\n",
    "21 ............................\n",
    "22 .......................B....\n",
    "This sensor's closest beacon is at 2,10, and so you know there are no beacons that close or closer (in any positions marked #).\n",
    "\n",
    "None of the detected beacons seem to be producing the distress signal, so you'll need to work out where the distress beacon is by working out where it isn't. For now, keep things simple by counting the positions where a beacon cannot possibly be along just a single row.\n",
    "\n",
    "So, suppose you have an arrangement of beacons and sensors like in the example above and, just in the row where y=10, you'd like to count the number of positions a beacon cannot possibly exist. The coverage from all sensors near that row looks like this:\n",
    "\n",
    "                 1    1    2    2\n",
    "       0    5    0    5    0    5\n",
    " 9 ...#########################...\n",
    "10 ..####B######################..\n",
    "11 .###S#############.###########.\n",
    "In this example, in the row where y=10, there are 26 positions where a beacon cannot be present.\n",
    "\n",
    "Consult the report from the sensors you just deployed. In the row where y=2000000, how many positions cannot contain a beacon?\n",
    "\n",
    "Your puzzle answer was 5878678.\n",
    "\n",
    "--- Part Two ---\n",
    "Your handheld device indicates that the distress signal is coming from a beacon nearby. The distress beacon is not detected by any sensor, but the distress beacon must have x and y coordinates each no lower than 0 and no larger than 4000000.\n",
    "\n",
    "To isolate the distress beacon's signal, you need to determine its tuning frequency, which can be found by multiplying its x coordinate by 4000000 and then adding its y coordinate.\n",
    "\n",
    "In the example above, the search space is smaller: instead, the x and y coordinates can each be at most 20. With this reduced search area, there is only a single position that could have a beacon: x=14, y=11. The tuning frequency for this distress beacon is 56000011.\n",
    "\n",
    "Find the only possible position for the distress beacon. What is its tuning frequency?\n",
    "\n",
    "Your puzzle answer was 11796491041245."
   ]
  },
  {
   "cell_type": "code",
   "execution_count": 1,
   "id": "informal-purse",
   "metadata": {},
   "outputs": [],
   "source": [
    "import warnings\n",
    "\n",
    "warnings.filterwarnings(\"ignore\")\n",
    "\n",
    "import json\n",
    "import math\n",
    "import os\n",
    "import re\n",
    "import sys\n",
    "from collections import Counter\n",
    "from copy import deepcopy\n",
    "from functools import reduce\n",
    "from pathlib import Path\n",
    "\n",
    "import matplotlib.pyplot as plt\n",
    "import numpy as np\n",
    "import pandas as pd\n",
    "import seaborn as sns\n",
    "from rich import print\n",
    "from tqdm import tqdm"
   ]
  },
  {
   "cell_type": "code",
   "execution_count": 2,
   "id": "dated-madison",
   "metadata": {},
   "outputs": [],
   "source": [
    "def plot_mtx(mtx):\n",
    "    fig, ax = plt.subplots(figsize=(10, 10))\n",
    "    ax.matshow(mtx, cmap=plt.cm.Blues)\n",
    "    for i in range(mtx.shape[0]):\n",
    "        for j in range(mtx.shape[1]):\n",
    "            c = mtx[i, j]\n",
    "    plt.plot()"
   ]
  },
  {
   "cell_type": "code",
   "execution_count": 3,
   "id": "antique-aluminum",
   "metadata": {},
   "outputs": [],
   "source": [
    "def read_file_to_str_li(fp, print_exp=True):\n",
    "    with open(fp, \"r\") as f:\n",
    "        lines = f.read().split(\"\\n\")\n",
    "    if print_exp:\n",
    "        print(f\"Read from {fp}:\")\n",
    "        print(f\"First line: {lines[0]} | Last line: {lines[-1]}\")\n",
    "        print(\"-\" * 6)\n",
    "\n",
    "    return lines\n",
    "\n",
    "\n",
    "# define the function blocks\n",
    "def convert_to_int(input_str):\n",
    "    if input_str == \"\" or input_str == \" \":\n",
    "        return None\n",
    "    return int(input_str)\n",
    "\n",
    "\n",
    "def convert_to_str(input_str):\n",
    "    return str(input_str)\n",
    "\n",
    "\n",
    "# map the inputs to the function blocks\n",
    "converts = {\n",
    "    \"i\": convert_to_int,\n",
    "    \"s\": convert_to_str,\n",
    "}\n",
    "\n",
    "\n",
    "def convert_str_li_to_other_li(\n",
    "    str_li, pattern=\"i\", per_letter=False, sep=\" \", start_row=0, end_row=None\n",
    "):\n",
    "    \"\"\"Convert a list of string to a list of other types\n",
    "\n",
    "    pattern: a list of types for one item.\n",
    "        'i' for int, 's' for string\n",
    "        'si' means: convert the 1st item to string, the rest to integer\n",
    "        If separated items are more than pattern items,\n",
    "        use the last one from the parttern.\n",
    "    if per_letter=True, ignore sep and separate item per letter\n",
    "    \"\"\"\n",
    "    target_str_li = str_li[start_row:end_row]\n",
    "    # find max item num\n",
    "    max_item_num = 1\n",
    "    if per_letter:\n",
    "        max_item_num = max([len(s) for s in target_str_li])\n",
    "    else:\n",
    "        max_item_num = max([len(s.split(sep)) for s in target_str_li])\n",
    "\n",
    "    # extend the pattern to the max itme num\n",
    "    pattern = (\n",
    "        pattern + f\"{pattern[-1]}\" * (max_item_num - len(pattern))\n",
    "        if max_item_num > len(pattern)\n",
    "        else pattern\n",
    "    )\n",
    "\n",
    "    # convert\n",
    "    if per_letter:\n",
    "        return [\n",
    "            [converts[pattern[idx]](item) for idx, item in enumerate(s)]\n",
    "            for s in target_str_li\n",
    "        ]\n",
    "    else:\n",
    "        if sep == \" \":\n",
    "            return [\n",
    "                [converts[pattern[idx]](item) for idx, item in enumerate(s.split())]\n",
    "                for s in target_str_li\n",
    "            ]\n",
    "        else:\n",
    "            return [\n",
    "                [converts[pattern[idx]](item) for idx, item in enumerate(s.split(sep))]\n",
    "                for s in target_str_li\n",
    "            ]"
   ]
  },
  {
   "cell_type": "code",
   "execution_count": 4,
   "id": "refined-allergy",
   "metadata": {},
   "outputs": [
    {
     "data": {
      "text/html": [
       "<pre style=\"white-space:pre;overflow-x:auto;line-height:normal;font-family:Menlo,'DejaVu Sans Mono',consolas,'Courier New',monospace\">Read from input.txt:\n",
       "</pre>\n"
      ],
      "text/plain": [
       "Read from input.txt:\n"
      ]
     },
     "metadata": {},
     "output_type": "display_data"
    },
    {
     "data": {
      "text/html": [
       "<pre style=\"white-space:pre;overflow-x:auto;line-height:normal;font-family:Menlo,'DejaVu Sans Mono',consolas,'Courier New',monospace\">First line: Sensor at <span style=\"color: #808000; text-decoration-color: #808000\">x</span>=<span style=\"color: #008080; text-decoration-color: #008080; font-weight: bold\">489739</span>, <span style=\"color: #808000; text-decoration-color: #808000\">y</span>=<span style=\"color: #008080; text-decoration-color: #008080; font-weight: bold\">1144461</span>: closest beacon is at <span style=\"color: #808000; text-decoration-color: #808000\">x</span>=<span style=\"color: #008080; text-decoration-color: #008080; font-weight: bold\">-46516</span>, <span style=\"color: #808000; text-decoration-color: #808000\">y</span>=<span style=\"color: #008080; text-decoration-color: #008080; font-weight: bold\">554951</span> | Last \n",
       "line: Sensor at <span style=\"color: #808000; text-decoration-color: #808000\">x</span>=<span style=\"color: #008080; text-decoration-color: #008080; font-weight: bold\">3343176</span>, <span style=\"color: #808000; text-decoration-color: #808000\">y</span>=<span style=\"color: #008080; text-decoration-color: #008080; font-weight: bold\">75114</span>: closest beacon is at <span style=\"color: #808000; text-decoration-color: #808000\">x</span>=<span style=\"color: #008080; text-decoration-color: #008080; font-weight: bold\">2646619</span>, <span style=\"color: #808000; text-decoration-color: #808000\">y</span>=<span style=\"color: #008080; text-decoration-color: #008080; font-weight: bold\">229757</span>\n",
       "</pre>\n"
      ],
      "text/plain": [
       "First line: Sensor at \u001b[33mx\u001b[0m=\u001b[1;36m489739\u001b[0m, \u001b[33my\u001b[0m=\u001b[1;36m1144461\u001b[0m: closest beacon is at \u001b[33mx\u001b[0m=\u001b[1;36m-46516\u001b[0m, \u001b[33my\u001b[0m=\u001b[1;36m554951\u001b[0m | Last \n",
       "line: Sensor at \u001b[33mx\u001b[0m=\u001b[1;36m3343176\u001b[0m, \u001b[33my\u001b[0m=\u001b[1;36m75114\u001b[0m: closest beacon is at \u001b[33mx\u001b[0m=\u001b[1;36m2646619\u001b[0m, \u001b[33my\u001b[0m=\u001b[1;36m229757\u001b[0m\n"
      ]
     },
     "metadata": {},
     "output_type": "display_data"
    },
    {
     "data": {
      "text/html": [
       "<pre style=\"white-space:pre;overflow-x:auto;line-height:normal;font-family:Menlo,'DejaVu Sans Mono',consolas,'Courier New',monospace\">------\n",
       "</pre>\n"
      ],
      "text/plain": [
       "------\n"
      ]
     },
     "metadata": {},
     "output_type": "display_data"
    },
    {
     "data": {
      "text/html": [
       "<pre style=\"white-space:pre;overflow-x:auto;line-height:normal;font-family:Menlo,'DejaVu Sans Mono',consolas,'Courier New',monospace\">Convert to:\n",
       "</pre>\n"
      ],
      "text/plain": [
       "Convert to:\n"
      ]
     },
     "metadata": {},
     "output_type": "display_data"
    },
    {
     "data": {
      "text/html": [
       "<pre style=\"white-space:pre;overflow-x:auto;line-height:normal;font-family:Menlo,'DejaVu Sans Mono',consolas,'Courier New',monospace\">First line: <span style=\"font-weight: bold\">[</span><span style=\"color: #008000; text-decoration-color: #008000\">'Sensor'</span>, <span style=\"color: #008000; text-decoration-color: #008000\">'at'</span>, <span style=\"color: #008000; text-decoration-color: #008000\">'x=489739,'</span>, <span style=\"color: #008000; text-decoration-color: #008000\">'y=1144461:'</span>, <span style=\"color: #008000; text-decoration-color: #008000\">'closest'</span>, <span style=\"color: #008000; text-decoration-color: #008000\">'beacon'</span>, <span style=\"color: #008000; text-decoration-color: #008000\">'is'</span>, <span style=\"color: #008000; text-decoration-color: #008000\">'at'</span>, \n",
       "<span style=\"color: #008000; text-decoration-color: #008000\">'x=-46516,'</span>, <span style=\"color: #008000; text-decoration-color: #008000\">'y=554951'</span><span style=\"font-weight: bold\">]</span>\n",
       "</pre>\n"
      ],
      "text/plain": [
       "First line: \u001b[1m[\u001b[0m\u001b[32m'Sensor'\u001b[0m, \u001b[32m'at'\u001b[0m, \u001b[32m'\u001b[0m\u001b[32mx\u001b[0m\u001b[32m=\u001b[0m\u001b[32m489739\u001b[0m\u001b[32m,'\u001b[0m, \u001b[32m'\u001b[0m\u001b[32my\u001b[0m\u001b[32m=\u001b[0m\u001b[32m1144461\u001b[0m\u001b[32m:'\u001b[0m, \u001b[32m'closest'\u001b[0m, \u001b[32m'beacon'\u001b[0m, \u001b[32m'is'\u001b[0m, \u001b[32m'at'\u001b[0m, \n",
       "\u001b[32m'\u001b[0m\u001b[32mx\u001b[0m\u001b[32m=-46516,'\u001b[0m, \u001b[32m'\u001b[0m\u001b[32my\u001b[0m\u001b[32m=\u001b[0m\u001b[32m554951\u001b[0m\u001b[32m'\u001b[0m\u001b[1m]\u001b[0m\n"
      ]
     },
     "metadata": {},
     "output_type": "display_data"
    },
    {
     "data": {
      "text/html": [
       "<pre style=\"white-space:pre;overflow-x:auto;line-height:normal;font-family:Menlo,'DejaVu Sans Mono',consolas,'Courier New',monospace\">Last line: <span style=\"font-weight: bold\">[</span><span style=\"color: #008000; text-decoration-color: #008000\">'Sensor'</span>, <span style=\"color: #008000; text-decoration-color: #008000\">'at'</span>, <span style=\"color: #008000; text-decoration-color: #008000\">'x=3343176,'</span>, <span style=\"color: #008000; text-decoration-color: #008000\">'y=75114:'</span>, <span style=\"color: #008000; text-decoration-color: #008000\">'closest'</span>, <span style=\"color: #008000; text-decoration-color: #008000\">'beacon'</span>, <span style=\"color: #008000; text-decoration-color: #008000\">'is'</span>, <span style=\"color: #008000; text-decoration-color: #008000\">'at'</span>, \n",
       "<span style=\"color: #008000; text-decoration-color: #008000\">'x=2646619,'</span>, <span style=\"color: #008000; text-decoration-color: #008000\">'y=229757'</span><span style=\"font-weight: bold\">]</span>\n",
       "</pre>\n"
      ],
      "text/plain": [
       "Last line: \u001b[1m[\u001b[0m\u001b[32m'Sensor'\u001b[0m, \u001b[32m'at'\u001b[0m, \u001b[32m'\u001b[0m\u001b[32mx\u001b[0m\u001b[32m=\u001b[0m\u001b[32m3343176\u001b[0m\u001b[32m,'\u001b[0m, \u001b[32m'\u001b[0m\u001b[32my\u001b[0m\u001b[32m=\u001b[0m\u001b[32m75114\u001b[0m\u001b[32m:'\u001b[0m, \u001b[32m'closest'\u001b[0m, \u001b[32m'beacon'\u001b[0m, \u001b[32m'is'\u001b[0m, \u001b[32m'at'\u001b[0m, \n",
       "\u001b[32m'\u001b[0m\u001b[32mx\u001b[0m\u001b[32m=\u001b[0m\u001b[32m2646619\u001b[0m\u001b[32m,'\u001b[0m, \u001b[32m'\u001b[0m\u001b[32my\u001b[0m\u001b[32m=\u001b[0m\u001b[32m229757\u001b[0m\u001b[32m'\u001b[0m\u001b[1m]\u001b[0m\n"
      ]
     },
     "metadata": {},
     "output_type": "display_data"
    },
    {
     "data": {
      "text/html": [
       "<pre style=\"white-space:pre;overflow-x:auto;line-height:normal;font-family:Menlo,'DejaVu Sans Mono',consolas,'Courier New',monospace\">------\n",
       "</pre>\n"
      ],
      "text/plain": [
       "------\n"
      ]
     },
     "metadata": {},
     "output_type": "display_data"
    }
   ],
   "source": [
    "fp = \"input.txt\"\n",
    "lines = read_file_to_str_li(fp)\n",
    "\n",
    "print(\"Convert to:\")\n",
    "\n",
    "# head = convert_str_li_to_other_li(\n",
    "#     lines, pattern=\"s\", per_letter=True, sep=\",\", start_row=0, end_row=1\n",
    "# )\n",
    "\n",
    "# print(f\"Head:\\n{head}\")\n",
    "# print(f\"First line: {head[0]}\")\n",
    "# print(f\"Last line: {head[-1]}\")\n",
    "\n",
    "data = convert_str_li_to_other_li(\n",
    "    lines, pattern=\"s\", per_letter=False, sep=\" \", start_row=None, end_row=None\n",
    ")\n",
    "\n",
    "\n",
    "print(f\"First line: {data[0]}\")\n",
    "print(f\"Last line: {data[-1]}\")\n",
    "print(\"-\" * 6)"
   ]
  },
  {
   "cell_type": "code",
   "execution_count": 5,
   "id": "behavioral-miller",
   "metadata": {},
   "outputs": [
    {
     "data": {
      "text/html": [
       "<pre style=\"white-space:pre;overflow-x:auto;line-height:normal;font-family:Menlo,'DejaVu Sans Mono',consolas,'Courier New',monospace\">Answer to Q1: <span style=\"color: #008080; text-decoration-color: #008080; font-weight: bold\">5878678</span>\n",
       "</pre>\n"
      ],
      "text/plain": [
       "Answer to Q1: \u001b[1;36m5878678\u001b[0m\n"
      ]
     },
     "metadata": {},
     "output_type": "display_data"
    },
    {
     "name": "stdout",
     "output_type": "stream",
     "text": [
      "Wall time: 2.33 ms\n"
     ]
    }
   ],
   "source": [
    "%%time\n",
    "def get_int(s):\n",
    "    return int(s.split(\",\")[0].split(\":\")[0].split(\"=\")[1])\n",
    "\n",
    "\n",
    "from scipy.spatial.distance import cityblock\n",
    "\n",
    "info_li = []\n",
    "for line in data:\n",
    "    s_p = [get_int(line[2]), get_int(line[3])]\n",
    "    b_p = [get_int(line[8]), get_int(line[9])]\n",
    "    dist = cityblock(s_p, b_p)\n",
    "    info_li.append([s_p, b_p, dist])\n",
    "\n",
    "\n",
    "def check_intersect(info, dest_y):\n",
    "    y_dist = abs(info[0][1] - dest_y)\n",
    "    if y_dist >= info[2]:\n",
    "        return [None, None]\n",
    "    else:\n",
    "        x_dist = info[2] - y_dist\n",
    "        return [info[0][0] - x_dist, info[0][0] + x_dist]\n",
    "\n",
    "\n",
    "target_row = 2000000\n",
    "intersect_li = [check_intersect(info, target_row) for info in info_li]\n",
    "\n",
    "intersect_li = [li for li in intersect_li if li[0]]\n",
    "\n",
    "from functools import cmp_to_key\n",
    "\n",
    "\n",
    "def mycmp(a, b):\n",
    "    if a[0] > b[0]:\n",
    "        return 1\n",
    "    elif a[0] < b[0]:\n",
    "        return -1\n",
    "    else:\n",
    "        return 0\n",
    "\n",
    "\n",
    "intersect_li.sort(key=cmp_to_key(mycmp))\n",
    "\n",
    "count = intersect_li[0][1] - intersect_li[0][0] + 1\n",
    "current_max = intersect_li[0][1]\n",
    "for li in intersect_li[1:]:\n",
    "    if li[0] > current_max:\n",
    "        count += li[1] - li[0] + 1\n",
    "        current_max = li[1]\n",
    "    elif li[0] == current_max:\n",
    "        count += li[1] - li[0]\n",
    "        current_max = li[1]\n",
    "    else:\n",
    "        if li[1] > current_max:\n",
    "            count += li[1] - current_max\n",
    "            current_max = li[1]\n",
    "\n",
    "p2remove = [info[1][0] for info in info_li if info[1][1] == target_row]\n",
    "\n",
    "print(f\"Answer to Q1: {count-len(set(p2remove))}\")"
   ]
  },
  {
   "cell_type": "code",
   "execution_count": 6,
   "id": "peripheral-defensive",
   "metadata": {},
   "outputs": [
    {
     "data": {
      "text/html": [
       "<pre style=\"white-space:pre;overflow-x:auto;line-height:normal;font-family:Menlo,'DejaVu Sans Mono',consolas,'Courier New',monospace\">Answer to Q2: <span style=\"color: #008080; text-decoration-color: #008080; font-weight: bold\">11796491041245</span>\n",
       "</pre>\n"
      ],
      "text/plain": [
       "Answer to Q2: \u001b[1;36m11796491041245\u001b[0m\n"
      ]
     },
     "metadata": {},
     "output_type": "display_data"
    },
    {
     "name": "stdout",
     "output_type": "stream",
     "text": [
      "Wall time: 5.01 ms\n"
     ]
    }
   ],
   "source": [
    "%%time\n",
    "\n",
    "right_li = []\n",
    "left_li = []\n",
    "for li in info_li:\n",
    "    x, y = li[0][0], li[0][1]\n",
    "    d = li[2]\n",
    "    right_li.extend([x + y + d, x + y - d])\n",
    "    left_li.extend([x - y + d, x - y - d])\n",
    "\n",
    "left_li.sort()\n",
    "right_li.sort()\n",
    "\n",
    "for idx in range(len(left_li) - 1):\n",
    "    if left_li[idx + 1] - left_li[idx] == 2:\n",
    "        l = left_li[idx] + 1\n",
    "    if right_li[idx + 1] - right_li[idx] == 2:\n",
    "        r = right_li[idx] + 1\n",
    "\n",
    "x = int((l + r) // 2)\n",
    "y = int((r - l) // 2)\n",
    "\n",
    "print(f\"Answer to Q2: {4000000*x+y}\")"
   ]
  },
  {
   "cell_type": "code",
   "execution_count": null,
   "id": "associate-healing",
   "metadata": {},
   "outputs": [],
   "source": []
  }
 ],
 "metadata": {
  "kernelspec": {
   "display_name": "Python [conda env:.conda-ds38]",
   "language": "python",
   "name": "conda-env-.conda-ds38-py"
  },
  "language_info": {
   "codemirror_mode": {
    "name": "ipython",
    "version": 3
   },
   "file_extension": ".py",
   "mimetype": "text/x-python",
   "name": "python",
   "nbconvert_exporter": "python",
   "pygments_lexer": "ipython3",
   "version": "3.8.10"
  }
 },
 "nbformat": 4,
 "nbformat_minor": 5
}
