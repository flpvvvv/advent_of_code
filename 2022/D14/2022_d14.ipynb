{
 "cells": [
  {
   "cell_type": "raw",
   "id": "random-latex",
   "metadata": {
    "jupyter": {
     "source_hidden": true
    },
    "tags": []
   },
   "source": [
    "--- Day 14: Regolith Reservoir ---\n",
    "The distress signal leads you to a giant waterfall! Actually, hang on - the signal seems like it's coming from the waterfall itself, and that doesn't make any sense. However, you do notice a little path that leads behind the waterfall.\n",
    "\n",
    "Correction: the distress signal leads you behind a giant waterfall! There seems to be a large cave system here, and the signal definitely leads further inside.\n",
    "\n",
    "As you begin to make your way deeper underground, you feel the ground rumble for a moment. Sand begins pouring into the cave! If you don't quickly figure out where the sand is going, you could quickly become trapped!\n",
    "\n",
    "Fortunately, your familiarity with analyzing the path of falling material will come in handy here. You scan a two-dimensional vertical slice of the cave above you (your puzzle input) and discover that it is mostly air with structures made of rock.\n",
    "\n",
    "Your scan traces the path of each solid rock structure and reports the x,y coordinates that form the shape of the path, where x represents distance to the right and y represents distance down. Each path appears as a single line of text in your scan. After the first point of each path, each point indicates the end of a straight horizontal or vertical line to be drawn from the previous point. For example:\n",
    "\n",
    "498,4 -> 498,6 -> 496,6\n",
    "503,4 -> 502,4 -> 502,9 -> 494,9\n",
    "This scan means that there are two paths of rock; the first path consists of two straight lines, and the second path consists of three straight lines. (Specifically, the first path consists of a line of rock from 498,4 through 498,6 and another line of rock from 498,6 through 496,6.)\n",
    "\n",
    "The sand is pouring into the cave from point 500,0.\n",
    "\n",
    "Drawing rock as #, air as ., and the source of the sand as +, this becomes:\n",
    "\n",
    "\n",
    "  4     5  5\n",
    "  9     0  0\n",
    "  4     0  3\n",
    "0 ......+...\n",
    "1 ..........\n",
    "2 ..........\n",
    "3 ..........\n",
    "4 ....#...##\n",
    "5 ....#...#.\n",
    "6 ..###...#.\n",
    "7 ........#.\n",
    "8 ........#.\n",
    "9 #########.\n",
    "Sand is produced one unit at a time, and the next unit of sand is not produced until the previous unit of sand comes to rest. A unit of sand is large enough to fill one tile of air in your scan.\n",
    "\n",
    "A unit of sand always falls down one step if possible. If the tile immediately below is blocked (by rock or sand), the unit of sand attempts to instead move diagonally one step down and to the left. If that tile is blocked, the unit of sand attempts to instead move diagonally one step down and to the right. Sand keeps moving as long as it is able to do so, at each step trying to move down, then down-left, then down-right. If all three possible destinations are blocked, the unit of sand comes to rest and no longer moves, at which point the next unit of sand is created back at the source.\n",
    "\n",
    "So, drawing sand that has come to rest as o, the first unit of sand simply falls straight down and then stops:\n",
    "\n",
    "......+...\n",
    "..........\n",
    "..........\n",
    "..........\n",
    "....#...##\n",
    "....#...#.\n",
    "..###...#.\n",
    "........#.\n",
    "......o.#.\n",
    "#########.\n",
    "The second unit of sand then falls straight down, lands on the first one, and then comes to rest to its left:\n",
    "\n",
    "......+...\n",
    "..........\n",
    "..........\n",
    "..........\n",
    "....#...##\n",
    "....#...#.\n",
    "..###...#.\n",
    "........#.\n",
    ".....oo.#.\n",
    "#########.\n",
    "After a total of five units of sand have come to rest, they form this pattern:\n",
    "\n",
    "......+...\n",
    "..........\n",
    "..........\n",
    "..........\n",
    "....#...##\n",
    "....#...#.\n",
    "..###...#.\n",
    "......o.#.\n",
    "....oooo#.\n",
    "#########.\n",
    "After a total of 22 units of sand:\n",
    "\n",
    "......+...\n",
    "..........\n",
    "......o...\n",
    ".....ooo..\n",
    "....#ooo##\n",
    "....#ooo#.\n",
    "..###ooo#.\n",
    "....oooo#.\n",
    "...ooooo#.\n",
    "#########.\n",
    "Finally, only two more units of sand can possibly come to rest:\n",
    "\n",
    "......+...\n",
    "..........\n",
    "......o...\n",
    ".....ooo..\n",
    "....#ooo##\n",
    "...o#ooo#.\n",
    "..###ooo#.\n",
    "....oooo#.\n",
    ".o.ooooo#.\n",
    "#########.\n",
    "Once all 24 units of sand shown above have come to rest, all further sand flows out the bottom, falling into the endless void. Just for fun, the path any new sand takes before falling forever is shown here with ~:\n",
    "\n",
    ".......+...\n",
    ".......~...\n",
    "......~o...\n",
    ".....~ooo..\n",
    "....~#ooo##\n",
    "...~o#ooo#.\n",
    "..~###ooo#.\n",
    "..~..oooo#.\n",
    ".~o.ooooo#.\n",
    "~#########.\n",
    "~..........\n",
    "~..........\n",
    "~..........\n",
    "Using your scan, simulate the falling sand. How many units of sand come to rest before sand starts flowing into the abyss below?\n",
    "\n",
    "Your puzzle answer was 1061.\n",
    "\n",
    "--- Part Two ---\n",
    "You realize you misread the scan. There isn't an endless void at the bottom of the scan - there's floor, and you're standing on it!\n",
    "\n",
    "You don't have time to scan the floor, so assume the floor is an infinite horizontal line with a y coordinate equal to two plus the highest y coordinate of any point in your scan.\n",
    "\n",
    "In the example above, the highest y coordinate of any point is 9, and so the floor is at y=11. (This is as if your scan contained one extra rock path like -infinity,11 -> infinity,11.) With the added floor, the example above now looks like this:\n",
    "\n",
    "        ...........+........\n",
    "        ....................\n",
    "        ....................\n",
    "        ....................\n",
    "        .........#...##.....\n",
    "        .........#...#......\n",
    "        .......###...#......\n",
    "        .............#......\n",
    "        .............#......\n",
    "        .....#########......\n",
    "        ....................\n",
    "<-- etc #################### etc -->\n",
    "To find somewhere safe to stand, you'll need to simulate falling sand until a unit of sand comes to rest at 500,0, blocking the source entirely and stopping the flow of sand into the cave. In the example above, the situation finally looks like this after 93 units of sand come to rest:\n",
    "\n",
    "............o............\n",
    "...........ooo...........\n",
    "..........ooooo..........\n",
    ".........ooooooo.........\n",
    "........oo#ooo##o........\n",
    ".......ooo#ooo#ooo.......\n",
    "......oo###ooo#oooo......\n",
    ".....oooo.oooo#ooooo.....\n",
    "....oooooooooo#oooooo....\n",
    "...ooo#########ooooooo...\n",
    "..ooooo.......ooooooooo..\n",
    "#########################\n",
    "Using your scan, simulate the falling sand until the source of the sand becomes blocked. How many units of sand come to rest?\n",
    "\n",
    "Your puzzle answer was 25055."
   ]
  },
  {
   "cell_type": "code",
   "execution_count": 1,
   "id": "indonesian-business",
   "metadata": {},
   "outputs": [],
   "source": [
    "import warnings\n",
    "\n",
    "warnings.filterwarnings(\"ignore\")\n",
    "\n",
    "import json\n",
    "import math\n",
    "import os\n",
    "import re\n",
    "import sys\n",
    "from collections import Counter\n",
    "from copy import deepcopy\n",
    "from functools import reduce\n",
    "from pathlib import Path\n",
    "\n",
    "import matplotlib.pyplot as plt\n",
    "import numpy as np\n",
    "import pandas as pd\n",
    "import seaborn as sns\n",
    "from rich import print\n",
    "from tqdm import tqdm"
   ]
  },
  {
   "cell_type": "code",
   "execution_count": 2,
   "id": "precious-intranet",
   "metadata": {},
   "outputs": [],
   "source": [
    "def plot_mtx(mtx):\n",
    "    fig, ax = plt.subplots(figsize=(10, 10))\n",
    "    ax.matshow(mtx, cmap=plt.cm.Blues)\n",
    "    for i in range(mtx.shape[0]):\n",
    "        for j in range(mtx.shape[1]):\n",
    "            c = mtx[i, j]\n",
    "    plt.plot()"
   ]
  },
  {
   "cell_type": "code",
   "execution_count": 3,
   "id": "legislative-truck",
   "metadata": {},
   "outputs": [],
   "source": [
    "def read_file_to_str_li(fp, print_exp=True):\n",
    "    with open(fp, \"r\") as f:\n",
    "        lines = f.read().split(\"\\n\")\n",
    "    if print_exp:\n",
    "        print(f\"Read from {fp}:\")\n",
    "        print(f\"First line: {lines[0]} | Last line: {lines[-1]}\")\n",
    "        print(\"-\" * 6)\n",
    "\n",
    "    return lines\n",
    "\n",
    "\n",
    "# define the function blocks\n",
    "def convert_to_int(input_str):\n",
    "    if input_str == \"\" or input_str == \" \":\n",
    "        return None\n",
    "    return int(input_str)\n",
    "\n",
    "\n",
    "def convert_to_str(input_str):\n",
    "    return str(input_str)\n",
    "\n",
    "\n",
    "# map the inputs to the function blocks\n",
    "converts = {\n",
    "    \"i\": convert_to_int,\n",
    "    \"s\": convert_to_str,\n",
    "}\n",
    "\n",
    "\n",
    "def convert_str_li_to_other_li(\n",
    "    str_li, pattern=\"i\", per_letter=False, sep=\" \", start_row=0, end_row=None\n",
    "):\n",
    "    \"\"\"Convert a list of string to a list of other types\n",
    "\n",
    "    pattern: a list of types for one item.\n",
    "        'i' for int, 's' for string\n",
    "        'si' means: convert the 1st item to string, the rest to integer\n",
    "        If separated items are more than pattern items,\n",
    "        use the last one from the parttern.\n",
    "    if per_letter=True, ignore sep and separate item per letter\n",
    "    \"\"\"\n",
    "    target_str_li = str_li[start_row:end_row]\n",
    "    # find max item num\n",
    "    max_item_num = 1\n",
    "    if per_letter:\n",
    "        max_item_num = max([len(s) for s in target_str_li])\n",
    "    else:\n",
    "        max_item_num = max([len(s.split(sep)) for s in target_str_li])\n",
    "\n",
    "    # extend the pattern to the max itme num\n",
    "    pattern = (\n",
    "        pattern + f\"{pattern[-1]}\" * (max_item_num - len(pattern))\n",
    "        if max_item_num > len(pattern)\n",
    "        else pattern\n",
    "    )\n",
    "\n",
    "    # convert\n",
    "    if per_letter:\n",
    "        return [\n",
    "            [converts[pattern[idx]](item) for idx, item in enumerate(s)]\n",
    "            for s in target_str_li\n",
    "        ]\n",
    "    else:\n",
    "        if sep == \" \":\n",
    "            return [\n",
    "                [converts[pattern[idx]](item) for idx, item in enumerate(s.split())]\n",
    "                for s in target_str_li\n",
    "            ]\n",
    "        else:\n",
    "            return [\n",
    "                [converts[pattern[idx]](item) for idx, item in enumerate(s.split(sep))]\n",
    "                for s in target_str_li\n",
    "            ]"
   ]
  },
  {
   "cell_type": "code",
   "execution_count": 4,
   "id": "breeding-indonesia",
   "metadata": {},
   "outputs": [
    {
     "data": {
      "text/html": [
       "<pre style=\"white-space:pre;overflow-x:auto;line-height:normal;font-family:Menlo,'DejaVu Sans Mono',consolas,'Courier New',monospace\">Read from input.txt:\n",
       "</pre>\n"
      ],
      "text/plain": [
       "Read from input.txt:\n"
      ]
     },
     "metadata": {},
     "output_type": "display_data"
    },
    {
     "data": {
      "text/html": [
       "<pre style=\"white-space:pre;overflow-x:auto;line-height:normal;font-family:Menlo,'DejaVu Sans Mono',consolas,'Courier New',monospace\">First line: <span style=\"color: #008080; text-decoration-color: #008080; font-weight: bold\">498</span>,<span style=\"color: #008080; text-decoration-color: #008080; font-weight: bold\">13</span> -&gt; <span style=\"color: #008080; text-decoration-color: #008080; font-weight: bold\">498</span>,<span style=\"color: #008080; text-decoration-color: #008080; font-weight: bold\">16</span> -&gt; <span style=\"color: #008080; text-decoration-color: #008080; font-weight: bold\">496</span>,<span style=\"color: #008080; text-decoration-color: #008080; font-weight: bold\">16</span> -&gt; <span style=\"color: #008080; text-decoration-color: #008080; font-weight: bold\">496</span>,<span style=\"color: #008080; text-decoration-color: #008080; font-weight: bold\">20</span> -&gt; <span style=\"color: #008080; text-decoration-color: #008080; font-weight: bold\">509</span>,<span style=\"color: #008080; text-decoration-color: #008080; font-weight: bold\">20</span> -&gt; <span style=\"color: #008080; text-decoration-color: #008080; font-weight: bold\">509</span>,<span style=\"color: #008080; text-decoration-color: #008080; font-weight: bold\">16</span> -&gt; <span style=\"color: #008080; text-decoration-color: #008080; font-weight: bold\">502</span>,<span style=\"color: #008080; text-decoration-color: #008080; font-weight: bold\">16</span> -&gt; <span style=\"color: #008080; text-decoration-color: #008080; font-weight: bold\">502</span>,<span style=\"color: #008080; text-decoration-color: #008080; font-weight: bold\">13</span> | \n",
       "Last line: <span style=\"color: #008080; text-decoration-color: #008080; font-weight: bold\">478</span>,<span style=\"color: #008080; text-decoration-color: #008080; font-weight: bold\">162</span> -&gt; <span style=\"color: #008080; text-decoration-color: #008080; font-weight: bold\">478</span>,<span style=\"color: #008080; text-decoration-color: #008080; font-weight: bold\">154</span> -&gt; <span style=\"color: #008080; text-decoration-color: #008080; font-weight: bold\">478</span>,<span style=\"color: #008080; text-decoration-color: #008080; font-weight: bold\">162</span> -&gt; <span style=\"color: #008080; text-decoration-color: #008080; font-weight: bold\">480</span>,<span style=\"color: #008080; text-decoration-color: #008080; font-weight: bold\">162</span> -&gt; <span style=\"color: #008080; text-decoration-color: #008080; font-weight: bold\">480</span>,<span style=\"color: #008080; text-decoration-color: #008080; font-weight: bold\">159</span> -&gt; <span style=\"color: #008080; text-decoration-color: #008080; font-weight: bold\">480</span>,<span style=\"color: #008080; text-decoration-color: #008080; font-weight: bold\">162</span> -&gt; <span style=\"color: #008080; text-decoration-color: #008080; font-weight: bold\">482</span>,<span style=\"color: #008080; text-decoration-color: #008080; font-weight: bold\">162</span> -&gt; \n",
       "<span style=\"color: #008080; text-decoration-color: #008080; font-weight: bold\">482</span>,<span style=\"color: #008080; text-decoration-color: #008080; font-weight: bold\">156</span> -&gt; <span style=\"color: #008080; text-decoration-color: #008080; font-weight: bold\">482</span>,<span style=\"color: #008080; text-decoration-color: #008080; font-weight: bold\">162</span> -&gt; <span style=\"color: #008080; text-decoration-color: #008080; font-weight: bold\">484</span>,<span style=\"color: #008080; text-decoration-color: #008080; font-weight: bold\">162</span> -&gt; <span style=\"color: #008080; text-decoration-color: #008080; font-weight: bold\">484</span>,<span style=\"color: #008080; text-decoration-color: #008080; font-weight: bold\">161</span> -&gt; <span style=\"color: #008080; text-decoration-color: #008080; font-weight: bold\">484</span>,<span style=\"color: #008080; text-decoration-color: #008080; font-weight: bold\">162</span> -&gt; <span style=\"color: #008080; text-decoration-color: #008080; font-weight: bold\">486</span>,<span style=\"color: #008080; text-decoration-color: #008080; font-weight: bold\">162</span> -&gt; <span style=\"color: #008080; text-decoration-color: #008080; font-weight: bold\">486</span>,<span style=\"color: #008080; text-decoration-color: #008080; font-weight: bold\">155</span> -&gt; <span style=\"color: #008080; text-decoration-color: #008080; font-weight: bold\">486</span>,<span style=\"color: #008080; text-decoration-color: #008080; font-weight: bold\">162</span> -&gt; \n",
       "<span style=\"color: #008080; text-decoration-color: #008080; font-weight: bold\">488</span>,<span style=\"color: #008080; text-decoration-color: #008080; font-weight: bold\">162</span> -&gt; <span style=\"color: #008080; text-decoration-color: #008080; font-weight: bold\">488</span>,<span style=\"color: #008080; text-decoration-color: #008080; font-weight: bold\">159</span> -&gt; <span style=\"color: #008080; text-decoration-color: #008080; font-weight: bold\">488</span>,<span style=\"color: #008080; text-decoration-color: #008080; font-weight: bold\">162</span> -&gt; <span style=\"color: #008080; text-decoration-color: #008080; font-weight: bold\">490</span>,<span style=\"color: #008080; text-decoration-color: #008080; font-weight: bold\">162</span> -&gt; <span style=\"color: #008080; text-decoration-color: #008080; font-weight: bold\">490</span>,<span style=\"color: #008080; text-decoration-color: #008080; font-weight: bold\">158</span> -&gt; <span style=\"color: #008080; text-decoration-color: #008080; font-weight: bold\">490</span>,<span style=\"color: #008080; text-decoration-color: #008080; font-weight: bold\">162</span> -&gt; <span style=\"color: #008080; text-decoration-color: #008080; font-weight: bold\">492</span>,<span style=\"color: #008080; text-decoration-color: #008080; font-weight: bold\">162</span> -&gt; <span style=\"color: #008080; text-decoration-color: #008080; font-weight: bold\">492</span>,<span style=\"color: #008080; text-decoration-color: #008080; font-weight: bold\">159</span> -&gt; \n",
       "<span style=\"color: #008080; text-decoration-color: #008080; font-weight: bold\">492</span>,<span style=\"color: #008080; text-decoration-color: #008080; font-weight: bold\">162</span> -&gt; <span style=\"color: #008080; text-decoration-color: #008080; font-weight: bold\">494</span>,<span style=\"color: #008080; text-decoration-color: #008080; font-weight: bold\">162</span> -&gt; <span style=\"color: #008080; text-decoration-color: #008080; font-weight: bold\">494</span>,<span style=\"color: #008080; text-decoration-color: #008080; font-weight: bold\">158</span> -&gt; <span style=\"color: #008080; text-decoration-color: #008080; font-weight: bold\">494</span>,<span style=\"color: #008080; text-decoration-color: #008080; font-weight: bold\">162</span> -&gt; <span style=\"color: #008080; text-decoration-color: #008080; font-weight: bold\">496</span>,<span style=\"color: #008080; text-decoration-color: #008080; font-weight: bold\">162</span> -&gt; <span style=\"color: #008080; text-decoration-color: #008080; font-weight: bold\">496</span>,<span style=\"color: #008080; text-decoration-color: #008080; font-weight: bold\">153</span> -&gt; <span style=\"color: #008080; text-decoration-color: #008080; font-weight: bold\">496</span>,<span style=\"color: #008080; text-decoration-color: #008080; font-weight: bold\">162</span>\n",
       "</pre>\n"
      ],
      "text/plain": [
       "First line: \u001b[1;36m498\u001b[0m,\u001b[1;36m13\u001b[0m -> \u001b[1;36m498\u001b[0m,\u001b[1;36m16\u001b[0m -> \u001b[1;36m496\u001b[0m,\u001b[1;36m16\u001b[0m -> \u001b[1;36m496\u001b[0m,\u001b[1;36m20\u001b[0m -> \u001b[1;36m509\u001b[0m,\u001b[1;36m20\u001b[0m -> \u001b[1;36m509\u001b[0m,\u001b[1;36m16\u001b[0m -> \u001b[1;36m502\u001b[0m,\u001b[1;36m16\u001b[0m -> \u001b[1;36m502\u001b[0m,\u001b[1;36m13\u001b[0m | \n",
       "Last line: \u001b[1;36m478\u001b[0m,\u001b[1;36m162\u001b[0m -> \u001b[1;36m478\u001b[0m,\u001b[1;36m154\u001b[0m -> \u001b[1;36m478\u001b[0m,\u001b[1;36m162\u001b[0m -> \u001b[1;36m480\u001b[0m,\u001b[1;36m162\u001b[0m -> \u001b[1;36m480\u001b[0m,\u001b[1;36m159\u001b[0m -> \u001b[1;36m480\u001b[0m,\u001b[1;36m162\u001b[0m -> \u001b[1;36m482\u001b[0m,\u001b[1;36m162\u001b[0m -> \n",
       "\u001b[1;36m482\u001b[0m,\u001b[1;36m156\u001b[0m -> \u001b[1;36m482\u001b[0m,\u001b[1;36m162\u001b[0m -> \u001b[1;36m484\u001b[0m,\u001b[1;36m162\u001b[0m -> \u001b[1;36m484\u001b[0m,\u001b[1;36m161\u001b[0m -> \u001b[1;36m484\u001b[0m,\u001b[1;36m162\u001b[0m -> \u001b[1;36m486\u001b[0m,\u001b[1;36m162\u001b[0m -> \u001b[1;36m486\u001b[0m,\u001b[1;36m155\u001b[0m -> \u001b[1;36m486\u001b[0m,\u001b[1;36m162\u001b[0m -> \n",
       "\u001b[1;36m488\u001b[0m,\u001b[1;36m162\u001b[0m -> \u001b[1;36m488\u001b[0m,\u001b[1;36m159\u001b[0m -> \u001b[1;36m488\u001b[0m,\u001b[1;36m162\u001b[0m -> \u001b[1;36m490\u001b[0m,\u001b[1;36m162\u001b[0m -> \u001b[1;36m490\u001b[0m,\u001b[1;36m158\u001b[0m -> \u001b[1;36m490\u001b[0m,\u001b[1;36m162\u001b[0m -> \u001b[1;36m492\u001b[0m,\u001b[1;36m162\u001b[0m -> \u001b[1;36m492\u001b[0m,\u001b[1;36m159\u001b[0m -> \n",
       "\u001b[1;36m492\u001b[0m,\u001b[1;36m162\u001b[0m -> \u001b[1;36m494\u001b[0m,\u001b[1;36m162\u001b[0m -> \u001b[1;36m494\u001b[0m,\u001b[1;36m158\u001b[0m -> \u001b[1;36m494\u001b[0m,\u001b[1;36m162\u001b[0m -> \u001b[1;36m496\u001b[0m,\u001b[1;36m162\u001b[0m -> \u001b[1;36m496\u001b[0m,\u001b[1;36m153\u001b[0m -> \u001b[1;36m496\u001b[0m,\u001b[1;36m162\u001b[0m\n"
      ]
     },
     "metadata": {},
     "output_type": "display_data"
    },
    {
     "data": {
      "text/html": [
       "<pre style=\"white-space:pre;overflow-x:auto;line-height:normal;font-family:Menlo,'DejaVu Sans Mono',consolas,'Courier New',monospace\">------\n",
       "</pre>\n"
      ],
      "text/plain": [
       "------\n"
      ]
     },
     "metadata": {},
     "output_type": "display_data"
    },
    {
     "data": {
      "text/html": [
       "<pre style=\"white-space:pre;overflow-x:auto;line-height:normal;font-family:Menlo,'DejaVu Sans Mono',consolas,'Courier New',monospace\">Convert to:\n",
       "</pre>\n"
      ],
      "text/plain": [
       "Convert to:\n"
      ]
     },
     "metadata": {},
     "output_type": "display_data"
    },
    {
     "data": {
      "text/html": [
       "<pre style=\"white-space:pre;overflow-x:auto;line-height:normal;font-family:Menlo,'DejaVu Sans Mono',consolas,'Courier New',monospace\">First line: <span style=\"font-weight: bold\">[</span><span style=\"color: #008000; text-decoration-color: #008000\">'498,13 '</span>, <span style=\"color: #008000; text-decoration-color: #008000\">' 498,16 '</span>, <span style=\"color: #008000; text-decoration-color: #008000\">' 496,16 '</span>, <span style=\"color: #008000; text-decoration-color: #008000\">' 496,20 '</span>, <span style=\"color: #008000; text-decoration-color: #008000\">' 509,20 '</span>, <span style=\"color: #008000; text-decoration-color: #008000\">' 509,16 '</span>, <span style=\"color: #008000; text-decoration-color: #008000\">' 502,16 </span>\n",
       "<span style=\"color: #008000; text-decoration-color: #008000\">'</span>, <span style=\"color: #008000; text-decoration-color: #008000\">' 502,13'</span><span style=\"font-weight: bold\">]</span>\n",
       "</pre>\n"
      ],
      "text/plain": [
       "First line: \u001b[1m[\u001b[0m\u001b[32m'498,13 '\u001b[0m, \u001b[32m' 498,16 '\u001b[0m, \u001b[32m' 496,16 '\u001b[0m, \u001b[32m' 496,20 '\u001b[0m, \u001b[32m' 509,20 '\u001b[0m, \u001b[32m' 509,16 '\u001b[0m, \u001b[32m' 502,16 \u001b[0m\n",
       "\u001b[32m'\u001b[0m, \u001b[32m' 502,13'\u001b[0m\u001b[1m]\u001b[0m\n"
      ]
     },
     "metadata": {},
     "output_type": "display_data"
    },
    {
     "data": {
      "text/html": [
       "<pre style=\"white-space:pre;overflow-x:auto;line-height:normal;font-family:Menlo,'DejaVu Sans Mono',consolas,'Courier New',monospace\">Last line: <span style=\"font-weight: bold\">[</span><span style=\"color: #008000; text-decoration-color: #008000\">'478,162 '</span>, <span style=\"color: #008000; text-decoration-color: #008000\">' 478,154 '</span>, <span style=\"color: #008000; text-decoration-color: #008000\">' 478,162 '</span>, <span style=\"color: #008000; text-decoration-color: #008000\">' 480,162 '</span>, <span style=\"color: #008000; text-decoration-color: #008000\">' 480,159 '</span>, <span style=\"color: #008000; text-decoration-color: #008000\">' 480,162 '</span>, <span style=\"color: #008000; text-decoration-color: #008000\">' </span>\n",
       "<span style=\"color: #008000; text-decoration-color: #008000\">482,162 '</span>, <span style=\"color: #008000; text-decoration-color: #008000\">' 482,156 '</span>, <span style=\"color: #008000; text-decoration-color: #008000\">' 482,162 '</span>, <span style=\"color: #008000; text-decoration-color: #008000\">' 484,162 '</span>, <span style=\"color: #008000; text-decoration-color: #008000\">' 484,161 '</span>, <span style=\"color: #008000; text-decoration-color: #008000\">' 484,162 '</span>, <span style=\"color: #008000; text-decoration-color: #008000\">' 486,162 '</span>, <span style=\"color: #008000; text-decoration-color: #008000\">' </span>\n",
       "<span style=\"color: #008000; text-decoration-color: #008000\">486,155 '</span>, <span style=\"color: #008000; text-decoration-color: #008000\">' 486,162 '</span>, <span style=\"color: #008000; text-decoration-color: #008000\">' 488,162 '</span>, <span style=\"color: #008000; text-decoration-color: #008000\">' 488,159 '</span>, <span style=\"color: #008000; text-decoration-color: #008000\">' 488,162 '</span>, <span style=\"color: #008000; text-decoration-color: #008000\">' 490,162 '</span>, <span style=\"color: #008000; text-decoration-color: #008000\">' 490,158 '</span>, <span style=\"color: #008000; text-decoration-color: #008000\">' </span>\n",
       "<span style=\"color: #008000; text-decoration-color: #008000\">490,162 '</span>, <span style=\"color: #008000; text-decoration-color: #008000\">' 492,162 '</span>, <span style=\"color: #008000; text-decoration-color: #008000\">' 492,159 '</span>, <span style=\"color: #008000; text-decoration-color: #008000\">' 492,162 '</span>, <span style=\"color: #008000; text-decoration-color: #008000\">' 494,162 '</span>, <span style=\"color: #008000; text-decoration-color: #008000\">' 494,158 '</span>, <span style=\"color: #008000; text-decoration-color: #008000\">' 494,162 '</span>, <span style=\"color: #008000; text-decoration-color: #008000\">' </span>\n",
       "<span style=\"color: #008000; text-decoration-color: #008000\">496,162 '</span>, <span style=\"color: #008000; text-decoration-color: #008000\">' 496,153 '</span>, <span style=\"color: #008000; text-decoration-color: #008000\">' 496,162'</span><span style=\"font-weight: bold\">]</span>\n",
       "</pre>\n"
      ],
      "text/plain": [
       "Last line: \u001b[1m[\u001b[0m\u001b[32m'478,162 '\u001b[0m, \u001b[32m' 478,154 '\u001b[0m, \u001b[32m' 478,162 '\u001b[0m, \u001b[32m' 480,162 '\u001b[0m, \u001b[32m' 480,159 '\u001b[0m, \u001b[32m' 480,162 '\u001b[0m, \u001b[32m' \u001b[0m\n",
       "\u001b[32m482,162 '\u001b[0m, \u001b[32m' 482,156 '\u001b[0m, \u001b[32m' 482,162 '\u001b[0m, \u001b[32m' 484,162 '\u001b[0m, \u001b[32m' 484,161 '\u001b[0m, \u001b[32m' 484,162 '\u001b[0m, \u001b[32m' 486,162 '\u001b[0m, \u001b[32m' \u001b[0m\n",
       "\u001b[32m486,155 '\u001b[0m, \u001b[32m' 486,162 '\u001b[0m, \u001b[32m' 488,162 '\u001b[0m, \u001b[32m' 488,159 '\u001b[0m, \u001b[32m' 488,162 '\u001b[0m, \u001b[32m' 490,162 '\u001b[0m, \u001b[32m' 490,158 '\u001b[0m, \u001b[32m' \u001b[0m\n",
       "\u001b[32m490,162 '\u001b[0m, \u001b[32m' 492,162 '\u001b[0m, \u001b[32m' 492,159 '\u001b[0m, \u001b[32m' 492,162 '\u001b[0m, \u001b[32m' 494,162 '\u001b[0m, \u001b[32m' 494,158 '\u001b[0m, \u001b[32m' 494,162 '\u001b[0m, \u001b[32m' \u001b[0m\n",
       "\u001b[32m496,162 '\u001b[0m, \u001b[32m' 496,153 '\u001b[0m, \u001b[32m' 496,162'\u001b[0m\u001b[1m]\u001b[0m\n"
      ]
     },
     "metadata": {},
     "output_type": "display_data"
    },
    {
     "data": {
      "text/html": [
       "<pre style=\"white-space:pre;overflow-x:auto;line-height:normal;font-family:Menlo,'DejaVu Sans Mono',consolas,'Courier New',monospace\">------\n",
       "</pre>\n"
      ],
      "text/plain": [
       "------\n"
      ]
     },
     "metadata": {},
     "output_type": "display_data"
    }
   ],
   "source": [
    "fp = \"input.txt\"\n",
    "lines = read_file_to_str_li(fp)\n",
    "\n",
    "print(\"Convert to:\")\n",
    "\n",
    "# head = convert_str_li_to_other_li(\n",
    "#     lines, pattern=\"s\", per_letter=True, sep=\",\", start_row=0, end_row=1\n",
    "# )\n",
    "\n",
    "# print(f\"Head:\\n{head}\")\n",
    "# print(f\"First line: {head[0]}\")\n",
    "# print(f\"Last line: {head[-1]}\")\n",
    "\n",
    "data = convert_str_li_to_other_li(\n",
    "    lines, pattern=\"s\", per_letter=False, sep=\"->\", start_row=None, end_row=None\n",
    ")\n",
    "\n",
    "\n",
    "print(f\"First line: {data[0]}\")\n",
    "print(f\"Last line: {data[-1]}\")\n",
    "print(\"-\" * 6)"
   ]
  },
  {
   "cell_type": "code",
   "execution_count": 5,
   "id": "consolidated-terrace",
   "metadata": {},
   "outputs": [
    {
     "data": {
      "image/png": "[encoded data removed]",
      "text/plain": [
       "<Figure size 720x720 with 1 Axes>"
      ]
     },
     "metadata": {
      "needs_background": "light"
     },
     "output_type": "display_data"
    }
   ],
   "source": [
    "sands = np.zeros((999, 999))\n",
    "\n",
    "bottom = 0\n",
    "\n",
    "for line in data:\n",
    "    for idx in range(len(line) - 1):\n",
    "        p1 = [int(i) for i in line[idx].strip().split(\",\")]\n",
    "        p2 = [int(i) for i in line[idx + 1].strip().split(\",\")]\n",
    "        for j in range(min(p1[0], p2[0]), max(p1[0], p2[0]) + 1):\n",
    "            for i in range(min(p1[1], p2[1]), max(p1[1], p2[1]) + 1):\n",
    "                sands[i, j] = 1\n",
    "        if max(p1[1], p2[1]) > bottom:\n",
    "            bottom = max(p1[1], p2[1])\n",
    "\n",
    "sands[bottom + 2, 0:999] = 1  # For Q2\n",
    "\n",
    "plot_mtx(sands[0 : bottom + 5, 460:520])"
   ]
  },
  {
   "cell_type": "code",
   "execution_count": 6,
   "id": "romance-coordinator",
   "metadata": {},
   "outputs": [],
   "source": [
    "def next_move(current_p):\n",
    "    x, y = current_p[0], current_p[1]\n",
    "    if sands[x + 1, y] == 0:\n",
    "        return 1, [x + 1, y]\n",
    "    elif sands[x + 1, y - 1] == 0:\n",
    "        return 1, [x + 1, y - 1]\n",
    "    elif sands[x + 1, y + 1] == 0:\n",
    "        return 1, [x + 1, y + 1]\n",
    "    else:\n",
    "        return 0, [x, y]  # REST"
   ]
  },
  {
   "cell_type": "code",
   "execution_count": 7,
   "id": "derived-parts",
   "metadata": {},
   "outputs": [
    {
     "data": {
      "text/html": [
       "<pre style=\"white-space:pre;overflow-x:auto;line-height:normal;font-family:Menlo,'DejaVu Sans Mono',consolas,'Courier New',monospace\">Answer to Q1: <span style=\"color: #008080; text-decoration-color: #008080; font-weight: bold\">1061</span>\n",
       "</pre>\n"
      ],
      "text/plain": [
       "Answer to Q1: \u001b[1;36m1061\u001b[0m\n"
      ]
     },
     "metadata": {},
     "output_type": "display_data"
    },
    {
     "data": {
      "text/html": [
       "<pre style=\"white-space:pre;overflow-x:auto;line-height:normal;font-family:Menlo,'DejaVu Sans Mono',consolas,'Courier New',monospace\">Answer to Q2: <span style=\"color: #008080; text-decoration-color: #008080; font-weight: bold\">25055</span>\n",
       "</pre>\n"
      ],
      "text/plain": [
       "Answer to Q2: \u001b[1;36m25055\u001b[0m\n"
      ]
     },
     "metadata": {},
     "output_type": "display_data"
    },
    {
     "data": {
      "image/png": "[encoded data removed]",
      "text/plain": [
       "<Figure size 720x720 with 1 Axes>"
      ]
     },
     "metadata": {
      "needs_background": "light"
     },
     "output_type": "display_data"
    },
    {
     "data": {
      "image/png": "[encoded data removed]",
      "text/plain": [
       "<Figure size 720x720 with 1 Axes>"
      ]
     },
     "metadata": {
      "needs_background": "light"
     },
     "output_type": "display_data"
    }
   ],
   "source": [
    "count = 0\n",
    "start_p = [0, 500]\n",
    "end_q1 = False\n",
    "while True:\n",
    "    p = start_p\n",
    "    while True:\n",
    "        flag, p = next_move(p)\n",
    "        if (not end_q1) and (p[0] >= bottom):\n",
    "            flag = -1\n",
    "            print(f\"Answer to Q1: {count}\")\n",
    "            plot_mtx(sands[0 : bottom + 5, 460:520])\n",
    "            end_q1 = True\n",
    "        if p == start_p:\n",
    "            flag = -2\n",
    "            count += 1\n",
    "            print(f\"Answer to Q2: {count}\")\n",
    "        if flag == 1:\n",
    "            continue\n",
    "        else:\n",
    "            if flag == 0:\n",
    "                sands[p[0], p[1]] = 2\n",
    "                count += 1\n",
    "            break\n",
    "\n",
    "    if flag == -2:\n",
    "        break\n",
    "\n",
    "sands[start_p[0], start_p[1]] = 2\n",
    "\n",
    "plot_mtx(sands[0 : bottom + 5, 320:680])"
   ]
  },
  {
   "cell_type": "code",
   "execution_count": null,
   "id": "tested-ancient",
   "metadata": {},
   "outputs": [],
   "source": []
  }
 ],
 "metadata": {
  "kernelspec": {
   "display_name": "Python [conda env:.conda-ds38]",
   "language": "python",
   "name": "conda-env-.conda-ds38-py"
  },
  "language_info": {
   "codemirror_mode": {
    "name": "ipython",
    "version": 3
   },
   "file_extension": ".py",
   "mimetype": "text/x-python",
   "name": "python",
   "nbconvert_exporter": "python",
   "pygments_lexer": "ipython3",
   "version": "3.8.10"
  }
 },
 "nbformat": 4,
 "nbformat_minor": 5
}
