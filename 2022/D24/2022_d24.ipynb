{
 "cells": [
  {
   "cell_type": "raw",
   "id": "raised-stuff",
   "metadata": {
    "jupyter": {
     "source_hidden": true
    },
    "tags": []
   },
   "source": [
    "--- Day 24: Blizzard Basin ---\n",
    "With everything replanted for next year (and with elephants and monkeys to tend the grove), you and the Elves leave for the extraction point.\n",
    "\n",
    "Partway up the mountain that shields the grove is a flat, open area that serves as the extraction point. It's a bit of a climb, but nothing the expedition can't handle.\n",
    "\n",
    "At least, that would normally be true; now that the mountain is covered in snow, things have become more difficult than the Elves are used to.\n",
    "\n",
    "As the expedition reaches a valley that must be traversed to reach the extraction site, you find that strong, turbulent winds are pushing small blizzards of snow and sharp ice around the valley. It's a good thing everyone packed warm clothes! To make it across safely, you'll need to find a way to avoid them.\n",
    "\n",
    "Fortunately, it's easy to see all of this from the entrance to the valley, so you make a map of the valley and the blizzards (your puzzle input). For example:\n",
    "\n",
    "#.#####\n",
    "#.....#\n",
    "#>....#\n",
    "#.....#\n",
    "#...v.#\n",
    "#.....#\n",
    "#####.#\n",
    "The walls of the valley are drawn as #; everything else is ground. Clear ground - where there is currently no blizzard - is drawn as .. Otherwise, blizzards are drawn with an arrow indicating their direction of motion: up (^), down (v), left (<), or right (>).\n",
    "\n",
    "The above map includes two blizzards, one moving right (>) and one moving down (v). In one minute, each blizzard moves one position in the direction it is pointing:\n",
    "\n",
    "#.#####\n",
    "#.....#\n",
    "#.>...#\n",
    "#.....#\n",
    "#.....#\n",
    "#...v.#\n",
    "#####.#\n",
    "Due to conservation of blizzard energy, as a blizzard reaches the wall of the valley, a new blizzard forms on the opposite side of the valley moving in the same direction. After another minute, the bottom downward-moving blizzard has been replaced with a new downward-moving blizzard at the top of the valley instead:\n",
    "\n",
    "#.#####\n",
    "#...v.#\n",
    "#..>..#\n",
    "#.....#\n",
    "#.....#\n",
    "#.....#\n",
    "#####.#\n",
    "Because blizzards are made of tiny snowflakes, they pass right through each other. After another minute, both blizzards temporarily occupy the same position, marked 2:\n",
    "\n",
    "#.#####\n",
    "#.....#\n",
    "#...2.#\n",
    "#.....#\n",
    "#.....#\n",
    "#.....#\n",
    "#####.#\n",
    "After another minute, the situation resolves itself, giving each blizzard back its personal space:\n",
    "\n",
    "#.#####\n",
    "#.....#\n",
    "#....>#\n",
    "#...v.#\n",
    "#.....#\n",
    "#.....#\n",
    "#####.#\n",
    "Finally, after yet another minute, the rightward-facing blizzard on the right is replaced with a new one on the left facing the same direction:\n",
    "\n",
    "#.#####\n",
    "#.....#\n",
    "#>....#\n",
    "#.....#\n",
    "#...v.#\n",
    "#.....#\n",
    "#####.#\n",
    "This process repeats at least as long as you are observing it, but probably forever.\n",
    "\n",
    "Here is a more complex example:\n",
    "\n",
    "#.######\n",
    "#>>.<^<#\n",
    "#.<..<<#\n",
    "#>v.><>#\n",
    "#<^v^^>#\n",
    "######.#\n",
    "Your expedition begins in the only non-wall position in the top row and needs to reach the only non-wall position in the bottom row. On each minute, you can move up, down, left, or right, or you can wait in place. You and the blizzards act simultaneously, and you cannot share a position with a blizzard.\n",
    "\n",
    "In the above example, the fastest way to reach your goal requires 18 steps. Drawing the position of the expedition as E, one way to achieve this is:\n",
    "\n",
    "Initial state:\n",
    "#E######\n",
    "#>>.<^<#\n",
    "#.<..<<#\n",
    "#>v.><>#\n",
    "#<^v^^>#\n",
    "######.#\n",
    "\n",
    "Minute 1, move down:\n",
    "#.######\n",
    "#E>3.<.#\n",
    "#<..<<.#\n",
    "#>2.22.#\n",
    "#>v..^<#\n",
    "######.#\n",
    "\n",
    "Minute 2, move down:\n",
    "#.######\n",
    "#.2>2..#\n",
    "#E^22^<#\n",
    "#.>2.^>#\n",
    "#.>..<.#\n",
    "######.#\n",
    "\n",
    "Minute 3, wait:\n",
    "#.######\n",
    "#<^<22.#\n",
    "#E2<.2.#\n",
    "#><2>..#\n",
    "#..><..#\n",
    "######.#\n",
    "\n",
    "Minute 4, move up:\n",
    "#.######\n",
    "#E<..22#\n",
    "#<<.<..#\n",
    "#<2.>>.#\n",
    "#.^22^.#\n",
    "######.#\n",
    "\n",
    "Minute 5, move right:\n",
    "#.######\n",
    "#2Ev.<>#\n",
    "#<.<..<#\n",
    "#.^>^22#\n",
    "#.2..2.#\n",
    "######.#\n",
    "\n",
    "Minute 6, move right:\n",
    "#.######\n",
    "#>2E<.<#\n",
    "#.2v^2<#\n",
    "#>..>2>#\n",
    "#<....>#\n",
    "######.#\n",
    "\n",
    "Minute 7, move down:\n",
    "#.######\n",
    "#.22^2.#\n",
    "#<vE<2.#\n",
    "#>>v<>.#\n",
    "#>....<#\n",
    "######.#\n",
    "\n",
    "Minute 8, move left:\n",
    "#.######\n",
    "#.<>2^.#\n",
    "#.E<<.<#\n",
    "#.22..>#\n",
    "#.2v^2.#\n",
    "######.#\n",
    "\n",
    "Minute 9, move up:\n",
    "#.######\n",
    "#<E2>>.#\n",
    "#.<<.<.#\n",
    "#>2>2^.#\n",
    "#.v><^.#\n",
    "######.#\n",
    "\n",
    "Minute 10, move right:\n",
    "#.######\n",
    "#.2E.>2#\n",
    "#<2v2^.#\n",
    "#<>.>2.#\n",
    "#..<>..#\n",
    "######.#\n",
    "\n",
    "Minute 11, wait:\n",
    "#.######\n",
    "#2^E^2>#\n",
    "#<v<.^<#\n",
    "#..2.>2#\n",
    "#.<..>.#\n",
    "######.#\n",
    "\n",
    "Minute 12, move down:\n",
    "#.######\n",
    "#>>.<^<#\n",
    "#.<E.<<#\n",
    "#>v.><>#\n",
    "#<^v^^>#\n",
    "######.#\n",
    "\n",
    "Minute 13, move down:\n",
    "#.######\n",
    "#.>3.<.#\n",
    "#<..<<.#\n",
    "#>2E22.#\n",
    "#>v..^<#\n",
    "######.#\n",
    "\n",
    "Minute 14, move right:\n",
    "#.######\n",
    "#.2>2..#\n",
    "#.^22^<#\n",
    "#.>2E^>#\n",
    "#.>..<.#\n",
    "######.#\n",
    "\n",
    "Minute 15, move right:\n",
    "#.######\n",
    "#<^<22.#\n",
    "#.2<.2.#\n",
    "#><2>E.#\n",
    "#..><..#\n",
    "######.#\n",
    "\n",
    "Minute 16, move right:\n",
    "#.######\n",
    "#.<..22#\n",
    "#<<.<..#\n",
    "#<2.>>E#\n",
    "#.^22^.#\n",
    "######.#\n",
    "\n",
    "Minute 17, move down:\n",
    "#.######\n",
    "#2.v.<>#\n",
    "#<.<..<#\n",
    "#.^>^22#\n",
    "#.2..2E#\n",
    "######.#\n",
    "\n",
    "Minute 18, move down:\n",
    "#.######\n",
    "#>2.<.<#\n",
    "#.2v^2<#\n",
    "#>..>2>#\n",
    "#<....>#\n",
    "######E#\n",
    "What is the fewest number of minutes required to avoid the blizzards and reach the goal?\n",
    "\n",
    "Your puzzle answer was 283.\n",
    "\n",
    "--- Part Two ---\n",
    "As the expedition reaches the far side of the valley, one of the Elves looks especially dismayed:\n",
    "\n",
    "He forgot his snacks at the entrance to the valley!\n",
    "\n",
    "Since you're so good at dodging blizzards, the Elves humbly request that you go back for his snacks. From the same initial conditions, how quickly can you make it from the start to the goal, then back to the start, then back to the goal?\n",
    "\n",
    "In the above example, the first trip to the goal takes 18 minutes, the trip back to the start takes 23 minutes, and the trip back to the goal again takes 13 minutes, for a total time of 54 minutes.\n",
    "\n",
    "What is the fewest number of minutes required to reach the goal, go back to the start, then reach the goal again?\n",
    "\n",
    "Your puzzle answer was 883."
   ]
  },
  {
   "cell_type": "code",
   "execution_count": 1,
   "id": "controlled-algebra",
   "metadata": {},
   "outputs": [],
   "source": [
    "import warnings\n",
    "\n",
    "warnings.filterwarnings(\"ignore\")\n",
    "\n",
    "import ast\n",
    "import itertools\n",
    "import json\n",
    "import math\n",
    "import os\n",
    "import random\n",
    "import re\n",
    "import sys\n",
    "from collections import Counter, deque\n",
    "from copy import deepcopy\n",
    "from functools import reduce\n",
    "from pathlib import Path\n",
    "\n",
    "import matplotlib.pyplot as plt\n",
    "import networkx as nx\n",
    "import numpy as np\n",
    "import pandas as pd\n",
    "import seaborn as sns\n",
    "from networkx.algorithms.shortest_paths.weighted import dijkstra_path_length\n",
    "from rich import print\n",
    "from scipy.signal import convolve2d\n",
    "from tqdm import tqdm"
   ]
  },
  {
   "cell_type": "code",
   "execution_count": 2,
   "id": "impressive-america",
   "metadata": {},
   "outputs": [],
   "source": [
    "def plot_mtx(mtx, figsize=(10, 10)):\n",
    "    fig, ax = plt.subplots(figsize=figsize)\n",
    "    ax.matshow(mtx, cmap=plt.cm.Blues)\n",
    "    plt.plot()"
   ]
  },
  {
   "cell_type": "code",
   "execution_count": 3,
   "id": "welsh-contemporary",
   "metadata": {},
   "outputs": [],
   "source": [
    "def read_file_to_str_li(fp, print_exp=True):\n",
    "    with open(fp, \"r\") as f:\n",
    "        lines = f.read().split(\"\\n\")\n",
    "    if print_exp:\n",
    "        print(f\"Read from {fp}:\")\n",
    "        print(f\"First line: {lines[0]} | Last line: {lines[-1]}\")\n",
    "        print(\"-\" * 6)\n",
    "\n",
    "    return lines\n",
    "\n",
    "\n",
    "# define the function blocks\n",
    "def convert_to_int(input_str):\n",
    "    if input_str == \"\" or input_str == \" \":\n",
    "        return None\n",
    "    return int(input_str)\n",
    "\n",
    "\n",
    "def convert_to_str(input_str):\n",
    "    return str(input_str)\n",
    "\n",
    "\n",
    "# map the inputs to the function blocks\n",
    "converts = {\n",
    "    \"i\": convert_to_int,\n",
    "    \"s\": convert_to_str,\n",
    "}\n",
    "\n",
    "\n",
    "def convert_str_li_to_other_li(\n",
    "    str_li, pattern=\"i\", per_letter=False, sep=\" \", start_row=0, end_row=None\n",
    "):\n",
    "    \"\"\"Convert a list of string to a list of other types\n",
    "\n",
    "    pattern: a list of types for one item.\n",
    "        'i' for int, 's' for string\n",
    "        'si' means: convert the 1st item to string, the rest to integer\n",
    "        If separated items are more than pattern items,\n",
    "        use the last one from the parttern.\n",
    "    if per_letter=True, ignore sep and separate item per letter\n",
    "    \"\"\"\n",
    "    target_str_li = str_li[start_row:end_row]\n",
    "    # find max item num\n",
    "    max_item_num = 1\n",
    "    if per_letter:\n",
    "        max_item_num = max([len(s) for s in target_str_li])\n",
    "    else:\n",
    "        max_item_num = max([len(s.split(sep)) for s in target_str_li])\n",
    "\n",
    "    # extend the pattern to the max itme num\n",
    "    pattern = (\n",
    "        pattern + f\"{pattern[-1]}\" * (max_item_num - len(pattern))\n",
    "        if max_item_num > len(pattern)\n",
    "        else pattern\n",
    "    )\n",
    "\n",
    "    # convert\n",
    "    if per_letter:\n",
    "        return [\n",
    "            [converts[pattern[idx]](item) for idx, item in enumerate(s)]\n",
    "            for s in target_str_li\n",
    "        ]\n",
    "    else:\n",
    "        if sep == \" \":\n",
    "            return [\n",
    "                [converts[pattern[idx]](item) for idx, item in enumerate(s.split())]\n",
    "                for s in target_str_li\n",
    "            ]\n",
    "        else:\n",
    "            return [\n",
    "                [converts[pattern[idx]](item) for idx, item in enumerate(s.split(sep))]\n",
    "                for s in target_str_li\n",
    "            ]"
   ]
  },
  {
   "cell_type": "code",
   "execution_count": 4,
   "id": "geographic-blair",
   "metadata": {
    "tags": []
   },
   "outputs": [
    {
     "data": {
      "text/html": [
       "<pre style=\"white-space:pre;overflow-x:auto;line-height:normal;font-family:Menlo,'DejaVu Sans Mono',consolas,'Courier New',monospace\">Read from input.txt:\n",
       "</pre>\n"
      ],
      "text/plain": [
       "Read from input.txt:\n"
      ]
     },
     "metadata": {},
     "output_type": "display_data"
    },
    {
     "data": {
      "text/html": [
       "<pre style=\"white-space:pre;overflow-x:auto;line-height:normal;font-family:Menlo,'DejaVu Sans Mono',consolas,'Courier New',monospace\">First line: \n",
       "#.#################################################################################################################\n",
       "####### | Last line: \n",
       "###################################################################################################################\n",
       "#####.#\n",
       "</pre>\n"
      ],
      "text/plain": [
       "First line: \n",
       "#.#################################################################################################################\n",
       "####### | Last line: \n",
       "###################################################################################################################\n",
       "#####.#\n"
      ]
     },
     "metadata": {},
     "output_type": "display_data"
    },
    {
     "data": {
      "text/html": [
       "<pre style=\"white-space:pre;overflow-x:auto;line-height:normal;font-family:Menlo,'DejaVu Sans Mono',consolas,'Courier New',monospace\">------\n",
       "</pre>\n"
      ],
      "text/plain": [
       "------\n"
      ]
     },
     "metadata": {},
     "output_type": "display_data"
    },
    {
     "data": {
      "text/html": [
       "<pre style=\"white-space:pre;overflow-x:auto;line-height:normal;font-family:Menlo,'DejaVu Sans Mono',consolas,'Courier New',monospace\">Convert to:\n",
       "</pre>\n"
      ],
      "text/plain": [
       "Convert to:\n"
      ]
     },
     "metadata": {},
     "output_type": "display_data"
    },
    {
     "data": {
      "text/html": [
       "<pre style=\"white-space:pre;overflow-x:auto;line-height:normal;font-family:Menlo,'DejaVu Sans Mono',consolas,'Courier New',monospace\">First line: <span style=\"font-weight: bold\">[</span><span style=\"color: #008000; text-decoration-color: #008000\">'#'</span>, <span style=\"color: #008000; text-decoration-color: #008000\">'.'</span>, <span style=\"color: #008000; text-decoration-color: #008000\">'#'</span>, <span style=\"color: #008000; text-decoration-color: #008000\">'#'</span>, <span style=\"color: #008000; text-decoration-color: #008000\">'#'</span>, <span style=\"color: #008000; text-decoration-color: #008000\">'#'</span>, <span style=\"color: #008000; text-decoration-color: #008000\">'#'</span>, <span style=\"color: #008000; text-decoration-color: #008000\">'#'</span>, <span style=\"color: #008000; text-decoration-color: #008000\">'#'</span>, <span style=\"color: #008000; text-decoration-color: #008000\">'#'</span>, <span style=\"color: #008000; text-decoration-color: #008000\">'#'</span>, <span style=\"color: #008000; text-decoration-color: #008000\">'#'</span>, <span style=\"color: #008000; text-decoration-color: #008000\">'#'</span>, <span style=\"color: #008000; text-decoration-color: #008000\">'#'</span>, <span style=\"color: #008000; text-decoration-color: #008000\">'#'</span>, <span style=\"color: #008000; text-decoration-color: #008000\">'#'</span>, <span style=\"color: #008000; text-decoration-color: #008000\">'#'</span>, <span style=\"color: #008000; text-decoration-color: #008000\">'#'</span>, <span style=\"color: #008000; text-decoration-color: #008000\">'#'</span>, <span style=\"color: #008000; text-decoration-color: #008000\">'#'</span>, \n",
       "<span style=\"color: #008000; text-decoration-color: #008000\">'#'</span>, <span style=\"color: #008000; text-decoration-color: #008000\">'#'</span>, <span style=\"color: #008000; text-decoration-color: #008000\">'#'</span>, <span style=\"color: #008000; text-decoration-color: #008000\">'#'</span>, <span style=\"color: #008000; text-decoration-color: #008000\">'#'</span>, <span style=\"color: #008000; text-decoration-color: #008000\">'#'</span>, <span style=\"color: #008000; text-decoration-color: #008000\">'#'</span>, <span style=\"color: #008000; text-decoration-color: #008000\">'#'</span>, <span style=\"color: #008000; text-decoration-color: #008000\">'#'</span>, <span style=\"color: #008000; text-decoration-color: #008000\">'#'</span>, <span style=\"color: #008000; text-decoration-color: #008000\">'#'</span>, <span style=\"color: #008000; text-decoration-color: #008000\">'#'</span>, <span style=\"color: #008000; text-decoration-color: #008000\">'#'</span>, <span style=\"color: #008000; text-decoration-color: #008000\">'#'</span>, <span style=\"color: #008000; text-decoration-color: #008000\">'#'</span>, <span style=\"color: #008000; text-decoration-color: #008000\">'#'</span>, <span style=\"color: #008000; text-decoration-color: #008000\">'#'</span>, <span style=\"color: #008000; text-decoration-color: #008000\">'#'</span>, <span style=\"color: #008000; text-decoration-color: #008000\">'#'</span>, <span style=\"color: #008000; text-decoration-color: #008000\">'#'</span>, <span style=\"color: #008000; text-decoration-color: #008000\">'#'</span>, <span style=\"color: #008000; text-decoration-color: #008000\">'#'</span>, <span style=\"color: #008000; text-decoration-color: #008000\">'#'</span>, \n",
       "<span style=\"color: #008000; text-decoration-color: #008000\">'#'</span>, <span style=\"color: #008000; text-decoration-color: #008000\">'#'</span>, <span style=\"color: #008000; text-decoration-color: #008000\">'#'</span>, <span style=\"color: #008000; text-decoration-color: #008000\">'#'</span>, <span style=\"color: #008000; text-decoration-color: #008000\">'#'</span>, <span style=\"color: #008000; text-decoration-color: #008000\">'#'</span>, <span style=\"color: #008000; text-decoration-color: #008000\">'#'</span>, <span style=\"color: #008000; text-decoration-color: #008000\">'#'</span>, <span style=\"color: #008000; text-decoration-color: #008000\">'#'</span>, <span style=\"color: #008000; text-decoration-color: #008000\">'#'</span>, <span style=\"color: #008000; text-decoration-color: #008000\">'#'</span>, <span style=\"color: #008000; text-decoration-color: #008000\">'#'</span>, <span style=\"color: #008000; text-decoration-color: #008000\">'#'</span>, <span style=\"color: #008000; text-decoration-color: #008000\">'#'</span>, <span style=\"color: #008000; text-decoration-color: #008000\">'#'</span>, <span style=\"color: #008000; text-decoration-color: #008000\">'#'</span>, <span style=\"color: #008000; text-decoration-color: #008000\">'#'</span>, <span style=\"color: #008000; text-decoration-color: #008000\">'#'</span>, <span style=\"color: #008000; text-decoration-color: #008000\">'#'</span>, <span style=\"color: #008000; text-decoration-color: #008000\">'#'</span>, <span style=\"color: #008000; text-decoration-color: #008000\">'#'</span>, <span style=\"color: #008000; text-decoration-color: #008000\">'#'</span>, <span style=\"color: #008000; text-decoration-color: #008000\">'#'</span>, \n",
       "<span style=\"color: #008000; text-decoration-color: #008000\">'#'</span>, <span style=\"color: #008000; text-decoration-color: #008000\">'#'</span>, <span style=\"color: #008000; text-decoration-color: #008000\">'#'</span>, <span style=\"color: #008000; text-decoration-color: #008000\">'#'</span>, <span style=\"color: #008000; text-decoration-color: #008000\">'#'</span>, <span style=\"color: #008000; text-decoration-color: #008000\">'#'</span>, <span style=\"color: #008000; text-decoration-color: #008000\">'#'</span>, <span style=\"color: #008000; text-decoration-color: #008000\">'#'</span>, <span style=\"color: #008000; text-decoration-color: #008000\">'#'</span>, <span style=\"color: #008000; text-decoration-color: #008000\">'#'</span>, <span style=\"color: #008000; text-decoration-color: #008000\">'#'</span>, <span style=\"color: #008000; text-decoration-color: #008000\">'#'</span>, <span style=\"color: #008000; text-decoration-color: #008000\">'#'</span>, <span style=\"color: #008000; text-decoration-color: #008000\">'#'</span>, <span style=\"color: #008000; text-decoration-color: #008000\">'#'</span>, <span style=\"color: #008000; text-decoration-color: #008000\">'#'</span>, <span style=\"color: #008000; text-decoration-color: #008000\">'#'</span>, <span style=\"color: #008000; text-decoration-color: #008000\">'#'</span>, <span style=\"color: #008000; text-decoration-color: #008000\">'#'</span>, <span style=\"color: #008000; text-decoration-color: #008000\">'#'</span>, <span style=\"color: #008000; text-decoration-color: #008000\">'#'</span>, <span style=\"color: #008000; text-decoration-color: #008000\">'#'</span>, <span style=\"color: #008000; text-decoration-color: #008000\">'#'</span>, \n",
       "<span style=\"color: #008000; text-decoration-color: #008000\">'#'</span>, <span style=\"color: #008000; text-decoration-color: #008000\">'#'</span>, <span style=\"color: #008000; text-decoration-color: #008000\">'#'</span>, <span style=\"color: #008000; text-decoration-color: #008000\">'#'</span>, <span style=\"color: #008000; text-decoration-color: #008000\">'#'</span>, <span style=\"color: #008000; text-decoration-color: #008000\">'#'</span>, <span style=\"color: #008000; text-decoration-color: #008000\">'#'</span>, <span style=\"color: #008000; text-decoration-color: #008000\">'#'</span>, <span style=\"color: #008000; text-decoration-color: #008000\">'#'</span>, <span style=\"color: #008000; text-decoration-color: #008000\">'#'</span>, <span style=\"color: #008000; text-decoration-color: #008000\">'#'</span>, <span style=\"color: #008000; text-decoration-color: #008000\">'#'</span>, <span style=\"color: #008000; text-decoration-color: #008000\">'#'</span>, <span style=\"color: #008000; text-decoration-color: #008000\">'#'</span>, <span style=\"color: #008000; text-decoration-color: #008000\">'#'</span>, <span style=\"color: #008000; text-decoration-color: #008000\">'#'</span>, <span style=\"color: #008000; text-decoration-color: #008000\">'#'</span>, <span style=\"color: #008000; text-decoration-color: #008000\">'#'</span>, <span style=\"color: #008000; text-decoration-color: #008000\">'#'</span>, <span style=\"color: #008000; text-decoration-color: #008000\">'#'</span>, <span style=\"color: #008000; text-decoration-color: #008000\">'#'</span>, <span style=\"color: #008000; text-decoration-color: #008000\">'#'</span>, <span style=\"color: #008000; text-decoration-color: #008000\">'#'</span>, \n",
       "<span style=\"color: #008000; text-decoration-color: #008000\">'#'</span>, <span style=\"color: #008000; text-decoration-color: #008000\">'#'</span>, <span style=\"color: #008000; text-decoration-color: #008000\">'#'</span>, <span style=\"color: #008000; text-decoration-color: #008000\">'#'</span>, <span style=\"color: #008000; text-decoration-color: #008000\">'#'</span>, <span style=\"color: #008000; text-decoration-color: #008000\">'#'</span>, <span style=\"color: #008000; text-decoration-color: #008000\">'#'</span>, <span style=\"color: #008000; text-decoration-color: #008000\">'#'</span>, <span style=\"color: #008000; text-decoration-color: #008000\">'#'</span>, <span style=\"color: #008000; text-decoration-color: #008000\">'#'</span><span style=\"font-weight: bold\">]</span>\n",
       "</pre>\n"
      ],
      "text/plain": [
       "First line: \u001b[1m[\u001b[0m\u001b[32m'#'\u001b[0m, \u001b[32m'.'\u001b[0m, \u001b[32m'#'\u001b[0m, \u001b[32m'#'\u001b[0m, \u001b[32m'#'\u001b[0m, \u001b[32m'#'\u001b[0m, \u001b[32m'#'\u001b[0m, \u001b[32m'#'\u001b[0m, \u001b[32m'#'\u001b[0m, \u001b[32m'#'\u001b[0m, \u001b[32m'#'\u001b[0m, \u001b[32m'#'\u001b[0m, \u001b[32m'#'\u001b[0m, \u001b[32m'#'\u001b[0m, \u001b[32m'#'\u001b[0m, \u001b[32m'#'\u001b[0m, \u001b[32m'#'\u001b[0m, \u001b[32m'#'\u001b[0m, \u001b[32m'#'\u001b[0m, \u001b[32m'#'\u001b[0m, \n",
       "\u001b[32m'#'\u001b[0m, \u001b[32m'#'\u001b[0m, \u001b[32m'#'\u001b[0m, \u001b[32m'#'\u001b[0m, \u001b[32m'#'\u001b[0m, \u001b[32m'#'\u001b[0m, \u001b[32m'#'\u001b[0m, \u001b[32m'#'\u001b[0m, \u001b[32m'#'\u001b[0m, \u001b[32m'#'\u001b[0m, \u001b[32m'#'\u001b[0m, \u001b[32m'#'\u001b[0m, \u001b[32m'#'\u001b[0m, \u001b[32m'#'\u001b[0m, \u001b[32m'#'\u001b[0m, \u001b[32m'#'\u001b[0m, \u001b[32m'#'\u001b[0m, \u001b[32m'#'\u001b[0m, \u001b[32m'#'\u001b[0m, \u001b[32m'#'\u001b[0m, \u001b[32m'#'\u001b[0m, \u001b[32m'#'\u001b[0m, \u001b[32m'#'\u001b[0m, \n",
       "\u001b[32m'#'\u001b[0m, \u001b[32m'#'\u001b[0m, \u001b[32m'#'\u001b[0m, \u001b[32m'#'\u001b[0m, \u001b[32m'#'\u001b[0m, \u001b[32m'#'\u001b[0m, \u001b[32m'#'\u001b[0m, \u001b[32m'#'\u001b[0m, \u001b[32m'#'\u001b[0m, \u001b[32m'#'\u001b[0m, \u001b[32m'#'\u001b[0m, \u001b[32m'#'\u001b[0m, \u001b[32m'#'\u001b[0m, \u001b[32m'#'\u001b[0m, \u001b[32m'#'\u001b[0m, \u001b[32m'#'\u001b[0m, \u001b[32m'#'\u001b[0m, \u001b[32m'#'\u001b[0m, \u001b[32m'#'\u001b[0m, \u001b[32m'#'\u001b[0m, \u001b[32m'#'\u001b[0m, \u001b[32m'#'\u001b[0m, \u001b[32m'#'\u001b[0m, \n",
       "\u001b[32m'#'\u001b[0m, \u001b[32m'#'\u001b[0m, \u001b[32m'#'\u001b[0m, \u001b[32m'#'\u001b[0m, \u001b[32m'#'\u001b[0m, \u001b[32m'#'\u001b[0m, \u001b[32m'#'\u001b[0m, \u001b[32m'#'\u001b[0m, \u001b[32m'#'\u001b[0m, \u001b[32m'#'\u001b[0m, \u001b[32m'#'\u001b[0m, \u001b[32m'#'\u001b[0m, \u001b[32m'#'\u001b[0m, \u001b[32m'#'\u001b[0m, \u001b[32m'#'\u001b[0m, \u001b[32m'#'\u001b[0m, \u001b[32m'#'\u001b[0m, \u001b[32m'#'\u001b[0m, \u001b[32m'#'\u001b[0m, \u001b[32m'#'\u001b[0m, \u001b[32m'#'\u001b[0m, \u001b[32m'#'\u001b[0m, \u001b[32m'#'\u001b[0m, \n",
       "\u001b[32m'#'\u001b[0m, \u001b[32m'#'\u001b[0m, \u001b[32m'#'\u001b[0m, \u001b[32m'#'\u001b[0m, \u001b[32m'#'\u001b[0m, \u001b[32m'#'\u001b[0m, \u001b[32m'#'\u001b[0m, \u001b[32m'#'\u001b[0m, \u001b[32m'#'\u001b[0m, \u001b[32m'#'\u001b[0m, \u001b[32m'#'\u001b[0m, \u001b[32m'#'\u001b[0m, \u001b[32m'#'\u001b[0m, \u001b[32m'#'\u001b[0m, \u001b[32m'#'\u001b[0m, \u001b[32m'#'\u001b[0m, \u001b[32m'#'\u001b[0m, \u001b[32m'#'\u001b[0m, \u001b[32m'#'\u001b[0m, \u001b[32m'#'\u001b[0m, \u001b[32m'#'\u001b[0m, \u001b[32m'#'\u001b[0m, \u001b[32m'#'\u001b[0m, \n",
       "\u001b[32m'#'\u001b[0m, \u001b[32m'#'\u001b[0m, \u001b[32m'#'\u001b[0m, \u001b[32m'#'\u001b[0m, \u001b[32m'#'\u001b[0m, \u001b[32m'#'\u001b[0m, \u001b[32m'#'\u001b[0m, \u001b[32m'#'\u001b[0m, \u001b[32m'#'\u001b[0m, \u001b[32m'#'\u001b[0m\u001b[1m]\u001b[0m\n"
      ]
     },
     "metadata": {},
     "output_type": "display_data"
    },
    {
     "data": {
      "text/html": [
       "<pre style=\"white-space:pre;overflow-x:auto;line-height:normal;font-family:Menlo,'DejaVu Sans Mono',consolas,'Courier New',monospace\">Last line: <span style=\"font-weight: bold\">[</span><span style=\"color: #008000; text-decoration-color: #008000\">'#'</span>, <span style=\"color: #008000; text-decoration-color: #008000\">'#'</span>, <span style=\"color: #008000; text-decoration-color: #008000\">'#'</span>, <span style=\"color: #008000; text-decoration-color: #008000\">'#'</span>, <span style=\"color: #008000; text-decoration-color: #008000\">'#'</span>, <span style=\"color: #008000; text-decoration-color: #008000\">'#'</span>, <span style=\"color: #008000; text-decoration-color: #008000\">'#'</span>, <span style=\"color: #008000; text-decoration-color: #008000\">'#'</span>, <span style=\"color: #008000; text-decoration-color: #008000\">'#'</span>, <span style=\"color: #008000; text-decoration-color: #008000\">'#'</span>, <span style=\"color: #008000; text-decoration-color: #008000\">'#'</span>, <span style=\"color: #008000; text-decoration-color: #008000\">'#'</span>, <span style=\"color: #008000; text-decoration-color: #008000\">'#'</span>, <span style=\"color: #008000; text-decoration-color: #008000\">'#'</span>, <span style=\"color: #008000; text-decoration-color: #008000\">'#'</span>, <span style=\"color: #008000; text-decoration-color: #008000\">'#'</span>, <span style=\"color: #008000; text-decoration-color: #008000\">'#'</span>, <span style=\"color: #008000; text-decoration-color: #008000\">'#'</span>, <span style=\"color: #008000; text-decoration-color: #008000\">'#'</span>, <span style=\"color: #008000; text-decoration-color: #008000\">'#'</span>, \n",
       "<span style=\"color: #008000; text-decoration-color: #008000\">'#'</span>, <span style=\"color: #008000; text-decoration-color: #008000\">'#'</span>, <span style=\"color: #008000; text-decoration-color: #008000\">'#'</span>, <span style=\"color: #008000; text-decoration-color: #008000\">'#'</span>, <span style=\"color: #008000; text-decoration-color: #008000\">'#'</span>, <span style=\"color: #008000; text-decoration-color: #008000\">'#'</span>, <span style=\"color: #008000; text-decoration-color: #008000\">'#'</span>, <span style=\"color: #008000; text-decoration-color: #008000\">'#'</span>, <span style=\"color: #008000; text-decoration-color: #008000\">'#'</span>, <span style=\"color: #008000; text-decoration-color: #008000\">'#'</span>, <span style=\"color: #008000; text-decoration-color: #008000\">'#'</span>, <span style=\"color: #008000; text-decoration-color: #008000\">'#'</span>, <span style=\"color: #008000; text-decoration-color: #008000\">'#'</span>, <span style=\"color: #008000; text-decoration-color: #008000\">'#'</span>, <span style=\"color: #008000; text-decoration-color: #008000\">'#'</span>, <span style=\"color: #008000; text-decoration-color: #008000\">'#'</span>, <span style=\"color: #008000; text-decoration-color: #008000\">'#'</span>, <span style=\"color: #008000; text-decoration-color: #008000\">'#'</span>, <span style=\"color: #008000; text-decoration-color: #008000\">'#'</span>, <span style=\"color: #008000; text-decoration-color: #008000\">'#'</span>, <span style=\"color: #008000; text-decoration-color: #008000\">'#'</span>, <span style=\"color: #008000; text-decoration-color: #008000\">'#'</span>, <span style=\"color: #008000; text-decoration-color: #008000\">'#'</span>, \n",
       "<span style=\"color: #008000; text-decoration-color: #008000\">'#'</span>, <span style=\"color: #008000; text-decoration-color: #008000\">'#'</span>, <span style=\"color: #008000; text-decoration-color: #008000\">'#'</span>, <span style=\"color: #008000; text-decoration-color: #008000\">'#'</span>, <span style=\"color: #008000; text-decoration-color: #008000\">'#'</span>, <span style=\"color: #008000; text-decoration-color: #008000\">'#'</span>, <span style=\"color: #008000; text-decoration-color: #008000\">'#'</span>, <span style=\"color: #008000; text-decoration-color: #008000\">'#'</span>, <span style=\"color: #008000; text-decoration-color: #008000\">'#'</span>, <span style=\"color: #008000; text-decoration-color: #008000\">'#'</span>, <span style=\"color: #008000; text-decoration-color: #008000\">'#'</span>, <span style=\"color: #008000; text-decoration-color: #008000\">'#'</span>, <span style=\"color: #008000; text-decoration-color: #008000\">'#'</span>, <span style=\"color: #008000; text-decoration-color: #008000\">'#'</span>, <span style=\"color: #008000; text-decoration-color: #008000\">'#'</span>, <span style=\"color: #008000; text-decoration-color: #008000\">'#'</span>, <span style=\"color: #008000; text-decoration-color: #008000\">'#'</span>, <span style=\"color: #008000; text-decoration-color: #008000\">'#'</span>, <span style=\"color: #008000; text-decoration-color: #008000\">'#'</span>, <span style=\"color: #008000; text-decoration-color: #008000\">'#'</span>, <span style=\"color: #008000; text-decoration-color: #008000\">'#'</span>, <span style=\"color: #008000; text-decoration-color: #008000\">'#'</span>, <span style=\"color: #008000; text-decoration-color: #008000\">'#'</span>, \n",
       "<span style=\"color: #008000; text-decoration-color: #008000\">'#'</span>, <span style=\"color: #008000; text-decoration-color: #008000\">'#'</span>, <span style=\"color: #008000; text-decoration-color: #008000\">'#'</span>, <span style=\"color: #008000; text-decoration-color: #008000\">'#'</span>, <span style=\"color: #008000; text-decoration-color: #008000\">'#'</span>, <span style=\"color: #008000; text-decoration-color: #008000\">'#'</span>, <span style=\"color: #008000; text-decoration-color: #008000\">'#'</span>, <span style=\"color: #008000; text-decoration-color: #008000\">'#'</span>, <span style=\"color: #008000; text-decoration-color: #008000\">'#'</span>, <span style=\"color: #008000; text-decoration-color: #008000\">'#'</span>, <span style=\"color: #008000; text-decoration-color: #008000\">'#'</span>, <span style=\"color: #008000; text-decoration-color: #008000\">'#'</span>, <span style=\"color: #008000; text-decoration-color: #008000\">'#'</span>, <span style=\"color: #008000; text-decoration-color: #008000\">'#'</span>, <span style=\"color: #008000; text-decoration-color: #008000\">'#'</span>, <span style=\"color: #008000; text-decoration-color: #008000\">'#'</span>, <span style=\"color: #008000; text-decoration-color: #008000\">'#'</span>, <span style=\"color: #008000; text-decoration-color: #008000\">'#'</span>, <span style=\"color: #008000; text-decoration-color: #008000\">'#'</span>, <span style=\"color: #008000; text-decoration-color: #008000\">'#'</span>, <span style=\"color: #008000; text-decoration-color: #008000\">'#'</span>, <span style=\"color: #008000; text-decoration-color: #008000\">'#'</span>, <span style=\"color: #008000; text-decoration-color: #008000\">'#'</span>, \n",
       "<span style=\"color: #008000; text-decoration-color: #008000\">'#'</span>, <span style=\"color: #008000; text-decoration-color: #008000\">'#'</span>, <span style=\"color: #008000; text-decoration-color: #008000\">'#'</span>, <span style=\"color: #008000; text-decoration-color: #008000\">'#'</span>, <span style=\"color: #008000; text-decoration-color: #008000\">'#'</span>, <span style=\"color: #008000; text-decoration-color: #008000\">'#'</span>, <span style=\"color: #008000; text-decoration-color: #008000\">'#'</span>, <span style=\"color: #008000; text-decoration-color: #008000\">'#'</span>, <span style=\"color: #008000; text-decoration-color: #008000\">'#'</span>, <span style=\"color: #008000; text-decoration-color: #008000\">'#'</span>, <span style=\"color: #008000; text-decoration-color: #008000\">'#'</span>, <span style=\"color: #008000; text-decoration-color: #008000\">'#'</span>, <span style=\"color: #008000; text-decoration-color: #008000\">'#'</span>, <span style=\"color: #008000; text-decoration-color: #008000\">'#'</span>, <span style=\"color: #008000; text-decoration-color: #008000\">'#'</span>, <span style=\"color: #008000; text-decoration-color: #008000\">'#'</span>, <span style=\"color: #008000; text-decoration-color: #008000\">'#'</span>, <span style=\"color: #008000; text-decoration-color: #008000\">'#'</span>, <span style=\"color: #008000; text-decoration-color: #008000\">'#'</span>, <span style=\"color: #008000; text-decoration-color: #008000\">'#'</span>, <span style=\"color: #008000; text-decoration-color: #008000\">'#'</span>, <span style=\"color: #008000; text-decoration-color: #008000\">'#'</span>, <span style=\"color: #008000; text-decoration-color: #008000\">'#'</span>, \n",
       "<span style=\"color: #008000; text-decoration-color: #008000\">'#'</span>, <span style=\"color: #008000; text-decoration-color: #008000\">'#'</span>, <span style=\"color: #008000; text-decoration-color: #008000\">'#'</span>, <span style=\"color: #008000; text-decoration-color: #008000\">'#'</span>, <span style=\"color: #008000; text-decoration-color: #008000\">'#'</span>, <span style=\"color: #008000; text-decoration-color: #008000\">'#'</span>, <span style=\"color: #008000; text-decoration-color: #008000\">'#'</span>, <span style=\"color: #008000; text-decoration-color: #008000\">'#'</span>, <span style=\"color: #008000; text-decoration-color: #008000\">'.'</span>, <span style=\"color: #008000; text-decoration-color: #008000\">'#'</span><span style=\"font-weight: bold\">]</span>\n",
       "</pre>\n"
      ],
      "text/plain": [
       "Last line: \u001b[1m[\u001b[0m\u001b[32m'#'\u001b[0m, \u001b[32m'#'\u001b[0m, \u001b[32m'#'\u001b[0m, \u001b[32m'#'\u001b[0m, \u001b[32m'#'\u001b[0m, \u001b[32m'#'\u001b[0m, \u001b[32m'#'\u001b[0m, \u001b[32m'#'\u001b[0m, \u001b[32m'#'\u001b[0m, \u001b[32m'#'\u001b[0m, \u001b[32m'#'\u001b[0m, \u001b[32m'#'\u001b[0m, \u001b[32m'#'\u001b[0m, \u001b[32m'#'\u001b[0m, \u001b[32m'#'\u001b[0m, \u001b[32m'#'\u001b[0m, \u001b[32m'#'\u001b[0m, \u001b[32m'#'\u001b[0m, \u001b[32m'#'\u001b[0m, \u001b[32m'#'\u001b[0m, \n",
       "\u001b[32m'#'\u001b[0m, \u001b[32m'#'\u001b[0m, \u001b[32m'#'\u001b[0m, \u001b[32m'#'\u001b[0m, \u001b[32m'#'\u001b[0m, \u001b[32m'#'\u001b[0m, \u001b[32m'#'\u001b[0m, \u001b[32m'#'\u001b[0m, \u001b[32m'#'\u001b[0m, \u001b[32m'#'\u001b[0m, \u001b[32m'#'\u001b[0m, \u001b[32m'#'\u001b[0m, \u001b[32m'#'\u001b[0m, \u001b[32m'#'\u001b[0m, \u001b[32m'#'\u001b[0m, \u001b[32m'#'\u001b[0m, \u001b[32m'#'\u001b[0m, \u001b[32m'#'\u001b[0m, \u001b[32m'#'\u001b[0m, \u001b[32m'#'\u001b[0m, \u001b[32m'#'\u001b[0m, \u001b[32m'#'\u001b[0m, \u001b[32m'#'\u001b[0m, \n",
       "\u001b[32m'#'\u001b[0m, \u001b[32m'#'\u001b[0m, \u001b[32m'#'\u001b[0m, \u001b[32m'#'\u001b[0m, \u001b[32m'#'\u001b[0m, \u001b[32m'#'\u001b[0m, \u001b[32m'#'\u001b[0m, \u001b[32m'#'\u001b[0m, \u001b[32m'#'\u001b[0m, \u001b[32m'#'\u001b[0m, \u001b[32m'#'\u001b[0m, \u001b[32m'#'\u001b[0m, \u001b[32m'#'\u001b[0m, \u001b[32m'#'\u001b[0m, \u001b[32m'#'\u001b[0m, \u001b[32m'#'\u001b[0m, \u001b[32m'#'\u001b[0m, \u001b[32m'#'\u001b[0m, \u001b[32m'#'\u001b[0m, \u001b[32m'#'\u001b[0m, \u001b[32m'#'\u001b[0m, \u001b[32m'#'\u001b[0m, \u001b[32m'#'\u001b[0m, \n",
       "\u001b[32m'#'\u001b[0m, \u001b[32m'#'\u001b[0m, \u001b[32m'#'\u001b[0m, \u001b[32m'#'\u001b[0m, \u001b[32m'#'\u001b[0m, \u001b[32m'#'\u001b[0m, \u001b[32m'#'\u001b[0m, \u001b[32m'#'\u001b[0m, \u001b[32m'#'\u001b[0m, \u001b[32m'#'\u001b[0m, \u001b[32m'#'\u001b[0m, \u001b[32m'#'\u001b[0m, \u001b[32m'#'\u001b[0m, \u001b[32m'#'\u001b[0m, \u001b[32m'#'\u001b[0m, \u001b[32m'#'\u001b[0m, \u001b[32m'#'\u001b[0m, \u001b[32m'#'\u001b[0m, \u001b[32m'#'\u001b[0m, \u001b[32m'#'\u001b[0m, \u001b[32m'#'\u001b[0m, \u001b[32m'#'\u001b[0m, \u001b[32m'#'\u001b[0m, \n",
       "\u001b[32m'#'\u001b[0m, \u001b[32m'#'\u001b[0m, \u001b[32m'#'\u001b[0m, \u001b[32m'#'\u001b[0m, \u001b[32m'#'\u001b[0m, \u001b[32m'#'\u001b[0m, \u001b[32m'#'\u001b[0m, \u001b[32m'#'\u001b[0m, \u001b[32m'#'\u001b[0m, \u001b[32m'#'\u001b[0m, \u001b[32m'#'\u001b[0m, \u001b[32m'#'\u001b[0m, \u001b[32m'#'\u001b[0m, \u001b[32m'#'\u001b[0m, \u001b[32m'#'\u001b[0m, \u001b[32m'#'\u001b[0m, \u001b[32m'#'\u001b[0m, \u001b[32m'#'\u001b[0m, \u001b[32m'#'\u001b[0m, \u001b[32m'#'\u001b[0m, \u001b[32m'#'\u001b[0m, \u001b[32m'#'\u001b[0m, \u001b[32m'#'\u001b[0m, \n",
       "\u001b[32m'#'\u001b[0m, \u001b[32m'#'\u001b[0m, \u001b[32m'#'\u001b[0m, \u001b[32m'#'\u001b[0m, \u001b[32m'#'\u001b[0m, \u001b[32m'#'\u001b[0m, \u001b[32m'#'\u001b[0m, \u001b[32m'#'\u001b[0m, \u001b[32m'.'\u001b[0m, \u001b[32m'#'\u001b[0m\u001b[1m]\u001b[0m\n"
      ]
     },
     "metadata": {},
     "output_type": "display_data"
    },
    {
     "data": {
      "text/html": [
       "<pre style=\"white-space:pre;overflow-x:auto;line-height:normal;font-family:Menlo,'DejaVu Sans Mono',consolas,'Courier New',monospace\">------\n",
       "</pre>\n"
      ],
      "text/plain": [
       "------\n"
      ]
     },
     "metadata": {},
     "output_type": "display_data"
    }
   ],
   "source": [
    "fp = \"input.txt\"\n",
    "lines = read_file_to_str_li(fp)\n",
    "\n",
    "print(\"Convert to:\")\n",
    "\n",
    "# head = convert_str_li_to_other_li(\n",
    "#     lines, pattern=\"s\", per_letter=True, sep=\",\", start_row=0, end_row=1\n",
    "# )\n",
    "\n",
    "# print(f\"Head:\\n{head}\")\n",
    "# print(f\"First line: {head[0]}\")\n",
    "# print(f\"Last line: {head[-1]}\")\n",
    "\n",
    "data = convert_str_li_to_other_li(\n",
    "    lines, pattern=\"s\", per_letter=True, sep=\" \", start_row=None, end_row=None\n",
    ")\n",
    "\n",
    "\n",
    "print(f\"First line: {data[0]}\")\n",
    "print(f\"Last line: {data[-1]}\")\n",
    "print(\"-\" * 6)"
   ]
  },
  {
   "cell_type": "code",
   "execution_count": 5,
   "id": "49b7f054-1aa4-48ab-bbd1-ab3045db948c",
   "metadata": {},
   "outputs": [
    {
     "data": {
      "text/html": [
       "<pre style=\"white-space:pre;overflow-x:auto;line-height:normal;font-family:Menlo,'DejaVu Sans Mono',consolas,'Courier New',monospace\"><span style=\"color: #008080; text-decoration-color: #008080; font-weight: bold\">25</span> <span style=\"color: #008080; text-decoration-color: #008080; font-weight: bold\">120</span>\n",
       "</pre>\n"
      ],
      "text/plain": [
       "\u001b[1;36m25\u001b[0m \u001b[1;36m120\u001b[0m\n"
      ]
     },
     "metadata": {},
     "output_type": "display_data"
    },
    {
     "data": {
      "image/png": "[encoded data removed]",
      "text/plain": [
       "<Figure size 100x100 with 1 Axes>"
      ]
     },
     "metadata": {},
     "output_type": "display_data"
    },
    {
     "data": {
      "image/png": "[encoded data removed]",
      "text/plain": [
       "<Figure size 100x100 with 1 Axes>"
      ]
     },
     "metadata": {},
     "output_type": "display_data"
    },
    {
     "data": {
      "image/png": "[encoded data removed]",
      "text/plain": [
       "<Figure size 100x100 with 1 Axes>"
      ]
     },
     "metadata": {},
     "output_type": "display_data"
    },
    {
     "data": {
      "image/png": "[encoded data removed]",
      "text/plain": [
       "<Figure size 100x100 with 1 Axes>"
      ]
     },
     "metadata": {},
     "output_type": "display_data"
    },
    {
     "data": {
      "image/png": "[encoded data removed]",
      "text/plain": [
       "<Figure size 100x100 with 1 Axes>"
      ]
     },
     "metadata": {},
     "output_type": "display_data"
    }
   ],
   "source": [
    "mtx = np.array(data)[1:-1, 1:-1]\n",
    "h, w = mtx.shape\n",
    "print(h, w)\n",
    "blizzard_north = np.zeros_like(mtx, dtype=\"int\")\n",
    "blizzard_north[np.where(mtx == \"^\")] = 1\n",
    "plot_mtx(blizzard_north, (1, 1))\n",
    "blizzard_south = np.zeros_like(mtx, dtype=\"int\")\n",
    "blizzard_south[np.where(mtx == \"v\")] = 1\n",
    "plot_mtx(blizzard_south, (1, 1))\n",
    "blizzard_west = np.zeros_like(mtx, dtype=\"int\")\n",
    "blizzard_west[np.where(mtx == \"<\")] = 1\n",
    "plot_mtx(blizzard_west, (1, 1))\n",
    "blizzard_east = np.zeros_like(mtx, dtype=\"int\")\n",
    "blizzard_east[np.where(mtx == \">\")] = 1\n",
    "plot_mtx(blizzard_east, (1, 1))\n",
    "\n",
    "blizzards = blizzard_north | blizzard_south | blizzard_west | blizzard_east\n",
    "plot_mtx(blizzards, (1, 1))"
   ]
  },
  {
   "cell_type": "code",
   "execution_count": 6,
   "id": "20248b4b-b4b9-4f18-a16d-bda5afd436c9",
   "metadata": {},
   "outputs": [],
   "source": [
    "def find_possible_pos(blizzards):\n",
    "    pos_dict = {}\n",
    "    for i in range(blizzards.shape[0]):\n",
    "        for j in range(blizzards.shape[1]):\n",
    "            possible_pos = []\n",
    "            for pos in [(i, j), (i - 1, j), (i + 1, j), (i, j - 1), (i, j + 1)]:\n",
    "                if (\n",
    "                    (0 <= pos[0] <= h - 1)\n",
    "                    and (0 <= pos[1] <= w - 1)\n",
    "                    and (blizzards[pos] == 0)\n",
    "                ):\n",
    "                    possible_pos.append(pos)\n",
    "            pos_dict[(i, j)] = possible_pos\n",
    "    return pos_dict"
   ]
  },
  {
   "cell_type": "code",
   "execution_count": 7,
   "id": "1daed2f9-5187-4b6c-8dc2-896696ea37a8",
   "metadata": {},
   "outputs": [
    {
     "name": "stderr",
     "output_type": "stream",
     "text": [
      "100%|███████████████████████████████████████████████████████████████████████████████████████████████████████████████████████████████████████| 600/600 [00:03<00:00, 193.03it/s]\n"
     ]
    }
   ],
   "source": [
    "blank_pos_li = []\n",
    "loop_num = np.lcm(w, h)\n",
    "for _ in tqdm(range(loop_num)):\n",
    "    blizzard_north = np.r_[blizzard_north[1:, :], blizzard_north[:1, :]]\n",
    "    blizzard_south = np.r_[blizzard_south[-1:, :], blizzard_south[:-1, :]]\n",
    "    blizzard_west = np.c_[blizzard_west[:, 1:], blizzard_west[:, 0]]\n",
    "    blizzard_east = np.c_[blizzard_east[:, -1], blizzard_east[:, :-1]]\n",
    "\n",
    "    blizzards = blizzard_north | blizzard_south | blizzard_west | blizzard_east\n",
    "    blank_pos_li.append(find_possible_pos(blizzards))"
   ]
  },
  {
   "cell_type": "code",
   "execution_count": 8,
   "id": "8794265d-e4ff-458d-af0d-921ea0e915cb",
   "metadata": {},
   "outputs": [],
   "source": [
    "def find_next_enter_step(pos, start_step):\n",
    "    while True:\n",
    "        if pos in blank_pos_li[start_step % loop_num][pos]:\n",
    "            break\n",
    "        start_step += 1\n",
    "    return start_step\n",
    "\n",
    "\n",
    "def count_steps(start_p, end_p, start_step):\n",
    "    flag = True\n",
    "    while flag:\n",
    "        # Count steps to enter\n",
    "        start_step = find_next_enter_step(start_p, start_step)\n",
    "        current_step = start_step + 1\n",
    "        pre_reached_pos = [start_p]\n",
    "        while True:\n",
    "            new_reached_pos = []\n",
    "            for pos in pre_reached_pos:\n",
    "                new_reached_pos.extend(blank_pos_li[current_step % loop_num][pos])\n",
    "            pre_reached_pos = list(set(new_reached_pos))\n",
    "            if len(pre_reached_pos) == 0:\n",
    "                flag = True\n",
    "                break\n",
    "            if end_p in pre_reached_pos:\n",
    "                flag = False\n",
    "                break\n",
    "            current_step += 1\n",
    "        start_step += 1\n",
    "    return current_step"
   ]
  },
  {
   "cell_type": "code",
   "execution_count": 9,
   "id": "15c1cfb9-1ab3-4436-98e3-a568446c1385",
   "metadata": {},
   "outputs": [
    {
     "data": {
      "text/html": [
       "<pre style=\"white-space:pre;overflow-x:auto;line-height:normal;font-family:Menlo,'DejaVu Sans Mono',consolas,'Courier New',monospace\">Answer to Q1: <span style=\"color: #008080; text-decoration-color: #008080; font-weight: bold\">283</span>\n",
       "</pre>\n"
      ],
      "text/plain": [
       "Answer to Q1: \u001b[1;36m283\u001b[0m\n"
      ]
     },
     "metadata": {},
     "output_type": "display_data"
    },
    {
     "data": {
      "text/html": [
       "<pre style=\"white-space:pre;overflow-x:auto;line-height:normal;font-family:Menlo,'DejaVu Sans Mono',consolas,'Courier New',monospace\">Answer to Q2: <span style=\"color: #008080; text-decoration-color: #008080; font-weight: bold\">883</span>\n",
       "</pre>\n"
      ],
      "text/plain": [
       "Answer to Q2: \u001b[1;36m883\u001b[0m\n"
      ]
     },
     "metadata": {},
     "output_type": "display_data"
    },
    {
     "name": "stdout",
     "output_type": "stream",
     "text": [
      "CPU times: user 120 ms, sys: 3.09 ms, total: 123 ms\n",
      "Wall time: 122 ms\n"
     ]
    }
   ],
   "source": [
    "%%time\n",
    "# GO\n",
    "start_step = 0\n",
    "start_p = (0, 0)\n",
    "end_p = (h - 1, w - 1)\n",
    "current_step = count_steps(start_p, end_p, start_step)\n",
    "print(f\"Answer to Q1: {current_step + 2}\")\n",
    "\n",
    "# GO BACK\n",
    "start_step = current_step + 1\n",
    "start_p = (h - 1, w - 1)\n",
    "end_p = (0, 0)\n",
    "current_step = count_steps(start_p, end_p, start_step)\n",
    "\n",
    "# GO AGAIN\n",
    "start_step = current_step + 1\n",
    "start_p = (0, 0)\n",
    "end_p = (h - 1, w - 1)\n",
    "current_step = count_steps(start_p, end_p, start_step)\n",
    "print(f\"Answer to Q2: {current_step + 2}\")"
   ]
  },
  {
   "cell_type": "code",
   "execution_count": null,
   "id": "ac866cce-c027-4288-86c9-701ccc8a5657",
   "metadata": {},
   "outputs": [],
   "source": []
  }
 ],
 "metadata": {
  "kernelspec": {
   "display_name": "Python [conda env:ds38]",
   "language": "python",
   "name": "conda-env-ds38-py"
  },
  "language_info": {
   "codemirror_mode": {
    "name": "ipython",
    "version": 3
   },
   "file_extension": ".py",
   "mimetype": "text/x-python",
   "name": "python",
   "nbconvert_exporter": "python",
   "pygments_lexer": "ipython3",
   "version": "3.8.13"
  }
 },
 "nbformat": 4,
 "nbformat_minor": 5
}
