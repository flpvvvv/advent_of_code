{
 "cells": [
  {
   "cell_type": "raw",
   "id": "superb-forum",
   "metadata": {
    "jupyter": {
     "source_hidden": true
    },
    "tags": []
   },
   "source": [
    "--- Day 12: Hill Climbing Algorithm ---\n",
    "You try contacting the Elves using your handheld device, but the river you're following must be too low to get a decent signal.\n",
    "\n",
    "You ask the device for a heightmap of the surrounding area (your puzzle input). The heightmap shows the local area from above broken into a grid; the elevation of each square of the grid is given by a single lowercase letter, where a is the lowest elevation, b is the next-lowest, and so on up to the highest elevation, z.\n",
    "\n",
    "Also included on the heightmap are marks for your current position (S) and the location that should get the best signal (E). Your current position (S) has elevation a, and the location that should get the best signal (E) has elevation z.\n",
    "\n",
    "You'd like to reach E, but to save energy, you should do it in as few steps as possible. During each step, you can move exactly one square up, down, left, or right. To avoid needing to get out your climbing gear, the elevation of the destination square can be at most one higher than the elevation of your current square; that is, if your current elevation is m, you could step to elevation n, but not to elevation o. (This also means that the elevation of the destination square can be much lower than the elevation of your current square.)\n",
    "\n",
    "For example:\n",
    "\n",
    "Sabqponm\n",
    "abcryxxl\n",
    "accszExk\n",
    "acctuvwj\n",
    "abdefghi\n",
    "Here, you start in the top-left corner; your goal is near the middle. You could start by moving down or right, but eventually you'll need to head toward the e at the bottom. From there, you can spiral around to the goal:\n",
    "\n",
    "v..v<<<<\n",
    ">v.vv<<^\n",
    ".>vv>E^^\n",
    "..v>>>^^\n",
    "..>>>>>^\n",
    "In the above diagram, the symbols indicate whether the path exits each square moving up (^), down (v), left (<), or right (>). The location that should get the best signal is still E, and . marks unvisited squares.\n",
    "\n",
    "This path reaches the goal in 31 steps, the fewest possible.\n",
    "\n",
    "What is the fewest steps required to move from your current position to the location that should get the best signal?\n",
    "\n",
    "Your puzzle answer was 462.\n",
    "\n",
    "--- Part Two ---\n",
    "As you walk up the hill, you suspect that the Elves will want to turn this into a hiking trail. The beginning isn't very scenic, though; perhaps you can find a better starting point.\n",
    "\n",
    "To maximize exercise while hiking, the trail should start as low as possible: elevation a. The goal is still the square marked E. However, the trail should still be direct, taking the fewest steps to reach its goal. So, you'll need to find the shortest path from any square at elevation a to the square marked E.\n",
    "\n",
    "Again consider the example from above:\n",
    "\n",
    "Sabqponm\n",
    "abcryxxl\n",
    "accszExk\n",
    "acctuvwj\n",
    "abdefghi\n",
    "Now, there are six choices for starting position (five marked a, plus the square marked S that counts as being at elevation a). If you start at the bottom-left square, you can reach the goal most quickly:\n",
    "\n",
    "...v<<<<\n",
    "...vv<<^\n",
    "...v>E^^\n",
    ".>v>>>^^\n",
    ">^>>>>>^\n",
    "This path reaches the goal in only 29 steps, the fewest possible.\n",
    "\n",
    "What is the fewest steps required to move starting from any square with elevation a to the location that should get the best signal?\n",
    "\n",
    "Your puzzle answer was 451."
   ]
  },
  {
   "cell_type": "code",
   "execution_count": 1,
   "id": "limited-torture",
   "metadata": {},
   "outputs": [],
   "source": [
    "import warnings\n",
    "\n",
    "warnings.filterwarnings(\"ignore\")\n",
    "\n",
    "import math\n",
    "import os\n",
    "import re\n",
    "import sys\n",
    "from collections import Counter\n",
    "from copy import deepcopy\n",
    "from functools import reduce\n",
    "from pathlib import Path\n",
    "\n",
    "import matplotlib.pyplot as plt\n",
    "import numpy as np\n",
    "import pandas as pd\n",
    "import seaborn as sns\n",
    "from rich import print\n",
    "from tqdm import tqdm"
   ]
  },
  {
   "cell_type": "code",
   "execution_count": 2,
   "id": "bc48e34a-bf63-4b32-9a62-7871d8bc455f",
   "metadata": {},
   "outputs": [],
   "source": [
    "def plot_mtx(mtx):\n",
    "    fig, ax = plt.subplots(figsize=(10, 10))\n",
    "    ax.matshow(mtx, cmap=plt.cm.Blues)\n",
    "    for i in range(mtx.shape[0]):\n",
    "        for j in range(mtx.shape[1]):\n",
    "            c = mtx[i, j]\n",
    "    plt.plot()"
   ]
  },
  {
   "cell_type": "code",
   "execution_count": 3,
   "id": "resistant-event",
   "metadata": {},
   "outputs": [],
   "source": [
    "def read_file_to_str_li(fp, print_exp=True):\n",
    "    with open(fp, \"r\") as f:\n",
    "        lines = f.read().split(\"\\n\")\n",
    "    if print_exp:\n",
    "        print(f\"Read from {fp}:\")\n",
    "        print(f\"First line: {lines[0]} | Last line: {lines[-1]}\")\n",
    "        print(\"-\" * 6)\n",
    "\n",
    "    return lines\n",
    "\n",
    "\n",
    "# define the function blocks\n",
    "def convert_to_int(input_str):\n",
    "    if input_str == \"\" or input_str == \" \":\n",
    "        return None\n",
    "    return int(input_str)\n",
    "\n",
    "\n",
    "def convert_to_str(input_str):\n",
    "    return str(input_str)\n",
    "\n",
    "\n",
    "# map the inputs to the function blocks\n",
    "converts = {\n",
    "    \"i\": convert_to_int,\n",
    "    \"s\": convert_to_str,\n",
    "}\n",
    "\n",
    "\n",
    "def convert_str_li_to_other_li(\n",
    "    str_li, pattern=\"i\", per_letter=False, sep=\" \", start_row=0, end_row=None\n",
    "):\n",
    "    \"\"\"Convert a list of string to a list of other types\n",
    "\n",
    "    pattern: a list of types for one item.\n",
    "        'i' for int, 's' for string\n",
    "        'si' means: convert the 1st item to string, the rest to integer\n",
    "        If separated items are more than pattern items,\n",
    "        use the last one from the parttern.\n",
    "    if per_letter=True, ignore sep and separate item per letter\n",
    "    \"\"\"\n",
    "    target_str_li = str_li[start_row:end_row]\n",
    "    # find max item num\n",
    "    max_item_num = 1\n",
    "    if per_letter:\n",
    "        max_item_num = max([len(s) for s in target_str_li])\n",
    "    else:\n",
    "        max_item_num = max([len(s.split(sep)) for s in target_str_li])\n",
    "\n",
    "    # extend the pattern to the max itme num\n",
    "    pattern = (\n",
    "        pattern + f\"{pattern[-1]}\" * (max_item_num - len(pattern))\n",
    "        if max_item_num > len(pattern)\n",
    "        else pattern\n",
    "    )\n",
    "\n",
    "    # convert\n",
    "    if per_letter:\n",
    "        return [\n",
    "            [converts[pattern[idx]](item) for idx, item in enumerate(s)]\n",
    "            for s in target_str_li\n",
    "        ]\n",
    "    else:\n",
    "        if sep == \" \":\n",
    "            return [\n",
    "                [converts[pattern[idx]](item) for idx, item in enumerate(s.split())]\n",
    "                for s in target_str_li\n",
    "            ]\n",
    "        else:\n",
    "            return [\n",
    "                [converts[pattern[idx]](item) for idx, item in enumerate(s.split(sep))]\n",
    "                for s in target_str_li\n",
    "            ]"
   ]
  },
  {
   "cell_type": "code",
   "execution_count": 4,
   "id": "recreational-niagara",
   "metadata": {},
   "outputs": [
    {
     "data": {
      "text/html": [
       "<pre style=\"white-space:pre;overflow-x:auto;line-height:normal;font-family:Menlo,'DejaVu Sans Mono',consolas,'Courier New',monospace\">Read from input.txt:\n",
       "</pre>\n"
      ],
      "text/plain": [
       "Read from input.txt:\n"
      ]
     },
     "metadata": {},
     "output_type": "display_data"
    },
    {
     "data": {
      "text/html": [
       "<pre style=\"white-space:pre;overflow-x:auto;line-height:normal;font-family:Menlo,'DejaVu Sans Mono',consolas,'Courier New',monospace\">First line: \n",
       "abcccccccccccccccccaaaaaaaaccccccacccaaccccccccccccccccccaaaaaaaaaacccccccccccccccccccccccccccccccaaaaaaccccccccccc\n",
       "cccccccccccccccccccccccaaaaa | Last line: \n",
       "abcccccccccccccccccccccaaaaaaaccccccccccccccaaacccccccaaaaaaaaaaaaaaaaaaccccccccccccccccccccccccccccccccccccccccccc\n",
       "ccccccccccccccccccccccaaaaaa\n",
       "</pre>\n"
      ],
      "text/plain": [
       "First line: \n",
       "abcccccccccccccccccaaaaaaaaccccccacccaaccccccccccccccccccaaaaaaaaaacccccccccccccccccccccccccccccccaaaaaaccccccccccc\n",
       "cccccccccccccccccccccccaaaaa | Last line: \n",
       "abcccccccccccccccccccccaaaaaaaccccccccccccccaaacccccccaaaaaaaaaaaaaaaaaaccccccccccccccccccccccccccccccccccccccccccc\n",
       "ccccccccccccccccccccccaaaaaa\n"
      ]
     },
     "metadata": {},
     "output_type": "display_data"
    },
    {
     "data": {
      "text/html": [
       "<pre style=\"white-space:pre;overflow-x:auto;line-height:normal;font-family:Menlo,'DejaVu Sans Mono',consolas,'Courier New',monospace\">------\n",
       "</pre>\n"
      ],
      "text/plain": [
       "------\n"
      ]
     },
     "metadata": {},
     "output_type": "display_data"
    },
    {
     "data": {
      "text/html": [
       "<pre style=\"white-space:pre;overflow-x:auto;line-height:normal;font-family:Menlo,'DejaVu Sans Mono',consolas,'Courier New',monospace\">Convert to:\n",
       "</pre>\n"
      ],
      "text/plain": [
       "Convert to:\n"
      ]
     },
     "metadata": {},
     "output_type": "display_data"
    },
    {
     "data": {
      "text/html": [
       "<pre style=\"white-space:pre;overflow-x:auto;line-height:normal;font-family:Menlo,'DejaVu Sans Mono',consolas,'Courier New',monospace\">First line: <span style=\"font-weight: bold\">[</span><span style=\"color: #008000; text-decoration-color: #008000\">'a'</span>, <span style=\"color: #008000; text-decoration-color: #008000\">'b'</span>, <span style=\"color: #008000; text-decoration-color: #008000\">'c'</span>, <span style=\"color: #008000; text-decoration-color: #008000\">'c'</span>, <span style=\"color: #008000; text-decoration-color: #008000\">'c'</span>, <span style=\"color: #008000; text-decoration-color: #008000\">'c'</span>, <span style=\"color: #008000; text-decoration-color: #008000\">'c'</span>, <span style=\"color: #008000; text-decoration-color: #008000\">'c'</span>, <span style=\"color: #008000; text-decoration-color: #008000\">'c'</span>, <span style=\"color: #008000; text-decoration-color: #008000\">'c'</span>, <span style=\"color: #008000; text-decoration-color: #008000\">'c'</span>, <span style=\"color: #008000; text-decoration-color: #008000\">'c'</span>, <span style=\"color: #008000; text-decoration-color: #008000\">'c'</span>, <span style=\"color: #008000; text-decoration-color: #008000\">'c'</span>, <span style=\"color: #008000; text-decoration-color: #008000\">'c'</span>, <span style=\"color: #008000; text-decoration-color: #008000\">'c'</span>, <span style=\"color: #008000; text-decoration-color: #008000\">'c'</span>, <span style=\"color: #008000; text-decoration-color: #008000\">'c'</span>, <span style=\"color: #008000; text-decoration-color: #008000\">'c'</span>, <span style=\"color: #008000; text-decoration-color: #008000\">'a'</span>, \n",
       "<span style=\"color: #008000; text-decoration-color: #008000\">'a'</span>, <span style=\"color: #008000; text-decoration-color: #008000\">'a'</span>, <span style=\"color: #008000; text-decoration-color: #008000\">'a'</span>, <span style=\"color: #008000; text-decoration-color: #008000\">'a'</span>, <span style=\"color: #008000; text-decoration-color: #008000\">'a'</span>, <span style=\"color: #008000; text-decoration-color: #008000\">'a'</span>, <span style=\"color: #008000; text-decoration-color: #008000\">'a'</span>, <span style=\"color: #008000; text-decoration-color: #008000\">'c'</span>, <span style=\"color: #008000; text-decoration-color: #008000\">'c'</span>, <span style=\"color: #008000; text-decoration-color: #008000\">'c'</span>, <span style=\"color: #008000; text-decoration-color: #008000\">'c'</span>, <span style=\"color: #008000; text-decoration-color: #008000\">'c'</span>, <span style=\"color: #008000; text-decoration-color: #008000\">'c'</span>, <span style=\"color: #008000; text-decoration-color: #008000\">'a'</span>, <span style=\"color: #008000; text-decoration-color: #008000\">'c'</span>, <span style=\"color: #008000; text-decoration-color: #008000\">'c'</span>, <span style=\"color: #008000; text-decoration-color: #008000\">'c'</span>, <span style=\"color: #008000; text-decoration-color: #008000\">'a'</span>, <span style=\"color: #008000; text-decoration-color: #008000\">'a'</span>, <span style=\"color: #008000; text-decoration-color: #008000\">'c'</span>, <span style=\"color: #008000; text-decoration-color: #008000\">'c'</span>, <span style=\"color: #008000; text-decoration-color: #008000\">'c'</span>, <span style=\"color: #008000; text-decoration-color: #008000\">'c'</span>, \n",
       "<span style=\"color: #008000; text-decoration-color: #008000\">'c'</span>, <span style=\"color: #008000; text-decoration-color: #008000\">'c'</span>, <span style=\"color: #008000; text-decoration-color: #008000\">'c'</span>, <span style=\"color: #008000; text-decoration-color: #008000\">'c'</span>, <span style=\"color: #008000; text-decoration-color: #008000\">'c'</span>, <span style=\"color: #008000; text-decoration-color: #008000\">'c'</span>, <span style=\"color: #008000; text-decoration-color: #008000\">'c'</span>, <span style=\"color: #008000; text-decoration-color: #008000\">'c'</span>, <span style=\"color: #008000; text-decoration-color: #008000\">'c'</span>, <span style=\"color: #008000; text-decoration-color: #008000\">'c'</span>, <span style=\"color: #008000; text-decoration-color: #008000\">'c'</span>, <span style=\"color: #008000; text-decoration-color: #008000\">'c'</span>, <span style=\"color: #008000; text-decoration-color: #008000\">'c'</span>, <span style=\"color: #008000; text-decoration-color: #008000\">'c'</span>, <span style=\"color: #008000; text-decoration-color: #008000\">'a'</span>, <span style=\"color: #008000; text-decoration-color: #008000\">'a'</span>, <span style=\"color: #008000; text-decoration-color: #008000\">'a'</span>, <span style=\"color: #008000; text-decoration-color: #008000\">'a'</span>, <span style=\"color: #008000; text-decoration-color: #008000\">'a'</span>, <span style=\"color: #008000; text-decoration-color: #008000\">'a'</span>, <span style=\"color: #008000; text-decoration-color: #008000\">'a'</span>, <span style=\"color: #008000; text-decoration-color: #008000\">'a'</span>, <span style=\"color: #008000; text-decoration-color: #008000\">'a'</span>, \n",
       "<span style=\"color: #008000; text-decoration-color: #008000\">'a'</span>, <span style=\"color: #008000; text-decoration-color: #008000\">'c'</span>, <span style=\"color: #008000; text-decoration-color: #008000\">'c'</span>, <span style=\"color: #008000; text-decoration-color: #008000\">'c'</span>, <span style=\"color: #008000; text-decoration-color: #008000\">'c'</span>, <span style=\"color: #008000; text-decoration-color: #008000\">'c'</span>, <span style=\"color: #008000; text-decoration-color: #008000\">'c'</span>, <span style=\"color: #008000; text-decoration-color: #008000\">'c'</span>, <span style=\"color: #008000; text-decoration-color: #008000\">'c'</span>, <span style=\"color: #008000; text-decoration-color: #008000\">'c'</span>, <span style=\"color: #008000; text-decoration-color: #008000\">'c'</span>, <span style=\"color: #008000; text-decoration-color: #008000\">'c'</span>, <span style=\"color: #008000; text-decoration-color: #008000\">'c'</span>, <span style=\"color: #008000; text-decoration-color: #008000\">'c'</span>, <span style=\"color: #008000; text-decoration-color: #008000\">'c'</span>, <span style=\"color: #008000; text-decoration-color: #008000\">'c'</span>, <span style=\"color: #008000; text-decoration-color: #008000\">'c'</span>, <span style=\"color: #008000; text-decoration-color: #008000\">'c'</span>, <span style=\"color: #008000; text-decoration-color: #008000\">'c'</span>, <span style=\"color: #008000; text-decoration-color: #008000\">'c'</span>, <span style=\"color: #008000; text-decoration-color: #008000\">'c'</span>, <span style=\"color: #008000; text-decoration-color: #008000\">'c'</span>, <span style=\"color: #008000; text-decoration-color: #008000\">'c'</span>, \n",
       "<span style=\"color: #008000; text-decoration-color: #008000\">'c'</span>, <span style=\"color: #008000; text-decoration-color: #008000\">'c'</span>, <span style=\"color: #008000; text-decoration-color: #008000\">'c'</span>, <span style=\"color: #008000; text-decoration-color: #008000\">'c'</span>, <span style=\"color: #008000; text-decoration-color: #008000\">'c'</span>, <span style=\"color: #008000; text-decoration-color: #008000\">'c'</span>, <span style=\"color: #008000; text-decoration-color: #008000\">'c'</span>, <span style=\"color: #008000; text-decoration-color: #008000\">'c'</span>, <span style=\"color: #008000; text-decoration-color: #008000\">'c'</span>, <span style=\"color: #008000; text-decoration-color: #008000\">'a'</span>, <span style=\"color: #008000; text-decoration-color: #008000\">'a'</span>, <span style=\"color: #008000; text-decoration-color: #008000\">'a'</span>, <span style=\"color: #008000; text-decoration-color: #008000\">'a'</span>, <span style=\"color: #008000; text-decoration-color: #008000\">'a'</span>, <span style=\"color: #008000; text-decoration-color: #008000\">'a'</span>, <span style=\"color: #008000; text-decoration-color: #008000\">'c'</span>, <span style=\"color: #008000; text-decoration-color: #008000\">'c'</span>, <span style=\"color: #008000; text-decoration-color: #008000\">'c'</span>, <span style=\"color: #008000; text-decoration-color: #008000\">'c'</span>, <span style=\"color: #008000; text-decoration-color: #008000\">'c'</span>, <span style=\"color: #008000; text-decoration-color: #008000\">'c'</span>, <span style=\"color: #008000; text-decoration-color: #008000\">'c'</span>, <span style=\"color: #008000; text-decoration-color: #008000\">'c'</span>, \n",
       "<span style=\"color: #008000; text-decoration-color: #008000\">'c'</span>, <span style=\"color: #008000; text-decoration-color: #008000\">'c'</span>, <span style=\"color: #008000; text-decoration-color: #008000\">'c'</span>, <span style=\"color: #008000; text-decoration-color: #008000\">'c'</span>, <span style=\"color: #008000; text-decoration-color: #008000\">'c'</span>, <span style=\"color: #008000; text-decoration-color: #008000\">'c'</span>, <span style=\"color: #008000; text-decoration-color: #008000\">'c'</span>, <span style=\"color: #008000; text-decoration-color: #008000\">'c'</span>, <span style=\"color: #008000; text-decoration-color: #008000\">'c'</span>, <span style=\"color: #008000; text-decoration-color: #008000\">'c'</span>, <span style=\"color: #008000; text-decoration-color: #008000\">'c'</span>, <span style=\"color: #008000; text-decoration-color: #008000\">'c'</span>, <span style=\"color: #008000; text-decoration-color: #008000\">'c'</span>, <span style=\"color: #008000; text-decoration-color: #008000\">'c'</span>, <span style=\"color: #008000; text-decoration-color: #008000\">'c'</span>, <span style=\"color: #008000; text-decoration-color: #008000\">'c'</span>, <span style=\"color: #008000; text-decoration-color: #008000\">'c'</span>, <span style=\"color: #008000; text-decoration-color: #008000\">'c'</span>, <span style=\"color: #008000; text-decoration-color: #008000\">'c'</span>, <span style=\"color: #008000; text-decoration-color: #008000\">'c'</span>, <span style=\"color: #008000; text-decoration-color: #008000\">'c'</span>, <span style=\"color: #008000; text-decoration-color: #008000\">'c'</span>, <span style=\"color: #008000; text-decoration-color: #008000\">'c'</span>, \n",
       "<span style=\"color: #008000; text-decoration-color: #008000\">'c'</span>, <span style=\"color: #008000; text-decoration-color: #008000\">'c'</span>, <span style=\"color: #008000; text-decoration-color: #008000\">'c'</span>, <span style=\"color: #008000; text-decoration-color: #008000\">'a'</span>, <span style=\"color: #008000; text-decoration-color: #008000\">'a'</span>, <span style=\"color: #008000; text-decoration-color: #008000\">'a'</span>, <span style=\"color: #008000; text-decoration-color: #008000\">'a'</span>, <span style=\"color: #008000; text-decoration-color: #008000\">'a'</span><span style=\"font-weight: bold\">]</span>\n",
       "</pre>\n"
      ],
      "text/plain": [
       "First line: \u001b[1m[\u001b[0m\u001b[32m'a'\u001b[0m, \u001b[32m'b'\u001b[0m, \u001b[32m'c'\u001b[0m, \u001b[32m'c'\u001b[0m, \u001b[32m'c'\u001b[0m, \u001b[32m'c'\u001b[0m, \u001b[32m'c'\u001b[0m, \u001b[32m'c'\u001b[0m, \u001b[32m'c'\u001b[0m, \u001b[32m'c'\u001b[0m, \u001b[32m'c'\u001b[0m, \u001b[32m'c'\u001b[0m, \u001b[32m'c'\u001b[0m, \u001b[32m'c'\u001b[0m, \u001b[32m'c'\u001b[0m, \u001b[32m'c'\u001b[0m, \u001b[32m'c'\u001b[0m, \u001b[32m'c'\u001b[0m, \u001b[32m'c'\u001b[0m, \u001b[32m'a'\u001b[0m, \n",
       "\u001b[32m'a'\u001b[0m, \u001b[32m'a'\u001b[0m, \u001b[32m'a'\u001b[0m, \u001b[32m'a'\u001b[0m, \u001b[32m'a'\u001b[0m, \u001b[32m'a'\u001b[0m, \u001b[32m'a'\u001b[0m, \u001b[32m'c'\u001b[0m, \u001b[32m'c'\u001b[0m, \u001b[32m'c'\u001b[0m, \u001b[32m'c'\u001b[0m, \u001b[32m'c'\u001b[0m, \u001b[32m'c'\u001b[0m, \u001b[32m'a'\u001b[0m, \u001b[32m'c'\u001b[0m, \u001b[32m'c'\u001b[0m, \u001b[32m'c'\u001b[0m, \u001b[32m'a'\u001b[0m, \u001b[32m'a'\u001b[0m, \u001b[32m'c'\u001b[0m, \u001b[32m'c'\u001b[0m, \u001b[32m'c'\u001b[0m, \u001b[32m'c'\u001b[0m, \n",
       "\u001b[32m'c'\u001b[0m, \u001b[32m'c'\u001b[0m, \u001b[32m'c'\u001b[0m, \u001b[32m'c'\u001b[0m, \u001b[32m'c'\u001b[0m, \u001b[32m'c'\u001b[0m, \u001b[32m'c'\u001b[0m, \u001b[32m'c'\u001b[0m, \u001b[32m'c'\u001b[0m, \u001b[32m'c'\u001b[0m, \u001b[32m'c'\u001b[0m, \u001b[32m'c'\u001b[0m, \u001b[32m'c'\u001b[0m, \u001b[32m'c'\u001b[0m, \u001b[32m'a'\u001b[0m, \u001b[32m'a'\u001b[0m, \u001b[32m'a'\u001b[0m, \u001b[32m'a'\u001b[0m, \u001b[32m'a'\u001b[0m, \u001b[32m'a'\u001b[0m, \u001b[32m'a'\u001b[0m, \u001b[32m'a'\u001b[0m, \u001b[32m'a'\u001b[0m, \n",
       "\u001b[32m'a'\u001b[0m, \u001b[32m'c'\u001b[0m, \u001b[32m'c'\u001b[0m, \u001b[32m'c'\u001b[0m, \u001b[32m'c'\u001b[0m, \u001b[32m'c'\u001b[0m, \u001b[32m'c'\u001b[0m, \u001b[32m'c'\u001b[0m, \u001b[32m'c'\u001b[0m, \u001b[32m'c'\u001b[0m, \u001b[32m'c'\u001b[0m, \u001b[32m'c'\u001b[0m, \u001b[32m'c'\u001b[0m, \u001b[32m'c'\u001b[0m, \u001b[32m'c'\u001b[0m, \u001b[32m'c'\u001b[0m, \u001b[32m'c'\u001b[0m, \u001b[32m'c'\u001b[0m, \u001b[32m'c'\u001b[0m, \u001b[32m'c'\u001b[0m, \u001b[32m'c'\u001b[0m, \u001b[32m'c'\u001b[0m, \u001b[32m'c'\u001b[0m, \n",
       "\u001b[32m'c'\u001b[0m, \u001b[32m'c'\u001b[0m, \u001b[32m'c'\u001b[0m, \u001b[32m'c'\u001b[0m, \u001b[32m'c'\u001b[0m, \u001b[32m'c'\u001b[0m, \u001b[32m'c'\u001b[0m, \u001b[32m'c'\u001b[0m, \u001b[32m'c'\u001b[0m, \u001b[32m'a'\u001b[0m, \u001b[32m'a'\u001b[0m, \u001b[32m'a'\u001b[0m, \u001b[32m'a'\u001b[0m, \u001b[32m'a'\u001b[0m, \u001b[32m'a'\u001b[0m, \u001b[32m'c'\u001b[0m, \u001b[32m'c'\u001b[0m, \u001b[32m'c'\u001b[0m, \u001b[32m'c'\u001b[0m, \u001b[32m'c'\u001b[0m, \u001b[32m'c'\u001b[0m, \u001b[32m'c'\u001b[0m, \u001b[32m'c'\u001b[0m, \n",
       "\u001b[32m'c'\u001b[0m, \u001b[32m'c'\u001b[0m, \u001b[32m'c'\u001b[0m, \u001b[32m'c'\u001b[0m, \u001b[32m'c'\u001b[0m, \u001b[32m'c'\u001b[0m, \u001b[32m'c'\u001b[0m, \u001b[32m'c'\u001b[0m, \u001b[32m'c'\u001b[0m, \u001b[32m'c'\u001b[0m, \u001b[32m'c'\u001b[0m, \u001b[32m'c'\u001b[0m, \u001b[32m'c'\u001b[0m, \u001b[32m'c'\u001b[0m, \u001b[32m'c'\u001b[0m, \u001b[32m'c'\u001b[0m, \u001b[32m'c'\u001b[0m, \u001b[32m'c'\u001b[0m, \u001b[32m'c'\u001b[0m, \u001b[32m'c'\u001b[0m, \u001b[32m'c'\u001b[0m, \u001b[32m'c'\u001b[0m, \u001b[32m'c'\u001b[0m, \n",
       "\u001b[32m'c'\u001b[0m, \u001b[32m'c'\u001b[0m, \u001b[32m'c'\u001b[0m, \u001b[32m'a'\u001b[0m, \u001b[32m'a'\u001b[0m, \u001b[32m'a'\u001b[0m, \u001b[32m'a'\u001b[0m, \u001b[32m'a'\u001b[0m\u001b[1m]\u001b[0m\n"
      ]
     },
     "metadata": {},
     "output_type": "display_data"
    },
    {
     "data": {
      "text/html": [
       "<pre style=\"white-space:pre;overflow-x:auto;line-height:normal;font-family:Menlo,'DejaVu Sans Mono',consolas,'Courier New',monospace\">Last line: <span style=\"font-weight: bold\">[</span><span style=\"color: #008000; text-decoration-color: #008000\">'a'</span>, <span style=\"color: #008000; text-decoration-color: #008000\">'b'</span>, <span style=\"color: #008000; text-decoration-color: #008000\">'c'</span>, <span style=\"color: #008000; text-decoration-color: #008000\">'c'</span>, <span style=\"color: #008000; text-decoration-color: #008000\">'c'</span>, <span style=\"color: #008000; text-decoration-color: #008000\">'c'</span>, <span style=\"color: #008000; text-decoration-color: #008000\">'c'</span>, <span style=\"color: #008000; text-decoration-color: #008000\">'c'</span>, <span style=\"color: #008000; text-decoration-color: #008000\">'c'</span>, <span style=\"color: #008000; text-decoration-color: #008000\">'c'</span>, <span style=\"color: #008000; text-decoration-color: #008000\">'c'</span>, <span style=\"color: #008000; text-decoration-color: #008000\">'c'</span>, <span style=\"color: #008000; text-decoration-color: #008000\">'c'</span>, <span style=\"color: #008000; text-decoration-color: #008000\">'c'</span>, <span style=\"color: #008000; text-decoration-color: #008000\">'c'</span>, <span style=\"color: #008000; text-decoration-color: #008000\">'c'</span>, <span style=\"color: #008000; text-decoration-color: #008000\">'c'</span>, <span style=\"color: #008000; text-decoration-color: #008000\">'c'</span>, <span style=\"color: #008000; text-decoration-color: #008000\">'c'</span>, <span style=\"color: #008000; text-decoration-color: #008000\">'c'</span>, \n",
       "<span style=\"color: #008000; text-decoration-color: #008000\">'c'</span>, <span style=\"color: #008000; text-decoration-color: #008000\">'c'</span>, <span style=\"color: #008000; text-decoration-color: #008000\">'c'</span>, <span style=\"color: #008000; text-decoration-color: #008000\">'a'</span>, <span style=\"color: #008000; text-decoration-color: #008000\">'a'</span>, <span style=\"color: #008000; text-decoration-color: #008000\">'a'</span>, <span style=\"color: #008000; text-decoration-color: #008000\">'a'</span>, <span style=\"color: #008000; text-decoration-color: #008000\">'a'</span>, <span style=\"color: #008000; text-decoration-color: #008000\">'a'</span>, <span style=\"color: #008000; text-decoration-color: #008000\">'a'</span>, <span style=\"color: #008000; text-decoration-color: #008000\">'c'</span>, <span style=\"color: #008000; text-decoration-color: #008000\">'c'</span>, <span style=\"color: #008000; text-decoration-color: #008000\">'c'</span>, <span style=\"color: #008000; text-decoration-color: #008000\">'c'</span>, <span style=\"color: #008000; text-decoration-color: #008000\">'c'</span>, <span style=\"color: #008000; text-decoration-color: #008000\">'c'</span>, <span style=\"color: #008000; text-decoration-color: #008000\">'c'</span>, <span style=\"color: #008000; text-decoration-color: #008000\">'c'</span>, <span style=\"color: #008000; text-decoration-color: #008000\">'c'</span>, <span style=\"color: #008000; text-decoration-color: #008000\">'c'</span>, <span style=\"color: #008000; text-decoration-color: #008000\">'c'</span>, <span style=\"color: #008000; text-decoration-color: #008000\">'c'</span>, <span style=\"color: #008000; text-decoration-color: #008000\">'c'</span>, \n",
       "<span style=\"color: #008000; text-decoration-color: #008000\">'c'</span>, <span style=\"color: #008000; text-decoration-color: #008000\">'a'</span>, <span style=\"color: #008000; text-decoration-color: #008000\">'a'</span>, <span style=\"color: #008000; text-decoration-color: #008000\">'a'</span>, <span style=\"color: #008000; text-decoration-color: #008000\">'c'</span>, <span style=\"color: #008000; text-decoration-color: #008000\">'c'</span>, <span style=\"color: #008000; text-decoration-color: #008000\">'c'</span>, <span style=\"color: #008000; text-decoration-color: #008000\">'c'</span>, <span style=\"color: #008000; text-decoration-color: #008000\">'c'</span>, <span style=\"color: #008000; text-decoration-color: #008000\">'c'</span>, <span style=\"color: #008000; text-decoration-color: #008000\">'c'</span>, <span style=\"color: #008000; text-decoration-color: #008000\">'a'</span>, <span style=\"color: #008000; text-decoration-color: #008000\">'a'</span>, <span style=\"color: #008000; text-decoration-color: #008000\">'a'</span>, <span style=\"color: #008000; text-decoration-color: #008000\">'a'</span>, <span style=\"color: #008000; text-decoration-color: #008000\">'a'</span>, <span style=\"color: #008000; text-decoration-color: #008000\">'a'</span>, <span style=\"color: #008000; text-decoration-color: #008000\">'a'</span>, <span style=\"color: #008000; text-decoration-color: #008000\">'a'</span>, <span style=\"color: #008000; text-decoration-color: #008000\">'a'</span>, <span style=\"color: #008000; text-decoration-color: #008000\">'a'</span>, <span style=\"color: #008000; text-decoration-color: #008000\">'a'</span>, <span style=\"color: #008000; text-decoration-color: #008000\">'a'</span>, \n",
       "<span style=\"color: #008000; text-decoration-color: #008000\">'a'</span>, <span style=\"color: #008000; text-decoration-color: #008000\">'a'</span>, <span style=\"color: #008000; text-decoration-color: #008000\">'a'</span>, <span style=\"color: #008000; text-decoration-color: #008000\">'a'</span>, <span style=\"color: #008000; text-decoration-color: #008000\">'a'</span>, <span style=\"color: #008000; text-decoration-color: #008000\">'a'</span>, <span style=\"color: #008000; text-decoration-color: #008000\">'c'</span>, <span style=\"color: #008000; text-decoration-color: #008000\">'c'</span>, <span style=\"color: #008000; text-decoration-color: #008000\">'c'</span>, <span style=\"color: #008000; text-decoration-color: #008000\">'c'</span>, <span style=\"color: #008000; text-decoration-color: #008000\">'c'</span>, <span style=\"color: #008000; text-decoration-color: #008000\">'c'</span>, <span style=\"color: #008000; text-decoration-color: #008000\">'c'</span>, <span style=\"color: #008000; text-decoration-color: #008000\">'c'</span>, <span style=\"color: #008000; text-decoration-color: #008000\">'c'</span>, <span style=\"color: #008000; text-decoration-color: #008000\">'c'</span>, <span style=\"color: #008000; text-decoration-color: #008000\">'c'</span>, <span style=\"color: #008000; text-decoration-color: #008000\">'c'</span>, <span style=\"color: #008000; text-decoration-color: #008000\">'c'</span>, <span style=\"color: #008000; text-decoration-color: #008000\">'c'</span>, <span style=\"color: #008000; text-decoration-color: #008000\">'c'</span>, <span style=\"color: #008000; text-decoration-color: #008000\">'c'</span>, <span style=\"color: #008000; text-decoration-color: #008000\">'c'</span>, \n",
       "<span style=\"color: #008000; text-decoration-color: #008000\">'c'</span>, <span style=\"color: #008000; text-decoration-color: #008000\">'c'</span>, <span style=\"color: #008000; text-decoration-color: #008000\">'c'</span>, <span style=\"color: #008000; text-decoration-color: #008000\">'c'</span>, <span style=\"color: #008000; text-decoration-color: #008000\">'c'</span>, <span style=\"color: #008000; text-decoration-color: #008000\">'c'</span>, <span style=\"color: #008000; text-decoration-color: #008000\">'c'</span>, <span style=\"color: #008000; text-decoration-color: #008000\">'c'</span>, <span style=\"color: #008000; text-decoration-color: #008000\">'c'</span>, <span style=\"color: #008000; text-decoration-color: #008000\">'c'</span>, <span style=\"color: #008000; text-decoration-color: #008000\">'c'</span>, <span style=\"color: #008000; text-decoration-color: #008000\">'c'</span>, <span style=\"color: #008000; text-decoration-color: #008000\">'c'</span>, <span style=\"color: #008000; text-decoration-color: #008000\">'c'</span>, <span style=\"color: #008000; text-decoration-color: #008000\">'c'</span>, <span style=\"color: #008000; text-decoration-color: #008000\">'c'</span>, <span style=\"color: #008000; text-decoration-color: #008000\">'c'</span>, <span style=\"color: #008000; text-decoration-color: #008000\">'c'</span>, <span style=\"color: #008000; text-decoration-color: #008000\">'c'</span>, <span style=\"color: #008000; text-decoration-color: #008000\">'c'</span>, <span style=\"color: #008000; text-decoration-color: #008000\">'c'</span>, <span style=\"color: #008000; text-decoration-color: #008000\">'c'</span>, <span style=\"color: #008000; text-decoration-color: #008000\">'c'</span>, \n",
       "<span style=\"color: #008000; text-decoration-color: #008000\">'c'</span>, <span style=\"color: #008000; text-decoration-color: #008000\">'c'</span>, <span style=\"color: #008000; text-decoration-color: #008000\">'c'</span>, <span style=\"color: #008000; text-decoration-color: #008000\">'c'</span>, <span style=\"color: #008000; text-decoration-color: #008000\">'c'</span>, <span style=\"color: #008000; text-decoration-color: #008000\">'c'</span>, <span style=\"color: #008000; text-decoration-color: #008000\">'c'</span>, <span style=\"color: #008000; text-decoration-color: #008000\">'c'</span>, <span style=\"color: #008000; text-decoration-color: #008000\">'c'</span>, <span style=\"color: #008000; text-decoration-color: #008000\">'c'</span>, <span style=\"color: #008000; text-decoration-color: #008000\">'c'</span>, <span style=\"color: #008000; text-decoration-color: #008000\">'c'</span>, <span style=\"color: #008000; text-decoration-color: #008000\">'c'</span>, <span style=\"color: #008000; text-decoration-color: #008000\">'c'</span>, <span style=\"color: #008000; text-decoration-color: #008000\">'c'</span>, <span style=\"color: #008000; text-decoration-color: #008000\">'c'</span>, <span style=\"color: #008000; text-decoration-color: #008000\">'c'</span>, <span style=\"color: #008000; text-decoration-color: #008000\">'c'</span>, <span style=\"color: #008000; text-decoration-color: #008000\">'c'</span>, <span style=\"color: #008000; text-decoration-color: #008000\">'c'</span>, <span style=\"color: #008000; text-decoration-color: #008000\">'c'</span>, <span style=\"color: #008000; text-decoration-color: #008000\">'c'</span>, <span style=\"color: #008000; text-decoration-color: #008000\">'c'</span>, \n",
       "<span style=\"color: #008000; text-decoration-color: #008000\">'c'</span>, <span style=\"color: #008000; text-decoration-color: #008000\">'c'</span>, <span style=\"color: #008000; text-decoration-color: #008000\">'a'</span>, <span style=\"color: #008000; text-decoration-color: #008000\">'a'</span>, <span style=\"color: #008000; text-decoration-color: #008000\">'a'</span>, <span style=\"color: #008000; text-decoration-color: #008000\">'a'</span>, <span style=\"color: #008000; text-decoration-color: #008000\">'a'</span>, <span style=\"color: #008000; text-decoration-color: #008000\">'a'</span><span style=\"font-weight: bold\">]</span>\n",
       "</pre>\n"
      ],
      "text/plain": [
       "Last line: \u001b[1m[\u001b[0m\u001b[32m'a'\u001b[0m, \u001b[32m'b'\u001b[0m, \u001b[32m'c'\u001b[0m, \u001b[32m'c'\u001b[0m, \u001b[32m'c'\u001b[0m, \u001b[32m'c'\u001b[0m, \u001b[32m'c'\u001b[0m, \u001b[32m'c'\u001b[0m, \u001b[32m'c'\u001b[0m, \u001b[32m'c'\u001b[0m, \u001b[32m'c'\u001b[0m, \u001b[32m'c'\u001b[0m, \u001b[32m'c'\u001b[0m, \u001b[32m'c'\u001b[0m, \u001b[32m'c'\u001b[0m, \u001b[32m'c'\u001b[0m, \u001b[32m'c'\u001b[0m, \u001b[32m'c'\u001b[0m, \u001b[32m'c'\u001b[0m, \u001b[32m'c'\u001b[0m, \n",
       "\u001b[32m'c'\u001b[0m, \u001b[32m'c'\u001b[0m, \u001b[32m'c'\u001b[0m, \u001b[32m'a'\u001b[0m, \u001b[32m'a'\u001b[0m, \u001b[32m'a'\u001b[0m, \u001b[32m'a'\u001b[0m, \u001b[32m'a'\u001b[0m, \u001b[32m'a'\u001b[0m, \u001b[32m'a'\u001b[0m, \u001b[32m'c'\u001b[0m, \u001b[32m'c'\u001b[0m, \u001b[32m'c'\u001b[0m, \u001b[32m'c'\u001b[0m, \u001b[32m'c'\u001b[0m, \u001b[32m'c'\u001b[0m, \u001b[32m'c'\u001b[0m, \u001b[32m'c'\u001b[0m, \u001b[32m'c'\u001b[0m, \u001b[32m'c'\u001b[0m, \u001b[32m'c'\u001b[0m, \u001b[32m'c'\u001b[0m, \u001b[32m'c'\u001b[0m, \n",
       "\u001b[32m'c'\u001b[0m, \u001b[32m'a'\u001b[0m, \u001b[32m'a'\u001b[0m, \u001b[32m'a'\u001b[0m, \u001b[32m'c'\u001b[0m, \u001b[32m'c'\u001b[0m, \u001b[32m'c'\u001b[0m, \u001b[32m'c'\u001b[0m, \u001b[32m'c'\u001b[0m, \u001b[32m'c'\u001b[0m, \u001b[32m'c'\u001b[0m, \u001b[32m'a'\u001b[0m, \u001b[32m'a'\u001b[0m, \u001b[32m'a'\u001b[0m, \u001b[32m'a'\u001b[0m, \u001b[32m'a'\u001b[0m, \u001b[32m'a'\u001b[0m, \u001b[32m'a'\u001b[0m, \u001b[32m'a'\u001b[0m, \u001b[32m'a'\u001b[0m, \u001b[32m'a'\u001b[0m, \u001b[32m'a'\u001b[0m, \u001b[32m'a'\u001b[0m, \n",
       "\u001b[32m'a'\u001b[0m, \u001b[32m'a'\u001b[0m, \u001b[32m'a'\u001b[0m, \u001b[32m'a'\u001b[0m, \u001b[32m'a'\u001b[0m, \u001b[32m'a'\u001b[0m, \u001b[32m'c'\u001b[0m, \u001b[32m'c'\u001b[0m, \u001b[32m'c'\u001b[0m, \u001b[32m'c'\u001b[0m, \u001b[32m'c'\u001b[0m, \u001b[32m'c'\u001b[0m, \u001b[32m'c'\u001b[0m, \u001b[32m'c'\u001b[0m, \u001b[32m'c'\u001b[0m, \u001b[32m'c'\u001b[0m, \u001b[32m'c'\u001b[0m, \u001b[32m'c'\u001b[0m, \u001b[32m'c'\u001b[0m, \u001b[32m'c'\u001b[0m, \u001b[32m'c'\u001b[0m, \u001b[32m'c'\u001b[0m, \u001b[32m'c'\u001b[0m, \n",
       "\u001b[32m'c'\u001b[0m, \u001b[32m'c'\u001b[0m, \u001b[32m'c'\u001b[0m, \u001b[32m'c'\u001b[0m, \u001b[32m'c'\u001b[0m, \u001b[32m'c'\u001b[0m, \u001b[32m'c'\u001b[0m, \u001b[32m'c'\u001b[0m, \u001b[32m'c'\u001b[0m, \u001b[32m'c'\u001b[0m, \u001b[32m'c'\u001b[0m, \u001b[32m'c'\u001b[0m, \u001b[32m'c'\u001b[0m, \u001b[32m'c'\u001b[0m, \u001b[32m'c'\u001b[0m, \u001b[32m'c'\u001b[0m, \u001b[32m'c'\u001b[0m, \u001b[32m'c'\u001b[0m, \u001b[32m'c'\u001b[0m, \u001b[32m'c'\u001b[0m, \u001b[32m'c'\u001b[0m, \u001b[32m'c'\u001b[0m, \u001b[32m'c'\u001b[0m, \n",
       "\u001b[32m'c'\u001b[0m, \u001b[32m'c'\u001b[0m, \u001b[32m'c'\u001b[0m, \u001b[32m'c'\u001b[0m, \u001b[32m'c'\u001b[0m, \u001b[32m'c'\u001b[0m, \u001b[32m'c'\u001b[0m, \u001b[32m'c'\u001b[0m, \u001b[32m'c'\u001b[0m, \u001b[32m'c'\u001b[0m, \u001b[32m'c'\u001b[0m, \u001b[32m'c'\u001b[0m, \u001b[32m'c'\u001b[0m, \u001b[32m'c'\u001b[0m, \u001b[32m'c'\u001b[0m, \u001b[32m'c'\u001b[0m, \u001b[32m'c'\u001b[0m, \u001b[32m'c'\u001b[0m, \u001b[32m'c'\u001b[0m, \u001b[32m'c'\u001b[0m, \u001b[32m'c'\u001b[0m, \u001b[32m'c'\u001b[0m, \u001b[32m'c'\u001b[0m, \n",
       "\u001b[32m'c'\u001b[0m, \u001b[32m'c'\u001b[0m, \u001b[32m'a'\u001b[0m, \u001b[32m'a'\u001b[0m, \u001b[32m'a'\u001b[0m, \u001b[32m'a'\u001b[0m, \u001b[32m'a'\u001b[0m, \u001b[32m'a'\u001b[0m\u001b[1m]\u001b[0m\n"
      ]
     },
     "metadata": {},
     "output_type": "display_data"
    },
    {
     "data": {
      "text/html": [
       "<pre style=\"white-space:pre;overflow-x:auto;line-height:normal;font-family:Menlo,'DejaVu Sans Mono',consolas,'Courier New',monospace\">------\n",
       "</pre>\n"
      ],
      "text/plain": [
       "------\n"
      ]
     },
     "metadata": {},
     "output_type": "display_data"
    }
   ],
   "source": [
    "fp = \"input.txt\"\n",
    "lines = read_file_to_str_li(fp)\n",
    "\n",
    "print(\"Convert to:\")\n",
    "\n",
    "# head = convert_str_li_to_other_li(\n",
    "#     lines, pattern=\"s\", per_letter=True, sep=\",\", start_row=0, end_row=1\n",
    "# )\n",
    "\n",
    "# print(f\"Head:\\n{head}\")\n",
    "# print(f\"First line: {head[0]}\")\n",
    "# print(f\"Last line: {head[-1]}\")\n",
    "\n",
    "data = convert_str_li_to_other_li(\n",
    "    lines, pattern=\"s\", per_letter=True, sep=\" \", start_row=None, end_row=None\n",
    ")\n",
    "\n",
    "\n",
    "print(f\"First line: {data[0]}\")\n",
    "print(f\"Last line: {data[-1]}\")\n",
    "print(\"-\" * 6)"
   ]
  },
  {
   "cell_type": "code",
   "execution_count": 5,
   "id": "2f64ef76-ac97-4ab8-bb54-ade6eab7194f",
   "metadata": {},
   "outputs": [],
   "source": [
    "mat = np.array([[ord(l) for l in line] for line in data])\n",
    "\n",
    "start_p = np.array(np.where(mat == ord(\"S\"))).flatten()\n",
    "end_p = np.array(np.where(mat == ord(\"E\"))).flatten()\n",
    "\n",
    "mat[mat == ord(\"S\")] = ord(\"a\")\n",
    "mat[mat == ord(\"E\")] = ord(\"z\")"
   ]
  },
  {
   "cell_type": "code",
   "execution_count": 6,
   "id": "863d7986-4326-48bb-bea6-e2315685f702",
   "metadata": {},
   "outputs": [
    {
     "data": {
      "text/html": [
       "<pre style=\"white-space:pre;overflow-x:auto;line-height:normal;font-family:Menlo,'DejaVu Sans Mono',consolas,'Courier New',monospace\">Answer to Q1: <span style=\"color: #008080; text-decoration-color: #008080; font-weight: bold\">462</span>\n",
       "</pre>\n"
      ],
      "text/plain": [
       "Answer to Q1: \u001b[1;36m462\u001b[0m\n"
      ]
     },
     "metadata": {},
     "output_type": "display_data"
    },
    {
     "name": "stderr",
     "output_type": "stream",
     "text": [
      "100%|█████████████████████████████████████████████████████████████████████████████████████████████████████████████████████████████████████| 1724/1724 [00:16<00:00, 102.37it/s]\n"
     ]
    },
    {
     "data": {
      "text/html": [
       "<pre style=\"white-space:pre;overflow-x:auto;line-height:normal;font-family:Menlo,'DejaVu Sans Mono',consolas,'Courier New',monospace\">Answer to Q2: <span style=\"color: #008080; text-decoration-color: #008080; font-weight: bold\">451</span>\n",
       "</pre>\n"
      ],
      "text/plain": [
       "Answer to Q2: \u001b[1;36m451\u001b[0m\n"
      ]
     },
     "metadata": {},
     "output_type": "display_data"
    }
   ],
   "source": [
    "import networkx as nx\n",
    "from networkx.algorithms.shortest_paths.weighted import dijkstra_path_length\n",
    "\n",
    "G = nx.DiGraph()  # or Graph, MultiGraph, MultiDiGraph, etc\n",
    "mat = np.pad(np.array(mat), pad_width=1, constant_values=999999)\n",
    "for i in range(1, mat.shape[0] - 1):\n",
    "    for j in range(1, mat.shape[1] - 1):\n",
    "        edge_li = []\n",
    "        for target_node in [(i - 1, j), (i, j - 1), (i + 1, j), (i, j + 1)]:\n",
    "            edge_li.append(\n",
    "                (\n",
    "                    (i, j),\n",
    "                    target_node,\n",
    "                    999999\n",
    "                    if mat[target_node[0], target_node[1]] > mat[i, j] + 1\n",
    "                    else 1,\n",
    "                )\n",
    "            )\n",
    "        G.add_weighted_edges_from(edge_li)\n",
    "\n",
    "start_p += [1, 1]\n",
    "end_p += [1, 1]\n",
    "\n",
    "print(f\"Answer to Q1: {dijkstra_path_length(G, tuple(start_p), tuple(end_p))}\")\n",
    "\n",
    "count_step = []\n",
    "x, y = np.where(mat == ord(\"a\"))\n",
    "for idx in tqdm(range(len(x))):\n",
    "    count_step.append(dijkstra_path_length(G, tuple([x[idx], y[idx]]), tuple(end_p)))\n",
    "\n",
    "print(f\"Answer to Q2: {min(count_step)}\")"
   ]
  },
  {
   "cell_type": "code",
   "execution_count": null,
   "id": "3ac24563-88fd-4932-846a-7ca61dc33936",
   "metadata": {},
   "outputs": [],
   "source": []
  }
 ],
 "metadata": {
  "kernelspec": {
   "display_name": "Python [conda env:ds38]",
   "language": "python",
   "name": "conda-env-ds38-py"
  },
  "language_info": {
   "codemirror_mode": {
    "name": "ipython",
    "version": 3
   },
   "file_extension": ".py",
   "mimetype": "text/x-python",
   "name": "python",
   "nbconvert_exporter": "python",
   "pygments_lexer": "ipython3",
   "version": "3.8.13"
  }
 },
 "nbformat": 4,
 "nbformat_minor": 5
}
