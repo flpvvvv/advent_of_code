{
 "cells": [
  {
   "cell_type": "raw",
   "id": "frozen-violence",
   "metadata": {
    "jupyter": {
     "source_hidden": true
    },
    "tags": []
   },
   "source": [
    "--- Day 15: Beacon Exclusion Zone ---\n",
    "You feel the ground rumble again as the distress signal leads you to a large network of subterranean tunnels. You don't have time to search them all, but you don't need to: your pack contains a set of deployable sensors that you imagine were originally built to locate lost Elves.\n",
    "\n",
    "The sensors aren't very powerful, but that's okay; your handheld device indicates that you're close enough to the source of the distress signal to use them. You pull the emergency sensor system out of your pack, hit the big button on top, and the sensors zoom off down the tunnels.\n",
    "\n",
    "Once a sensor finds a spot it thinks will give it a good reading, it attaches itself to a hard surface and begins monitoring for the nearest signal source beacon. Sensors and beacons always exist at integer coordinates. Each sensor knows its own position and can determine the position of a beacon precisely; however, sensors can only lock on to the one beacon closest to the sensor as measured by the Manhattan distance. (There is never a tie where two beacons are the same distance to a sensor.)\n",
    "\n",
    "It doesn't take long for the sensors to report back their positions and closest beacons (your puzzle input). For example:\n",
    "\n",
    "Sensor at x=2, y=18: closest beacon is at x=-2, y=15\n",
    "Sensor at x=9, y=16: closest beacon is at x=10, y=16\n",
    "Sensor at x=13, y=2: closest beacon is at x=15, y=3\n",
    "Sensor at x=12, y=14: closest beacon is at x=10, y=16\n",
    "Sensor at x=10, y=20: closest beacon is at x=10, y=16\n",
    "Sensor at x=14, y=17: closest beacon is at x=10, y=16\n",
    "Sensor at x=8, y=7: closest beacon is at x=2, y=10\n",
    "Sensor at x=2, y=0: closest beacon is at x=2, y=10\n",
    "Sensor at x=0, y=11: closest beacon is at x=2, y=10\n",
    "Sensor at x=20, y=14: closest beacon is at x=25, y=17\n",
    "Sensor at x=17, y=20: closest beacon is at x=21, y=22\n",
    "Sensor at x=16, y=7: closest beacon is at x=15, y=3\n",
    "Sensor at x=14, y=3: closest beacon is at x=15, y=3\n",
    "Sensor at x=20, y=1: closest beacon is at x=15, y=3\n",
    "So, consider the sensor at 2,18; the closest beacon to it is at -2,15. For the sensor at 9,16, the closest beacon to it is at 10,16.\n",
    "\n",
    "Drawing sensors as S and beacons as B, the above arrangement of sensors and beacons looks like this:\n",
    "\n",
    "               1    1    2    2\n",
    "     0    5    0    5    0    5\n",
    " 0 ....S.......................\n",
    " 1 ......................S.....\n",
    " 2 ...............S............\n",
    " 3 ................SB..........\n",
    " 4 ............................\n",
    " 5 ............................\n",
    " 6 ............................\n",
    " 7 ..........S.......S.........\n",
    " 8 ............................\n",
    " 9 ............................\n",
    "10 ....B.......................\n",
    "11 ..S.........................\n",
    "12 ............................\n",
    "13 ............................\n",
    "14 ..............S.......S.....\n",
    "15 B...........................\n",
    "16 ...........SB...............\n",
    "17 ................S..........B\n",
    "18 ....S.......................\n",
    "19 ............................\n",
    "20 ............S......S........\n",
    "21 ............................\n",
    "22 .......................B....\n",
    "This isn't necessarily a comprehensive map of all beacons in the area, though. Because each sensor only identifies its closest beacon, if a sensor detects a beacon, you know there are no other beacons that close or closer to that sensor. There could still be beacons that just happen to not be the closest beacon to any sensor. Consider the sensor at 8,7:\n",
    "\n",
    "               1    1    2    2\n",
    "     0    5    0    5    0    5\n",
    "-2 ..........#.................\n",
    "-1 .........###................\n",
    " 0 ....S...#####...............\n",
    " 1 .......#######........S.....\n",
    " 2 ......#########S............\n",
    " 3 .....###########SB..........\n",
    " 4 ....#############...........\n",
    " 5 ...###############..........\n",
    " 6 ..#################.........\n",
    " 7 .#########S#######S#........\n",
    " 8 ..#################.........\n",
    " 9 ...###############..........\n",
    "10 ....B############...........\n",
    "11 ..S..###########............\n",
    "12 ......#########.............\n",
    "13 .......#######..............\n",
    "14 ........#####.S.......S.....\n",
    "15 B........###................\n",
    "16 ..........#SB...............\n",
    "17 ................S..........B\n",
    "18 ....S.......................\n",
    "19 ............................\n",
    "20 ............S......S........\n",
    "21 ............................\n",
    "22 .......................B....\n",
    "This sensor's closest beacon is at 2,10, and so you know there are no beacons that close or closer (in any positions marked #).\n",
    "\n",
    "None of the detected beacons seem to be producing the distress signal, so you'll need to work out where the distress beacon is by working out where it isn't. For now, keep things simple by counting the positions where a beacon cannot possibly be along just a single row.\n",
    "\n",
    "So, suppose you have an arrangement of beacons and sensors like in the example above and, just in the row where y=10, you'd like to count the number of positions a beacon cannot possibly exist. The coverage from all sensors near that row looks like this:\n",
    "\n",
    "                 1    1    2    2\n",
    "       0    5    0    5    0    5\n",
    " 9 ...#########################...\n",
    "10 ..####B######################..\n",
    "11 .###S#############.###########.\n",
    "In this example, in the row where y=10, there are 26 positions where a beacon cannot be present.\n",
    "\n",
    "Consult the report from the sensors you just deployed. In the row where y=2000000, how many positions cannot contain a beacon?\n",
    "\n",
    "Your puzzle answer was 5878678.\n",
    "\n",
    "--- Part Two ---\n",
    "Your handheld device indicates that the distress signal is coming from a beacon nearby. The distress beacon is not detected by any sensor, but the distress beacon must have x and y coordinates each no lower than 0 and no larger than 4000000.\n",
    "\n",
    "To isolate the distress beacon's signal, you need to determine its tuning frequency, which can be found by multiplying its x coordinate by 4000000 and then adding its y coordinate.\n",
    "\n",
    "In the example above, the search space is smaller: instead, the x and y coordinates can each be at most 20. With this reduced search area, there is only a single position that could have a beacon: x=14, y=11. The tuning frequency for this distress beacon is 56000011.\n",
    "\n",
    "Find the only possible position for the distress beacon. What is its tuning frequency?\n",
    "\n",
    "Your puzzle answer was 11796491041245."
   ]
  },
  {
   "cell_type": "code",
   "execution_count": 1,
   "id": "single-species",
   "metadata": {},
   "outputs": [],
   "source": [
    "import warnings\n",
    "\n",
    "warnings.filterwarnings(\"ignore\")\n",
    "\n",
    "import itertools\n",
    "import json\n",
    "import math\n",
    "import os\n",
    "import re\n",
    "import sys\n",
    "from collections import Counter\n",
    "from copy import deepcopy\n",
    "from functools import reduce\n",
    "from pathlib import Path\n",
    "\n",
    "import matplotlib.pyplot as plt\n",
    "import networkx as nx\n",
    "import numpy as np\n",
    "import pandas as pd\n",
    "import seaborn as sns\n",
    "from networkx.algorithms.shortest_paths.weighted import dijkstra_path_length\n",
    "from rich import print\n",
    "from tqdm import tqdm"
   ]
  },
  {
   "cell_type": "code",
   "execution_count": 2,
   "id": "immediate-kelly",
   "metadata": {},
   "outputs": [],
   "source": [
    "def plot_mtx(mtx):\n",
    "    fig, ax = plt.subplots(figsize=(10, 10))\n",
    "    ax.matshow(mtx, cmap=plt.cm.Blues)\n",
    "    for i in range(mtx.shape[0]):\n",
    "        for j in range(mtx.shape[1]):\n",
    "            c = mtx[i, j]\n",
    "    plt.plot()"
   ]
  },
  {
   "cell_type": "code",
   "execution_count": 3,
   "id": "plastic-medium",
   "metadata": {},
   "outputs": [],
   "source": [
    "def read_file_to_str_li(fp, print_exp=True):\n",
    "    with open(fp, \"r\") as f:\n",
    "        lines = f.read().split(\"\\n\")\n",
    "    if print_exp:\n",
    "        print(f\"Read from {fp}:\")\n",
    "        print(f\"First line: {lines[0]} | Last line: {lines[-1]}\")\n",
    "        print(\"-\" * 6)\n",
    "\n",
    "    return lines\n",
    "\n",
    "\n",
    "# define the function blocks\n",
    "def convert_to_int(input_str):\n",
    "    if input_str == \"\" or input_str == \" \":\n",
    "        return None\n",
    "    return int(input_str)\n",
    "\n",
    "\n",
    "def convert_to_str(input_str):\n",
    "    return str(input_str)\n",
    "\n",
    "\n",
    "# map the inputs to the function blocks\n",
    "converts = {\n",
    "    \"i\": convert_to_int,\n",
    "    \"s\": convert_to_str,\n",
    "}\n",
    "\n",
    "\n",
    "def convert_str_li_to_other_li(\n",
    "    str_li, pattern=\"i\", per_letter=False, sep=\" \", start_row=0, end_row=None\n",
    "):\n",
    "    \"\"\"Convert a list of string to a list of other types\n",
    "\n",
    "    pattern: a list of types for one item.\n",
    "        'i' for int, 's' for string\n",
    "        'si' means: convert the 1st item to string, the rest to integer\n",
    "        If separated items are more than pattern items,\n",
    "        use the last one from the parttern.\n",
    "    if per_letter=True, ignore sep and separate item per letter\n",
    "    \"\"\"\n",
    "    target_str_li = str_li[start_row:end_row]\n",
    "    # find max item num\n",
    "    max_item_num = 1\n",
    "    if per_letter:\n",
    "        max_item_num = max([len(s) for s in target_str_li])\n",
    "    else:\n",
    "        max_item_num = max([len(s.split(sep)) for s in target_str_li])\n",
    "\n",
    "    # extend the pattern to the max itme num\n",
    "    pattern = (\n",
    "        pattern + f\"{pattern[-1]}\" * (max_item_num - len(pattern))\n",
    "        if max_item_num > len(pattern)\n",
    "        else pattern\n",
    "    )\n",
    "\n",
    "    # convert\n",
    "    if per_letter:\n",
    "        return [\n",
    "            [converts[pattern[idx]](item) for idx, item in enumerate(s)]\n",
    "            for s in target_str_li\n",
    "        ]\n",
    "    else:\n",
    "        if sep == \" \":\n",
    "            return [\n",
    "                [converts[pattern[idx]](item) for idx, item in enumerate(s.split())]\n",
    "                for s in target_str_li\n",
    "            ]\n",
    "        else:\n",
    "            return [\n",
    "                [converts[pattern[idx]](item) for idx, item in enumerate(s.split(sep))]\n",
    "                for s in target_str_li\n",
    "            ]"
   ]
  },
  {
   "cell_type": "code",
   "execution_count": 4,
   "id": "pretty-organizer",
   "metadata": {},
   "outputs": [
    {
     "data": {
      "text/html": [
       "<pre style=\"white-space:pre;overflow-x:auto;line-height:normal;font-family:Menlo,'DejaVu Sans Mono',consolas,'Courier New',monospace\">Read from input.txt:\n",
       "</pre>\n"
      ],
      "text/plain": [
       "Read from input.txt:\n"
      ]
     },
     "metadata": {},
     "output_type": "display_data"
    },
    {
     "data": {
      "text/html": [
       "<pre style=\"white-space:pre;overflow-x:auto;line-height:normal;font-family:Menlo,'DejaVu Sans Mono',consolas,'Courier New',monospace\">First line: Valve NV has flow <span style=\"color: #808000; text-decoration-color: #808000\">rate</span>=<span style=\"color: #008080; text-decoration-color: #008080; font-weight: bold\">5</span>; tunnels lead to valves ZV, CG, YB, HX, OY | Last line: \n",
       "Valve QV has flow <span style=\"color: #808000; text-decoration-color: #808000\">rate</span>=<span style=\"color: #008080; text-decoration-color: #008080; font-weight: bold\">0</span>; tunnels lead to valves JM, KZ\n",
       "</pre>\n"
      ],
      "text/plain": [
       "First line: Valve NV has flow \u001b[33mrate\u001b[0m=\u001b[1;36m5\u001b[0m; tunnels lead to valves ZV, CG, YB, HX, OY | Last line: \n",
       "Valve QV has flow \u001b[33mrate\u001b[0m=\u001b[1;36m0\u001b[0m; tunnels lead to valves JM, KZ\n"
      ]
     },
     "metadata": {},
     "output_type": "display_data"
    },
    {
     "data": {
      "text/html": [
       "<pre style=\"white-space:pre;overflow-x:auto;line-height:normal;font-family:Menlo,'DejaVu Sans Mono',consolas,'Courier New',monospace\">------\n",
       "</pre>\n"
      ],
      "text/plain": [
       "------\n"
      ]
     },
     "metadata": {},
     "output_type": "display_data"
    },
    {
     "data": {
      "text/html": [
       "<pre style=\"white-space:pre;overflow-x:auto;line-height:normal;font-family:Menlo,'DejaVu Sans Mono',consolas,'Courier New',monospace\">Convert to:\n",
       "</pre>\n"
      ],
      "text/plain": [
       "Convert to:\n"
      ]
     },
     "metadata": {},
     "output_type": "display_data"
    },
    {
     "data": {
      "text/html": [
       "<pre style=\"white-space:pre;overflow-x:auto;line-height:normal;font-family:Menlo,'DejaVu Sans Mono',consolas,'Courier New',monospace\">First line: <span style=\"font-weight: bold\">[</span><span style=\"color: #008000; text-decoration-color: #008000\">'Valve'</span>, <span style=\"color: #008000; text-decoration-color: #008000\">'NV'</span>, <span style=\"color: #008000; text-decoration-color: #008000\">'has'</span>, <span style=\"color: #008000; text-decoration-color: #008000\">'flow'</span>, <span style=\"color: #008000; text-decoration-color: #008000\">'rate=5;'</span>, <span style=\"color: #008000; text-decoration-color: #008000\">'tunnels'</span>, <span style=\"color: #008000; text-decoration-color: #008000\">'lead'</span>, <span style=\"color: #008000; text-decoration-color: #008000\">'to'</span>, <span style=\"color: #008000; text-decoration-color: #008000\">'valves'</span>, \n",
       "<span style=\"color: #008000; text-decoration-color: #008000\">'ZV,'</span>, <span style=\"color: #008000; text-decoration-color: #008000\">'CG,'</span>, <span style=\"color: #008000; text-decoration-color: #008000\">'YB,'</span>, <span style=\"color: #008000; text-decoration-color: #008000\">'HX,'</span>, <span style=\"color: #008000; text-decoration-color: #008000\">'OY'</span><span style=\"font-weight: bold\">]</span>\n",
       "</pre>\n"
      ],
      "text/plain": [
       "First line: \u001b[1m[\u001b[0m\u001b[32m'Valve'\u001b[0m, \u001b[32m'NV'\u001b[0m, \u001b[32m'has'\u001b[0m, \u001b[32m'flow'\u001b[0m, \u001b[32m'\u001b[0m\u001b[32mrate\u001b[0m\u001b[32m=\u001b[0m\u001b[32m5\u001b[0m\u001b[32m;'\u001b[0m, \u001b[32m'tunnels'\u001b[0m, \u001b[32m'lead'\u001b[0m, \u001b[32m'to'\u001b[0m, \u001b[32m'valves'\u001b[0m, \n",
       "\u001b[32m'ZV,'\u001b[0m, \u001b[32m'CG,'\u001b[0m, \u001b[32m'YB,'\u001b[0m, \u001b[32m'HX,'\u001b[0m, \u001b[32m'OY'\u001b[0m\u001b[1m]\u001b[0m\n"
      ]
     },
     "metadata": {},
     "output_type": "display_data"
    },
    {
     "data": {
      "text/html": [
       "<pre style=\"white-space:pre;overflow-x:auto;line-height:normal;font-family:Menlo,'DejaVu Sans Mono',consolas,'Courier New',monospace\">Last line: <span style=\"font-weight: bold\">[</span><span style=\"color: #008000; text-decoration-color: #008000\">'Valve'</span>, <span style=\"color: #008000; text-decoration-color: #008000\">'QV'</span>, <span style=\"color: #008000; text-decoration-color: #008000\">'has'</span>, <span style=\"color: #008000; text-decoration-color: #008000\">'flow'</span>, <span style=\"color: #008000; text-decoration-color: #008000\">'rate=0;'</span>, <span style=\"color: #008000; text-decoration-color: #008000\">'tunnels'</span>, <span style=\"color: #008000; text-decoration-color: #008000\">'lead'</span>, <span style=\"color: #008000; text-decoration-color: #008000\">'to'</span>, <span style=\"color: #008000; text-decoration-color: #008000\">'valves'</span>, \n",
       "<span style=\"color: #008000; text-decoration-color: #008000\">'JM,'</span>, <span style=\"color: #008000; text-decoration-color: #008000\">'KZ'</span><span style=\"font-weight: bold\">]</span>\n",
       "</pre>\n"
      ],
      "text/plain": [
       "Last line: \u001b[1m[\u001b[0m\u001b[32m'Valve'\u001b[0m, \u001b[32m'QV'\u001b[0m, \u001b[32m'has'\u001b[0m, \u001b[32m'flow'\u001b[0m, \u001b[32m'\u001b[0m\u001b[32mrate\u001b[0m\u001b[32m=\u001b[0m\u001b[32m0\u001b[0m\u001b[32m;'\u001b[0m, \u001b[32m'tunnels'\u001b[0m, \u001b[32m'lead'\u001b[0m, \u001b[32m'to'\u001b[0m, \u001b[32m'valves'\u001b[0m, \n",
       "\u001b[32m'JM,'\u001b[0m, \u001b[32m'KZ'\u001b[0m\u001b[1m]\u001b[0m\n"
      ]
     },
     "metadata": {},
     "output_type": "display_data"
    },
    {
     "data": {
      "text/html": [
       "<pre style=\"white-space:pre;overflow-x:auto;line-height:normal;font-family:Menlo,'DejaVu Sans Mono',consolas,'Courier New',monospace\">------\n",
       "</pre>\n"
      ],
      "text/plain": [
       "------\n"
      ]
     },
     "metadata": {},
     "output_type": "display_data"
    }
   ],
   "source": [
    "fp = \"input.txt\"\n",
    "lines = read_file_to_str_li(fp)\n",
    "\n",
    "print(\"Convert to:\")\n",
    "\n",
    "# head = convert_str_li_to_other_li(\n",
    "#     lines, pattern=\"s\", per_letter=True, sep=\",\", start_row=0, end_row=1\n",
    "# )\n",
    "\n",
    "# print(f\"Head:\\n{head}\")\n",
    "# print(f\"First line: {head[0]}\")\n",
    "# print(f\"Last line: {head[-1]}\")\n",
    "\n",
    "data = convert_str_li_to_other_li(\n",
    "    lines, pattern=\"s\", per_letter=False, sep=\" \", start_row=None, end_row=None\n",
    ")\n",
    "\n",
    "\n",
    "print(f\"First line: {data[0]}\")\n",
    "print(f\"Last line: {data[-1]}\")\n",
    "print(\"-\" * 6)"
   ]
  },
  {
   "cell_type": "code",
   "execution_count": 5,
   "id": "mental-understanding",
   "metadata": {},
   "outputs": [
    {
     "data": {
      "text/html": [
       "<pre style=\"white-space:pre;overflow-x:auto;line-height:normal;font-family:Menlo,'DejaVu Sans Mono',consolas,'Courier New',monospace\"><span style=\"font-weight: bold\">{</span>\n",
       "    <span style=\"color: #008000; text-decoration-color: #008000\">'NV'</span>: <span style=\"color: #008080; text-decoration-color: #008080; font-weight: bold\">5</span>,\n",
       "    <span style=\"color: #008000; text-decoration-color: #008000\">'NU'</span>: <span style=\"color: #008080; text-decoration-color: #008080; font-weight: bold\">6</span>,\n",
       "    <span style=\"color: #008000; text-decoration-color: #008000\">'DG'</span>: <span style=\"color: #008080; text-decoration-color: #008080; font-weight: bold\">9</span>,\n",
       "    <span style=\"color: #008000; text-decoration-color: #008000\">'PH'</span>: <span style=\"color: #008080; text-decoration-color: #008080; font-weight: bold\">7</span>,\n",
       "    <span style=\"color: #008000; text-decoration-color: #008000\">'KZ'</span>: <span style=\"color: #008080; text-decoration-color: #008080; font-weight: bold\">12</span>,\n",
       "    <span style=\"color: #008000; text-decoration-color: #008000\">'EJ'</span>: <span style=\"color: #008080; text-decoration-color: #008080; font-weight: bold\">20</span>,\n",
       "    <span style=\"color: #008000; text-decoration-color: #008000\">'RG'</span>: <span style=\"color: #008080; text-decoration-color: #008080; font-weight: bold\">4</span>,\n",
       "    <span style=\"color: #008000; text-decoration-color: #008000\">'DO'</span>: <span style=\"color: #008080; text-decoration-color: #008080; font-weight: bold\">14</span>,\n",
       "    <span style=\"color: #008000; text-decoration-color: #008000\">'FX'</span>: <span style=\"color: #008080; text-decoration-color: #008080; font-weight: bold\">23</span>,\n",
       "    <span style=\"color: #008000; text-decoration-color: #008000\">'YA'</span>: <span style=\"color: #008080; text-decoration-color: #008080; font-weight: bold\">17</span>,\n",
       "    <span style=\"color: #008000; text-decoration-color: #008000\">'NO'</span>: <span style=\"color: #008080; text-decoration-color: #008080; font-weight: bold\">8</span>,\n",
       "    <span style=\"color: #008000; text-decoration-color: #008000\">'XK'</span>: <span style=\"color: #008080; text-decoration-color: #008080; font-weight: bold\">24</span>,\n",
       "    <span style=\"color: #008000; text-decoration-color: #008000\">'PS'</span>: <span style=\"color: #008080; text-decoration-color: #008080; font-weight: bold\">18</span>,\n",
       "    <span style=\"color: #008000; text-decoration-color: #008000\">'JM'</span>: <span style=\"color: #008080; text-decoration-color: #008080; font-weight: bold\">19</span>,\n",
       "    <span style=\"color: #008000; text-decoration-color: #008000\">'UX'</span>: <span style=\"color: #008080; text-decoration-color: #008080; font-weight: bold\">13</span>\n",
       "<span style=\"font-weight: bold\">}</span>\n",
       "</pre>\n"
      ],
      "text/plain": [
       "\u001b[1m{\u001b[0m\n",
       "    \u001b[32m'NV'\u001b[0m: \u001b[1;36m5\u001b[0m,\n",
       "    \u001b[32m'NU'\u001b[0m: \u001b[1;36m6\u001b[0m,\n",
       "    \u001b[32m'DG'\u001b[0m: \u001b[1;36m9\u001b[0m,\n",
       "    \u001b[32m'PH'\u001b[0m: \u001b[1;36m7\u001b[0m,\n",
       "    \u001b[32m'KZ'\u001b[0m: \u001b[1;36m12\u001b[0m,\n",
       "    \u001b[32m'EJ'\u001b[0m: \u001b[1;36m20\u001b[0m,\n",
       "    \u001b[32m'RG'\u001b[0m: \u001b[1;36m4\u001b[0m,\n",
       "    \u001b[32m'DO'\u001b[0m: \u001b[1;36m14\u001b[0m,\n",
       "    \u001b[32m'FX'\u001b[0m: \u001b[1;36m23\u001b[0m,\n",
       "    \u001b[32m'YA'\u001b[0m: \u001b[1;36m17\u001b[0m,\n",
       "    \u001b[32m'NO'\u001b[0m: \u001b[1;36m8\u001b[0m,\n",
       "    \u001b[32m'XK'\u001b[0m: \u001b[1;36m24\u001b[0m,\n",
       "    \u001b[32m'PS'\u001b[0m: \u001b[1;36m18\u001b[0m,\n",
       "    \u001b[32m'JM'\u001b[0m: \u001b[1;36m19\u001b[0m,\n",
       "    \u001b[32m'UX'\u001b[0m: \u001b[1;36m13\u001b[0m\n",
       "\u001b[1m}\u001b[0m\n"
      ]
     },
     "metadata": {},
     "output_type": "display_data"
    },
    {
     "data": {
      "image/png": "[encoded data removed]",
      "text/plain": [
       "<Figure size 432x288 with 1 Axes>"
      ]
     },
     "metadata": {},
     "output_type": "display_data"
    }
   ],
   "source": [
    "G = nx.Graph()  # or Graph, MultiGraph, MultiDiGraph, etc\n",
    "v_rate = dict()\n",
    "zero_v = []\n",
    "for line in data:\n",
    "    s_valve = line[1]\n",
    "    rate = int(line[4].split(\"=\")[1][:-1])\n",
    "    if rate > 0:\n",
    "        v_rate[s_valve] = rate\n",
    "    else:\n",
    "        zero_v.append(s_valve)\n",
    "    for idx in range(9, len(line)):\n",
    "        d_valve = line[idx].split(\",\")[0]\n",
    "        G.add_edge(s_valve, d_valve)\n",
    "\n",
    "print(v_rate)\n",
    "nx.draw(G, with_labels=True)\n",
    "plt.show()"
   ]
  },
  {
   "cell_type": "code",
   "execution_count": 6,
   "id": "random-midwest",
   "metadata": {},
   "outputs": [],
   "source": [
    "dist_dict = {}\n",
    "for node1 in G.nodes():\n",
    "    for node2 in G.nodes():\n",
    "        if node1 != node2:\n",
    "            dist_dict[(node1, node2)] = dijkstra_path_length(G, node1, node2)"
   ]
  },
  {
   "cell_type": "code",
   "execution_count": 7,
   "id": "international-roots",
   "metadata": {},
   "outputs": [],
   "source": [
    "class State:\n",
    "    def __init__(self, init_time, closed_valve, start_pos=\"AA\", cum_layout=0):\n",
    "        self.remain_time = init_time\n",
    "        self.cum_layout = cum_layout\n",
    "        self.pos = start_pos\n",
    "        self.closed_valve = closed_valve\n",
    "        self.closed_valve_rate = []\n",
    "        self.distance_to_next_closed_valve = []\n",
    "\n",
    "    def update_state(self):\n",
    "        self.closed_valve_rate = [v_rate[v] for v in self.closed_valve]\n",
    "        self.distance_to_next_closed_valve = [\n",
    "            dist_dict[(self.pos, v)] for v in self.closed_valve\n",
    "        ]\n",
    "\n",
    "    def check_end(self, current_max_layout):\n",
    "        if len(self.closed_valve) == 0:  # all opened\n",
    "            return True\n",
    "\n",
    "        still_r_time = self.remain_time - min(self.distance_to_next_closed_valve) - 1\n",
    "        c_v_rate_li = self.closed_valve_rate.copy()\n",
    "        c_v_rate_li.sort(reverse=True)\n",
    "        added_layout = 0\n",
    "        for c_v_rate in c_v_rate_li:\n",
    "            added_layout += still_r_time * c_v_rate\n",
    "            still_r_time -= 2\n",
    "            if still_r_time <= 0:\n",
    "                break\n",
    "\n",
    "        if current_max_layout > (self.cum_layout + added_layout):\n",
    "            return True\n",
    "        return False\n",
    "\n",
    "    def open_next_valve(self, next_node, current_max_layout):\n",
    "        self.remain_time = self.remain_time - dist_dict[(self.pos, next_node)] - 1\n",
    "        self.pos = next_node\n",
    "        self.cum_layout += self.remain_time * v_rate[next_node]\n",
    "        if self.cum_layout > current_max_layout:\n",
    "            current_max_layout = self.cum_layout\n",
    "        self.closed_valve.remove(next_node)\n",
    "        self.update_state()\n",
    "        return current_max_layout"
   ]
  },
  {
   "cell_type": "code",
   "execution_count": 8,
   "id": "wrong-anderson",
   "metadata": {},
   "outputs": [],
   "source": [
    "def go_further(state, current_max_layout):\n",
    "    next_node_list = state.closed_valve\n",
    "    for next_node in next_node_list:\n",
    "        next_state = deepcopy(state)\n",
    "        current_max_layout = next_state.open_next_valve(next_node, current_max_layout)\n",
    "        if not next_state.check_end(current_max_layout):\n",
    "            current_max_layout = go_further(next_state, current_max_layout)\n",
    "    return current_max_layout\n",
    "\n",
    "\n",
    "def get_max_layout(init_time, closed_valve):\n",
    "    current_max_layout = 0\n",
    "    init_state = State(init_time=init_time, closed_valve=closed_valve)\n",
    "    init_state.update_state()\n",
    "    current_max_layout = go_further(init_state, current_max_layout)\n",
    "    return current_max_layout"
   ]
  },
  {
   "cell_type": "code",
   "execution_count": 9,
   "id": "compressed-fashion",
   "metadata": {},
   "outputs": [
    {
     "data": {
      "text/html": [
       "<pre style=\"white-space:pre;overflow-x:auto;line-height:normal;font-family:Menlo,'DejaVu Sans Mono',consolas,'Courier New',monospace\">Answer to Q1: <span style=\"color: #008080; text-decoration-color: #008080; font-weight: bold\">1923</span>\n",
       "</pre>\n"
      ],
      "text/plain": [
       "Answer to Q1: \u001b[1;36m1923\u001b[0m\n"
      ]
     },
     "metadata": {},
     "output_type": "display_data"
    },
    {
     "name": "stdout",
     "output_type": "stream",
     "text": [
      "Wall time: 634 ms\n"
     ]
    }
   ],
   "source": [
    "%%time\n",
    "init_time = 30\n",
    "print(f\"Answer to Q1: {get_max_layout(init_time, list(v_rate.keys()))}\")"
   ]
  },
  {
   "cell_type": "code",
   "execution_count": 10,
   "id": "characteristic-corpus",
   "metadata": {},
   "outputs": [
    {
     "name": "stderr",
     "output_type": "stream",
     "text": [
      "100%|███████████████████████████████████████████████████████| 16383/16383 [04:36<00:00, 59.20it/s]\n"
     ]
    },
    {
     "data": {
      "text/html": [
       "<pre style=\"white-space:pre;overflow-x:auto;line-height:normal;font-family:Menlo,'DejaVu Sans Mono',consolas,'Courier New',monospace\">Answer to Q2: <span style=\"color: #008080; text-decoration-color: #008080; font-weight: bold\">2594</span>\n",
       "</pre>\n"
      ],
      "text/plain": [
       "Answer to Q2: \u001b[1;36m2594\u001b[0m\n"
      ]
     },
     "metadata": {},
     "output_type": "display_data"
    },
    {
     "name": "stdout",
     "output_type": "stream",
     "text": [
      "Wall time: 4min 37s\n"
     ]
    }
   ],
   "source": [
    "%%time\n",
    "from joblib import Parallel, delayed\n",
    "\n",
    "target_li = []\n",
    "for num_target in range(1, len(v_rate) // 2 + 1):\n",
    "    for target_1 in itertools.combinations(list(v_rate.keys()), num_target):\n",
    "        target_2 = list(set(v_rate.keys()) - set(target_1))\n",
    "        target_li.append((list(target_1), target_2))\n",
    "\n",
    "\n",
    "def get_sum_max_layout(target_1, target_2, init_time):\n",
    "    return get_max_layout(init_time, target_1) + get_max_layout(init_time, target_2)\n",
    "\n",
    "\n",
    "init_time = 26\n",
    "result = Parallel(n_jobs=-1)(\n",
    "    delayed(get_sum_max_layout)(target_1, target_2, init_time)\n",
    "    for (target_1, target_2) in tqdm(target_li)\n",
    ")\n",
    "print(f\"Answer to Q2: {max(result)}\")"
   ]
  },
  {
   "cell_type": "code",
   "execution_count": null,
   "id": "honey-absence",
   "metadata": {},
   "outputs": [],
   "source": []
  }
 ],
 "metadata": {
  "kernelspec": {
   "display_name": "Python [conda env:.conda-ds38]",
   "language": "python",
   "name": "conda-env-.conda-ds38-py"
  },
  "language_info": {
   "codemirror_mode": {
    "name": "ipython",
    "version": 3
   },
   "file_extension": ".py",
   "mimetype": "text/x-python",
   "name": "python",
   "nbconvert_exporter": "python",
   "pygments_lexer": "ipython3",
   "version": "3.8.10"
  }
 },
 "nbformat": 4,
 "nbformat_minor": 5
}
