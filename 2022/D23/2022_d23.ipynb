{
 "cells": [
  {
   "cell_type": "raw",
   "id": "raised-stuff",
   "metadata": {
    "jupyter": {
     "source_hidden": true
    },
    "tags": []
   },
   "source": [
    "--- Day 23: Unstable Diffusion ---\n",
    "You enter a large crater of gray dirt where the grove is supposed to be. All around you, plants you imagine were expected to be full of fruit are instead withered and broken. A large group of Elves has formed in the middle of the grove.\n",
    "\n",
    "\"...but this volcano has been dormant for months. Without ash, the fruit can't grow!\"\n",
    "\n",
    "You look up to see a massive, snow-capped mountain towering above you.\n",
    "\n",
    "\"It's not like there are other active volcanoes here; we've looked everywhere.\"\n",
    "\n",
    "\"But our scanners show active magma flows; clearly it's going somewhere.\"\n",
    "\n",
    "They finally notice you at the edge of the grove, your pack almost overflowing from the random star fruit you've been collecting. Behind you, elephants and monkeys explore the grove, looking concerned. Then, the Elves recognize the ash cloud slowly spreading above your recent detour.\n",
    "\n",
    "\"Why do you--\" \"How is--\" \"Did you just--\"\n",
    "\n",
    "Before any of them can form a complete question, another Elf speaks up: \"Okay, new plan. We have almost enough fruit already, and ash from the plume should spread here eventually. If we quickly plant new seedlings now, we can still make it to the extraction point. Spread out!\"\n",
    "\n",
    "The Elves each reach into their pack and pull out a tiny plant. The plants rely on important nutrients from the ash, so they can't be planted too close together.\n",
    "\n",
    "There isn't enough time to let the Elves figure out where to plant the seedlings themselves; you quickly scan the grove (your puzzle input) and note their positions.\n",
    "\n",
    "For example:\n",
    "\n",
    "....#..\n",
    "..###.#\n",
    "#...#.#\n",
    ".#...##\n",
    "#.###..\n",
    "##.#.##\n",
    ".#..#..\n",
    "The scan shows Elves # and empty ground .; outside your scan, more empty ground extends a long way in every direction. The scan is oriented so that north is up; orthogonal directions are written N (north), S (south), W (west), and E (east), while diagonal directions are written NE, NW, SE, SW.\n",
    "\n",
    "The Elves follow a time-consuming process to figure out where they should each go; you can speed up this process considerably. The process consists of some number of rounds during which Elves alternate between considering where to move and actually moving.\n",
    "\n",
    "During the first half of each round, each Elf considers the eight positions adjacent to themself. If no other Elves are in one of those eight positions, the Elf does not do anything during this round. Otherwise, the Elf looks in each of four directions in the following order and proposes moving one step in the first valid direction:\n",
    "\n",
    "If there is no Elf in the N, NE, or NW adjacent positions, the Elf proposes moving north one step.\n",
    "If there is no Elf in the S, SE, or SW adjacent positions, the Elf proposes moving south one step.\n",
    "If there is no Elf in the W, NW, or SW adjacent positions, the Elf proposes moving west one step.\n",
    "If there is no Elf in the E, NE, or SE adjacent positions, the Elf proposes moving east one step.\n",
    "After each Elf has had a chance to propose a move, the second half of the round can begin. Simultaneously, each Elf moves to their proposed destination tile if they were the only Elf to propose moving to that position. If two or more Elves propose moving to the same position, none of those Elves move.\n",
    "\n",
    "Finally, at the end of the round, the first direction the Elves considered is moved to the end of the list of directions. For example, during the second round, the Elves would try proposing a move to the south first, then west, then east, then north. On the third round, the Elves would first consider west, then east, then north, then south.\n",
    "\n",
    "As a smaller example, consider just these five Elves:\n",
    "\n",
    ".....\n",
    "..##.\n",
    "..#..\n",
    ".....\n",
    "..##.\n",
    ".....\n",
    "The northernmost two Elves and southernmost two Elves all propose moving north, while the middle Elf cannot move north and proposes moving south. The middle Elf proposes the same destination as the southwest Elf, so neither of them move, but the other three do:\n",
    "\n",
    "..##.\n",
    ".....\n",
    "..#..\n",
    "...#.\n",
    "..#..\n",
    ".....\n",
    "Next, the northernmost two Elves and the southernmost Elf all propose moving south. Of the remaining middle two Elves, the west one cannot move south and proposes moving west, while the east one cannot move south or west and proposes moving east. All five Elves succeed in moving to their proposed positions:\n",
    "\n",
    ".....\n",
    "..##.\n",
    ".#...\n",
    "....#\n",
    ".....\n",
    "..#..\n",
    "Finally, the southernmost two Elves choose not to move at all. Of the remaining three Elves, the west one proposes moving west, the east one proposes moving east, and the middle one proposes moving north; all three succeed in moving:\n",
    "\n",
    "..#..\n",
    "....#\n",
    "#....\n",
    "....#\n",
    ".....\n",
    "..#..\n",
    "At this point, no Elves need to move, and so the process ends.\n",
    "\n",
    "The larger example above proceeds as follows:\n",
    "\n",
    "== Initial State ==\n",
    "..............\n",
    "..............\n",
    ".......#......\n",
    ".....###.#....\n",
    "...#...#.#....\n",
    "....#...##....\n",
    "...#.###......\n",
    "...##.#.##....\n",
    "....#..#......\n",
    "..............\n",
    "..............\n",
    "..............\n",
    "\n",
    "== End of Round 1 ==\n",
    "..............\n",
    ".......#......\n",
    ".....#...#....\n",
    "...#..#.#.....\n",
    ".......#..#...\n",
    "....#.#.##....\n",
    "..#..#.#......\n",
    "..#.#.#.##....\n",
    "..............\n",
    "....#..#......\n",
    "..............\n",
    "..............\n",
    "\n",
    "== End of Round 2 ==\n",
    "..............\n",
    ".......#......\n",
    "....#.....#...\n",
    "...#..#.#.....\n",
    ".......#...#..\n",
    "...#..#.#.....\n",
    ".#...#.#.#....\n",
    "..............\n",
    "..#.#.#.##....\n",
    "....#..#......\n",
    "..............\n",
    "..............\n",
    "\n",
    "== End of Round 3 ==\n",
    "..............\n",
    ".......#......\n",
    ".....#....#...\n",
    "..#..#...#....\n",
    ".......#...#..\n",
    "...#..#.#.....\n",
    ".#..#.....#...\n",
    ".......##.....\n",
    "..##.#....#...\n",
    "...#..........\n",
    ".......#......\n",
    "..............\n",
    "\n",
    "== End of Round 4 ==\n",
    "..............\n",
    ".......#......\n",
    "......#....#..\n",
    "..#...##......\n",
    "...#.....#.#..\n",
    ".........#....\n",
    ".#...###..#...\n",
    "..#......#....\n",
    "....##....#...\n",
    "....#.........\n",
    ".......#......\n",
    "..............\n",
    "\n",
    "== End of Round 5 ==\n",
    ".......#......\n",
    "..............\n",
    "..#..#.....#..\n",
    ".........#....\n",
    "......##...#..\n",
    ".#.#.####.....\n",
    "...........#..\n",
    "....##..#.....\n",
    "..#...........\n",
    "..........#...\n",
    "....#..#......\n",
    "..............\n",
    "After a few more rounds...\n",
    "\n",
    "== End of Round 10 ==\n",
    ".......#......\n",
    "...........#..\n",
    "..#.#..#......\n",
    "......#.......\n",
    "...#.....#..#.\n",
    ".#......##....\n",
    ".....##.......\n",
    "..#........#..\n",
    "....#.#..#....\n",
    "..............\n",
    "....#..#..#...\n",
    "..............\n",
    "To make sure they're on the right track, the Elves like to check after round 10 that they're making good progress toward covering enough ground. To do this, count the number of empty ground tiles contained by the smallest rectangle that contains every Elf. (The edges of the rectangle should be aligned to the N/S/E/W directions; the Elves do not have the patience to calculate arbitrary rectangles.) In the above example, that rectangle is:\n",
    "\n",
    "......#.....\n",
    "..........#.\n",
    ".#.#..#.....\n",
    ".....#......\n",
    "..#.....#..#\n",
    "#......##...\n",
    "....##......\n",
    ".#........#.\n",
    "...#.#..#...\n",
    "............\n",
    "...#..#..#..\n",
    "In this region, the number of empty ground tiles is 110.\n",
    "\n",
    "Simulate the Elves' process and find the smallest rectangle that contains the Elves after 10 rounds. How many empty ground tiles does that rectangle contain?\n",
    "\n",
    "Your puzzle answer was 4045.\n",
    "\n",
    "--- Part Two ---\n",
    "It seems you're on the right track. Finish simulating the process and figure out where the Elves need to go. How many rounds did you save them?\n",
    "\n",
    "In the example above, the first round where no Elf moved was round 20:\n",
    "\n",
    ".......#......\n",
    "....#......#..\n",
    "..#.....#.....\n",
    "......#.......\n",
    "...#....#.#..#\n",
    "#.............\n",
    "....#.....#...\n",
    "..#.....#.....\n",
    "....#.#....#..\n",
    ".........#....\n",
    "....#......#..\n",
    ".......#......\n",
    "Figure out where the Elves need to go. What is the number of the first round where no Elf moves?\n",
    "\n",
    "Your puzzle answer was 963."
   ]
  },
  {
   "cell_type": "code",
   "execution_count": 1,
   "id": "controlled-algebra",
   "metadata": {},
   "outputs": [],
   "source": [
    "import warnings\n",
    "\n",
    "warnings.filterwarnings(\"ignore\")\n",
    "\n",
    "import ast\n",
    "import itertools\n",
    "import json\n",
    "import math\n",
    "import os\n",
    "import re\n",
    "import sys\n",
    "from collections import Counter, deque\n",
    "from copy import deepcopy\n",
    "from functools import reduce\n",
    "from pathlib import Path\n",
    "\n",
    "import matplotlib.pyplot as plt\n",
    "import networkx as nx\n",
    "import numpy as np\n",
    "import pandas as pd\n",
    "import seaborn as sns\n",
    "from networkx.algorithms.shortest_paths.weighted import dijkstra_path_length\n",
    "from rich import print\n",
    "from scipy.signal import convolve2d\n",
    "from tqdm import tqdm"
   ]
  },
  {
   "cell_type": "code",
   "execution_count": 2,
   "id": "impressive-america",
   "metadata": {},
   "outputs": [],
   "source": [
    "def plot_mtx(mtx, figsize=(10, 10)):\n",
    "    fig, ax = plt.subplots(figsize=figsize)\n",
    "    ax.matshow(mtx, cmap=plt.cm.Blues)\n",
    "    plt.plot()"
   ]
  },
  {
   "cell_type": "code",
   "execution_count": 3,
   "id": "welsh-contemporary",
   "metadata": {},
   "outputs": [],
   "source": [
    "def read_file_to_str_li(fp, print_exp=True):\n",
    "    with open(fp, \"r\") as f:\n",
    "        lines = f.read().split(\"\\n\")\n",
    "    if print_exp:\n",
    "        print(f\"Read from {fp}:\")\n",
    "        print(f\"First line: {lines[0]} | Last line: {lines[-1]}\")\n",
    "        print(\"-\" * 6)\n",
    "\n",
    "    return lines\n",
    "\n",
    "\n",
    "# define the function blocks\n",
    "def convert_to_int(input_str):\n",
    "    if input_str == \"\" or input_str == \" \":\n",
    "        return None\n",
    "    return int(input_str)\n",
    "\n",
    "\n",
    "def convert_to_str(input_str):\n",
    "    return str(input_str)\n",
    "\n",
    "\n",
    "# map the inputs to the function blocks\n",
    "converts = {\n",
    "    \"i\": convert_to_int,\n",
    "    \"s\": convert_to_str,\n",
    "}\n",
    "\n",
    "\n",
    "def convert_str_li_to_other_li(\n",
    "    str_li, pattern=\"i\", per_letter=False, sep=\" \", start_row=0, end_row=None\n",
    "):\n",
    "    \"\"\"Convert a list of string to a list of other types\n",
    "\n",
    "    pattern: a list of types for one item.\n",
    "        'i' for int, 's' for string\n",
    "        'si' means: convert the 1st item to string, the rest to integer\n",
    "        If separated items are more than pattern items,\n",
    "        use the last one from the parttern.\n",
    "    if per_letter=True, ignore sep and separate item per letter\n",
    "    \"\"\"\n",
    "    target_str_li = str_li[start_row:end_row]\n",
    "    # find max item num\n",
    "    max_item_num = 1\n",
    "    if per_letter:\n",
    "        max_item_num = max([len(s) for s in target_str_li])\n",
    "    else:\n",
    "        max_item_num = max([len(s.split(sep)) for s in target_str_li])\n",
    "\n",
    "    # extend the pattern to the max itme num\n",
    "    pattern = (\n",
    "        pattern + f\"{pattern[-1]}\" * (max_item_num - len(pattern))\n",
    "        if max_item_num > len(pattern)\n",
    "        else pattern\n",
    "    )\n",
    "\n",
    "    # convert\n",
    "    if per_letter:\n",
    "        return [\n",
    "            [converts[pattern[idx]](item) for idx, item in enumerate(s)]\n",
    "            for s in target_str_li\n",
    "        ]\n",
    "    else:\n",
    "        if sep == \" \":\n",
    "            return [\n",
    "                [converts[pattern[idx]](item) for idx, item in enumerate(s.split())]\n",
    "                for s in target_str_li\n",
    "            ]\n",
    "        else:\n",
    "            return [\n",
    "                [converts[pattern[idx]](item) for idx, item in enumerate(s.split(sep))]\n",
    "                for s in target_str_li\n",
    "            ]"
   ]
  },
  {
   "cell_type": "code",
   "execution_count": 4,
   "id": "geographic-blair",
   "metadata": {
    "tags": []
   },
   "outputs": [
    {
     "data": {
      "text/html": [
       "<pre style=\"white-space:pre;overflow-x:auto;line-height:normal;font-family:Menlo,'DejaVu Sans Mono',consolas,'Courier New',monospace\">Read from input.txt:\n",
       "</pre>\n"
      ],
      "text/plain": [
       "Read from input.txt:\n"
      ]
     },
     "metadata": {},
     "output_type": "display_data"
    },
    {
     "data": {
      "text/html": [
       "<pre style=\"white-space:pre;overflow-x:auto;line-height:normal;font-family:Menlo,'DejaVu Sans Mono',consolas,'Courier New',monospace\">First line: #.#.####.###<span style=\"color: #808000; text-decoration-color: #808000\">...</span>###..#<span style=\"color: #808000; text-decoration-color: #808000\">...</span>.#<span style=\"color: #808000; text-decoration-color: #808000\">...</span>..##.#.#.#..#.#.#######<span style=\"color: #808000; text-decoration-color: #808000\">...</span>##<span style=\"color: #808000; text-decoration-color: #808000\">...</span>#..###..#.. | Last line: \n",
       "..##.##<span style=\"color: #808000; text-decoration-color: #808000\">...</span>.##.###<span style=\"color: #808000; text-decoration-color: #808000\">......</span>#..##.###..##.##.####<span style=\"color: #808000; text-decoration-color: #808000\">...</span>.#..#.##<span style=\"color: #808000; text-decoration-color: #808000\">...</span>..#.##.###.#.\n",
       "</pre>\n"
      ],
      "text/plain": [
       "First line: #.#.####.###\u001b[33m...\u001b[0m###..#\u001b[33m...\u001b[0m.#\u001b[33m...\u001b[0m..##.#.#.#..#.#.#######\u001b[33m...\u001b[0m##\u001b[33m...\u001b[0m#..###..#.. | Last line: \n",
       "..##.##\u001b[33m...\u001b[0m.##.###\u001b[33m...\u001b[0m\u001b[33m...\u001b[0m#..##.###..##.##.####\u001b[33m...\u001b[0m.#..#.##\u001b[33m...\u001b[0m..#.##.###.#.\n"
      ]
     },
     "metadata": {},
     "output_type": "display_data"
    },
    {
     "data": {
      "text/html": [
       "<pre style=\"white-space:pre;overflow-x:auto;line-height:normal;font-family:Menlo,'DejaVu Sans Mono',consolas,'Courier New',monospace\">------\n",
       "</pre>\n"
      ],
      "text/plain": [
       "------\n"
      ]
     },
     "metadata": {},
     "output_type": "display_data"
    },
    {
     "data": {
      "text/html": [
       "<pre style=\"white-space:pre;overflow-x:auto;line-height:normal;font-family:Menlo,'DejaVu Sans Mono',consolas,'Courier New',monospace\">Convert to:\n",
       "</pre>\n"
      ],
      "text/plain": [
       "Convert to:\n"
      ]
     },
     "metadata": {},
     "output_type": "display_data"
    },
    {
     "data": {
      "text/html": [
       "<pre style=\"white-space:pre;overflow-x:auto;line-height:normal;font-family:Menlo,'DejaVu Sans Mono',consolas,'Courier New',monospace\">First line: <span style=\"font-weight: bold\">[</span><span style=\"color: #008000; text-decoration-color: #008000\">'#'</span>, <span style=\"color: #008000; text-decoration-color: #008000\">'.'</span>, <span style=\"color: #008000; text-decoration-color: #008000\">'#'</span>, <span style=\"color: #008000; text-decoration-color: #008000\">'.'</span>, <span style=\"color: #008000; text-decoration-color: #008000\">'#'</span>, <span style=\"color: #008000; text-decoration-color: #008000\">'#'</span>, <span style=\"color: #008000; text-decoration-color: #008000\">'#'</span>, <span style=\"color: #008000; text-decoration-color: #008000\">'#'</span>, <span style=\"color: #008000; text-decoration-color: #008000\">'.'</span>, <span style=\"color: #008000; text-decoration-color: #008000\">'#'</span>, <span style=\"color: #008000; text-decoration-color: #008000\">'#'</span>, <span style=\"color: #008000; text-decoration-color: #008000\">'#'</span>, <span style=\"color: #008000; text-decoration-color: #008000\">'.'</span>, <span style=\"color: #008000; text-decoration-color: #008000\">'.'</span>, <span style=\"color: #008000; text-decoration-color: #008000\">'.'</span>, <span style=\"color: #008000; text-decoration-color: #008000\">'#'</span>, <span style=\"color: #008000; text-decoration-color: #008000\">'#'</span>, <span style=\"color: #008000; text-decoration-color: #008000\">'#'</span>, <span style=\"color: #008000; text-decoration-color: #008000\">'.'</span>, <span style=\"color: #008000; text-decoration-color: #008000\">'.'</span>, \n",
       "<span style=\"color: #008000; text-decoration-color: #008000\">'#'</span>, <span style=\"color: #008000; text-decoration-color: #008000\">'.'</span>, <span style=\"color: #008000; text-decoration-color: #008000\">'.'</span>, <span style=\"color: #008000; text-decoration-color: #008000\">'.'</span>, <span style=\"color: #008000; text-decoration-color: #008000\">'.'</span>, <span style=\"color: #008000; text-decoration-color: #008000\">'#'</span>, <span style=\"color: #008000; text-decoration-color: #008000\">'.'</span>, <span style=\"color: #008000; text-decoration-color: #008000\">'.'</span>, <span style=\"color: #008000; text-decoration-color: #008000\">'.'</span>, <span style=\"color: #008000; text-decoration-color: #008000\">'.'</span>, <span style=\"color: #008000; text-decoration-color: #008000\">'.'</span>, <span style=\"color: #008000; text-decoration-color: #008000\">'#'</span>, <span style=\"color: #008000; text-decoration-color: #008000\">'#'</span>, <span style=\"color: #008000; text-decoration-color: #008000\">'.'</span>, <span style=\"color: #008000; text-decoration-color: #008000\">'#'</span>, <span style=\"color: #008000; text-decoration-color: #008000\">'.'</span>, <span style=\"color: #008000; text-decoration-color: #008000\">'#'</span>, <span style=\"color: #008000; text-decoration-color: #008000\">'.'</span>, <span style=\"color: #008000; text-decoration-color: #008000\">'#'</span>, <span style=\"color: #008000; text-decoration-color: #008000\">'.'</span>, <span style=\"color: #008000; text-decoration-color: #008000\">'.'</span>, <span style=\"color: #008000; text-decoration-color: #008000\">'#'</span>, <span style=\"color: #008000; text-decoration-color: #008000\">'.'</span>, \n",
       "<span style=\"color: #008000; text-decoration-color: #008000\">'#'</span>, <span style=\"color: #008000; text-decoration-color: #008000\">'.'</span>, <span style=\"color: #008000; text-decoration-color: #008000\">'#'</span>, <span style=\"color: #008000; text-decoration-color: #008000\">'#'</span>, <span style=\"color: #008000; text-decoration-color: #008000\">'#'</span>, <span style=\"color: #008000; text-decoration-color: #008000\">'#'</span>, <span style=\"color: #008000; text-decoration-color: #008000\">'#'</span>, <span style=\"color: #008000; text-decoration-color: #008000\">'#'</span>, <span style=\"color: #008000; text-decoration-color: #008000\">'#'</span>, <span style=\"color: #008000; text-decoration-color: #008000\">'.'</span>, <span style=\"color: #008000; text-decoration-color: #008000\">'.'</span>, <span style=\"color: #008000; text-decoration-color: #008000\">'.'</span>, <span style=\"color: #008000; text-decoration-color: #008000\">'#'</span>, <span style=\"color: #008000; text-decoration-color: #008000\">'#'</span>, <span style=\"color: #008000; text-decoration-color: #008000\">'.'</span>, <span style=\"color: #008000; text-decoration-color: #008000\">'.'</span>, <span style=\"color: #008000; text-decoration-color: #008000\">'.'</span>, <span style=\"color: #008000; text-decoration-color: #008000\">'#'</span>, <span style=\"color: #008000; text-decoration-color: #008000\">'.'</span>, <span style=\"color: #008000; text-decoration-color: #008000\">'.'</span>, <span style=\"color: #008000; text-decoration-color: #008000\">'#'</span>, <span style=\"color: #008000; text-decoration-color: #008000\">'#'</span>, <span style=\"color: #008000; text-decoration-color: #008000\">'#'</span>, \n",
       "<span style=\"color: #008000; text-decoration-color: #008000\">'.'</span>, <span style=\"color: #008000; text-decoration-color: #008000\">'.'</span>, <span style=\"color: #008000; text-decoration-color: #008000\">'#'</span>, <span style=\"color: #008000; text-decoration-color: #008000\">'.'</span>, <span style=\"color: #008000; text-decoration-color: #008000\">'.'</span><span style=\"font-weight: bold\">]</span>\n",
       "</pre>\n"
      ],
      "text/plain": [
       "First line: \u001b[1m[\u001b[0m\u001b[32m'#'\u001b[0m, \u001b[32m'.'\u001b[0m, \u001b[32m'#'\u001b[0m, \u001b[32m'.'\u001b[0m, \u001b[32m'#'\u001b[0m, \u001b[32m'#'\u001b[0m, \u001b[32m'#'\u001b[0m, \u001b[32m'#'\u001b[0m, \u001b[32m'.'\u001b[0m, \u001b[32m'#'\u001b[0m, \u001b[32m'#'\u001b[0m, \u001b[32m'#'\u001b[0m, \u001b[32m'.'\u001b[0m, \u001b[32m'.'\u001b[0m, \u001b[32m'.'\u001b[0m, \u001b[32m'#'\u001b[0m, \u001b[32m'#'\u001b[0m, \u001b[32m'#'\u001b[0m, \u001b[32m'.'\u001b[0m, \u001b[32m'.'\u001b[0m, \n",
       "\u001b[32m'#'\u001b[0m, \u001b[32m'.'\u001b[0m, \u001b[32m'.'\u001b[0m, \u001b[32m'.'\u001b[0m, \u001b[32m'.'\u001b[0m, \u001b[32m'#'\u001b[0m, \u001b[32m'.'\u001b[0m, \u001b[32m'.'\u001b[0m, \u001b[32m'.'\u001b[0m, \u001b[32m'.'\u001b[0m, \u001b[32m'.'\u001b[0m, \u001b[32m'#'\u001b[0m, \u001b[32m'#'\u001b[0m, \u001b[32m'.'\u001b[0m, \u001b[32m'#'\u001b[0m, \u001b[32m'.'\u001b[0m, \u001b[32m'#'\u001b[0m, \u001b[32m'.'\u001b[0m, \u001b[32m'#'\u001b[0m, \u001b[32m'.'\u001b[0m, \u001b[32m'.'\u001b[0m, \u001b[32m'#'\u001b[0m, \u001b[32m'.'\u001b[0m, \n",
       "\u001b[32m'#'\u001b[0m, \u001b[32m'.'\u001b[0m, \u001b[32m'#'\u001b[0m, \u001b[32m'#'\u001b[0m, \u001b[32m'#'\u001b[0m, \u001b[32m'#'\u001b[0m, \u001b[32m'#'\u001b[0m, \u001b[32m'#'\u001b[0m, \u001b[32m'#'\u001b[0m, \u001b[32m'.'\u001b[0m, \u001b[32m'.'\u001b[0m, \u001b[32m'.'\u001b[0m, \u001b[32m'#'\u001b[0m, \u001b[32m'#'\u001b[0m, \u001b[32m'.'\u001b[0m, \u001b[32m'.'\u001b[0m, \u001b[32m'.'\u001b[0m, \u001b[32m'#'\u001b[0m, \u001b[32m'.'\u001b[0m, \u001b[32m'.'\u001b[0m, \u001b[32m'#'\u001b[0m, \u001b[32m'#'\u001b[0m, \u001b[32m'#'\u001b[0m, \n",
       "\u001b[32m'.'\u001b[0m, \u001b[32m'.'\u001b[0m, \u001b[32m'#'\u001b[0m, \u001b[32m'.'\u001b[0m, \u001b[32m'.'\u001b[0m\u001b[1m]\u001b[0m\n"
      ]
     },
     "metadata": {},
     "output_type": "display_data"
    },
    {
     "data": {
      "text/html": [
       "<pre style=\"white-space:pre;overflow-x:auto;line-height:normal;font-family:Menlo,'DejaVu Sans Mono',consolas,'Courier New',monospace\">Last line: <span style=\"font-weight: bold\">[</span><span style=\"color: #008000; text-decoration-color: #008000\">'.'</span>, <span style=\"color: #008000; text-decoration-color: #008000\">'.'</span>, <span style=\"color: #008000; text-decoration-color: #008000\">'#'</span>, <span style=\"color: #008000; text-decoration-color: #008000\">'#'</span>, <span style=\"color: #008000; text-decoration-color: #008000\">'.'</span>, <span style=\"color: #008000; text-decoration-color: #008000\">'#'</span>, <span style=\"color: #008000; text-decoration-color: #008000\">'#'</span>, <span style=\"color: #008000; text-decoration-color: #008000\">'.'</span>, <span style=\"color: #008000; text-decoration-color: #008000\">'.'</span>, <span style=\"color: #008000; text-decoration-color: #008000\">'.'</span>, <span style=\"color: #008000; text-decoration-color: #008000\">'.'</span>, <span style=\"color: #008000; text-decoration-color: #008000\">'#'</span>, <span style=\"color: #008000; text-decoration-color: #008000\">'#'</span>, <span style=\"color: #008000; text-decoration-color: #008000\">'.'</span>, <span style=\"color: #008000; text-decoration-color: #008000\">'#'</span>, <span style=\"color: #008000; text-decoration-color: #008000\">'#'</span>, <span style=\"color: #008000; text-decoration-color: #008000\">'#'</span>, <span style=\"color: #008000; text-decoration-color: #008000\">'.'</span>, <span style=\"color: #008000; text-decoration-color: #008000\">'.'</span>, <span style=\"color: #008000; text-decoration-color: #008000\">'.'</span>, \n",
       "<span style=\"color: #008000; text-decoration-color: #008000\">'.'</span>, <span style=\"color: #008000; text-decoration-color: #008000\">'.'</span>, <span style=\"color: #008000; text-decoration-color: #008000\">'.'</span>, <span style=\"color: #008000; text-decoration-color: #008000\">'#'</span>, <span style=\"color: #008000; text-decoration-color: #008000\">'.'</span>, <span style=\"color: #008000; text-decoration-color: #008000\">'.'</span>, <span style=\"color: #008000; text-decoration-color: #008000\">'#'</span>, <span style=\"color: #008000; text-decoration-color: #008000\">'#'</span>, <span style=\"color: #008000; text-decoration-color: #008000\">'.'</span>, <span style=\"color: #008000; text-decoration-color: #008000\">'#'</span>, <span style=\"color: #008000; text-decoration-color: #008000\">'#'</span>, <span style=\"color: #008000; text-decoration-color: #008000\">'#'</span>, <span style=\"color: #008000; text-decoration-color: #008000\">'.'</span>, <span style=\"color: #008000; text-decoration-color: #008000\">'.'</span>, <span style=\"color: #008000; text-decoration-color: #008000\">'#'</span>, <span style=\"color: #008000; text-decoration-color: #008000\">'#'</span>, <span style=\"color: #008000; text-decoration-color: #008000\">'.'</span>, <span style=\"color: #008000; text-decoration-color: #008000\">'#'</span>, <span style=\"color: #008000; text-decoration-color: #008000\">'#'</span>, <span style=\"color: #008000; text-decoration-color: #008000\">'.'</span>, <span style=\"color: #008000; text-decoration-color: #008000\">'#'</span>, <span style=\"color: #008000; text-decoration-color: #008000\">'#'</span>, <span style=\"color: #008000; text-decoration-color: #008000\">'#'</span>, \n",
       "<span style=\"color: #008000; text-decoration-color: #008000\">'#'</span>, <span style=\"color: #008000; text-decoration-color: #008000\">'.'</span>, <span style=\"color: #008000; text-decoration-color: #008000\">'.'</span>, <span style=\"color: #008000; text-decoration-color: #008000\">'.'</span>, <span style=\"color: #008000; text-decoration-color: #008000\">'.'</span>, <span style=\"color: #008000; text-decoration-color: #008000\">'#'</span>, <span style=\"color: #008000; text-decoration-color: #008000\">'.'</span>, <span style=\"color: #008000; text-decoration-color: #008000\">'.'</span>, <span style=\"color: #008000; text-decoration-color: #008000\">'#'</span>, <span style=\"color: #008000; text-decoration-color: #008000\">'.'</span>, <span style=\"color: #008000; text-decoration-color: #008000\">'#'</span>, <span style=\"color: #008000; text-decoration-color: #008000\">'#'</span>, <span style=\"color: #008000; text-decoration-color: #008000\">'.'</span>, <span style=\"color: #008000; text-decoration-color: #008000\">'.'</span>, <span style=\"color: #008000; text-decoration-color: #008000\">'.'</span>, <span style=\"color: #008000; text-decoration-color: #008000\">'.'</span>, <span style=\"color: #008000; text-decoration-color: #008000\">'.'</span>, <span style=\"color: #008000; text-decoration-color: #008000\">'#'</span>, <span style=\"color: #008000; text-decoration-color: #008000\">'.'</span>, <span style=\"color: #008000; text-decoration-color: #008000\">'#'</span>, <span style=\"color: #008000; text-decoration-color: #008000\">'#'</span>, <span style=\"color: #008000; text-decoration-color: #008000\">'.'</span>, <span style=\"color: #008000; text-decoration-color: #008000\">'#'</span>, \n",
       "<span style=\"color: #008000; text-decoration-color: #008000\">'#'</span>, <span style=\"color: #008000; text-decoration-color: #008000\">'#'</span>, <span style=\"color: #008000; text-decoration-color: #008000\">'.'</span>, <span style=\"color: #008000; text-decoration-color: #008000\">'#'</span>, <span style=\"color: #008000; text-decoration-color: #008000\">'.'</span><span style=\"font-weight: bold\">]</span>\n",
       "</pre>\n"
      ],
      "text/plain": [
       "Last line: \u001b[1m[\u001b[0m\u001b[32m'.'\u001b[0m, \u001b[32m'.'\u001b[0m, \u001b[32m'#'\u001b[0m, \u001b[32m'#'\u001b[0m, \u001b[32m'.'\u001b[0m, \u001b[32m'#'\u001b[0m, \u001b[32m'#'\u001b[0m, \u001b[32m'.'\u001b[0m, \u001b[32m'.'\u001b[0m, \u001b[32m'.'\u001b[0m, \u001b[32m'.'\u001b[0m, \u001b[32m'#'\u001b[0m, \u001b[32m'#'\u001b[0m, \u001b[32m'.'\u001b[0m, \u001b[32m'#'\u001b[0m, \u001b[32m'#'\u001b[0m, \u001b[32m'#'\u001b[0m, \u001b[32m'.'\u001b[0m, \u001b[32m'.'\u001b[0m, \u001b[32m'.'\u001b[0m, \n",
       "\u001b[32m'.'\u001b[0m, \u001b[32m'.'\u001b[0m, \u001b[32m'.'\u001b[0m, \u001b[32m'#'\u001b[0m, \u001b[32m'.'\u001b[0m, \u001b[32m'.'\u001b[0m, \u001b[32m'#'\u001b[0m, \u001b[32m'#'\u001b[0m, \u001b[32m'.'\u001b[0m, \u001b[32m'#'\u001b[0m, \u001b[32m'#'\u001b[0m, \u001b[32m'#'\u001b[0m, \u001b[32m'.'\u001b[0m, \u001b[32m'.'\u001b[0m, \u001b[32m'#'\u001b[0m, \u001b[32m'#'\u001b[0m, \u001b[32m'.'\u001b[0m, \u001b[32m'#'\u001b[0m, \u001b[32m'#'\u001b[0m, \u001b[32m'.'\u001b[0m, \u001b[32m'#'\u001b[0m, \u001b[32m'#'\u001b[0m, \u001b[32m'#'\u001b[0m, \n",
       "\u001b[32m'#'\u001b[0m, \u001b[32m'.'\u001b[0m, \u001b[32m'.'\u001b[0m, \u001b[32m'.'\u001b[0m, \u001b[32m'.'\u001b[0m, \u001b[32m'#'\u001b[0m, \u001b[32m'.'\u001b[0m, \u001b[32m'.'\u001b[0m, \u001b[32m'#'\u001b[0m, \u001b[32m'.'\u001b[0m, \u001b[32m'#'\u001b[0m, \u001b[32m'#'\u001b[0m, \u001b[32m'.'\u001b[0m, \u001b[32m'.'\u001b[0m, \u001b[32m'.'\u001b[0m, \u001b[32m'.'\u001b[0m, \u001b[32m'.'\u001b[0m, \u001b[32m'#'\u001b[0m, \u001b[32m'.'\u001b[0m, \u001b[32m'#'\u001b[0m, \u001b[32m'#'\u001b[0m, \u001b[32m'.'\u001b[0m, \u001b[32m'#'\u001b[0m, \n",
       "\u001b[32m'#'\u001b[0m, \u001b[32m'#'\u001b[0m, \u001b[32m'.'\u001b[0m, \u001b[32m'#'\u001b[0m, \u001b[32m'.'\u001b[0m\u001b[1m]\u001b[0m\n"
      ]
     },
     "metadata": {},
     "output_type": "display_data"
    },
    {
     "data": {
      "text/html": [
       "<pre style=\"white-space:pre;overflow-x:auto;line-height:normal;font-family:Menlo,'DejaVu Sans Mono',consolas,'Courier New',monospace\">------\n",
       "</pre>\n"
      ],
      "text/plain": [
       "------\n"
      ]
     },
     "metadata": {},
     "output_type": "display_data"
    }
   ],
   "source": [
    "fp = \"input.txt\"\n",
    "lines = read_file_to_str_li(fp)\n",
    "\n",
    "print(\"Convert to:\")\n",
    "\n",
    "# head = convert_str_li_to_other_li(\n",
    "#     lines, pattern=\"s\", per_letter=True, sep=\",\", start_row=0, end_row=1\n",
    "# )\n",
    "\n",
    "# print(f\"Head:\\n{head}\")\n",
    "# print(f\"First line: {head[0]}\")\n",
    "# print(f\"Last line: {head[-1]}\")\n",
    "\n",
    "data = convert_str_li_to_other_li(\n",
    "    lines, pattern=\"s\", per_letter=True, sep=\" \", start_row=None, end_row=None\n",
    ")\n",
    "\n",
    "\n",
    "print(f\"First line: {data[0]}\")\n",
    "print(f\"Last line: {data[-1]}\")\n",
    "print(\"-\" * 6)"
   ]
  },
  {
   "cell_type": "code",
   "execution_count": 5,
   "id": "celtic-calibration",
   "metadata": {},
   "outputs": [
    {
     "data": {
      "image/png": "[encoded data removed]",
      "text/plain": [
       "<Figure size 300x300 with 1 Axes>"
      ]
     },
     "metadata": {},
     "output_type": "display_data"
    }
   ],
   "source": [
    "input_mtx = np.array(data)\n",
    "input_mtx[input_mtx == \".\"] = 0\n",
    "input_mtx[input_mtx == \"#\"] = 1\n",
    "input_mtx = input_mtx.astype(\"int\")\n",
    "plot_mtx(input_mtx, (3, 3))"
   ]
  },
  {
   "cell_type": "code",
   "execution_count": 6,
   "id": "devoted-halifax",
   "metadata": {},
   "outputs": [
    {
     "data": {
      "text/plain": [
       "(355, 355)"
      ]
     },
     "execution_count": 6,
     "metadata": {},
     "output_type": "execute_result"
    }
   ],
   "source": [
    "org_mtx = np.c_[\n",
    "    np.zeros_like(input_mtx),\n",
    "    np.zeros_like(input_mtx),\n",
    "    input_mtx,\n",
    "    np.zeros_like(input_mtx),\n",
    "    np.zeros_like(input_mtx),\n",
    "]\n",
    "org_mtx = np.r_[\n",
    "    np.zeros_like(org_mtx),\n",
    "    np.zeros_like(org_mtx),\n",
    "    org_mtx,\n",
    "    np.zeros_like(org_mtx),\n",
    "    np.zeros_like(org_mtx),\n",
    "]\n",
    "org_mtx.shape"
   ]
  },
  {
   "cell_type": "code",
   "execution_count": 7,
   "id": "20194037-5b49-4c59-8677-3f8a947233d8",
   "metadata": {},
   "outputs": [
    {
     "data": {
      "image/png": "[encoded data removed]",
      "text/plain": [
       "<Figure size 100x100 with 1 Axes>"
      ]
     },
     "metadata": {},
     "output_type": "display_data"
    }
   ],
   "source": [
    "filter_donothing = np.array([[1, 1, 1], [1, 0, 1], [1, 1, 1]])\n",
    "plot_mtx(filter_donothing, (1, 1))"
   ]
  },
  {
   "cell_type": "code",
   "execution_count": 8,
   "id": "6c25cb93-14a4-4087-aa96-8c9f2510a072",
   "metadata": {},
   "outputs": [
    {
     "data": {
      "image/png": "[encoded data removed]",
      "text/plain": [
       "<Figure size 100x100 with 1 Axes>"
      ]
     },
     "metadata": {},
     "output_type": "display_data"
    },
    {
     "data": {
      "image/png": "[encoded data removed]",
      "text/plain": [
       "<Figure size 100x100 with 1 Axes>"
      ]
     },
     "metadata": {},
     "output_type": "display_data"
    }
   ],
   "source": [
    "filter_north = np.array([[0, 0, 0], [0, 0, 0], [1, 1, 1]])\n",
    "move_north = np.array([[0, 1, 0], [0, 0, 0], [0, 0, 0]])\n",
    "plot_mtx(filter_north, (1, 1))\n",
    "plot_mtx(move_north, (1, 1))"
   ]
  },
  {
   "cell_type": "code",
   "execution_count": 9,
   "id": "92ba210d-78e8-4d0d-b50d-a7dc7437b78a",
   "metadata": {},
   "outputs": [
    {
     "data": {
      "image/png": "[encoded data removed]",
      "text/plain": [
       "<Figure size 100x100 with 1 Axes>"
      ]
     },
     "metadata": {},
     "output_type": "display_data"
    },
    {
     "data": {
      "image/png": "[encoded data removed]",
      "text/plain": [
       "<Figure size 100x100 with 1 Axes>"
      ]
     },
     "metadata": {},
     "output_type": "display_data"
    }
   ],
   "source": [
    "filter_south = np.array([[1, 1, 1], [0, 0, 0], [0, 0, 0]])\n",
    "move_south = np.array([[0, 0, 0], [0, 0, 0], [0, 1, 0]])\n",
    "plot_mtx(filter_south, (1, 1))\n",
    "plot_mtx(move_south, (1, 1))"
   ]
  },
  {
   "cell_type": "code",
   "execution_count": 10,
   "id": "e99d5177-3493-4513-a87a-e1b92e9f026b",
   "metadata": {},
   "outputs": [
    {
     "data": {
      "image/png": "[encoded data removed]",
      "text/plain": [
       "<Figure size 100x100 with 1 Axes>"
      ]
     },
     "metadata": {},
     "output_type": "display_data"
    },
    {
     "data": {
      "image/png": "[encoded data removed]",
      "text/plain": [
       "<Figure size 100x100 with 1 Axes>"
      ]
     },
     "metadata": {},
     "output_type": "display_data"
    }
   ],
   "source": [
    "filter_west = np.array([[0, 0, 1], [0, 0, 1], [0, 0, 1]])\n",
    "move_west = np.array([[0, 0, 0], [1, 0, 0], [0, 0, 0]])\n",
    "plot_mtx(filter_west, (1, 1))\n",
    "plot_mtx(move_west, (1, 1))"
   ]
  },
  {
   "cell_type": "code",
   "execution_count": 11,
   "id": "beb19b49-8eaa-441e-a64b-99998add4fc2",
   "metadata": {},
   "outputs": [
    {
     "data": {
      "image/png": "[encoded data removed]",
      "text/plain": [
       "<Figure size 100x100 with 1 Axes>"
      ]
     },
     "metadata": {},
     "output_type": "display_data"
    },
    {
     "data": {
      "image/png": "[encoded data removed]",
      "text/plain": [
       "<Figure size 100x100 with 1 Axes>"
      ]
     },
     "metadata": {},
     "output_type": "display_data"
    }
   ],
   "source": [
    "filter_east = np.array([[1, 0, 0], [1, 0, 0], [1, 0, 0]])\n",
    "move_east = np.array([[0, 0, 0], [0, 0, 1], [0, 0, 0]])\n",
    "plot_mtx(filter_east, (1, 1))\n",
    "plot_mtx(move_east, (1, 1))"
   ]
  },
  {
   "cell_type": "code",
   "execution_count": 12,
   "id": "0b97e51e-420e-47cd-9015-49b0b1a0e264",
   "metadata": {},
   "outputs": [],
   "source": [
    "def move_one_round(pre_mtx, filter_direction_li):\n",
    "    donothing_mtx = (\n",
    "        convolve2d(pre_mtx, filter_donothing, mode=\"same\", boundary=\"fill\", fillvalue=0)\n",
    "        == 0\n",
    "    ) & pre_mtx\n",
    "\n",
    "    maymove_mtx = (donothing_mtx == 0) & pre_mtx\n",
    "    new_pos_mtx = np.zeros_like(maymove_mtx, dtype=\"int\")\n",
    "\n",
    "    for filter_direction, filter_move in filter_direction_li:\n",
    "        willmove_mtx = (\n",
    "            convolve2d(\n",
    "                pre_mtx, filter_direction, mode=\"same\", boundary=\"fill\", fillvalue=0\n",
    "            )\n",
    "            == 0\n",
    "        ) & maymove_mtx\n",
    "        new_pos_mtx += convolve2d(\n",
    "            willmove_mtx, filter_move, mode=\"same\", boundary=\"fill\", fillvalue=0\n",
    "        )\n",
    "        maymove_mtx = (willmove_mtx == 0) & maymove_mtx\n",
    "\n",
    "    conflict_pos = new_pos_mtx > 1\n",
    "    cancel_move_pos = np.zeros_like(conflict_pos, dtype=\"int\")\n",
    "\n",
    "    for _, filter_move in filter_direction_li:\n",
    "        cancel_move_pos += convolve2d(\n",
    "            conflict_pos, filter_move, mode=\"same\", boundary=\"fill\", fillvalue=0\n",
    "        )\n",
    "\n",
    "    cancel_move_pos = cancel_move_pos & pre_mtx\n",
    "\n",
    "    new_mtx = donothing_mtx | (new_pos_mtx == 1) | maymove_mtx | cancel_move_pos\n",
    "\n",
    "    return np.array_equal(new_mtx, pre_mtx), new_mtx"
   ]
  },
  {
   "cell_type": "code",
   "execution_count": 13,
   "id": "d0c20716-6d7a-4755-8085-f6b264e05f59",
   "metadata": {},
   "outputs": [],
   "source": [
    "def count_space(pos_mtx):\n",
    "    board_pos = np.where(pos_mtx == 1)\n",
    "    pos_mtx = pos_mtx[\n",
    "        board_pos[0].min() : board_pos[0].max() + 1,\n",
    "        board_pos[1].min() : board_pos[1].max() + 1,\n",
    "    ]\n",
    "\n",
    "    plot_mtx(\n",
    "        pos_mtx,\n",
    "        (5, 5),\n",
    "    )\n",
    "    return pos_mtx.shape[0] * pos_mtx.shape[1] - pos_mtx.sum()"
   ]
  },
  {
   "cell_type": "code",
   "execution_count": 14,
   "id": "776f52a8-f0cd-4379-941f-7e7c6e4be339",
   "metadata": {
    "tags": []
   },
   "outputs": [
    {
     "data": {
      "text/html": [
       "<pre style=\"white-space:pre;overflow-x:auto;line-height:normal;font-family:Menlo,'DejaVu Sans Mono',consolas,'Courier New',monospace\">Answer to Q1: <span style=\"color: #008080; text-decoration-color: #008080; font-weight: bold\">4045</span>\n",
       "</pre>\n"
      ],
      "text/plain": [
       "Answer to Q1: \u001b[1;36m4045\u001b[0m\n"
      ]
     },
     "metadata": {},
     "output_type": "display_data"
    },
    {
     "data": {
      "text/html": [
       "<pre style=\"white-space:pre;overflow-x:auto;line-height:normal;font-family:Menlo,'DejaVu Sans Mono',consolas,'Courier New',monospace\">Answer to Q2: <span style=\"color: #008080; text-decoration-color: #008080; font-weight: bold\">963</span>\n",
       "</pre>\n"
      ],
      "text/plain": [
       "Answer to Q2: \u001b[1;36m963\u001b[0m\n"
      ]
     },
     "metadata": {},
     "output_type": "display_data"
    },
    {
     "name": "stdout",
     "output_type": "stream",
     "text": [
      "CPU times: user 35.1 s, sys: 298 ms, total: 35.4 s\n",
      "Wall time: 34.9 s\n"
     ]
    },
    {
     "data": {
      "text/plain": [
       "15173"
      ]
     },
     "execution_count": 14,
     "metadata": {},
     "output_type": "execute_result"
    },
    {
     "data": {
      "image/png": "[encoded data removed]",
      "text/plain": [
       "<Figure size 500x500 with 1 Axes>"
      ]
     },
     "metadata": {},
     "output_type": "display_data"
    },
    {
     "data": {
      "image/png": "[encoded data removed]",
      "text/plain": [
       "<Figure size 500x500 with 1 Axes>"
      ]
     },
     "metadata": {},
     "output_type": "display_data"
    }
   ],
   "source": [
    "%%time\n",
    "pos_mtx = org_mtx.copy()\n",
    "q1_round_num = 10\n",
    "\n",
    "filter_direction_li = deque(\n",
    "    [\n",
    "        (filter_north, move_north),\n",
    "        (filter_south, move_south),\n",
    "        (filter_west, move_west),\n",
    "        (filter_east, move_east),\n",
    "    ]\n",
    ")\n",
    "round_num = 1\n",
    "while True:\n",
    "    nomove_flag, pos_mtx = move_one_round(pos_mtx, filter_direction_li)\n",
    "    filter_direction_li.rotate(-1)\n",
    "    if round_num == q1_round_num:\n",
    "        print(f\"Answer to Q1: {count_space(pos_mtx)}\")\n",
    "    if nomove_flag:\n",
    "        print(f\"Answer to Q2: {round_num}\")\n",
    "        break\n",
    "    else:\n",
    "        round_num += 1\n",
    "\n",
    "count_space(pos_mtx)"
   ]
  },
  {
   "cell_type": "code",
   "execution_count": null,
   "id": "amber-guatemala",
   "metadata": {},
   "outputs": [],
   "source": []
  }
 ],
 "metadata": {
  "kernelspec": {
   "display_name": "Python [conda env:ds38]",
   "language": "python",
   "name": "conda-env-ds38-py"
  },
  "language_info": {
   "codemirror_mode": {
    "name": "ipython",
    "version": 3
   },
   "file_extension": ".py",
   "mimetype": "text/x-python",
   "name": "python",
   "nbconvert_exporter": "python",
   "pygments_lexer": "ipython3",
   "version": "3.8.13"
  }
 },
 "nbformat": 4,
 "nbformat_minor": 5
}
