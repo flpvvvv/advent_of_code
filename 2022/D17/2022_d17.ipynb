{
 "cells": [
  {
   "cell_type": "raw",
   "id": "frozen-violence",
   "metadata": {
    "jupyter": {
     "source_hidden": true
    },
    "tags": []
   },
   "source": [
    "--- Day 17: Pyroclastic Flow ---\n",
    "Your handheld device has located an alternative exit from the cave for you and the elephants. The ground is rumbling almost continuously now, but the strange valves bought you some time. It's definitely getting warmer in here, though.\n",
    "\n",
    "The tunnels eventually open into a very tall, narrow chamber. Large, oddly-shaped rocks are falling into the chamber from above, presumably due to all the rumbling. If you can't work out where the rocks will fall next, you might be crushed!\n",
    "\n",
    "The five types of rocks have the following peculiar shapes, where # is rock and . is empty space:\n",
    "\n",
    "####\n",
    "\n",
    ".#.\n",
    "###\n",
    ".#.\n",
    "\n",
    "..#\n",
    "..#\n",
    "###\n",
    "\n",
    "#\n",
    "#\n",
    "#\n",
    "#\n",
    "\n",
    "##\n",
    "##\n",
    "The rocks fall in the order shown above: first the - shape, then the + shape, and so on. Once the end of the list is reached, the same order repeats: the - shape falls first, sixth, 11th, 16th, etc.\n",
    "\n",
    "The rocks don't spin, but they do get pushed around by jets of hot gas coming out of the walls themselves. A quick scan reveals the effect the jets of hot gas will have on the rocks as they fall (your puzzle input).\n",
    "\n",
    "For example, suppose this was the jet pattern in your cave:\n",
    "\n",
    ">>><<><>><<<>><>>><<<>>><<<><<<>><>><<>>\n",
    "In jet patterns, < means a push to the left, while > means a push to the right. The pattern above means that the jets will push a falling rock right, then right, then right, then left, then left, then right, and so on. If the end of the list is reached, it repeats.\n",
    "\n",
    "The tall, vertical chamber is exactly seven units wide. Each rock appears so that its left edge is two units away from the left wall and its bottom edge is three units above the highest rock in the room (or the floor, if there isn't one).\n",
    "\n",
    "After a rock appears, it alternates between being pushed by a jet of hot gas one unit (in the direction indicated by the next symbol in the jet pattern) and then falling one unit down. If any movement would cause any part of the rock to move into the walls, floor, or a stopped rock, the movement instead does not occur. If a downward movement would have caused a falling rock to move into the floor or an already-fallen rock, the falling rock stops where it is (having landed on something) and a new rock immediately begins falling.\n",
    "\n",
    "Drawing falling rocks with @ and stopped rocks with #, the jet pattern in the example above manifests as follows:\n",
    "\n",
    "The first rock begins falling:\n",
    "|..@@@@.|\n",
    "|.......|\n",
    "|.......|\n",
    "|.......|\n",
    "+-------+\n",
    "\n",
    "Jet of gas pushes rock right:\n",
    "|...@@@@|\n",
    "|.......|\n",
    "|.......|\n",
    "|.......|\n",
    "+-------+\n",
    "\n",
    "Rock falls 1 unit:\n",
    "|...@@@@|\n",
    "|.......|\n",
    "|.......|\n",
    "+-------+\n",
    "\n",
    "Jet of gas pushes rock right, but nothing happens:\n",
    "|...@@@@|\n",
    "|.......|\n",
    "|.......|\n",
    "+-------+\n",
    "\n",
    "Rock falls 1 unit:\n",
    "|...@@@@|\n",
    "|.......|\n",
    "+-------+\n",
    "\n",
    "Jet of gas pushes rock right, but nothing happens:\n",
    "|...@@@@|\n",
    "|.......|\n",
    "+-------+\n",
    "\n",
    "Rock falls 1 unit:\n",
    "|...@@@@|\n",
    "+-------+\n",
    "\n",
    "Jet of gas pushes rock left:\n",
    "|..@@@@.|\n",
    "+-------+\n",
    "\n",
    "Rock falls 1 unit, causing it to come to rest:\n",
    "|..####.|\n",
    "+-------+\n",
    "\n",
    "A new rock begins falling:\n",
    "|...@...|\n",
    "|..@@@..|\n",
    "|...@...|\n",
    "|.......|\n",
    "|.......|\n",
    "|.......|\n",
    "|..####.|\n",
    "+-------+\n",
    "\n",
    "Jet of gas pushes rock left:\n",
    "|..@....|\n",
    "|.@@@...|\n",
    "|..@....|\n",
    "|.......|\n",
    "|.......|\n",
    "|.......|\n",
    "|..####.|\n",
    "+-------+\n",
    "\n",
    "Rock falls 1 unit:\n",
    "|..@....|\n",
    "|.@@@...|\n",
    "|..@....|\n",
    "|.......|\n",
    "|.......|\n",
    "|..####.|\n",
    "+-------+\n",
    "\n",
    "Jet of gas pushes rock right:\n",
    "|...@...|\n",
    "|..@@@..|\n",
    "|...@...|\n",
    "|.......|\n",
    "|.......|\n",
    "|..####.|\n",
    "+-------+\n",
    "\n",
    "Rock falls 1 unit:\n",
    "|...@...|\n",
    "|..@@@..|\n",
    "|...@...|\n",
    "|.......|\n",
    "|..####.|\n",
    "+-------+\n",
    "\n",
    "Jet of gas pushes rock left:\n",
    "|..@....|\n",
    "|.@@@...|\n",
    "|..@....|\n",
    "|.......|\n",
    "|..####.|\n",
    "+-------+\n",
    "\n",
    "Rock falls 1 unit:\n",
    "|..@....|\n",
    "|.@@@...|\n",
    "|..@....|\n",
    "|..####.|\n",
    "+-------+\n",
    "\n",
    "Jet of gas pushes rock right:\n",
    "|...@...|\n",
    "|..@@@..|\n",
    "|...@...|\n",
    "|..####.|\n",
    "+-------+\n",
    "\n",
    "Rock falls 1 unit, causing it to come to rest:\n",
    "|...#...|\n",
    "|..###..|\n",
    "|...#...|\n",
    "|..####.|\n",
    "+-------+\n",
    "\n",
    "A new rock begins falling:\n",
    "|....@..|\n",
    "|....@..|\n",
    "|..@@@..|\n",
    "|.......|\n",
    "|.......|\n",
    "|.......|\n",
    "|...#...|\n",
    "|..###..|\n",
    "|...#...|\n",
    "|..####.|\n",
    "+-------+\n",
    "The moment each of the next few rocks begins falling, you would see this:\n",
    "\n",
    "|..@....|\n",
    "|..@....|\n",
    "|..@....|\n",
    "|..@....|\n",
    "|.......|\n",
    "|.......|\n",
    "|.......|\n",
    "|..#....|\n",
    "|..#....|\n",
    "|####...|\n",
    "|..###..|\n",
    "|...#...|\n",
    "|..####.|\n",
    "+-------+\n",
    "\n",
    "|..@@...|\n",
    "|..@@...|\n",
    "|.......|\n",
    "|.......|\n",
    "|.......|\n",
    "|....#..|\n",
    "|..#.#..|\n",
    "|..#.#..|\n",
    "|#####..|\n",
    "|..###..|\n",
    "|...#...|\n",
    "|..####.|\n",
    "+-------+\n",
    "\n",
    "|..@@@@.|\n",
    "|.......|\n",
    "|.......|\n",
    "|.......|\n",
    "|....##.|\n",
    "|....##.|\n",
    "|....#..|\n",
    "|..#.#..|\n",
    "|..#.#..|\n",
    "|#####..|\n",
    "|..###..|\n",
    "|...#...|\n",
    "|..####.|\n",
    "+-------+\n",
    "\n",
    "|...@...|\n",
    "|..@@@..|\n",
    "|...@...|\n",
    "|.......|\n",
    "|.......|\n",
    "|.......|\n",
    "|.####..|\n",
    "|....##.|\n",
    "|....##.|\n",
    "|....#..|\n",
    "|..#.#..|\n",
    "|..#.#..|\n",
    "|#####..|\n",
    "|..###..|\n",
    "|...#...|\n",
    "|..####.|\n",
    "+-------+\n",
    "\n",
    "|....@..|\n",
    "|....@..|\n",
    "|..@@@..|\n",
    "|.......|\n",
    "|.......|\n",
    "|.......|\n",
    "|..#....|\n",
    "|.###...|\n",
    "|..#....|\n",
    "|.####..|\n",
    "|....##.|\n",
    "|....##.|\n",
    "|....#..|\n",
    "|..#.#..|\n",
    "|..#.#..|\n",
    "|#####..|\n",
    "|..###..|\n",
    "|...#...|\n",
    "|..####.|\n",
    "+-------+\n",
    "\n",
    "|..@....|\n",
    "|..@....|\n",
    "|..@....|\n",
    "|..@....|\n",
    "|.......|\n",
    "|.......|\n",
    "|.......|\n",
    "|.....#.|\n",
    "|.....#.|\n",
    "|..####.|\n",
    "|.###...|\n",
    "|..#....|\n",
    "|.####..|\n",
    "|....##.|\n",
    "|....##.|\n",
    "|....#..|\n",
    "|..#.#..|\n",
    "|..#.#..|\n",
    "|#####..|\n",
    "|..###..|\n",
    "|...#...|\n",
    "|..####.|\n",
    "+-------+\n",
    "\n",
    "|..@@...|\n",
    "|..@@...|\n",
    "|.......|\n",
    "|.......|\n",
    "|.......|\n",
    "|....#..|\n",
    "|....#..|\n",
    "|....##.|\n",
    "|....##.|\n",
    "|..####.|\n",
    "|.###...|\n",
    "|..#....|\n",
    "|.####..|\n",
    "|....##.|\n",
    "|....##.|\n",
    "|....#..|\n",
    "|..#.#..|\n",
    "|..#.#..|\n",
    "|#####..|\n",
    "|..###..|\n",
    "|...#...|\n",
    "|..####.|\n",
    "+-------+\n",
    "\n",
    "|..@@@@.|\n",
    "|.......|\n",
    "|.......|\n",
    "|.......|\n",
    "|....#..|\n",
    "|....#..|\n",
    "|....##.|\n",
    "|##..##.|\n",
    "|######.|\n",
    "|.###...|\n",
    "|..#....|\n",
    "|.####..|\n",
    "|....##.|\n",
    "|....##.|\n",
    "|....#..|\n",
    "|..#.#..|\n",
    "|..#.#..|\n",
    "|#####..|\n",
    "|..###..|\n",
    "|...#...|\n",
    "|..####.|\n",
    "+-------+\n",
    "To prove to the elephants your simulation is accurate, they want to know how tall the tower will get after 2022 rocks have stopped (but before the 2023rd rock begins falling). In this example, the tower of rocks will be 3068 units tall.\n",
    "\n",
    "How many units tall will the tower of rocks be after 2022 rocks have stopped falling?\n",
    "\n",
    "Your puzzle answer was 3219.\n",
    "\n",
    "--- Part Two ---\n",
    "The elephants are not impressed by your simulation. They demand to know how tall the tower will be after 1000000000000 rocks have stopped! Only then will they feel confident enough to proceed through the cave.\n",
    "\n",
    "In the example above, the tower would be 1514285714288 units tall!\n",
    "\n",
    "How tall will the tower be after 1000000000000 rocks have stopped?\n",
    "\n",
    "Your puzzle answer was 1582758620701."
   ]
  },
  {
   "cell_type": "code",
   "execution_count": 1,
   "id": "single-species",
   "metadata": {},
   "outputs": [],
   "source": [
    "import warnings\n",
    "\n",
    "warnings.filterwarnings(\"ignore\")\n",
    "\n",
    "import itertools\n",
    "import json\n",
    "import math\n",
    "import os\n",
    "import re\n",
    "import sys\n",
    "from collections import Counter\n",
    "from copy import deepcopy\n",
    "from functools import reduce\n",
    "from pathlib import Path\n",
    "\n",
    "import matplotlib.pyplot as plt\n",
    "import networkx as nx\n",
    "import numpy as np\n",
    "import pandas as pd\n",
    "import seaborn as sns\n",
    "from networkx.algorithms.shortest_paths.weighted import dijkstra_path_length\n",
    "from rich import print\n",
    "from tqdm import tqdm"
   ]
  },
  {
   "cell_type": "code",
   "execution_count": 2,
   "id": "immediate-kelly",
   "metadata": {},
   "outputs": [],
   "source": [
    "def plot_mtx(mtx, figsize=(10, 10)):\n",
    "    fig, ax = plt.subplots(figsize=figsize)\n",
    "    ax.matshow(mtx, cmap=plt.cm.Blues)\n",
    "    plt.plot()"
   ]
  },
  {
   "cell_type": "raw",
   "id": "81854fe7-7b5e-455f-bcb7-d5031f8df95f",
   "metadata": {},
   "source": [
    "def read_file_to_str_li(fp, print_exp=True):\n",
    "    with open(fp, \"r\") as f:\n",
    "        lines = f.read().split(\"\\n\")\n",
    "    if print_exp:\n",
    "        print(f\"Read from {fp}:\")\n",
    "        print(f\"First line: {lines[0]} | Last line: {lines[-1]}\")\n",
    "        print(\"-\" * 6)\n",
    "\n",
    "    return lines\n",
    "\n",
    "\n",
    "# define the function blocks\n",
    "def convert_to_int(input_str):\n",
    "    if input_str == \"\" or input_str == \" \":\n",
    "        return None\n",
    "    return int(input_str)\n",
    "\n",
    "\n",
    "def convert_to_str(input_str):\n",
    "    return str(input_str)\n",
    "\n",
    "\n",
    "# map the inputs to the function blocks\n",
    "converts = {\n",
    "    \"i\": convert_to_int,\n",
    "    \"s\": convert_to_str,\n",
    "}\n",
    "\n",
    "\n",
    "def convert_str_li_to_other_li(\n",
    "    str_li, pattern=\"i\", per_letter=False, sep=\" \", start_row=0, end_row=None\n",
    "):\n",
    "    \"\"\"Convert a list of string to a list of other types\n",
    "\n",
    "    pattern: a list of types for one item.\n",
    "        'i' for int, 's' for string\n",
    "        'si' means: convert the 1st item to string, the rest to integer\n",
    "        If separated items are more than pattern items,\n",
    "        use the last one from the parttern.\n",
    "    if per_letter=True, ignore sep and separate item per letter\n",
    "    \"\"\"\n",
    "    target_str_li = str_li[start_row:end_row]\n",
    "    # find max item num\n",
    "    max_item_num = 1\n",
    "    if per_letter:\n",
    "        max_item_num = max([len(s) for s in target_str_li])\n",
    "    else:\n",
    "        max_item_num = max([len(s.split(sep)) for s in target_str_li])\n",
    "\n",
    "    # extend the pattern to the max itme num\n",
    "    pattern = (\n",
    "        pattern + f\"{pattern[-1]}\" * (max_item_num - len(pattern))\n",
    "        if max_item_num > len(pattern)\n",
    "        else pattern\n",
    "    )\n",
    "\n",
    "    # convert\n",
    "    if per_letter:\n",
    "        return [\n",
    "            [converts[pattern[idx]](item) for idx, item in enumerate(s)]\n",
    "            for s in target_str_li\n",
    "        ]\n",
    "    else:\n",
    "        if sep == \" \":\n",
    "            return [\n",
    "                [converts[pattern[idx]](item) for idx, item in enumerate(s.split())]\n",
    "                for s in target_str_li\n",
    "            ]\n",
    "        else:\n",
    "            return [\n",
    "                [converts[pattern[idx]](item) for idx, item in enumerate(s.split(sep))]\n",
    "                for s in target_str_li\n",
    "            ]"
   ]
  },
  {
   "cell_type": "raw",
   "id": "061e5250-5fc8-4ae7-80af-beda864178be",
   "metadata": {
    "jupyter": {
     "outputs_hidden": true
    },
    "tags": []
   },
   "source": [
    "fp = \"input.txt\"\n",
    "lines = read_file_to_str_li(fp)\n",
    "\n",
    "print(\"Convert to:\")\n",
    "\n",
    "# head = convert_str_li_to_other_li(\n",
    "#     lines, pattern=\"s\", per_letter=True, sep=\",\", start_row=0, end_row=1\n",
    "# )\n",
    "\n",
    "# print(f\"Head:\\n{head}\")\n",
    "# print(f\"First line: {head[0]}\")\n",
    "# print(f\"Last line: {head[-1]}\")\n",
    "\n",
    "data = convert_str_li_to_other_li(\n",
    "    lines, pattern=\"s\", per_letter=True, sep=\"\", start_row=None, end_row=None\n",
    ")\n",
    "\n",
    "\n",
    "print(f\"First line: {data[0]}\")\n",
    "print(f\"Last line: {data[-1]}\")\n",
    "print(\"-\" * 6)"
   ]
  },
  {
   "cell_type": "code",
   "execution_count": 3,
   "id": "16479980-abae-43f7-b51c-69eddd95dfa0",
   "metadata": {},
   "outputs": [
    {
     "data": {
      "text/html": [
       "<pre style=\"white-space:pre;overflow-x:auto;line-height:normal;font-family:Menlo,'DejaVu Sans Mono',consolas,'Courier New',monospace\"><span style=\"color: #008080; text-decoration-color: #008080; font-weight: bold\">10091</span>\n",
       "</pre>\n"
      ],
      "text/plain": [
       "\u001b[1;36m10091\u001b[0m\n"
      ]
     },
     "metadata": {},
     "output_type": "display_data"
    }
   ],
   "source": [
    "fp = \"input.txt\"\n",
    "with open(fp, \"r\") as f:\n",
    "    lines = f.read().split(\"\\n\")\n",
    "wind_li = [l for l in lines[0]]\n",
    "wind_deno = len(wind_li)\n",
    "print(wind_deno)"
   ]
  },
  {
   "cell_type": "code",
   "execution_count": 4,
   "id": "e2772d2c-793c-45f2-bbf0-6780e7829019",
   "metadata": {},
   "outputs": [
    {
     "data": {
      "image/png": "[encoded data removed]",
      "text/plain": [
       "<Figure size 300x300 with 1 Axes>"
      ]
     },
     "metadata": {},
     "output_type": "display_data"
    }
   ],
   "source": [
    "# init chamber mtx\n",
    "chamber = np.zeros((10000, 9), dtype=\"int8\")\n",
    "\n",
    "chamber[:, 0] = 3\n",
    "chamber[:, 8] = 3\n",
    "chamber[0, :] = 3\n",
    "\n",
    "plot_mtx(chamber[:15, :], figsize=(3, 3))"
   ]
  },
  {
   "cell_type": "code",
   "execution_count": 5,
   "id": "6cad94cd-fea5-4a39-9ee0-ff808a8b2c10",
   "metadata": {},
   "outputs": [],
   "source": [
    "def extract_mtx(mtx, pos, size=4):\n",
    "    i, j = pos[0], pos[1]\n",
    "    if j < 0:\n",
    "        return np.c_[\n",
    "            np.full((size, -j), 3, dtype=\"int8\"), mtx[i : i + size, 0 : j + size]\n",
    "        ]\n",
    "    elif j + size >= mtx.shape[1]:\n",
    "        return np.c_[\n",
    "            mtx[i : i + size, j : j + size],\n",
    "            np.full((size, j + size - mtx.shape[1]), 3, dtype=\"int8\"),\n",
    "        ]\n",
    "    else:\n",
    "        return mtx[i : i + size, j : j + size].copy()"
   ]
  },
  {
   "cell_type": "code",
   "execution_count": 6,
   "id": "e01ebbb3-c8f7-4fe0-8a65-a444279cea2c",
   "metadata": {},
   "outputs": [
    {
     "data": {
      "image/png": "[encoded data removed]",
      "text/plain": [
       "<Figure size 100x100 with 1 Axes>"
      ]
     },
     "metadata": {},
     "output_type": "display_data"
    },
    {
     "data": {
      "image/png": "[encoded data removed]",
      "text/plain": [
       "<Figure size 100x100 with 1 Axes>"
      ]
     },
     "metadata": {},
     "output_type": "display_data"
    },
    {
     "data": {
      "image/png": "[encoded data removed]",
      "text/plain": [
       "<Figure size 100x100 with 1 Axes>"
      ]
     },
     "metadata": {},
     "output_type": "display_data"
    },
    {
     "data": {
      "image/png": "[encoded data removed]",
      "text/plain": [
       "<Figure size 100x100 with 1 Axes>"
      ]
     },
     "metadata": {},
     "output_type": "display_data"
    },
    {
     "data": {
      "image/png": "[encoded data removed]",
      "text/plain": [
       "<Figure size 100x100 with 1 Axes>"
      ]
     },
     "metadata": {},
     "output_type": "display_data"
    }
   ],
   "source": [
    "rock0 = np.zeros((4, 4), dtype=\"int8\")\n",
    "rock0[0, :] = 1\n",
    "plot_mtx(rock0, figsize=(1, 1))\n",
    "\n",
    "rock1 = np.zeros((4, 4), dtype=\"int8\")\n",
    "rock1[0, 2] = 1\n",
    "rock1[1, 1:] = 1\n",
    "rock1[2, 2] = 1\n",
    "plot_mtx(rock1, figsize=(1, 1))\n",
    "\n",
    "rock2 = np.zeros((4, 4), dtype=\"int8\")\n",
    "rock2[0, 1:] = 1\n",
    "rock2[0:3, 1] = 1\n",
    "plot_mtx(rock2, figsize=(1, 1))\n",
    "\n",
    "rock3 = np.zeros((4, 4), dtype=\"int8\")\n",
    "rock3[:, -1] = 1\n",
    "plot_mtx(rock3, figsize=(1, 1))\n",
    "\n",
    "rock4 = np.zeros((4, 4), dtype=\"int8\")\n",
    "rock4[0, -2:] = 1\n",
    "rock4[1, -2:] = 1\n",
    "plot_mtx(rock4, figsize=(1, 1))\n",
    "\n",
    "rock_li = [rock0, rock1, rock2, rock3, rock4]"
   ]
  },
  {
   "cell_type": "code",
   "execution_count": 7,
   "id": "387f260c-8cfe-4960-8c72-dd108f58ef08",
   "metadata": {},
   "outputs": [
    {
     "data": {
      "text/plain": [
       "True"
      ]
     },
     "execution_count": 7,
     "metadata": {},
     "output_type": "execute_result"
    },
    {
     "data": {
      "image/png": "[encoded data removed]",
      "text/plain": [
       "<Figure size 100x100 with 1 Axes>"
      ]
     },
     "metadata": {},
     "output_type": "display_data"
    },
    {
     "data": {
      "image/png": "[encoded data removed]",
      "text/plain": [
       "<Figure size 100x100 with 1 Axes>"
      ]
     },
     "metadata": {},
     "output_type": "display_data"
    }
   ],
   "source": [
    "def check_stopped(rock, space):\n",
    "    return np.any((rock == 1) & (space != 0))\n",
    "\n",
    "\n",
    "# test\n",
    "rock = rock_li[1]\n",
    "space = extract_mtx(chamber, [10, -1])\n",
    "plot_mtx(rock, figsize=(1, 1))\n",
    "plot_mtx(space, figsize=(1, 1))\n",
    "check_stopped(rock, space)"
   ]
  },
  {
   "cell_type": "code",
   "execution_count": 8,
   "id": "ffdc4e4f-0c78-4267-b50a-22d0ca4a7537",
   "metadata": {},
   "outputs": [],
   "source": [
    "add_hight_dict = {0: 1, 1: 3, 2: 3, 3: 4, 4: 2}  # depends on rock type\n",
    "\n",
    "\n",
    "def add_loaded_rock(mtx, rock_idx, pos, top_row):\n",
    "    rock = rock_li[rock_idx]\n",
    "    for i in range(rock.shape[0]):\n",
    "        for j in range(rock.shape[1]):\n",
    "            if (0 <= pos[1] + j < mtx.shape[1]) and (rock[i, j] == 1):\n",
    "                mtx[pos[0] + i, pos[1] + j] = 2\n",
    "    return max(add_hight_dict[rock_idx] + pos[0] - 1, top_row)"
   ]
  },
  {
   "cell_type": "code",
   "execution_count": 9,
   "id": "83328c9d-5ce2-4248-8d7a-620943832271",
   "metadata": {},
   "outputs": [
    {
     "data": {
      "text/html": [
       "<pre style=\"white-space:pre;overflow-x:auto;line-height:normal;font-family:Menlo,'DejaVu Sans Mono',consolas,'Courier New',monospace\">Answer to Q1: <span style=\"color: #008080; text-decoration-color: #008080; font-weight: bold\">3219</span>\n",
       "</pre>\n"
      ],
      "text/plain": [
       "Answer to Q1: \u001b[1;36m3219\u001b[0m\n"
      ]
     },
     "metadata": {},
     "output_type": "display_data"
    },
    {
     "name": "stdout",
     "output_type": "stream",
     "text": [
      "CPU times: user 545 ms, sys: 3.17 ms, total: 548 ms\n",
      "Wall time: 196 ms\n"
     ]
    },
    {
     "data": {
      "image/png": "[encoded data removed]",
      "text/plain": [
       "<Figure size 300x300 with 1 Axes>"
      ]
     },
     "metadata": {},
     "output_type": "display_data"
    }
   ],
   "source": [
    "%%time\n",
    "\n",
    "\n",
    "def count_top_row(num_rock, plot_top_row=False, collect_info=False):\n",
    "    # init chamber mtx\n",
    "    tall_size = 1_000_000\n",
    "    chamber = np.zeros((tall_size, 9), dtype=\"int8\")\n",
    "\n",
    "    chamber[:, 0] = 3\n",
    "    chamber[:, 8] = 3\n",
    "    chamber[0, :] = 3\n",
    "\n",
    "    keep_top_row = 500\n",
    "\n",
    "    rock_count = 0\n",
    "    step_count = -1\n",
    "    top_row = 0\n",
    "    last_top = 0\n",
    "    total_top = 0\n",
    "\n",
    "    if collect_info:\n",
    "        rock_top_dict = {}\n",
    "        rock_step_dict = {}\n",
    "\n",
    "    while True:\n",
    "        # add new rock\n",
    "        rock_idx = rock_count % len(rock_li)\n",
    "        rock = rock_li[rock_idx]\n",
    "        # get rock pos\n",
    "        rock_pos = np.array([top_row + 4, 2])\n",
    "        while True:  # until it loads\n",
    "            step_count += 1\n",
    "            # get wind\n",
    "            wind = wind_li[step_count % wind_deno]\n",
    "            # \">\": move right, j->j-1\n",
    "            # \"<\": move left, j->j+1\n",
    "            temp_rock_pos = rock_pos + np.array([0, -1 if wind == \">\" else 1])\n",
    "            if not check_stopped(rock, extract_mtx(chamber, temp_rock_pos)):\n",
    "                # move\n",
    "                rock_pos = temp_rock_pos\n",
    "            # move 1 step down\n",
    "            temp_rock_pos = rock_pos + np.array([-1, 0])\n",
    "            if check_stopped(rock, extract_mtx(chamber, temp_rock_pos)):\n",
    "                # loaded, update top_row\n",
    "                top_row = add_loaded_rock(chamber, rock_idx, rock_pos, top_row)\n",
    "                # remove rocks\n",
    "                if top_row > tall_size - 20:\n",
    "                    total_top += tall_size - keep_top_row\n",
    "                    top_row = top_row - tall_size + keep_top_row\n",
    "                    last_top = top_row\n",
    "\n",
    "                    chamber = np.vstack(\n",
    "                        (\n",
    "                            chamber[-keep_top_row:, :],\n",
    "                            np.zeros((tall_size - keep_top_row, 9), dtype=\"int8\"),\n",
    "                        )\n",
    "                    )\n",
    "                    chamber[:, 0] = 3\n",
    "                    chamber[:, 8] = 3\n",
    "                    chamber[0, :] = 3\n",
    "\n",
    "                break\n",
    "            else:\n",
    "                # move\n",
    "                rock_pos = temp_rock_pos\n",
    "\n",
    "        rock_count += 1\n",
    "        if collect_info:\n",
    "            if rock_count % len(rock_li) == 0:\n",
    "                rock_top_dict[rock_count] = total_top + top_row\n",
    "                rock_step_dict[rock_count] = step_count + 1\n",
    "        if rock_count >= num_rock:\n",
    "            total_top += top_row\n",
    "            break\n",
    "    if plot_top_row:\n",
    "        plot_mtx(\n",
    "            np.flip(np.flip(chamber[top_row - 15 : top_row + 2, :], 1), 0),\n",
    "            figsize=(3, 3),\n",
    "        )\n",
    "    if collect_info:\n",
    "        return rock_step_dict, rock_top_dict\n",
    "    else:\n",
    "        return total_top\n",
    "\n",
    "\n",
    "print(f\"Answer to Q1: {count_top_row(2022, plot_top_row=True)}\")"
   ]
  },
  {
   "cell_type": "code",
   "execution_count": 10,
   "id": "cfaefa37-861e-4dda-952b-41508e62777c",
   "metadata": {},
   "outputs": [
    {
     "name": "stdout",
     "output_type": "stream",
     "text": [
      "CPU times: user 4.39 s, sys: 25.9 ms, total: 4.42 s\n",
      "Wall time: 3.91 s\n"
     ]
    }
   ],
   "source": [
    "%%time\n",
    "rock_step_dict, rock_top_dict = count_top_row(\n",
    "    50000, plot_top_row=False, collect_info=True\n",
    ")"
   ]
  },
  {
   "cell_type": "code",
   "execution_count": 11,
   "id": "416250e4-de1d-4f98-9dee-49dc46377eb1",
   "metadata": {},
   "outputs": [
    {
     "data": {
      "text/html": [
       "<pre style=\"white-space:pre;overflow-x:auto;line-height:normal;font-family:Menlo,'DejaVu Sans Mono',consolas,'Courier New',monospace\">Loop start from: <span style=\"color: #008080; text-decoration-color: #008080; font-weight: bold\">210</span>\n",
       "Loop length: <span style=\"color: #008080; text-decoration-color: #008080; font-weight: bold\">8700</span>\n",
       "Loop gain: <span style=\"color: #008080; text-decoration-color: #008080; font-weight: bold\">13770</span>\n",
       "</pre>\n"
      ],
      "text/plain": [
       "Loop start from: \u001b[1;36m210\u001b[0m\n",
       "Loop length: \u001b[1;36m8700\u001b[0m\n",
       "Loop gain: \u001b[1;36m13770\u001b[0m\n"
      ]
     },
     "metadata": {},
     "output_type": "display_data"
    }
   ],
   "source": [
    "# Find start loop\n",
    "gap_size = wind_deno * len(rock_li)\n",
    "all_repeat_li = []\n",
    "for i in range(len(rock_li), len(rock_step_dict) // 2, len(rock_li)):\n",
    "    if rock_step_dict[i] + gap_size in rock_step_dict.values():\n",
    "        all_repeat_li.append(i)\n",
    "for i in range(len(all_repeat_li) - 1):\n",
    "    if all_repeat_li[i + 1] - all_repeat_li[i] == len(rock_li):\n",
    "        start_loop = all_repeat_li[i]\n",
    "        break\n",
    "# Find loop length\n",
    "for k, v in rock_step_dict.items():\n",
    "    if v == rock_step_dict[start_loop] + gap_size:\n",
    "        loop_length = k - start_loop\n",
    "# Find loop gain\n",
    "loop_gain = rock_top_dict[loop_length + start_loop] - rock_top_dict[start_loop]\n",
    "print(\n",
    "    f\"Loop start from: {start_loop}\\nLoop length: {loop_length}\\nLoop gain: {loop_gain}\"\n",
    ")"
   ]
  },
  {
   "cell_type": "code",
   "execution_count": 12,
   "id": "7d531c71-7ab2-446a-8051-ab5a6deecc76",
   "metadata": {},
   "outputs": [
    {
     "data": {
      "text/html": [
       "<pre style=\"white-space:pre;overflow-x:auto;line-height:normal;font-family:Menlo,'DejaVu Sans Mono',consolas,'Courier New',monospace\">Answer to Q2: <span style=\"color: #008080; text-decoration-color: #008080; font-weight: bold\">1582758620701</span>\n",
       "</pre>\n"
      ],
      "text/plain": [
       "Answer to Q2: \u001b[1;36m1582758620701\u001b[0m\n"
      ]
     },
     "metadata": {},
     "output_type": "display_data"
    }
   ],
   "source": [
    "target_loop = 1000000000000\n",
    "final_top_row = (target_loop - start_loop) // loop_length * loop_gain + rock_top_dict[\n",
    "    (target_loop - start_loop) % loop_length + start_loop\n",
    "]\n",
    "print(f\"Answer to Q2: {final_top_row}\")"
   ]
  },
  {
   "cell_type": "code",
   "execution_count": 13,
   "id": "abe9f961-62ce-4d1c-b2b6-e3c7d9d20a84",
   "metadata": {},
   "outputs": [
    {
     "data": {
      "image/png": "[encoded data removed]",
      "text/plain": [
       "<Figure size 300x300 with 1 Axes>"
      ]
     },
     "metadata": {},
     "output_type": "display_data"
    },
    {
     "data": {
      "image/png": "[encoded data removed]",
      "text/plain": [
       "<Figure size 300x300 with 1 Axes>"
      ]
     },
     "metadata": {},
     "output_type": "display_data"
    },
    {
     "data": {
      "image/png": "[encoded data removed]",
      "text/plain": [
       "<Figure size 300x300 with 1 Axes>"
      ]
     },
     "metadata": {},
     "output_type": "display_data"
    }
   ],
   "source": [
    "for i in range(3):\n",
    "    count_top_row(start_loop + loop_length * i, plot_top_row=True)"
   ]
  },
  {
   "cell_type": "code",
   "execution_count": null,
   "id": "77307602-c222-41d2-a5fd-c6af0ec13552",
   "metadata": {},
   "outputs": [],
   "source": []
  }
 ],
 "metadata": {
  "kernelspec": {
   "display_name": "Python [conda env:ds38]",
   "language": "python",
   "name": "conda-env-ds38-py"
  },
  "language_info": {
   "codemirror_mode": {
    "name": "ipython",
    "version": 3
   },
   "file_extension": ".py",
   "mimetype": "text/x-python",
   "name": "python",
   "nbconvert_exporter": "python",
   "pygments_lexer": "ipython3",
   "version": "3.8.13"
  }
 },
 "nbformat": 4,
 "nbformat_minor": 5
}
