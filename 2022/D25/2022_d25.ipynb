{
 "cells": [
  {
   "cell_type": "raw",
   "id": "raised-stuff",
   "metadata": {
    "jupyter": {
     "source_hidden": true
    },
    "tags": []
   },
   "source": [
    "--- Day 24: Blizzard Basin ---\n",
    "With everything replanted for next year (and with elephants and monkeys to tend the grove), you and the Elves leave for the extraction point.\n",
    "\n",
    "Partway up the mountain that shields the grove is a flat, open area that serves as the extraction point. It's a bit of a climb, but nothing the expedition can't handle.\n",
    "\n",
    "At least, that would normally be true; now that the mountain is covered in snow, things have become more difficult than the Elves are used to.\n",
    "\n",
    "As the expedition reaches a valley that must be traversed to reach the extraction site, you find that strong, turbulent winds are pushing small blizzards of snow and sharp ice around the valley. It's a good thing everyone packed warm clothes! To make it across safely, you'll need to find a way to avoid them.\n",
    "\n",
    "Fortunately, it's easy to see all of this from the entrance to the valley, so you make a map of the valley and the blizzards (your puzzle input). For example:\n",
    "\n",
    "#.#####\n",
    "#.....#\n",
    "#>....#\n",
    "#.....#\n",
    "#...v.#\n",
    "#.....#\n",
    "#####.#\n",
    "The walls of the valley are drawn as #; everything else is ground. Clear ground - where there is currently no blizzard - is drawn as .. Otherwise, blizzards are drawn with an arrow indicating their direction of motion: up (^), down (v), left (<), or right (>).\n",
    "\n",
    "The above map includes two blizzards, one moving right (>) and one moving down (v). In one minute, each blizzard moves one position in the direction it is pointing:\n",
    "\n",
    "#.#####\n",
    "#.....#\n",
    "#.>...#\n",
    "#.....#\n",
    "#.....#\n",
    "#...v.#\n",
    "#####.#\n",
    "Due to conservation of blizzard energy, as a blizzard reaches the wall of the valley, a new blizzard forms on the opposite side of the valley moving in the same direction. After another minute, the bottom downward-moving blizzard has been replaced with a new downward-moving blizzard at the top of the valley instead:\n",
    "\n",
    "#.#####\n",
    "#...v.#\n",
    "#..>..#\n",
    "#.....#\n",
    "#.....#\n",
    "#.....#\n",
    "#####.#\n",
    "Because blizzards are made of tiny snowflakes, they pass right through each other. After another minute, both blizzards temporarily occupy the same position, marked 2:\n",
    "\n",
    "#.#####\n",
    "#.....#\n",
    "#...2.#\n",
    "#.....#\n",
    "#.....#\n",
    "#.....#\n",
    "#####.#\n",
    "After another minute, the situation resolves itself, giving each blizzard back its personal space:\n",
    "\n",
    "#.#####\n",
    "#.....#\n",
    "#....>#\n",
    "#...v.#\n",
    "#.....#\n",
    "#.....#\n",
    "#####.#\n",
    "Finally, after yet another minute, the rightward-facing blizzard on the right is replaced with a new one on the left facing the same direction:\n",
    "\n",
    "#.#####\n",
    "#.....#\n",
    "#>....#\n",
    "#.....#\n",
    "#...v.#\n",
    "#.....#\n",
    "#####.#\n",
    "This process repeats at least as long as you are observing it, but probably forever.\n",
    "\n",
    "Here is a more complex example:\n",
    "\n",
    "#.######\n",
    "#>>.<^<#\n",
    "#.<..<<#\n",
    "#>v.><>#\n",
    "#<^v^^>#\n",
    "######.#\n",
    "Your expedition begins in the only non-wall position in the top row and needs to reach the only non-wall position in the bottom row. On each minute, you can move up, down, left, or right, or you can wait in place. You and the blizzards act simultaneously, and you cannot share a position with a blizzard.\n",
    "\n",
    "In the above example, the fastest way to reach your goal requires 18 steps. Drawing the position of the expedition as E, one way to achieve this is:\n",
    "\n",
    "Initial state:\n",
    "#E######\n",
    "#>>.<^<#\n",
    "#.<..<<#\n",
    "#>v.><>#\n",
    "#<^v^^>#\n",
    "######.#\n",
    "\n",
    "Minute 1, move down:\n",
    "#.######\n",
    "#E>3.<.#\n",
    "#<..<<.#\n",
    "#>2.22.#\n",
    "#>v..^<#\n",
    "######.#\n",
    "\n",
    "Minute 2, move down:\n",
    "#.######\n",
    "#.2>2..#\n",
    "#E^22^<#\n",
    "#.>2.^>#\n",
    "#.>..<.#\n",
    "######.#\n",
    "\n",
    "Minute 3, wait:\n",
    "#.######\n",
    "#<^<22.#\n",
    "#E2<.2.#\n",
    "#><2>..#\n",
    "#..><..#\n",
    "######.#\n",
    "\n",
    "Minute 4, move up:\n",
    "#.######\n",
    "#E<..22#\n",
    "#<<.<..#\n",
    "#<2.>>.#\n",
    "#.^22^.#\n",
    "######.#\n",
    "\n",
    "Minute 5, move right:\n",
    "#.######\n",
    "#2Ev.<>#\n",
    "#<.<..<#\n",
    "#.^>^22#\n",
    "#.2..2.#\n",
    "######.#\n",
    "\n",
    "Minute 6, move right:\n",
    "#.######\n",
    "#>2E<.<#\n",
    "#.2v^2<#\n",
    "#>..>2>#\n",
    "#<....>#\n",
    "######.#\n",
    "\n",
    "Minute 7, move down:\n",
    "#.######\n",
    "#.22^2.#\n",
    "#<vE<2.#\n",
    "#>>v<>.#\n",
    "#>....<#\n",
    "######.#\n",
    "\n",
    "Minute 8, move left:\n",
    "#.######\n",
    "#.<>2^.#\n",
    "#.E<<.<#\n",
    "#.22..>#\n",
    "#.2v^2.#\n",
    "######.#\n",
    "\n",
    "Minute 9, move up:\n",
    "#.######\n",
    "#<E2>>.#\n",
    "#.<<.<.#\n",
    "#>2>2^.#\n",
    "#.v><^.#\n",
    "######.#\n",
    "\n",
    "Minute 10, move right:\n",
    "#.######\n",
    "#.2E.>2#\n",
    "#<2v2^.#\n",
    "#<>.>2.#\n",
    "#..<>..#\n",
    "######.#\n",
    "\n",
    "Minute 11, wait:\n",
    "#.######\n",
    "#2^E^2>#\n",
    "#<v<.^<#\n",
    "#..2.>2#\n",
    "#.<..>.#\n",
    "######.#\n",
    "\n",
    "Minute 12, move down:\n",
    "#.######\n",
    "#>>.<^<#\n",
    "#.<E.<<#\n",
    "#>v.><>#\n",
    "#<^v^^>#\n",
    "######.#\n",
    "\n",
    "Minute 13, move down:\n",
    "#.######\n",
    "#.>3.<.#\n",
    "#<..<<.#\n",
    "#>2E22.#\n",
    "#>v..^<#\n",
    "######.#\n",
    "\n",
    "Minute 14, move right:\n",
    "#.######\n",
    "#.2>2..#\n",
    "#.^22^<#\n",
    "#.>2E^>#\n",
    "#.>..<.#\n",
    "######.#\n",
    "\n",
    "Minute 15, move right:\n",
    "#.######\n",
    "#<^<22.#\n",
    "#.2<.2.#\n",
    "#><2>E.#\n",
    "#..><..#\n",
    "######.#\n",
    "\n",
    "Minute 16, move right:\n",
    "#.######\n",
    "#.<..22#\n",
    "#<<.<..#\n",
    "#<2.>>E#\n",
    "#.^22^.#\n",
    "######.#\n",
    "\n",
    "Minute 17, move down:\n",
    "#.######\n",
    "#2.v.<>#\n",
    "#<.<..<#\n",
    "#.^>^22#\n",
    "#.2..2E#\n",
    "######.#\n",
    "\n",
    "Minute 18, move down:\n",
    "#.######\n",
    "#>2.<.<#\n",
    "#.2v^2<#\n",
    "#>..>2>#\n",
    "#<....>#\n",
    "######E#\n",
    "What is the fewest number of minutes required to avoid the blizzards and reach the goal?\n",
    "\n",
    "Your puzzle answer was 283.\n",
    "\n",
    "--- Part Two ---\n",
    "As the expedition reaches the far side of the valley, one of the Elves looks especially dismayed:\n",
    "\n",
    "He forgot his snacks at the entrance to the valley!\n",
    "\n",
    "Since you're so good at dodging blizzards, the Elves humbly request that you go back for his snacks. From the same initial conditions, how quickly can you make it from the start to the goal, then back to the start, then back to the goal?\n",
    "\n",
    "In the above example, the first trip to the goal takes 18 minutes, the trip back to the start takes 23 minutes, and the trip back to the goal again takes 13 minutes, for a total time of 54 minutes.\n",
    "\n",
    "What is the fewest number of minutes required to reach the goal, go back to the start, then reach the goal again?\n",
    "\n",
    "Your puzzle answer was 883."
   ]
  },
  {
   "cell_type": "code",
   "execution_count": 1,
   "id": "controlled-algebra",
   "metadata": {},
   "outputs": [],
   "source": [
    "import warnings\n",
    "\n",
    "warnings.filterwarnings(\"ignore\")\n",
    "\n",
    "import ast\n",
    "import itertools\n",
    "import json\n",
    "import math\n",
    "import os\n",
    "import random\n",
    "import re\n",
    "import sys\n",
    "from collections import Counter, deque\n",
    "from copy import deepcopy\n",
    "from functools import reduce\n",
    "from pathlib import Path\n",
    "\n",
    "import matplotlib.pyplot as plt\n",
    "import networkx as nx\n",
    "import numpy as np\n",
    "import pandas as pd\n",
    "import seaborn as sns\n",
    "from networkx.algorithms.shortest_paths.weighted import dijkstra_path_length\n",
    "from rich import print\n",
    "from scipy.signal import convolve2d\n",
    "from tqdm import tqdm"
   ]
  },
  {
   "cell_type": "code",
   "execution_count": 2,
   "id": "impressive-america",
   "metadata": {},
   "outputs": [],
   "source": [
    "def plot_mtx(mtx, figsize=(10, 10)):\n",
    "    fig, ax = plt.subplots(figsize=figsize)\n",
    "    ax.matshow(mtx, cmap=plt.cm.Blues)\n",
    "    plt.plot()"
   ]
  },
  {
   "cell_type": "code",
   "execution_count": 3,
   "id": "welsh-contemporary",
   "metadata": {},
   "outputs": [],
   "source": [
    "def read_file_to_str_li(fp, print_exp=True):\n",
    "    with open(fp, \"r\") as f:\n",
    "        lines = f.read().split(\"\\n\")\n",
    "    if print_exp:\n",
    "        print(f\"Read from {fp}:\")\n",
    "        print(f\"First line: {lines[0]} | Last line: {lines[-1]}\")\n",
    "        print(\"-\" * 6)\n",
    "\n",
    "    return lines\n",
    "\n",
    "\n",
    "# define the function blocks\n",
    "def convert_to_int(input_str):\n",
    "    if input_str == \"\" or input_str == \" \":\n",
    "        return None\n",
    "    return int(input_str)\n",
    "\n",
    "\n",
    "def convert_to_str(input_str):\n",
    "    return str(input_str)\n",
    "\n",
    "\n",
    "# map the inputs to the function blocks\n",
    "converts = {\n",
    "    \"i\": convert_to_int,\n",
    "    \"s\": convert_to_str,\n",
    "}\n",
    "\n",
    "\n",
    "def convert_str_li_to_other_li(\n",
    "    str_li, pattern=\"i\", per_letter=False, sep=\" \", start_row=0, end_row=None\n",
    "):\n",
    "    \"\"\"Convert a list of string to a list of other types\n",
    "\n",
    "    pattern: a list of types for one item.\n",
    "        'i' for int, 's' for string\n",
    "        'si' means: convert the 1st item to string, the rest to integer\n",
    "        If separated items are more than pattern items,\n",
    "        use the last one from the parttern.\n",
    "    if per_letter=True, ignore sep and separate item per letter\n",
    "    \"\"\"\n",
    "    target_str_li = str_li[start_row:end_row]\n",
    "    # find max item num\n",
    "    max_item_num = 1\n",
    "    if per_letter:\n",
    "        max_item_num = max([len(s) for s in target_str_li])\n",
    "    else:\n",
    "        max_item_num = max([len(s.split(sep)) for s in target_str_li])\n",
    "\n",
    "    # extend the pattern to the max itme num\n",
    "    pattern = (\n",
    "        pattern + f\"{pattern[-1]}\" * (max_item_num - len(pattern))\n",
    "        if max_item_num > len(pattern)\n",
    "        else pattern\n",
    "    )\n",
    "\n",
    "    # convert\n",
    "    if per_letter:\n",
    "        return [\n",
    "            [converts[pattern[idx]](item) for idx, item in enumerate(s)]\n",
    "            for s in target_str_li\n",
    "        ]\n",
    "    else:\n",
    "        if sep == \" \":\n",
    "            return [\n",
    "                [converts[pattern[idx]](item) for idx, item in enumerate(s.split())]\n",
    "                for s in target_str_li\n",
    "            ]\n",
    "        else:\n",
    "            return [\n",
    "                [converts[pattern[idx]](item) for idx, item in enumerate(s.split(sep))]\n",
    "                for s in target_str_li\n",
    "            ]"
   ]
  },
  {
   "cell_type": "code",
   "execution_count": 4,
   "id": "geographic-blair",
   "metadata": {
    "tags": []
   },
   "outputs": [
    {
     "data": {
      "text/html": [
       "<pre style=\"white-space:pre;overflow-x:auto;line-height:normal;font-family:Menlo,'DejaVu Sans Mono',consolas,'Courier New',monospace\">Read from input.txt:\n",
       "</pre>\n"
      ],
      "text/plain": [
       "Read from input.txt:\n"
      ]
     },
     "metadata": {},
     "output_type": "display_data"
    },
    {
     "data": {
      "text/html": [
       "<pre style=\"white-space:pre;overflow-x:auto;line-height:normal;font-family:Menlo,'DejaVu Sans Mono',consolas,'Courier New',monospace\">First line: <span style=\"color: #008080; text-decoration-color: #008080; font-weight: bold\">110</span>=<span style=\"color: #008080; text-decoration-color: #008080; font-weight: bold\">11</span>=<span style=\"color: #008080; text-decoration-color: #008080; font-weight: bold\">10</span>-=<span style=\"color: #008080; text-decoration-color: #008080; font-weight: bold\">202</span>=<span style=\"color: #008080; text-decoration-color: #008080; font-weight: bold\">2</span>-<span style=\"color: #008080; text-decoration-color: #008080; font-weight: bold\">10</span> | Last line: <span style=\"color: #008080; text-decoration-color: #008080; font-weight: bold\">1</span>=<span style=\"color: #008080; text-decoration-color: #008080; font-weight: bold\">11</span>-<span style=\"color: #008080; text-decoration-color: #008080; font-weight: bold\">210</span>-<span style=\"color: #008080; text-decoration-color: #008080; font-weight: bold\">02</span>\n",
       "</pre>\n"
      ],
      "text/plain": [
       "First line: \u001b[1;36m110\u001b[0m=\u001b[1;36m11\u001b[0m=\u001b[1;36m10\u001b[0m-=\u001b[1;36m202\u001b[0m=\u001b[1;36m2\u001b[0m-\u001b[1;36m10\u001b[0m | Last line: \u001b[1;36m1\u001b[0m=\u001b[1;36m11\u001b[0m-\u001b[1;36m210\u001b[0m-\u001b[1;36m02\u001b[0m\n"
      ]
     },
     "metadata": {},
     "output_type": "display_data"
    },
    {
     "data": {
      "text/html": [
       "<pre style=\"white-space:pre;overflow-x:auto;line-height:normal;font-family:Menlo,'DejaVu Sans Mono',consolas,'Courier New',monospace\">------\n",
       "</pre>\n"
      ],
      "text/plain": [
       "------\n"
      ]
     },
     "metadata": {},
     "output_type": "display_data"
    },
    {
     "data": {
      "text/html": [
       "<pre style=\"white-space:pre;overflow-x:auto;line-height:normal;font-family:Menlo,'DejaVu Sans Mono',consolas,'Courier New',monospace\">Convert to:\n",
       "</pre>\n"
      ],
      "text/plain": [
       "Convert to:\n"
      ]
     },
     "metadata": {},
     "output_type": "display_data"
    },
    {
     "data": {
      "text/html": [
       "<pre style=\"white-space:pre;overflow-x:auto;line-height:normal;font-family:Menlo,'DejaVu Sans Mono',consolas,'Courier New',monospace\">First line: <span style=\"font-weight: bold\">[</span><span style=\"color: #008000; text-decoration-color: #008000\">'110=11=10-=202=2-10'</span><span style=\"font-weight: bold\">]</span>\n",
       "</pre>\n"
      ],
      "text/plain": [
       "First line: \u001b[1m[\u001b[0m\u001b[32m'\u001b[0m\u001b[32m110\u001b[0m\u001b[32m=\u001b[0m\u001b[32m11\u001b[0m\u001b[32m=10-=\u001b[0m\u001b[32m202\u001b[0m\u001b[32m=\u001b[0m\u001b[32m2\u001b[0m\u001b[32m-10'\u001b[0m\u001b[1m]\u001b[0m\n"
      ]
     },
     "metadata": {},
     "output_type": "display_data"
    },
    {
     "data": {
      "text/html": [
       "<pre style=\"white-space:pre;overflow-x:auto;line-height:normal;font-family:Menlo,'DejaVu Sans Mono',consolas,'Courier New',monospace\">Last line: <span style=\"font-weight: bold\">[</span><span style=\"color: #008000; text-decoration-color: #008000\">'1=11-210-02'</span><span style=\"font-weight: bold\">]</span>\n",
       "</pre>\n"
      ],
      "text/plain": [
       "Last line: \u001b[1m[\u001b[0m\u001b[32m'\u001b[0m\u001b[32m1\u001b[0m\u001b[32m=\u001b[0m\u001b[32m11\u001b[0m\u001b[32m-210-02'\u001b[0m\u001b[1m]\u001b[0m\n"
      ]
     },
     "metadata": {},
     "output_type": "display_data"
    },
    {
     "data": {
      "text/html": [
       "<pre style=\"white-space:pre;overflow-x:auto;line-height:normal;font-family:Menlo,'DejaVu Sans Mono',consolas,'Courier New',monospace\">------\n",
       "</pre>\n"
      ],
      "text/plain": [
       "------\n"
      ]
     },
     "metadata": {},
     "output_type": "display_data"
    }
   ],
   "source": [
    "fp = \"input.txt\"\n",
    "lines = read_file_to_str_li(fp)\n",
    "\n",
    "print(\"Convert to:\")\n",
    "\n",
    "# head = convert_str_li_to_other_li(\n",
    "#     lines, pattern=\"s\", per_letter=True, sep=\",\", start_row=0, end_row=1\n",
    "# )\n",
    "\n",
    "# print(f\"Head:\\n{head}\")\n",
    "# print(f\"First line: {head[0]}\")\n",
    "# print(f\"Last line: {head[-1]}\")\n",
    "\n",
    "data = convert_str_li_to_other_li(\n",
    "    lines, pattern=\"s\", per_letter=False, sep=\" \", start_row=None, end_row=None\n",
    ")\n",
    "\n",
    "\n",
    "print(f\"First line: {data[0]}\")\n",
    "print(f\"Last line: {data[-1]}\")\n",
    "print(\"-\" * 6)"
   ]
  },
  {
   "cell_type": "code",
   "execution_count": 5,
   "id": "d6440af9-4a01-494e-8b2e-f88108446250",
   "metadata": {},
   "outputs": [],
   "source": [
    "def num2snafu(num):\n",
    "    tt = num\n",
    "    snafu_li = [[]]\n",
    "    idx = 0\n",
    "    while num > 0:\n",
    "        snafu_li.append([])\n",
    "        d = num % 5\n",
    "        if d <= 2:\n",
    "            snafu_li[idx].append(str(d))\n",
    "        else:\n",
    "            snafu_li[idx].append(str(\"=\" if d == 3 else \"-\"))\n",
    "            snafu_li[idx + 1].append(\"1\")\n",
    "        num = num // 5\n",
    "        idx += 1\n",
    "    snafu = \"\"\n",
    "    for idx, s in enumerate(snafu_li):\n",
    "        if len(s) == 0:\n",
    "            pass\n",
    "        elif len(s) == 1:\n",
    "            snafu = s[0] + snafu\n",
    "        elif len(s) == 2:\n",
    "            if \"0\" in s:\n",
    "                snafu = \"1\" + snafu\n",
    "            elif \"-\" in s:\n",
    "                snafu = \"0\" + snafu\n",
    "            elif \"=\" in s:\n",
    "                snafu = \"-\" + snafu\n",
    "            elif \"2\" in s:\n",
    "                snafu = \"=\" + snafu\n",
    "                snafu_li[idx + 1].append(\"1\")\n",
    "            else:\n",
    "                snafu = \"2\" + snafu\n",
    "    return snafu"
   ]
  },
  {
   "cell_type": "code",
   "execution_count": 6,
   "id": "b4eeed71-107a-47a2-81cf-3358545053b6",
   "metadata": {},
   "outputs": [],
   "source": [
    "snafu2dec_dict = {\n",
    "    \"0\": 0,\n",
    "    \"1\": 1,\n",
    "    \"2\": 2,\n",
    "    \"=\": -2,\n",
    "    \"-\": -1,\n",
    "}\n",
    "\n",
    "\n",
    "def snafu2num(snafu):\n",
    "    return sum(\n",
    "        [\n",
    "            snafu2dec_dict[l] * (5 ** (len(snafu) - idx - 1))\n",
    "            for idx, l in enumerate(snafu)\n",
    "        ]\n",
    "    )"
   ]
  },
  {
   "cell_type": "code",
   "execution_count": 7,
   "id": "5021a958-b9a8-42e9-9260-8f58f8dd4c70",
   "metadata": {},
   "outputs": [
    {
     "name": "stdout",
     "output_type": "stream",
     "text": [
      "CPU times: user 39.9 ms, sys: 593 µs, total: 40.5 ms\n",
      "Wall time: 40.3 ms\n"
     ]
    }
   ],
   "source": [
    "%%time\n",
    "# Check\n",
    "for i in range(9999):\n",
    "    if i != snafu2num(num2snafu(i)):\n",
    "        print(i)"
   ]
  },
  {
   "cell_type": "code",
   "execution_count": 8,
   "id": "fa58ab64-b4ac-40b1-86e2-6309059a724c",
   "metadata": {},
   "outputs": [
    {
     "data": {
      "text/html": [
       "<pre style=\"white-space:pre;overflow-x:auto;line-height:normal;font-family:Menlo,'DejaVu Sans Mono',consolas,'Courier New',monospace\">Answer to Q1: <span style=\"color: #008080; text-decoration-color: #008080; font-weight: bold\">2</span>-<span style=\"color: #008080; text-decoration-color: #008080; font-weight: bold\">-1</span>=<span style=\"color: #008080; text-decoration-color: #008080; font-weight: bold\">0</span>=<span style=\"color: #008080; text-decoration-color: #008080; font-weight: bold\">-210</span>-<span style=\"color: #008080; text-decoration-color: #008080; font-weight: bold\">1</span>=<span style=\"color: #008080; text-decoration-color: #008080; font-weight: bold\">00</span>=-=<span style=\"color: #008080; text-decoration-color: #008080; font-weight: bold\">1</span>\n",
       "</pre>\n"
      ],
      "text/plain": [
       "Answer to Q1: \u001b[1;36m2\u001b[0m-\u001b[1;36m-\u001b[0m\u001b[1;36m1\u001b[0m=\u001b[1;36m0\u001b[0m=\u001b[1;36m-210\u001b[0m-\u001b[1;36m1\u001b[0m=\u001b[1;36m00\u001b[0m=-=\u001b[1;36m1\u001b[0m\n"
      ]
     },
     "metadata": {},
     "output_type": "display_data"
    }
   ],
   "source": [
    "print(f\"Answer to Q1: {num2snafu(sum([snafu2num(snafu[0]) for snafu in data]))}\")"
   ]
  },
  {
   "cell_type": "code",
   "execution_count": null,
   "id": "ac866cce-c027-4288-86c9-701ccc8a5657",
   "metadata": {},
   "outputs": [],
   "source": []
  }
 ],
 "metadata": {
  "kernelspec": {
   "display_name": "Python [conda env:ds38]",
   "language": "python",
   "name": "conda-env-ds38-py"
  },
  "language_info": {
   "codemirror_mode": {
    "name": "ipython",
    "version": 3
   },
   "file_extension": ".py",
   "mimetype": "text/x-python",
   "name": "python",
   "nbconvert_exporter": "python",
   "pygments_lexer": "ipython3",
   "version": "3.8.13"
  }
 },
 "nbformat": 4,
 "nbformat_minor": 5
}
