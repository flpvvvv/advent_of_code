{
 "cells": [
  {
   "cell_type": "raw",
   "metadata": {},
   "source": [
    "--- Day 21: Allergen Assessment ---\n",
    "\n",
    "You reach the train's last stop and the closest you can get to your vacation island without getting wet. There aren't even any boats here, but nothing can stop you now: you build a raft. You just need a few days' worth of food for your journey.\n",
    "\n",
    "You don't speak the local language, so you can't read any ingredients lists. However, sometimes, allergens are listed in a language you do understand. You should be able to use this information to determine which ingredient contains which allergen and work out which foods are safe to take with you on your trip.\n",
    "\n",
    "You start by compiling a list of foods (your puzzle input), one food per line. Each line includes that food's ingredients list followed by some or all of the allergens the food contains.\n",
    "\n",
    "Each allergen is found in exactly one ingredient. Each ingredient contains zero or one allergen. Allergens aren't always marked; when they're listed (as in (contains nuts, shellfish) after an ingredients list), the ingredient that contains each listed allergen will be somewhere in the corresponding ingredients list. However, even if an allergen isn't listed, the ingredient that contains that allergen could still be present: maybe they forgot to label it, or maybe it was labeled in a language you don't know.\n",
    "\n",
    "For example, consider the following list of foods:\n",
    "\n",
    "mxmxvkd kfcds sqjhc nhms (contains dairy, fish)\n",
    "trh fvjkl sbzzf mxmxvkd (contains dairy)\n",
    "sqjhc fvjkl (contains soy)\n",
    "sqjhc mxmxvkd sbzzf (contains fish)\n",
    "\n",
    "The first food in the list has four ingredients (written in a language you don't understand): mxmxvkd, kfcds, sqjhc, and nhms. While the food might contain other allergens, a few allergens the food definitely contains are listed afterward: dairy and fish.\n",
    "\n",
    "The first step is to determine which ingredients can't possibly contain any of the allergens in any food in your list. In the above example, none of the ingredients kfcds, nhms, sbzzf, or trh can contain an allergen. Counting the number of times any of these ingredients appear in any ingredients list produces 5: they all appear once each except sbzzf, which appears twice.\n",
    "\n",
    "Determine which ingredients cannot possibly contain any of the allergens in your list. How many times do any of those ingredients appear?\n",
    "\n",
    "Your puzzle answer was 1815."
   ]
  },
  {
   "cell_type": "code",
   "execution_count": 1,
   "metadata": {},
   "outputs": [],
   "source": [
    "import warnings\n",
    "\n",
    "warnings.filterwarnings(\"ignore\")\n",
    "\n",
    "import os\n",
    "import re\n",
    "import sys\n",
    "from pathlib import Path\n",
    "\n",
    "import numpy as np\n",
    "import pandas as pd\n",
    "from tqdm import tqdm"
   ]
  },
  {
   "cell_type": "code",
   "execution_count": 2,
   "metadata": {},
   "outputs": [],
   "source": [
    "with open(\"d21_input.txt\", \"r\") as f:\n",
    "    lines = f.read().split(\"\\n\")\n",
    "# lines = [(i[0], int(i[1:])) for i in lines]"
   ]
  },
  {
   "cell_type": "code",
   "execution_count": 3,
   "metadata": {},
   "outputs": [
    {
     "data": {
      "text/plain": [
       "('lfqhssm pcxzx jrs rxhv mhtc dvc jvd ttvtr srvzpc thzbt jfkhrp zxstb tkpqpb lcplblp jflxtnp jnqgtrq zdfl kdxht dfxfqs qdths cnzz drcj stjr jtrrnz rlh ljfsmv ptrj rdnsghf kllgt dgtxv zpxvch rfnzl xszpg qmbn nfff cxzrtx fvmzmrd szsdbv mcmrzs hfdxb slgnk szsmh zngdbgf hgndp pxxjmds pdbcdp zczv hvkvz mhzbkt qjhmth gmstmh tvmpdqp ztbgdkd xdfjsm hbfnkq fxzgqn ljclf mpzq mxsbp cjdcn jgjx gnbxs sqrk tlqtz mdghb npvv nkrpv thvbm dfdr srgh xkvgj fmj smxk khqvlxn nkvdvs tnd fqgl dhlmfn rzvj ljvx (contains dairy, sesame, nuts)',\n",
       " 'tfshb rxkt tlqtz fmkmrk mtlcq dxbmdj zxstb rdnsghf fnfm qjhmth zpvkl jrnqx njpx cmfjr svbvqlq mhtc hhrdrl ptrj cjdcn vmfhv gfgmz hfdxb ffmq nnxxsjh mxprt gnbxs zpcqb rkrqrk szsmh hbfnkq bmttzd cnzz fvmzmrd kkmvg zdfl kllgt zjlxft thd dfdr prkc kclh (contains wheat, dairy, peanuts)')"
      ]
     },
     "execution_count": 3,
     "metadata": {},
     "output_type": "execute_result"
    }
   ],
   "source": [
    "lines[0], lines[-1]"
   ]
  },
  {
   "cell_type": "code",
   "execution_count": 4,
   "metadata": {},
   "outputs": [],
   "source": [
    "lines = [\n",
    "    [l[: l.find(\"(\") - 1].split(\" \"), l[l.find(\"(\") + 10 : l.find(\")\")].split(\", \")]\n",
    "    for l in lines\n",
    "]"
   ]
  },
  {
   "cell_type": "code",
   "execution_count": 5,
   "metadata": {},
   "outputs": [
    {
     "data": {
      "text/plain": [
       "{'dairy', 'eggs', 'fish', 'nuts', 'peanuts', 'sesame', 'soy', 'wheat'}"
      ]
     },
     "execution_count": 5,
     "metadata": {},
     "output_type": "execute_result"
    }
   ],
   "source": [
    "# create allergen_dict\n",
    "allergen_li = []\n",
    "for l in lines:\n",
    "    allergen_li.extend(l[1])\n",
    "allergen_li = set(allergen_li)\n",
    "allergen_li"
   ]
  },
  {
   "cell_type": "code",
   "execution_count": 6,
   "metadata": {},
   "outputs": [
    {
     "data": {
      "text/plain": [
       "{'eggs': ['jrnqx', 'mhtc'],\n",
       " 'fish': ['hbfnkq', 'jrnqx', 'ljvx', 'zxstb'],\n",
       " 'soy': ['hfdxb', 'jrnqx', 'kllgt', 'mhtc'],\n",
       " 'nuts': ['hbfnkq', 'zxstb'],\n",
       " 'peanuts': ['gnbxs', 'hbfnkq', 'jrnqx'],\n",
       " 'sesame': ['mhtc'],\n",
       " 'wheat': ['hbfnkq', 'jrnqx', 'kllgt', 'mhtc'],\n",
       " 'dairy': ['kllgt', 'mhtc']}"
      ]
     },
     "execution_count": 6,
     "metadata": {},
     "output_type": "execute_result"
    }
   ],
   "source": [
    "# find common ingredient for each allergen\n",
    "\n",
    "from functools import reduce\n",
    "\n",
    "allergen_dict = {}\n",
    "for i in allergen_li:\n",
    "    find_li = []\n",
    "    for l in lines:\n",
    "        if i in l[1]:\n",
    "            find_li.append(l[0])\n",
    "    allergen_dict[i] = reduce(np.intersect1d, find_li).tolist()\n",
    "allergen_dict"
   ]
  },
  {
   "cell_type": "code",
   "execution_count": 7,
   "metadata": {},
   "outputs": [
    {
     "data": {
      "text/plain": [
       "{'eggs': 'jrnqx',\n",
       " 'fish': 'ljvx',\n",
       " 'soy': 'hfdxb',\n",
       " 'nuts': 'zxstb',\n",
       " 'peanuts': 'gnbxs',\n",
       " 'sesame': 'mhtc',\n",
       " 'wheat': 'hbfnkq',\n",
       " 'dairy': 'kllgt'}"
      ]
     },
     "execution_count": 7,
     "metadata": {},
     "output_type": "execute_result"
    }
   ],
   "source": [
    "# find only solution\n",
    "\n",
    "find_li = []\n",
    "flag = True\n",
    "while flag:\n",
    "    flag = False\n",
    "    for k, v in allergen_dict.items():\n",
    "        if not isinstance(v, str):\n",
    "            flag = True\n",
    "            if len(v) == 1:\n",
    "                allergen_dict[k] = v[0]\n",
    "                find_li.append(v[0])\n",
    "            else:\n",
    "                for i in v:\n",
    "                    if i in find_li:\n",
    "                        v.remove(i)\n",
    "\n",
    "allergen_dict"
   ]
  },
  {
   "cell_type": "code",
   "execution_count": 8,
   "metadata": {},
   "outputs": [
    {
     "data": {
      "text/plain": [
       "1815"
      ]
     },
     "execution_count": 8,
     "metadata": {},
     "output_type": "execute_result"
    }
   ],
   "source": [
    "# count times\n",
    "ingredient_allergen_set = set(allergen_dict.values())\n",
    "count = 0\n",
    "for l in lines:\n",
    "    count += len(set(l[0]) - ingredient_allergen_set)\n",
    "count"
   ]
  },
  {
   "cell_type": "raw",
   "metadata": {},
   "source": [
    "--- Part Two ---\n",
    "\n",
    "Now that you've isolated the inert ingredients, you should have enough information to figure out which ingredient contains which allergen.\n",
    "\n",
    "In the above example:\n",
    "\n",
    "    mxmxvkd contains dairy.\n",
    "    sqjhc contains fish.\n",
    "    fvjkl contains soy.\n",
    "\n",
    "Arrange the ingredients alphabetically by their allergen and separate them by commas to produce your canonical dangerous ingredient list. (There should not be any spaces in your canonical dangerous ingredient list.) In the above example, this would be mxmxvkd,sqjhc,fvjkl.\n",
    "\n",
    "Time to stock your raft with supplies. What is your canonical dangerous ingredient list?\n",
    "\n",
    "Your puzzle answer was kllgt,jrnqx,ljvx,zxstb,gnbxs,mhtc,hfdxb,hbfnkq."
   ]
  },
  {
   "cell_type": "code",
   "execution_count": 9,
   "metadata": {},
   "outputs": [
    {
     "data": {
      "text/plain": [
       "'peanuts,wheat,soy,eggs,dairy,fish,sesame,nuts'"
      ]
     },
     "execution_count": 9,
     "metadata": {},
     "output_type": "execute_result"
    }
   ],
   "source": [
    "# wrong answer ...\n",
    "\",\".join(\n",
    "    list(np.array(list(allergen_dict.keys()))[np.argsort(list(allergen_dict.values()))])\n",
    ")"
   ]
  },
  {
   "cell_type": "code",
   "execution_count": 10,
   "metadata": {},
   "outputs": [
    {
     "data": {
      "text/plain": [
       "'kllgt,jrnqx,ljvx,zxstb,gnbxs,mhtc,hfdxb,hbfnkq'"
      ]
     },
     "execution_count": 10,
     "metadata": {},
     "output_type": "execute_result"
    }
   ],
   "source": [
    "\",\".join(\n",
    "    list(np.array(list(allergen_dict.values()))[np.argsort(list(allergen_dict.keys()))])\n",
    ")"
   ]
  }
 ],
 "metadata": {
  "kernelspec": {
   "display_name": "Python [conda env:ds38]",
   "language": "python",
   "name": "conda-env-ds38-py"
  },
  "language_info": {
   "codemirror_mode": {
    "name": "ipython",
    "version": 3
   },
   "file_extension": ".py",
   "mimetype": "text/x-python",
   "name": "python",
   "nbconvert_exporter": "python",
   "pygments_lexer": "ipython3",
   "version": "3.8.5"
  }
 },
 "nbformat": 4,
 "nbformat_minor": 4
}
