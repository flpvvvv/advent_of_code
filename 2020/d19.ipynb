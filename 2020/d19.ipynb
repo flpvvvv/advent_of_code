{
 "cells": [
  {
   "cell_type": "raw",
   "metadata": {},
   "source": [
    "--- Day 19: Monster Messages ---\n",
    "\n",
    "You land in an airport surrounded by dense forest. As you walk to your high-speed train, the Elves at the Mythical Information Bureau contact you again. They think their satellite has collected an image of a sea monster! Unfortunately, the connection to the satellite is having problems, and many of the messages sent back from the satellite have been corrupted.\n",
    "\n",
    "They sent you a list of the rules valid messages should obey and a list of received messages they've collected so far (your puzzle input).\n",
    "\n",
    "The rules for valid messages (the top part of your puzzle input) are numbered and build upon each other. For example:\n",
    "\n",
    "0: 1 2\n",
    "1: \"a\"\n",
    "2: 1 3 | 3 1\n",
    "3: \"b\"\n",
    "\n",
    "Some rules, like 3: \"b\", simply match a single character (in this case, b).\n",
    "\n",
    "The remaining rules list the sub-rules that must be followed; for example, the rule 0: 1 2 means that to match rule 0, the text being checked must match rule 1, and the text after the part that matched rule 1 must then match rule 2.\n",
    "\n",
    "Some of the rules have multiple lists of sub-rules separated by a pipe (|). This means that at least one list of sub-rules must match. (The ones that match might be different each time the rule is encountered.) For example, the rule 2: 1 3 | 3 1 means that to match rule 2, the text being checked must match rule 1 followed by rule 3 or it must match rule 3 followed by rule 1.\n",
    "\n",
    "Fortunately, there are no loops in the rules, so the list of possible matches will be finite. Since rule 1 matches a and rule 3 matches b, rule 2 matches either ab or ba. Therefore, rule 0 matches aab or aba.\n",
    "\n",
    "Here's a more interesting example:\n",
    "\n",
    "0: 4 1 5\n",
    "1: 2 3 | 3 2\n",
    "2: 4 4 | 5 5\n",
    "3: 4 5 | 5 4\n",
    "4: \"a\"\n",
    "5: \"b\"\n",
    "\n",
    "Here, because rule 4 matches a and rule 5 matches b, rule 2 matches two letters that are the same (aa or bb), and rule 3 matches two letters that are different (ab or ba).\n",
    "\n",
    "Since rule 1 matches rules 2 and 3 once each in either order, it must match two pairs of letters, one pair with matching letters and one pair with different letters. This leaves eight possibilities: aaab, aaba, bbab, bbba, abaa, abbb, baaa, or babb.\n",
    "\n",
    "Rule 0, therefore, matches a (rule 4), then any of the eight options from rule 1, then b (rule 5): aaaabb, aaabab, abbabb, abbbab, aabaab, aabbbb, abaaab, or ababbb.\n",
    "\n",
    "The received messages (the bottom part of your puzzle input) need to be checked against the rules so you can determine which are valid and which are corrupted. Including the rules and the messages together, this might look like:\n",
    "\n",
    "0: 4 1 5\n",
    "1: 2 3 | 3 2\n",
    "2: 4 4 | 5 5\n",
    "3: 4 5 | 5 4\n",
    "4: \"a\"\n",
    "5: \"b\"\n",
    "\n",
    "ababbb\n",
    "bababa\n",
    "abbbab\n",
    "aaabbb\n",
    "aaaabbb\n",
    "\n",
    "Your goal is to determine the number of messages that completely match rule 0. In the above example, ababbb and abbbab match, but bababa, aaabbb, and aaaabbb do not, producing the answer 2. The whole message must match all of rule 0; there can't be extra unmatched characters in the message. (For example, aaaabbb might appear to match rule 0 above, but it has an extra unmatched b on the end.)\n",
    "\n",
    "How many messages completely match rule 0?\n",
    "\n",
    "Your puzzle answer was 162."
   ]
  },
  {
   "cell_type": "code",
   "execution_count": 1,
   "metadata": {},
   "outputs": [
    {
     "name": "stderr",
     "output_type": "stream",
     "text": [
      "C:\\Users\\Utilisateur\\miniconda3\\envs\\ds38\\lib\\site-packages\\ipykernel\\parentpoller.py:113: UserWarning: Parent poll failed.  If the frontend dies,\n",
      "                the kernel may be left running.  Please let us know\n",
      "                about your system (bitness, Python, etc.) at\n",
      "                ipython-dev@scipy.org\n",
      "  warnings.warn(\"\"\"Parent poll failed.  If the frontend dies,\n"
     ]
    }
   ],
   "source": [
    "import warnings\n",
    "\n",
    "warnings.filterwarnings(\"ignore\")\n",
    "\n",
    "import os\n",
    "import re\n",
    "import sys\n",
    "from pathlib import Path\n",
    "\n",
    "import numpy as np\n",
    "import pandas as pd\n",
    "from tqdm import tqdm"
   ]
  },
  {
   "cell_type": "code",
   "execution_count": 2,
   "metadata": {},
   "outputs": [],
   "source": [
    "with open(\"d19_input.txt\", \"r\") as f:\n",
    "    lines = f.read().split(\"\\n\")\n",
    "# lines = [(i[0], int(i[1:])) for i in lines]"
   ]
  },
  {
   "cell_type": "code",
   "execution_count": 3,
   "metadata": {},
   "outputs": [
    {
     "data": {
      "text/plain": [
       "('62: 93 93',\n",
       " 'aaababbbabaababbabbbaabbbababaaaaaabbabbbbabbabaabababbbbbbababbabbbbaabbabababb')"
      ]
     },
     "execution_count": 3,
     "metadata": {},
     "output_type": "execute_result"
    }
   ],
   "source": [
    "lines[0], lines[-1]"
   ]
  },
  {
   "cell_type": "code",
   "execution_count": 4,
   "metadata": {},
   "outputs": [
    {
     "name": "stdout",
     "output_type": "stream",
     "text": [
      "8: 42\n",
      "93: 127 | 40\n"
     ]
    }
   ],
   "source": [
    "rule_dict = {}\n",
    "code_li = []\n",
    "letter_dict = {-1: [\"\"]}  # for single number\n",
    "\n",
    "pattern = r\"\\d+\"\n",
    "for l in lines:\n",
    "    if l == \"\":\n",
    "        continue\n",
    "    if l[0] in [\"a\", \"b\"]:\n",
    "        code_li.append(l)\n",
    "        continue\n",
    "    nums = re.findall(pattern, l)\n",
    "    nums = [int(n) for n in nums]\n",
    "    if len(nums) == 3:\n",
    "        if l.find(\"|\") == -1:\n",
    "            rule_dict[nums[0]] = [[nums[1], nums[2]], []]\n",
    "        else:  # 93: 127 | 40\n",
    "            rule_dict[nums[0]] = [[nums[1], -1], [nums[2], -1]]\n",
    "            print(l)\n",
    "    elif len(nums) == 5:\n",
    "        rule_dict[nums[0]] = [[nums[1], nums[2]], [nums[3], nums[4]]]\n",
    "    elif len(nums) == 2:  # 8: 42\n",
    "        rule_dict[nums[0]] = [[nums[1], -1], []]\n",
    "        print(l)\n",
    "    elif len(nums) == 1:  # 127: \"b\"\n",
    "        letter_dict[nums[0]] = [\n",
    "            l[-2],\n",
    "        ]\n",
    "    else:\n",
    "        print(f\"error: {l}\")"
   ]
  },
  {
   "cell_type": "code",
   "execution_count": 5,
   "metadata": {},
   "outputs": [
    {
     "data": {
      "text/plain": [
       "{-1: [''], 127: ['b'], 40: ['a']}"
      ]
     },
     "execution_count": 5,
     "metadata": {},
     "output_type": "execute_result"
    }
   ],
   "source": [
    "letter_dict"
   ]
  },
  {
   "cell_type": "code",
   "execution_count": 6,
   "metadata": {},
   "outputs": [],
   "source": [
    "def get_comb(to_comb_li):\n",
    "    if len(to_comb_li) == 2:\n",
    "        left_num, right_num = to_comb_li[0], to_comb_li[1]\n",
    "        if (left_num in letter_dict) and (right_num in letter_dict):\n",
    "            return [\n",
    "                l + r for l in letter_dict[left_num] for r in letter_dict[right_num]\n",
    "            ]\n",
    "    return to_comb_li"
   ]
  },
  {
   "cell_type": "code",
   "execution_count": 7,
   "metadata": {},
   "outputs": [],
   "source": [
    "start_rule_num = 0"
   ]
  },
  {
   "cell_type": "code",
   "execution_count": 8,
   "metadata": {},
   "outputs": [],
   "source": [
    "while start_rule_num not in letter_dict:\n",
    "    # replace by letter_dict\n",
    "    rule_dict = {k: [get_comb(v[0]), get_comb(v[1])] for k, v in rule_dict.items()}\n",
    "    # put all letters dict to letter_dict\n",
    "    for k, v in rule_dict.items():\n",
    "        if all(isinstance(x, str) for x in v[0]) and all(\n",
    "            isinstance(x, str) for x in v[1]\n",
    "        ):\n",
    "            letter_dict[k] = [*v[0], *v[1]]"
   ]
  },
  {
   "cell_type": "code",
   "execution_count": 9,
   "metadata": {},
   "outputs": [
    {
     "data": {
      "text/plain": [
       "2097152"
      ]
     },
     "execution_count": 9,
     "metadata": {},
     "output_type": "execute_result"
    }
   ],
   "source": [
    "len(letter_dict[start_rule_num])"
   ]
  },
  {
   "cell_type": "code",
   "execution_count": 10,
   "metadata": {},
   "outputs": [
    {
     "data": {
      "text/plain": [
       "162"
      ]
     },
     "execution_count": 10,
     "metadata": {},
     "output_type": "execute_result"
    }
   ],
   "source": [
    "sum(list(map(lambda s: 1 if s in letter_dict[start_rule_num] else 0, code_li)))"
   ]
  },
  {
   "cell_type": "raw",
   "metadata": {},
   "source": [
    "--- Part Two ---\n",
    "\n",
    "As you look over the list of messages, you realize your matching rules aren't quite right. To fix them, completely replace rules 8: 42 and 11: 42 31 with the following:\n",
    "\n",
    "8: 42 | 42 8\n",
    "11: 42 31 | 42 11 31\n",
    "\n",
    "This small change has a big impact: now, the rules do contain loops, and the list of messages they could hypothetically match is infinite. You'll need to determine how these changes affect which messages are valid.\n",
    "\n",
    "Fortunately, many of the rules are unaffected by this change; it might help to start by looking at which rules always match the same set of values and how those rules (especially rules 42 and 31) are used by the new versions of rules 8 and 11.\n",
    "\n",
    "(Remember, you only need to handle the rules you have; building a solution that could handle any hypothetical combination of rules would be significantly more difficult.)\n",
    "\n",
    "For example:\n",
    "\n",
    "42: 9 14 | 10 1\n",
    "9: 14 27 | 1 26\n",
    "10: 23 14 | 28 1\n",
    "1: \"a\"\n",
    "11: 42 31\n",
    "5: 1 14 | 15 1\n",
    "19: 14 1 | 14 14\n",
    "12: 24 14 | 19 1\n",
    "16: 15 1 | 14 14\n",
    "31: 14 17 | 1 13\n",
    "6: 14 14 | 1 14\n",
    "2: 1 24 | 14 4\n",
    "0: 8 11\n",
    "13: 14 3 | 1 12\n",
    "15: 1 | 14\n",
    "17: 14 2 | 1 7\n",
    "23: 25 1 | 22 14\n",
    "28: 16 1\n",
    "4: 1 1\n",
    "20: 14 14 | 1 15\n",
    "3: 5 14 | 16 1\n",
    "27: 1 6 | 14 18\n",
    "14: \"b\"\n",
    "21: 14 1 | 1 14\n",
    "25: 1 1 | 1 14\n",
    "22: 14 14\n",
    "8: 42\n",
    "26: 14 22 | 1 20\n",
    "18: 15 15\n",
    "7: 14 5 | 1 21\n",
    "24: 14 1\n",
    "\n",
    "abbbbbabbbaaaababbaabbbbabababbbabbbbbbabaaaa\n",
    "bbabbbbaabaabba\n",
    "babbbbaabbbbbabbbbbbaabaaabaaa\n",
    "aaabbbbbbaaaabaababaabababbabaaabbababababaaa\n",
    "bbbbbbbaaaabbbbaaabbabaaa\n",
    "bbbababbbbaaaaaaaabbababaaababaabab\n",
    "ababaaaaaabaaab\n",
    "ababaaaaabbbaba\n",
    "baabbaaaabbaaaababbaababb\n",
    "abbbbabbbbaaaababbbbbbaaaababb\n",
    "aaaaabbaabaaaaababaa\n",
    "aaaabbaaaabbaaa\n",
    "aaaabbaabbaaaaaaabbbabbbaaabbaabaaa\n",
    "babaaabbbaaabaababbaabababaaab\n",
    "aabbbbbaabbbaaaaaabbbbbababaaaaabbaaabba\n",
    "\n",
    "Without updating rules 8 and 11, these rules only match three messages: bbabbbbaabaabba, ababaaaaaabaaab, and ababaaaaabbbaba.\n",
    "\n",
    "However, after updating rules 8 and 11, a total of 12 messages match:\n",
    "\n",
    "    bbabbbbaabaabba\n",
    "    babbbbaabbbbbabbbbbbaabaaabaaa\n",
    "    aaabbbbbbaaaabaababaabababbabaaabbababababaaa\n",
    "    bbbbbbbaaaabbbbaaabbabaaa\n",
    "    bbbababbbbaaaaaaaabbababaaababaabab\n",
    "    ababaaaaaabaaab\n",
    "    ababaaaaabbbaba\n",
    "    baabbaaaabbaaaababbaababb\n",
    "    abbbbabbbbaaaababbbbbbaaaababb\n",
    "    aaaaabbaabaaaaababaa\n",
    "    aaaabbaabbaaaaaaabbbabbbaaabbaabaaa\n",
    "    aabbbbbaabbbaaaaaabbbbbababaaaaabbaaabba\n",
    "\n",
    "After updating rules 8 and 11, how many messages completely match rule 0?\n",
    "\n",
    "Your puzzle answer was 267."
   ]
  },
  {
   "cell_type": "code",
   "execution_count": 11,
   "metadata": {},
   "outputs": [],
   "source": [
    "first_rule = [*rule_dict[42][0], *rule_dict[42][1]]  # all the combinations in 42\n",
    "last_rule = [*rule_dict[31][0], *rule_dict[31][1]]  # all the combinations in 31"
   ]
  },
  {
   "cell_type": "code",
   "execution_count": 12,
   "metadata": {},
   "outputs": [
    {
     "data": {
      "text/plain": [
       "(array([8]), array([8]))"
      ]
     },
     "execution_count": 12,
     "metadata": {},
     "output_type": "execute_result"
    }
   ],
   "source": [
    "# all the combinations in 42 and 31 have 8 letters !!\n",
    "np.unique(np.array([len(l) for l in first_rule])), np.unique(\n",
    "    np.array([len(l) for l in last_rule])\n",
    ")"
   ]
  },
  {
   "cell_type": "code",
   "execution_count": 13,
   "metadata": {},
   "outputs": [],
   "source": [
    "# 0: 8,11\n",
    "# 8: 42 | 42 8 --> so there will N times of \"42\" at the 1st part of string, N >=1\n",
    "# 11: 42 31 | 42 11 31 --> so the second part of string has M times of \"42\" and M times of \"31\", M >=1\n",
    "# So: the valid strings should contain X times of \"42\" and followed by Y times of \"31\", (X>=2)and(Y>=1)and(X>=Y+1)\n",
    "\n",
    "\n",
    "def check_valid(s):\n",
    "    if len(s) % 8 != 0:\n",
    "        return 0\n",
    "    s_li = [s[8 * i : 8 * i + 8] for i in range(len(s) // 8)] # separate\n",
    "    for X, i in enumerate(s_li):\n",
    "        if i not in first_rule:\n",
    "            break\n",
    "    if X < 2:\n",
    "        return 0\n",
    "    Y = 0\n",
    "    for j in s_li[X:]:\n",
    "        if j not in last_rule:\n",
    "            return 0\n",
    "        else:\n",
    "            Y += 1\n",
    "    if (Y==0) or (X < Y + 1):\n",
    "        return 0\n",
    "    return 1"
   ]
  },
  {
   "cell_type": "code",
   "execution_count": 14,
   "metadata": {},
   "outputs": [
    {
     "data": {
      "text/plain": [
       "267"
      ]
     },
     "execution_count": 14,
     "metadata": {},
     "output_type": "execute_result"
    }
   ],
   "source": [
    "sum(list(map(lambda ss: check_valid(ss), code_li)))"
   ]
  }
 ],
 "metadata": {
  "kernelspec": {
   "display_name": "Python [conda env:ds38]",
   "language": "python",
   "name": "conda-env-ds38-py"
  },
  "language_info": {
   "codemirror_mode": {
    "name": "ipython",
    "version": 3
   },
   "file_extension": ".py",
   "mimetype": "text/x-python",
   "name": "python",
   "nbconvert_exporter": "python",
   "pygments_lexer": "ipython3",
   "version": "3.8.5"
  }
 },
 "nbformat": 4,
 "nbformat_minor": 4
}
