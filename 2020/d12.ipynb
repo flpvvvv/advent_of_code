{
 "cells": [
  {
   "cell_type": "raw",
   "metadata": {},
   "source": [
    "--- Day 12: Rain Risk ---\n",
    "Your ferry made decent progress toward the island, but the storm came in faster than anyone expected. The ferry needs to take evasive actions!\n",
    "\n",
    "Unfortunately, the ship's navigation computer seems to be malfunctioning; rather than giving a route directly to safety, it produced extremely circuitous instructions. When the captain uses the PA system to ask if anyone can help, you quickly volunteer.\n",
    "\n",
    "The navigation instructions (your puzzle input) consists of a sequence of single-character actions paired with integer input values. After staring at them for a few minutes, you work out what they probably mean:\n",
    "\n",
    "Action N means to move north by the given value.\n",
    "Action S means to move south by the given value.\n",
    "Action E means to move east by the given value.\n",
    "Action W means to move west by the given value.\n",
    "Action L means to turn left the given number of degrees.\n",
    "Action R means to turn right the given number of degrees.\n",
    "Action F means to move forward by the given value in the direction the ship is currently facing.\n",
    "The ship starts by facing east. Only the L and R actions change the direction the ship is facing. (That is, if the ship is facing east and the next instruction is N10, the ship would move north 10 units, but would still move east if the following action were F.)\n",
    "\n",
    "For example:\n",
    "\n",
    "F10\n",
    "N3\n",
    "F7\n",
    "R90\n",
    "F11\n",
    "These instructions would be handled as follows:\n",
    "\n",
    "F10 would move the ship 10 units east (because the ship starts by facing east) to east 10, north 0.\n",
    "N3 would move the ship 3 units north to east 10, north 3.\n",
    "F7 would move the ship another 7 units east (because the ship is still facing east) to east 17, north 3.\n",
    "R90 would cause the ship to turn right by 90 degrees and face south; it remains at east 17, north 3.\n",
    "F11 would move the ship 11 units south to east 17, south 8.\n",
    "At the end of these instructions, the ship's Manhattan distance (sum of the absolute values of its east/west position and its north/south position) from its starting position is 17 + 8 = 25.\n",
    "\n",
    "Figure out where the navigation instructions lead. What is the Manhattan distance between that location and the ship's starting position?\n",
    "\n",
    "Your puzzle answer was 1221."
   ]
  },
  {
   "cell_type": "code",
   "execution_count": 1,
   "metadata": {},
   "outputs": [],
   "source": [
    "import os\n",
    "import sys\n",
    "from pathlib import Path\n",
    "\n",
    "import numpy as np\n",
    "import pandas as pd"
   ]
  },
  {
   "cell_type": "code",
   "execution_count": 2,
   "metadata": {},
   "outputs": [],
   "source": [
    "with open(\"d12_input.txt\", \"r\") as f:\n",
    "    lines = f.read().split(\"\\n\")\n",
    "lines = [(i[0], int(i[1:])) for i in lines]"
   ]
  },
  {
   "cell_type": "code",
   "execution_count": 3,
   "metadata": {},
   "outputs": [
    {
     "data": {
      "text/plain": [
       "(('W', 5), ('F', 13))"
      ]
     },
     "execution_count": 3,
     "metadata": {},
     "output_type": "execute_result"
    }
   ],
   "source": [
    "lines[0], lines[-1]"
   ]
  },
  {
   "cell_type": "code",
   "execution_count": 4,
   "metadata": {},
   "outputs": [],
   "source": [
    "p = [0, 0]\n",
    "d = 0  #\n",
    "for i, n in lines:\n",
    "    if i == \"N\":\n",
    "        p[1] += n\n",
    "    elif i == \"S\":\n",
    "        p[1] -= n\n",
    "    elif i == \"E\":\n",
    "        p[0] += n\n",
    "    elif i == \"W\":\n",
    "        p[0] -= n\n",
    "    elif i == \"L\":\n",
    "        d += n // 90\n",
    "        d = d % 4\n",
    "    elif i == \"R\":\n",
    "        d += 4\n",
    "        d -= n // 90\n",
    "        d = d % 4\n",
    "    else:  # 'F'\n",
    "        if d == 0:  # E\n",
    "            p[0] += n\n",
    "        elif d == 1:  # N\n",
    "            p[1] += n\n",
    "        elif d == 2:  # W\n",
    "            p[0] -= n\n",
    "        elif d == 3:  # S\n",
    "            p[1] -= n"
   ]
  },
  {
   "cell_type": "code",
   "execution_count": 5,
   "metadata": {},
   "outputs": [
    {
     "data": {
      "text/plain": [
       "[-589, 632]"
      ]
     },
     "execution_count": 5,
     "metadata": {},
     "output_type": "execute_result"
    }
   ],
   "source": [
    "p"
   ]
  },
  {
   "cell_type": "code",
   "execution_count": 6,
   "metadata": {},
   "outputs": [
    {
     "data": {
      "text/plain": [
       "1221"
      ]
     },
     "execution_count": 6,
     "metadata": {},
     "output_type": "execute_result"
    }
   ],
   "source": [
    "abs(p[0]) + abs(p[1])"
   ]
  },
  {
   "cell_type": "raw",
   "metadata": {},
   "source": [
    "--- Part Two ---\n",
    "Before you can give the destination to the captain, you realize that the actual action meanings were printed on the back of the instructions the whole time.\n",
    "\n",
    "Almost all of the actions indicate how to move a waypoint which is relative to the ship's position:\n",
    "\n",
    "Action N means to move the waypoint north by the given value.\n",
    "Action S means to move the waypoint south by the given value.\n",
    "Action E means to move the waypoint east by the given value.\n",
    "Action W means to move the waypoint west by the given value.\n",
    "Action L means to rotate the waypoint around the ship left (counter-clockwise) the given number of degrees.\n",
    "Action R means to rotate the waypoint around the ship right (clockwise) the given number of degrees.\n",
    "Action F means to move forward to the waypoint a number of times equal to the given value.\n",
    "The waypoint starts 10 units east and 1 unit north relative to the ship. The waypoint is relative to the ship; that is, if the ship moves, the waypoint moves with it.\n",
    "\n",
    "For example, using the same instructions as above:\n",
    "\n",
    "F10 moves the ship to the waypoint 10 times (a total of 100 units east and 10 units north), leaving the ship at east 100, north 10. The waypoint stays 10 units east and 1 unit north of the ship.\n",
    "N3 moves the waypoint 3 units north to 10 units east and 4 units north of the ship. The ship remains at east 100, north 10.\n",
    "F7 moves the ship to the waypoint 7 times (a total of 70 units east and 28 units north), leaving the ship at east 170, north 38. The waypoint stays 10 units east and 4 units north of the ship.\n",
    "R90 rotates the waypoint around the ship clockwise 90 degrees, moving it to 4 units east and 10 units south of the ship. The ship remains at east 170, north 38.\n",
    "F11 moves the ship to the waypoint 11 times (a total of 44 units east and 110 units south), leaving the ship at east 214, south 72. The waypoint stays 4 units east and 10 units south of the ship.\n",
    "After these operations, the ship's Manhattan distance from its starting position is 214 + 72 = 286.\n",
    "\n",
    "Figure out where the navigation instructions actually lead. What is the Manhattan distance between that location and the ship's starting position?\n",
    "\n",
    "Your puzzle answer was 59435."
   ]
  },
  {
   "cell_type": "code",
   "execution_count": 7,
   "metadata": {},
   "outputs": [],
   "source": [
    "p = [0, 0]\n",
    "w = [10, 1]\n",
    "for i, n in lines:\n",
    "    if i == \"N\":\n",
    "        w[1] += n\n",
    "    elif i == \"S\":\n",
    "        w[1] -= n\n",
    "    elif i == \"E\":\n",
    "        w[0] += n\n",
    "    elif i == \"W\":\n",
    "        w[0] -= n\n",
    "    elif ((i == \"L\") and (n == 90)) or ((i == \"R\") and (n == 270)):\n",
    "        w[0], w[1] = -w[1], w[0]\n",
    "    elif ((i == \"R\") and (n == 90)) or ((i == \"L\") and (n == 270)):\n",
    "        w[0], w[1] = w[1], -w[0]\n",
    "    elif ((i == \"R\") and (n == 180)) or ((i == \"L\") and (n == 180)):\n",
    "        w[0], w[1] = -w[0], -w[1]\n",
    "    elif i == \"F\":\n",
    "        p[0] += w[0] * n\n",
    "        p[1] += w[1] * n\n",
    "    else:\n",
    "        print(\"ERROR\")\n",
    "        print(i, n)"
   ]
  },
  {
   "cell_type": "code",
   "execution_count": 8,
   "metadata": {},
   "outputs": [
    {
     "data": {
      "text/plain": [
       "[-32313, 27122]"
      ]
     },
     "execution_count": 8,
     "metadata": {},
     "output_type": "execute_result"
    }
   ],
   "source": [
    "p"
   ]
  },
  {
   "cell_type": "code",
   "execution_count": 9,
   "metadata": {},
   "outputs": [
    {
     "data": {
      "text/plain": [
       "59435"
      ]
     },
     "execution_count": 9,
     "metadata": {},
     "output_type": "execute_result"
    }
   ],
   "source": [
    "abs(p[0]) + abs(p[1])"
   ]
  }
 ],
 "metadata": {
  "kernelspec": {
   "display_name": "Python [conda env:ds38]",
   "language": "python",
   "name": "conda-env-ds38-py"
  },
  "language_info": {
   "codemirror_mode": {
    "name": "ipython",
    "version": 3
   },
   "file_extension": ".py",
   "mimetype": "text/x-python",
   "name": "python",
   "nbconvert_exporter": "python",
   "pygments_lexer": "ipython3",
   "version": "3.8.5"
  }
 },
 "nbformat": 4,
 "nbformat_minor": 4
}
