{
 "cells": [
  {
   "cell_type": "raw",
   "metadata": {},
   "source": [
    "--- Day 13: Shuttle Search ---\n",
    "Your ferry can make it safely to a nearby port, but it won't get much further. When you call to book another ship, you discover that no ships embark from that port to your vacation island. You'll need to get from the port to the nearest airport.\n",
    "\n",
    "Fortunately, a shuttle bus service is available to bring you from the sea port to the airport! Each bus has an ID number that also indicates how often the bus leaves for the airport.\n",
    "\n",
    "Bus schedules are defined based on a timestamp that measures the number of minutes since some fixed reference point in the past. At timestamp 0, every bus simultaneously departed from the sea port. After that, each bus travels to the airport, then various other locations, and finally returns to the sea port to repeat its journey forever.\n",
    "\n",
    "The time this loop takes a particular bus is also its ID number: the bus with ID 5 departs from the sea port at timestamps 0, 5, 10, 15, and so on. The bus with ID 11 departs at 0, 11, 22, 33, and so on. If you are there when the bus departs, you can ride that bus to the airport!\n",
    "\n",
    "Your notes (your puzzle input) consist of two lines. The first line is your estimate of the earliest timestamp you could depart on a bus. The second line lists the bus IDs that are in service according to the shuttle company; entries that show x must be out of service, so you decide to ignore them.\n",
    "\n",
    "To save time once you arrive, your goal is to figure out the earliest bus you can take to the airport. (There will be exactly one such bus.)\n",
    "\n",
    "For example, suppose you have the following notes:\n",
    "\n",
    "939\n",
    "7,13,x,x,59,x,31,19\n",
    "Here, the earliest timestamp you could depart is 939, and the bus IDs in service are 7, 13, 59, 31, and 19. Near timestamp 939, these bus IDs depart at the times marked D:\n",
    "\n",
    "time   bus 7   bus 13  bus 59  bus 31  bus 19\n",
    "929      .       .       .       .       .\n",
    "930      .       .       .       D       .\n",
    "931      D       .       .       .       D\n",
    "932      .       .       .       .       .\n",
    "933      .       .       .       .       .\n",
    "934      .       .       .       .       .\n",
    "935      .       .       .       .       .\n",
    "936      .       D       .       .       .\n",
    "937      .       .       .       .       .\n",
    "938      D       .       .       .       .\n",
    "939      .       .       .       .       .\n",
    "940      .       .       .       .       .\n",
    "941      .       .       .       .       .\n",
    "942      .       .       .       .       .\n",
    "943      .       .       .       .       .\n",
    "944      .       .       D       .       .\n",
    "945      D       .       .       .       .\n",
    "946      .       .       .       .       .\n",
    "947      .       .       .       .       .\n",
    "948      .       .       .       .       .\n",
    "949      .       D       .       .       .\n",
    "The earliest bus you could take is bus ID 59. It doesn't depart until timestamp 944, so you would need to wait 944 - 939 = 5 minutes before it departs. Multiplying the bus ID by the number of minutes you'd need to wait gives 295.\n",
    "\n",
    "What is the ID of the earliest bus you can take to the airport multiplied by the number of minutes you'll need to wait for that bus?\n",
    "\n",
    "Your puzzle answer was 2238."
   ]
  },
  {
   "cell_type": "code",
   "execution_count": 1,
   "metadata": {},
   "outputs": [],
   "source": [
    "import warnings\n",
    "\n",
    "warnings.filterwarnings(\"ignore\")\n",
    "\n",
    "import os\n",
    "import sys\n",
    "from pathlib import Path\n",
    "\n",
    "import numpy as np\n",
    "import pandas as pd"
   ]
  },
  {
   "cell_type": "code",
   "execution_count": 2,
   "metadata": {},
   "outputs": [],
   "source": [
    "with open(\"d13_input.txt\", \"r\") as f:\n",
    "    lines = f.read().split(\"\\n\")\n",
    "# lines = [(i[0], int(i[1:])) for i in lines]"
   ]
  },
  {
   "cell_type": "code",
   "execution_count": 3,
   "metadata": {},
   "outputs": [
    {
     "data": {
      "text/plain": [
       "('1002618',\n",
       " '19,x,x,x,x,x,x,x,x,41,x,x,x,37,x,x,x,x,x,367,x,x,x,x,x,x,x,x,x,x,x,x,13,x,x,x,17,x,x,x,x,x,x,x,x,x,x,x,29,x,373,x,x,x,x,x,x,x,x,x,x,x,x,x,x,x,x,x,x,x,x,x,x,23')"
      ]
     },
     "execution_count": 3,
     "metadata": {},
     "output_type": "execute_result"
    }
   ],
   "source": [
    "lines[0], lines[-1]"
   ]
  },
  {
   "cell_type": "code",
   "execution_count": 4,
   "metadata": {},
   "outputs": [],
   "source": [
    "t = int(lines[0])\n",
    "b_li = [int(i) for i in lines[-1].split(\",\") if i != \"x\"]"
   ]
  },
  {
   "cell_type": "code",
   "execution_count": 5,
   "metadata": {},
   "outputs": [
    {
     "data": {
      "text/plain": [
       "(1002618, [19, 41, 37, 367, 13, 17, 29, 373, 23])"
      ]
     },
     "execution_count": 5,
     "metadata": {},
     "output_type": "execute_result"
    }
   ],
   "source": [
    "t, b_li"
   ]
  },
  {
   "cell_type": "code",
   "execution_count": 6,
   "metadata": {},
   "outputs": [
    {
     "data": {
      "text/plain": [
       "array([1002630, 1002655, 1002626, 1002644, 1002625, 1002626, 1002646,\n",
       "       1002624, 1002639])"
      ]
     },
     "execution_count": 6,
     "metadata": {},
     "output_type": "execute_result"
    }
   ],
   "source": [
    "next_bus = np.array([(t // i + 1) * i for i in b_li])\n",
    "next_bus"
   ]
  },
  {
   "cell_type": "code",
   "execution_count": 7,
   "metadata": {},
   "outputs": [
    {
     "data": {
      "text/plain": [
       "(373, 6)"
      ]
     },
     "execution_count": 7,
     "metadata": {},
     "output_type": "execute_result"
    }
   ],
   "source": [
    "fast_bus = b_li[np.argmin(next_bus)]\n",
    "wait_time = next_bus.min() - t\n",
    "fast_bus, wait_time"
   ]
  },
  {
   "cell_type": "code",
   "execution_count": 8,
   "metadata": {},
   "outputs": [
    {
     "data": {
      "text/plain": [
       "2238"
      ]
     },
     "execution_count": 8,
     "metadata": {},
     "output_type": "execute_result"
    }
   ],
   "source": [
    "fast_bus * wait_time"
   ]
  },
  {
   "cell_type": "raw",
   "metadata": {},
   "source": [
    "--- Part Two ---\n",
    "The shuttle company is running a contest: one gold coin for anyone that can find the earliest timestamp such that the first bus ID departs at that time and each subsequent listed bus ID departs at that subsequent minute. (The first line in your input is no longer relevant.)\n",
    "\n",
    "For example, suppose you have the same list of bus IDs as above:\n",
    "\n",
    "7,13,x,x,59,x,31,19\n",
    "An x in the schedule means there are no constraints on what bus IDs must depart at that time.\n",
    "\n",
    "This means you are looking for the earliest timestamp (called t) such that:\n",
    "\n",
    "Bus ID 7 departs at timestamp t.\n",
    "Bus ID 13 departs one minute after timestamp t.\n",
    "There are no requirements or restrictions on departures at two or three minutes after timestamp t.\n",
    "Bus ID 59 departs four minutes after timestamp t.\n",
    "There are no requirements or restrictions on departures at five minutes after timestamp t.\n",
    "Bus ID 31 departs six minutes after timestamp t.\n",
    "Bus ID 19 departs seven minutes after timestamp t.\n",
    "The only bus departures that matter are the listed bus IDs at their specific offsets from t. Those bus IDs can depart at other times, and other bus IDs can depart at those times. For example, in the list above, because bus ID 19 must depart seven minutes after the timestamp at which bus ID 7 departs, bus ID 7 will always also be departing with bus ID 19 at seven minutes after timestamp t.\n",
    "\n",
    "In this example, the earliest timestamp at which this occurs is 1068781:\n",
    "\n",
    "time     bus 7   bus 13  bus 59  bus 31  bus 19\n",
    "1068773    .       .       .       .       .\n",
    "1068774    D       .       .       .       .\n",
    "1068775    .       .       .       .       .\n",
    "1068776    .       .       .       .       .\n",
    "1068777    .       .       .       .       .\n",
    "1068778    .       .       .       .       .\n",
    "1068779    .       .       .       .       .\n",
    "1068780    .       .       .       .       .\n",
    "1068781    D       .       .       .       .\n",
    "1068782    .       D       .       .       .\n",
    "1068783    .       .       .       .       .\n",
    "1068784    .       .       .       .       .\n",
    "1068785    .       .       D       .       .\n",
    "1068786    .       .       .       .       .\n",
    "1068787    .       .       .       D       .\n",
    "1068788    D       .       .       .       D\n",
    "1068789    .       .       .       .       .\n",
    "1068790    .       .       .       .       .\n",
    "1068791    .       .       .       .       .\n",
    "1068792    .       .       .       .       .\n",
    "1068793    .       .       .       .       .\n",
    "1068794    .       .       .       .       .\n",
    "1068795    D       D       .       .       .\n",
    "1068796    .       .       .       .       .\n",
    "1068797    .       .       .       .       .\n",
    "In the above example, bus ID 7 departs at timestamp 1068788 (seven minutes after t). This is fine; the only requirement on that minute is that bus ID 19 departs then, and it does.\n",
    "\n",
    "Here are some other examples:\n",
    "\n",
    "The earliest timestamp that matches the list 17,x,13,19 is 3417.\n",
    "67,7,59,61 first occurs at timestamp 754018.\n",
    "67,x,7,59,61 first occurs at timestamp 779210.\n",
    "67,7,x,59,61 first occurs at timestamp 1261476.\n",
    "1789,37,47,1889 first occurs at timestamp 1202161486.\n",
    "However, with so many bus IDs in your list, surely the actual earliest timestamp will be larger than 100000000000000!\n",
    "\n",
    "What is the earliest timestamp such that all of the listed bus IDs depart at offsets matching their positions in the list?\n",
    "\n",
    "Your puzzle answer was 560214575859998."
   ]
  },
  {
   "cell_type": "code",
   "execution_count": 9,
   "metadata": {},
   "outputs": [],
   "source": [
    "import math\n",
    "\n",
    "\n",
    "def lcm(a, b):\n",
    "    return a * b // math.gcd(a, b)\n",
    "\n",
    "\n",
    "def find_next(start, plus_n, delta, target):\n",
    "    count = 0\n",
    "    while (start + plus_n + delta * count) % target != 0:\n",
    "        count += 1\n",
    "    return start + delta * count"
   ]
  },
  {
   "cell_type": "code",
   "execution_count": 10,
   "metadata": {},
   "outputs": [
    {
     "name": "stdout",
     "output_type": "stream",
     "text": [
      "[19, 41, 37, 367, 13, 17, 29, 373, 23]\n",
      "[0, 9, 13, 19, 32, 36, 48, 50, 73]\n"
     ]
    }
   ],
   "source": [
    "input_s = lines[-1]\n",
    "b_li = [int(i) for i in input_s.split(\",\") if i != \"x\"]\n",
    "n_li = [i for i, n in enumerate(input_s.split(\",\")) if n != \"x\"]\n",
    "print(b_li)\n",
    "print(n_li)"
   ]
  },
  {
   "cell_type": "code",
   "execution_count": 11,
   "metadata": {},
   "outputs": [
    {
     "name": "stdout",
     "output_type": "stream",
     "text": [
      "Wall time: 0 ns\n"
     ]
    },
    {
     "data": {
      "text/plain": [
       "560214575859998"
      ]
     },
     "execution_count": 11,
     "metadata": {},
     "output_type": "execute_result"
    }
   ],
   "source": [
    "%%time\n",
    "current_lcm = 1\n",
    "start_num = b_li[0]\n",
    "for j in range(1, len(b_li)):\n",
    "    current_lcm = lcm(current_lcm, b_li[j - 1])\n",
    "    start_num = find_next(start_num, n_li[j], current_lcm, b_li[j])\n",
    "start_num"
   ]
  }
 ],
 "metadata": {
  "kernelspec": {
   "display_name": "Python [conda env:ds38]",
   "language": "python",
   "name": "conda-env-ds38-py"
  },
  "language_info": {
   "codemirror_mode": {
    "name": "ipython",
    "version": 3
   },
   "file_extension": ".py",
   "mimetype": "text/x-python",
   "name": "python",
   "nbconvert_exporter": "python",
   "pygments_lexer": "ipython3",
   "version": "3.8.5"
  }
 },
 "nbformat": 4,
 "nbformat_minor": 4
}
