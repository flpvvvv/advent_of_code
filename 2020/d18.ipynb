{
 "cells": [
  {
   "cell_type": "raw",
   "metadata": {},
   "source": [
    "--- Day 18: Operation Order ---\n",
    "\n",
    "As you look out the window and notice a heavily-forested continent slowly appear over the horizon, you are interrupted by the child sitting next to you. They're curious if you could help them with their math homework.\n",
    "\n",
    "Unfortunately, it seems like this \"math\" follows different rules than you remember.\n",
    "\n",
    "The homework (your puzzle input) consists of a series of expressions that consist of addition (+), multiplication (*), and parentheses ((...)). Just like normal math, parentheses indicate that the expression inside must be evaluated before it can be used by the surrounding expression. Addition still finds the sum of the numbers on both sides of the operator, and multiplication still finds the product.\n",
    "\n",
    "However, the rules of operator precedence have changed. Rather than evaluating multiplication before addition, the operators have the same precedence, and are evaluated left-to-right regardless of the order in which they appear.\n",
    "\n",
    "For example, the steps to evaluate the expression 1 + 2 * 3 + 4 * 5 + 6 are as follows:\n",
    "\n",
    "1 + 2 * 3 + 4 * 5 + 6\n",
    "  3   * 3 + 4 * 5 + 6\n",
    "      9   + 4 * 5 + 6\n",
    "         13   * 5 + 6\n",
    "             65   + 6\n",
    "                 71\n",
    "\n",
    "Parentheses can override this order; for example, here is what happens if parentheses are added to form 1 + (2 * 3) + (4 * (5 + 6)):\n",
    "\n",
    "1 + (2 * 3) + (4 * (5 + 6))\n",
    "1 +    6    + (4 * (5 + 6))\n",
    "     7      + (4 * (5 + 6))\n",
    "     7      + (4 *   11   )\n",
    "     7      +     44\n",
    "            51\n",
    "\n",
    "Here are a few more examples:\n",
    "\n",
    "    2 * 3 + (4 * 5) becomes 26.\n",
    "    5 + (8 * 3 + 9 + 3 * 4 * 3) becomes 437.\n",
    "    5 * 9 * (7 * 3 * 3 + 9 * 3 + (8 + 6 * 4)) becomes 12240.\n",
    "    ((2 + 4 * 9) * (6 + 9 * 8 + 6) + 6) + 2 + 4 * 2 becomes 13632.\n",
    "\n",
    "Before you can help with the homework, you need to understand it yourself. Evaluate the expression on each line of the homework; what is the sum of the resulting values?\n",
    "\n",
    "Your puzzle answer was 12956356593940."
   ]
  },
  {
   "cell_type": "code",
   "execution_count": 1,
   "metadata": {},
   "outputs": [],
   "source": [
    "import warnings\n",
    "\n",
    "warnings.filterwarnings(\"ignore\")\n",
    "\n",
    "import os\n",
    "import re\n",
    "import sys\n",
    "from pathlib import Path\n",
    "\n",
    "import numpy as np\n",
    "import pandas as pd\n",
    "from tqdm import tqdm"
   ]
  },
  {
   "cell_type": "code",
   "execution_count": 2,
   "metadata": {},
   "outputs": [],
   "source": [
    "with open(\"d18_input.txt\", \"r\") as f:\n",
    "    lines = f.read().split(\"\\n\")\n",
    "# lines = [(i[0], int(i[1:])) for i in lines]"
   ]
  },
  {
   "cell_type": "code",
   "execution_count": 3,
   "metadata": {},
   "outputs": [
    {
     "data": {
      "text/plain": [
       "('7 * (7 + (4 + 5) + 4)',\n",
       " '((8 * 5 + 6 * 6) + 2 + (4 + 2 * 2 * 9 * 7 * 7)) * (7 + 9) + (9 + 3 + 7 * 8 + 4) * 5')"
      ]
     },
     "execution_count": 3,
     "metadata": {},
     "output_type": "execute_result"
    }
   ],
   "source": [
    "lines[0], lines[-1]"
   ]
  },
  {
   "cell_type": "code",
   "execution_count": 4,
   "metadata": {},
   "outputs": [],
   "source": [
    "def find_continue_num(s):\n",
    "    pattern = r\"\\d+\"\n",
    "    return re.match(pattern, s)[0]"
   ]
  },
  {
   "cell_type": "code",
   "execution_count": 5,
   "metadata": {},
   "outputs": [],
   "source": [
    "def cal_atom(atom):\n",
    "    int_num_str = find_continue_num(atom)\n",
    "    res = int(int_num_str)\n",
    "    idx = len(int_num_str)\n",
    "    while idx < len(atom):\n",
    "        c = atom[idx]\n",
    "        next_num_str = find_continue_num(atom[idx + 1 :])\n",
    "        if c == \"+\":\n",
    "            res += int(next_num_str)\n",
    "        elif c == \"*\":\n",
    "            res *= int(next_num_str)\n",
    "        else:\n",
    "            print(f\"error: {atom}\")\n",
    "        idx += len(next_num_str) + 1\n",
    "    return res"
   ]
  },
  {
   "cell_type": "code",
   "execution_count": 6,
   "metadata": {},
   "outputs": [],
   "source": [
    "def new_rule(s):\n",
    "    s = \"\".join(s.split())\n",
    "    pattern = r\"\\(([^\\(\\)]+)\\)\"  # find inside of ()\n",
    "    while s.find(\"(\") > -1:\n",
    "        atoms = re.findall(pattern, s)\n",
    "        for q in set(atoms):\n",
    "            s = s.replace(\"(\" + q + \")\", str(cal_atom(q)))\n",
    "    # print(s)\n",
    "    return int(cal_atom(s))"
   ]
  },
  {
   "cell_type": "code",
   "execution_count": 7,
   "metadata": {},
   "outputs": [
    {
     "data": {
      "text/plain": [
       "12956356593940"
      ]
     },
     "execution_count": 7,
     "metadata": {},
     "output_type": "execute_result"
    }
   ],
   "source": [
    "sum(list(map(new_rule, lines)))"
   ]
  },
  {
   "cell_type": "raw",
   "metadata": {},
   "source": [
    "--- Part Two ---\n",
    "\n",
    "You manage to answer the child's questions and they finish part 1 of their homework, but get stuck when they reach the next section: advanced math.\n",
    "\n",
    "Now, addition and multiplication have different precedence levels, but they're not the ones you're familiar with. Instead, addition is evaluated before multiplication.\n",
    "\n",
    "For example, the steps to evaluate the expression 1 + 2 * 3 + 4 * 5 + 6 are now as follows:\n",
    "\n",
    "1 + 2 * 3 + 4 * 5 + 6\n",
    "  3   * 3 + 4 * 5 + 6\n",
    "  3   *   7   * 5 + 6\n",
    "  3   *   7   *  11\n",
    "     21       *  11\n",
    "         231\n",
    "\n",
    "Here are the other examples from above:\n",
    "\n",
    "    1 + (2 * 3) + (4 * (5 + 6)) still becomes 51.\n",
    "    2 * 3 + (4 * 5) becomes 46.\n",
    "    5 + (8 * 3 + 9 + 3 * 4 * 3) becomes 1445.\n",
    "    5 * 9 * (7 * 3 * 3 + 9 * 3 + (8 + 6 * 4)) becomes 669060.\n",
    "    ((2 + 4 * 9) * (6 + 9 * 8 + 6) + 6) + 2 + 4 * 2 becomes 23340.\n",
    "\n",
    "What do you get if you add up the results of evaluating the homework problems using these new rules?\n",
    "\n",
    "Your puzzle answer was 94240043727614."
   ]
  },
  {
   "cell_type": "code",
   "execution_count": 8,
   "metadata": {},
   "outputs": [],
   "source": [
    "def cal_atom_plus(atom):\n",
    "    pattern = r\"\\*([^\\*]{2,})\"\n",
    "    if atom.find(\"*\") > -1:\n",
    "        atom_plus = re.findall(pattern, atom)\n",
    "        for q in set(atom_plus):\n",
    "            atom = atom.replace(q, str(cal_atom(q)))\n",
    "    return str(cal_atom(atom))"
   ]
  },
  {
   "cell_type": "code",
   "execution_count": 9,
   "metadata": {},
   "outputs": [],
   "source": [
    "def new_rule_plus(s):\n",
    "    s = \"\".join(s.split())\n",
    "    pattern = r\"\\(([^\\(\\)]+)\\)\"  # find inside of ()\n",
    "    while s.find(\"(\") > -1:\n",
    "        atoms = re.findall(pattern, s)\n",
    "        for q in set(atoms):\n",
    "            s = s.replace(\"(\" + q + \")\", str(cal_atom_plus(q)))\n",
    "    # print(s)\n",
    "    return int(cal_atom_plus(s))"
   ]
  },
  {
   "cell_type": "code",
   "execution_count": 10,
   "metadata": {},
   "outputs": [
    {
     "data": {
      "text/plain": [
       "94240043727614"
      ]
     },
     "execution_count": 10,
     "metadata": {},
     "output_type": "execute_result"
    }
   ],
   "source": [
    "sum(list(map(new_rule_plus, lines)))"
   ]
  }
 ],
 "metadata": {
  "kernelspec": {
   "display_name": "Python [conda env:ds38]",
   "language": "python",
   "name": "conda-env-ds38-py"
  },
  "language_info": {
   "codemirror_mode": {
    "name": "ipython",
    "version": 3
   },
   "file_extension": ".py",
   "mimetype": "text/x-python",
   "name": "python",
   "nbconvert_exporter": "python",
   "pygments_lexer": "ipython3",
   "version": "3.8.5"
  }
 },
 "nbformat": 4,
 "nbformat_minor": 4
}
