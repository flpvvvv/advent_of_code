{
 "cells": [
  {
   "cell_type": "raw",
   "metadata": {},
   "source": [
    "--- Day 24: Lobby Layout ---\n",
    "\n",
    "Your raft makes it to the tropical island; it turns out that the small crab was an excellent navigator. You make your way to the resort.\n",
    "\n",
    "As you enter the lobby, you discover a small problem: the floor is being renovated. You can't even reach the check-in desk until they've finished installing the new tile floor.\n",
    "\n",
    "The tiles are all hexagonal; they need to be arranged in a hex grid with a very specific color pattern. Not in the mood to wait, you offer to help figure out the pattern.\n",
    "\n",
    "The tiles are all white on one side and black on the other. They start with the white side facing up. The lobby is large enough to fit whatever pattern might need to appear there.\n",
    "\n",
    "A member of the renovation crew gives you a list of the tiles that need to be flipped over (your puzzle input). Each line in the list identifies a single tile that needs to be flipped by giving a series of steps starting from a reference tile in the very center of the room. (Every line starts from the same reference tile.)\n",
    "\n",
    "Because the tiles are hexagonal, every tile has six neighbors: east, southeast, southwest, west, northwest, and northeast. These directions are given in your list, respectively, as e, se, sw, w, nw, and ne. A tile is identified by a series of these directions with no delimiters; for example, esenee identifies the tile you land on if you start at the reference tile and then move one tile east, one tile southeast, one tile northeast, and one tile east.\n",
    "\n",
    "Each time a tile is identified, it flips from white to black or from black to white. Tiles might be flipped more than once. For example, a line like esew flips a tile immediately adjacent to the reference tile, and a line like nwwswee flips the reference tile itself.\n",
    "\n",
    "Here is a larger example:\n",
    "\n",
    "sesenwnenenewseeswwswswwnenewsewsw\n",
    "neeenesenwnwwswnenewnwwsewnenwseswesw\n",
    "seswneswswsenwwnwse\n",
    "nwnwneseeswswnenewneswwnewseswneseene\n",
    "swweswneswnenwsewnwneneseenw\n",
    "eesenwseswswnenwswnwnwsewwnwsene\n",
    "sewnenenenesenwsewnenwwwse\n",
    "wenwwweseeeweswwwnwwe\n",
    "wsweesenenewnwwnwsenewsenwwsesesenwne\n",
    "neeswseenwwswnwswswnw\n",
    "nenwswwsewswnenenewsenwsenwnesesenew\n",
    "enewnwewneswsewnwswenweswnenwsenwsw\n",
    "sweneswneswneneenwnewenewwneswswnese\n",
    "swwesenesewenwneswnwwneseswwne\n",
    "enesenwswwswneneswsenwnewswseenwsese\n",
    "wnwnesenesenenwwnenwsewesewsesesew\n",
    "nenewswnwewswnenesenwnesewesw\n",
    "eneswnwswnwsenenwnwnwwseeswneewsenese\n",
    "neswnwewnwnwseenwseesewsenwsweewe\n",
    "wseweeenwnesenwwwswnew\n",
    "\n",
    "In the above example, 10 tiles are flipped once (to black), and 5 more are flipped twice (to black, then back to white). After all of these instructions have been followed, a total of 10 tiles are black.\n",
    "\n",
    "Go through the renovation crew's list and determine which tiles they need to flip. After all of the instructions have been followed, how many tiles are left with the black side up?\n",
    "\n",
    "Your puzzle answer was 427."
   ]
  },
  {
   "cell_type": "code",
   "execution_count": 1,
   "metadata": {},
   "outputs": [],
   "source": [
    "import warnings\n",
    "\n",
    "warnings.filterwarnings(\"ignore\")\n",
    "\n",
    "import os\n",
    "import re\n",
    "import sys\n",
    "from pathlib import Path\n",
    "\n",
    "import numpy as np\n",
    "import pandas as pd\n",
    "from tqdm import tqdm"
   ]
  },
  {
   "cell_type": "code",
   "execution_count": 2,
   "metadata": {},
   "outputs": [
    {
     "data": {
      "text/plain": [
       "('seweswweswnwseeeesenwneseeseee', 'eneeneeeeeeeeseenew')"
      ]
     },
     "execution_count": 2,
     "metadata": {},
     "output_type": "execute_result"
    }
   ],
   "source": [
    "with open(\"d24_input.txt\", \"r\") as f:\n",
    "    lines = f.read().split(\"\\n\")\n",
    "# lines = [(i[0], int(i[1:])) for i in lines]\n",
    "lines[0], lines[-1]"
   ]
  },
  {
   "cell_type": "code",
   "execution_count": 3,
   "metadata": {},
   "outputs": [],
   "source": [
    "def replace_direction(s):\n",
    "    # ne -> 1\n",
    "    # se -> 2\n",
    "    # sw -> 3\n",
    "    # nw -> 4\n",
    "    return s.replace(\"ne\", \"1\").replace(\"se\", \"2\").replace(\"sw\", \"3\").replace(\"nw\", \"4\")\n",
    "\n",
    "\n",
    "def get_next_tile(x, y, l):\n",
    "    if l == \"e\":\n",
    "        return x + 2, y\n",
    "    if l == \"w\":\n",
    "        return x - 2, y\n",
    "    if l == \"1\":\n",
    "        return x + 1, y + 1\n",
    "    if l == \"2\":\n",
    "        return x + 1, y - 1\n",
    "    if l == \"3\":\n",
    "        return x - 1, y - 1\n",
    "    if l == \"4\":\n",
    "        return x - 1, y + 1\n",
    "    print(f\"Error; {l}\")\n",
    "    return None\n",
    "\n",
    "\n",
    "def get_final_tile(moves, x=0, y=0):\n",
    "    for l in replace_direction(moves):\n",
    "        x, y = get_next_tile(x, y, l)\n",
    "    return x, y"
   ]
  },
  {
   "cell_type": "code",
   "execution_count": 4,
   "metadata": {},
   "outputs": [],
   "source": [
    "tile_dict = {\"0,0\": 0}  # 0 is white, 1 is black\n",
    "for l in lines:\n",
    "    x, y = get_final_tile(l)\n",
    "    key = str(x) + \",\" + str(y)\n",
    "    if key in tile_dict:\n",
    "        tile_dict[key] = 1 - tile_dict[key]\n",
    "    else:\n",
    "        tile_dict[key] = 1"
   ]
  },
  {
   "cell_type": "code",
   "execution_count": 5,
   "metadata": {},
   "outputs": [
    {
     "data": {
      "text/plain": [
       "427"
      ]
     },
     "execution_count": 5,
     "metadata": {},
     "output_type": "execute_result"
    }
   ],
   "source": [
    "sum(tile_dict.values())"
   ]
  },
  {
   "cell_type": "raw",
   "metadata": {},
   "source": [
    "--- Part Two ---\n",
    "\n",
    "The tile floor in the lobby is meant to be a living art exhibit. Every day, the tiles are all flipped according to the following rules:\n",
    "\n",
    "    Any black tile with zero or more than 2 black tiles immediately adjacent to it is flipped to white.\n",
    "    Any white tile with exactly 2 black tiles immediately adjacent to it is flipped to black.\n",
    "\n",
    "Here, tiles immediately adjacent means the six tiles directly touching the tile in question.\n",
    "\n",
    "The rules are applied simultaneously to every tile; put another way, it is first determined which tiles need to be flipped, then they are all flipped at the same time.\n",
    "\n",
    "In the above example, the number of black tiles that are facing up after the given number of days has passed is as follows:\n",
    "\n",
    "Day 1: 15\n",
    "Day 2: 12\n",
    "Day 3: 25\n",
    "Day 4: 14\n",
    "Day 5: 23\n",
    "Day 6: 28\n",
    "Day 7: 41\n",
    "Day 8: 37\n",
    "Day 9: 49\n",
    "Day 10: 37\n",
    "\n",
    "Day 20: 132\n",
    "Day 30: 259\n",
    "Day 40: 406\n",
    "Day 50: 566\n",
    "Day 60: 788\n",
    "Day 70: 1106\n",
    "Day 80: 1373\n",
    "Day 90: 1844\n",
    "Day 100: 2208\n",
    "\n",
    "After executing this process a total of 100 times, there would be 2208 black tiles facing up.\n",
    "\n",
    "How many tiles will be black after 100 days?\n",
    "\n",
    "Your puzzle answer was 3837."
   ]
  },
  {
   "cell_type": "code",
   "execution_count": 6,
   "metadata": {},
   "outputs": [],
   "source": [
    "def check_color(x, y, tile_dict):\n",
    "    key = str(x) + \",\" + str(y)\n",
    "    if key not in tile_dict:\n",
    "        tile_dict[key] = 0\n",
    "    return tile_dict[key]\n",
    "\n",
    "\n",
    "def check_neighbour(x, y, tile_dict):\n",
    "    count = 0\n",
    "    count += check_color(x + 2, y, tile_dict)\n",
    "    count += check_color(x - 2, y, tile_dict)\n",
    "    count += check_color(x + 1, y + 1, tile_dict)\n",
    "    count += check_color(x + 1, y - 1, tile_dict)\n",
    "    count += check_color(x - 1, y - 1, tile_dict)\n",
    "    count += check_color(x - 1, y + 1, tile_dict)\n",
    "    return count"
   ]
  },
  {
   "cell_type": "code",
   "execution_count": 7,
   "metadata": {},
   "outputs": [
    {
     "name": "stderr",
     "output_type": "stream",
     "text": [
      "100%|████████████████████████████████████████████████████████████████| 100/100 [01:04<00:00,  1.56it/s]\n"
     ]
    }
   ],
   "source": [
    "init_tile_dict = tile_dict.copy()\n",
    "\n",
    "tile_dict = init_tile_dict.copy()\n",
    "\n",
    "for _ in tqdm(range(100)):\n",
    "    # use check_neighbour to expand\n",
    "    keys_to_check = list(tile_dict.keys())\n",
    "    for k in keys_to_check:\n",
    "        x, y = int(k.split(\",\")[0]), int(k.split(\",\")[1])\n",
    "        check_neighbour(x, y, tile_dict)\n",
    "\n",
    "    change_key_list = []\n",
    "    keys_to_check = list(tile_dict.keys())\n",
    "    for k in keys_to_check:\n",
    "        x, y = int(k.split(\",\")[0]), int(k.split(\",\")[1])\n",
    "        black_num = check_neighbour(x, y, tile_dict)\n",
    "        color = tile_dict[k]\n",
    "        if ((color == 1) and ((black_num == 0) or (black_num > 2))) or (\n",
    "            (color == 0) and (black_num == 2)\n",
    "        ):\n",
    "            change_key_list.append(k)\n",
    "    new_dict = tile_dict.copy()\n",
    "    for k in change_key_list:\n",
    "        new_dict[k] = 1 - new_dict[k]\n",
    "    tile_dict = new_dict.copy()"
   ]
  },
  {
   "cell_type": "code",
   "execution_count": 8,
   "metadata": {},
   "outputs": [
    {
     "data": {
      "text/plain": [
       "3837"
      ]
     },
     "execution_count": 8,
     "metadata": {},
     "output_type": "execute_result"
    }
   ],
   "source": [
    "sum(tile_dict.values())"
   ]
  }
 ],
 "metadata": {
  "kernelspec": {
   "display_name": "Python [conda env:ds38]",
   "language": "python",
   "name": "conda-env-ds38-py"
  },
  "language_info": {
   "codemirror_mode": {
    "name": "ipython",
    "version": 3
   },
   "file_extension": ".py",
   "mimetype": "text/x-python",
   "name": "python",
   "nbconvert_exporter": "python",
   "pygments_lexer": "ipython3",
   "version": "3.8.5"
  }
 },
 "nbformat": 4,
 "nbformat_minor": 4
}
