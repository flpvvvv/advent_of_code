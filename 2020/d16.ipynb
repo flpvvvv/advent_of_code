{
 "cells": [
  {
   "cell_type": "raw",
   "metadata": {},
   "source": [
    "--- Day 16: Ticket Translation ---\n",
    "\n",
    "As you're walking to yet another connecting flight, you realize that one of the legs of your re-routed trip coming up is on a high-speed train. However, the train ticket you were given is in a language you don't understand. You should probably figure out what it says before you get to the train station after the next flight.\n",
    "\n",
    "Unfortunately, you can't actually read the words on the ticket. You can, however, read the numbers, and so you figure out the fields these tickets must have and the valid ranges for values in those fields.\n",
    "\n",
    "You collect the rules for ticket fields, the numbers on your ticket, and the numbers on other nearby tickets for the same train service (via the airport security cameras) together into a single document you can reference (your puzzle input).\n",
    "\n",
    "The rules for ticket fields specify a list of fields that exist somewhere on the ticket and the valid ranges of values for each field. For example, a rule like class: 1-3 or 5-7 means that one of the fields in every ticket is named class and can be any value in the ranges 1-3 or 5-7 (inclusive, such that 3 and 5 are both valid in this field, but 4 is not).\n",
    "\n",
    "Each ticket is represented by a single line of comma-separated values. The values are the numbers on the ticket in the order they appear; every ticket has the same format. For example, consider this ticket:\n",
    "\n",
    ".--------------------------------------------------------.\n",
    "| ????: 101    ?????: 102   ??????????: 103     ???: 104 |\n",
    "|                                                        |\n",
    "| ??: 301  ??: 302             ???????: 303      ??????? |\n",
    "| ??: 401  ??: 402           ???? ????: 403    ????????? |\n",
    "'--------------------------------------------------------'\n",
    "\n",
    "Here, ? represents text in a language you don't understand. This ticket might be represented as 101,102,103,104,301,302,303,401,402,403; of course, the actual train tickets you're looking at are much more complicated. In any case, you've extracted just the numbers in such a way that the first number is always the same specific field, the second number is always a different specific field, and so on - you just don't know what each position actually means!\n",
    "\n",
    "Start by determining which tickets are completely invalid; these are tickets that contain values which aren't valid for any field. Ignore your ticket for now.\n",
    "\n",
    "For example, suppose you have the following notes:\n",
    "\n",
    "class: 1-3 or 5-7\n",
    "row: 6-11 or 33-44\n",
    "seat: 13-40 or 45-50\n",
    "\n",
    "your ticket:\n",
    "7,1,14\n",
    "\n",
    "nearby tickets:\n",
    "7,3,47\n",
    "40,4,50\n",
    "55,2,20\n",
    "38,6,12\n",
    "\n",
    "It doesn't matter which position corresponds to which field; you can identify invalid nearby tickets by considering only whether tickets contain values that are not valid for any field. In this example, the values on the first nearby ticket are all valid for at least one field. This is not true of the other three nearby tickets: the values 4, 55, and 12 are are not valid for any field. Adding together all of the invalid values produces your ticket scanning error rate: 4 + 55 + 12 = 71.\n",
    "\n",
    "Consider the validity of the nearby tickets you scanned. What is your ticket scanning error rate?\n",
    "\n",
    "Your puzzle answer was 26941."
   ]
  },
  {
   "cell_type": "code",
   "execution_count": 1,
   "metadata": {},
   "outputs": [],
   "source": [
    "import warnings\n",
    "\n",
    "warnings.filterwarnings(\"ignore\")\n",
    "\n",
    "import os\n",
    "import re\n",
    "import sys\n",
    "from pathlib import Path\n",
    "\n",
    "import numpy as np\n",
    "import pandas as pd\n",
    "from tqdm import tqdm"
   ]
  },
  {
   "cell_type": "code",
   "execution_count": 2,
   "metadata": {},
   "outputs": [],
   "source": [
    "with open(\"d16_input.txt\", \"r\") as f:\n",
    "    lines = f.read().split(\"\\n\")\n",
    "# lines = [(i[0], int(i[1:])) for i in lines]"
   ]
  },
  {
   "cell_type": "code",
   "execution_count": 3,
   "metadata": {},
   "outputs": [
    {
     "data": {
      "text/plain": [
       "('departure location: 27-374 or 395-974',\n",
       " '681,87,351,54,939,77,318,433,440,52,505,443,371,931,231,867,574,148,939,137')"
      ]
     },
     "execution_count": 3,
     "metadata": {},
     "output_type": "execute_result"
    }
   ],
   "source": [
    "lines[0], lines[-1]"
   ]
  },
  {
   "cell_type": "code",
   "execution_count": 4,
   "metadata": {},
   "outputs": [],
   "source": [
    "def get_valid_list_for_filed(l):\n",
    "    field = l.split(\":\")[0]\n",
    "    t = l.split(\":\")[1].split(\"or\")\n",
    "    t1 = t[0].split(\"-\")\n",
    "    t2 = t[1].split(\"-\")\n",
    "    valid_list = list(range(int(t1[0].strip()), int(t1[1].strip()) + 1)) + list(\n",
    "        range(int(t2[0].strip()), int(t2[1].strip()) + 1)\n",
    "    )\n",
    "    return field, valid_list"
   ]
  },
  {
   "cell_type": "code",
   "execution_count": 5,
   "metadata": {},
   "outputs": [],
   "source": [
    "# Get field_dict, my ticket list and other ticket lists\n",
    "field_dict = {}\n",
    "for idx, l in enumerate(lines):\n",
    "    if l != \"\":\n",
    "        field, valid_list = get_valid_list_for_filed(l)\n",
    "        field_dict[field] = valid_list\n",
    "    else:\n",
    "        break\n",
    "my_ticket_li = [int(i) for i in lines[idx + 2].split(\",\")]\n",
    "my_ticket_li\n",
    "other_tickets = []\n",
    "for ii in range(idx + 5, len(lines)):\n",
    "    other_tickets.append([int(i) for i in lines[ii].split(\",\")])"
   ]
  },
  {
   "cell_type": "code",
   "execution_count": 6,
   "metadata": {},
   "outputs": [],
   "source": [
    "# get all valid numbers\n",
    "all_valid_num = []\n",
    "for i in field_dict.values():\n",
    "    all_valid_num.extend(i)\n",
    "all_valid_num = set(all_valid_num)"
   ]
  },
  {
   "cell_type": "code",
   "execution_count": 7,
   "metadata": {},
   "outputs": [
    {
     "data": {
      "text/plain": [
       "26941"
      ]
     },
     "execution_count": 7,
     "metadata": {},
     "output_type": "execute_result"
    }
   ],
   "source": [
    "# count unvalid numbers\n",
    "all_num = np.array(other_tickets).flatten()\n",
    "sum([i for i in all_num if i not in all_valid_num])"
   ]
  },
  {
   "cell_type": "raw",
   "metadata": {},
   "source": [
    "--- Part Two ---\n",
    "\n",
    "Now that you've identified which tickets contain invalid values, discard those tickets entirely. Use the remaining valid tickets to determine which field is which.\n",
    "\n",
    "Using the valid ranges for each field, determine what order the fields appear on the tickets. The order is consistent between all tickets: if seat is the third field, it is the third field on every ticket, including your ticket.\n",
    "\n",
    "For example, suppose you have the following notes:\n",
    "\n",
    "class: 0-1 or 4-19\n",
    "row: 0-5 or 8-19\n",
    "seat: 0-13 or 16-19\n",
    "\n",
    "your ticket:\n",
    "11,12,13\n",
    "\n",
    "nearby tickets:\n",
    "3,9,18\n",
    "15,1,5\n",
    "5,14,9\n",
    "\n",
    "Based on the nearby tickets in the above example, the first position must be row, the second position must be class, and the third position must be seat; you can conclude that in your ticket, class is 12, row is 11, and seat is 13.\n",
    "\n",
    "Once you work out which field is which, look for the six fields on your ticket that start with the word departure. What do you get if you multiply those six values together?\n",
    "\n",
    "Your puzzle answer was 634796407951."
   ]
  },
  {
   "cell_type": "code",
   "execution_count": 8,
   "metadata": {},
   "outputs": [],
   "source": [
    "# Get all valid tickets\n",
    "valid_tickets = [i for i in other_tickets if pd.Series(i).isin(all_valid_num).all()]"
   ]
  },
  {
   "cell_type": "code",
   "execution_count": 9,
   "metadata": {},
   "outputs": [
    {
     "data": {
      "text/plain": [
       "array([[103,  79,  61, ...,  73, 107, 137],\n",
       "       [473, 926, 599, ..., 450, 177, 113],\n",
       "       [110,  74, 420, ..., 462, 837, 822],\n",
       "       ...,\n",
       "       [684, 520, 357, ..., 837, 255,  96],\n",
       "       [287, 538, 856, ..., 117,  59, 906],\n",
       "       [681,  87, 351, ..., 148, 939, 137]])"
      ]
     },
     "execution_count": 9,
     "metadata": {},
     "output_type": "execute_result"
    }
   ],
   "source": [
    "# include my ticket\n",
    "all_valid_t = np.vstack((my_ticket_li, np.array(valid_tickets)))\n",
    "all_valid_t"
   ]
  },
  {
   "cell_type": "code",
   "execution_count": 10,
   "metadata": {},
   "outputs": [],
   "source": [
    "# Get initial possible fields\n",
    "res = []\n",
    "for i in range(all_valid_t.shape[1]):\n",
    "    new_row = []\n",
    "    for k, v in field_dict.items():\n",
    "        possible = pd.Series(all_valid_t[:, i]).isin(field_dict[k]).all()\n",
    "        if possible:\n",
    "            new_row.append(k)\n",
    "    res.append(new_row)"
   ]
  },
  {
   "cell_type": "code",
   "execution_count": 11,
   "metadata": {},
   "outputs": [
    {
     "data": {
      "text/plain": [
       "{'arrival station': 6,\n",
       " 'zone': 0,\n",
       " 'row': 12,\n",
       " 'route': 10,\n",
       " 'price': 8,\n",
       " 'train': 3,\n",
       " 'departure time': 1,\n",
       " 'departure location': 13,\n",
       " 'departure track': 5,\n",
       " 'departure platform': 2,\n",
       " 'departure date': 15,\n",
       " 'departure station': 19,\n",
       " 'wagon': 9,\n",
       " 'seat': 7,\n",
       " 'class': 14,\n",
       " 'arrival track': 4,\n",
       " 'duration': 18,\n",
       " 'arrival platform': 17,\n",
       " 'arrival location': 16,\n",
       " 'type': 11}"
      ]
     },
     "execution_count": 11,
     "metadata": {},
     "output_type": "execute_result"
    }
   ],
   "source": [
    "# find the only solution, unitl no more to find\n",
    "ans_dict = {}\n",
    "while True:\n",
    "    new_res = res.copy()\n",
    "    flag = True\n",
    "    for idx, i in enumerate(res):\n",
    "        if len(i) == 1:\n",
    "            flag = False\n",
    "            name = i[0]\n",
    "            ans_dict[name] = idx\n",
    "            for j in new_res:\n",
    "                if name in j:\n",
    "                    j.remove(name)\n",
    "    res = new_res.copy()\n",
    "    if flag:\n",
    "        break\n",
    "ans_dict"
   ]
  },
  {
   "cell_type": "code",
   "execution_count": 12,
   "metadata": {},
   "outputs": [
    {
     "data": {
      "text/plain": [
       "634796407951"
      ]
     },
     "execution_count": 12,
     "metadata": {},
     "output_type": "execute_result"
    }
   ],
   "source": [
    "# calculate the output\n",
    "output = 1\n",
    "for k, v in ans_dict.items():\n",
    "    if k[: len(\"departure\")] == \"departure\":\n",
    "        output *= my_ticket_li[v]\n",
    "output"
   ]
  }
 ],
 "metadata": {
  "kernelspec": {
   "display_name": "Python [conda env:ds38]",
   "language": "python",
   "name": "conda-env-ds38-py"
  },
  "language_info": {
   "codemirror_mode": {
    "name": "ipython",
    "version": 3
   },
   "file_extension": ".py",
   "mimetype": "text/x-python",
   "name": "python",
   "nbconvert_exporter": "python",
   "pygments_lexer": "ipython3",
   "version": "3.8.5"
  }
 },
 "nbformat": 4,
 "nbformat_minor": 4
}
