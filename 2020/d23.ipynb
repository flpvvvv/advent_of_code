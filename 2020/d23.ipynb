{
 "cells": [
  {
   "cell_type": "raw",
   "metadata": {},
   "source": [
    "--- Day 23: Crab Cups ---\n",
    "\n",
    "The small crab challenges you to a game! The crab is going to mix up some cups, and you have to predict where they'll end up.\n",
    "\n",
    "The cups will be arranged in a circle and labeled clockwise (your puzzle input). For example, if your labeling were 32415, there would be five cups in the circle; going clockwise around the circle from the first cup, the cups would be labeled 3, 2, 4, 1, 5, and then back to 3 again.\n",
    "\n",
    "Before the crab starts, it will designate the first cup in your list as the current cup. The crab is then going to do 100 moves.\n",
    "\n",
    "Each move, the crab does the following actions:\n",
    "\n",
    "    The crab picks up the three cups that are immediately clockwise of the current cup. They are removed from the circle; cup spacing is adjusted as necessary to maintain the circle.\n",
    "    The crab selects a destination cup: the cup with a label equal to the current cup's label minus one. If this would select one of the cups that was just picked up, the crab will keep subtracting one until it finds a cup that wasn't just picked up. If at any point in this process the value goes below the lowest value on any cup's label, it wraps around to the highest value on any cup's label instead.\n",
    "    The crab places the cups it just picked up so that they are immediately clockwise of the destination cup. They keep the same order as when they were picked up.\n",
    "    The crab selects a new current cup: the cup which is immediately clockwise of the current cup.\n",
    "\n",
    "For example, suppose your cup labeling were 389125467. If the crab were to do merely 10 moves, the following changes would occur:\n",
    "\n",
    "-- move 1 --\n",
    "cups: (3) 8  9  1  2  5  4  6  7 \n",
    "pick up: 8, 9, 1\n",
    "destination: 2\n",
    "\n",
    "-- move 2 --\n",
    "cups:  3 (2) 8  9  1  5  4  6  7 \n",
    "pick up: 8, 9, 1\n",
    "destination: 7\n",
    "\n",
    "-- move 3 --\n",
    "cups:  3  2 (5) 4  6  7  8  9  1 \n",
    "pick up: 4, 6, 7\n",
    "destination: 3\n",
    "\n",
    "-- move 4 --\n",
    "cups:  7  2  5 (8) 9  1  3  4  6 \n",
    "pick up: 9, 1, 3\n",
    "destination: 7\n",
    "\n",
    "-- move 5 --\n",
    "cups:  3  2  5  8 (4) 6  7  9  1 \n",
    "pick up: 6, 7, 9\n",
    "destination: 3\n",
    "\n",
    "-- move 6 --\n",
    "cups:  9  2  5  8  4 (1) 3  6  7 \n",
    "pick up: 3, 6, 7\n",
    "destination: 9\n",
    "\n",
    "-- move 7 --\n",
    "cups:  7  2  5  8  4  1 (9) 3  6 \n",
    "pick up: 3, 6, 7\n",
    "destination: 8\n",
    "\n",
    "-- move 8 --\n",
    "cups:  8  3  6  7  4  1  9 (2) 5 \n",
    "pick up: 5, 8, 3\n",
    "destination: 1\n",
    "\n",
    "-- move 9 --\n",
    "cups:  7  4  1  5  8  3  9  2 (6)\n",
    "pick up: 7, 4, 1\n",
    "destination: 5\n",
    "\n",
    "-- move 10 --\n",
    "cups: (5) 7  4  1  8  3  9  2  6 \n",
    "pick up: 7, 4, 1\n",
    "destination: 3\n",
    "\n",
    "-- final --\n",
    "cups:  5 (8) 3  7  4  1  9  2  6 \n",
    "\n",
    "In the above example, the cups' values are the labels as they appear moving clockwise around the circle; the current cup is marked with ( ).\n",
    "\n",
    "After the crab is done, what order will the cups be in? Starting after the cup labeled 1, collect the other cups' labels clockwise into a single string with no extra characters; each number except 1 should appear exactly once. In the above example, after 10 moves, the cups clockwise from 1 are labeled 9, 2, 6, 5, and so on, producing 92658374. If the crab were to complete all 100 moves, the order after cup 1 would be 67384529.\n",
    "\n",
    "Using your labeling, simulate 100 moves. What are the labels on the cups after cup 1?\n",
    "\n",
    "Your puzzle answer was 82635947."
   ]
  },
  {
   "cell_type": "code",
   "execution_count": null,
   "metadata": {},
   "outputs": [],
   "source": [
    "import warnings\n",
    "\n",
    "warnings.filterwarnings(\"ignore\")\n",
    "\n",
    "import os\n",
    "import re\n",
    "import sys\n",
    "from pathlib import Path\n",
    "\n",
    "import numpy as np\n",
    "import pandas as pd\n",
    "from tqdm import tqdm"
   ]
  },
  {
   "cell_type": "code",
   "execution_count": 2,
   "metadata": {},
   "outputs": [
    {
     "data": {
      "text/plain": [
       "('685974213', '685974213')"
      ]
     },
     "execution_count": 2,
     "metadata": {},
     "output_type": "execute_result"
    }
   ],
   "source": [
    "with open(\"d23_input.txt\", \"r\") as f:\n",
    "    lines = f.read().split(\"\\n\")\n",
    "# lines = [(i[0], int(i[1:])) for i in lines]\n",
    "lines[0], lines[-1]"
   ]
  },
  {
   "cell_type": "code",
   "execution_count": 3,
   "metadata": {},
   "outputs": [
    {
     "data": {
      "text/plain": [
       "[6, 8, 5, 9, 7, 4, 2, 1, 3]"
      ]
     },
     "execution_count": 3,
     "metadata": {},
     "output_type": "execute_result"
    }
   ],
   "source": [
    "start_li = [int(i) for i in lines[0]]\n",
    "start_li"
   ]
  },
  {
   "cell_type": "code",
   "execution_count": 4,
   "metadata": {},
   "outputs": [
    {
     "data": {
      "text/plain": [
       "[6, 8, 5, 9, 7, 4, 2, 1, 3, 't']"
      ]
     },
     "execution_count": 4,
     "metadata": {},
     "output_type": "execute_result"
    }
   ],
   "source": [
    "destination_idx = 8\n",
    "start_li[: destination_idx + 1] + [\"t\"] + start_li[destination_idx + 1 :]"
   ]
  },
  {
   "cell_type": "code",
   "execution_count": 5,
   "metadata": {},
   "outputs": [],
   "source": [
    "class crab_cup:\n",
    "    \"\"\"\n",
    "    use list\n",
    "    slow version\n",
    "    \"\"\"\n",
    "\n",
    "    def __init__(self, init_li, pick_up_num=3):\n",
    "        self.cup_li = init_li\n",
    "        self.pick_up_num = pick_up_num\n",
    "        self.round = 0\n",
    "\n",
    "    def play_one_round(self):\n",
    "        current_cup = self.cup_li[0]\n",
    "        pick_up_li = self.cup_li[1 : 1 + self.pick_up_num]\n",
    "        rest_li = self.cup_li[1 + self.pick_up_num :]\n",
    "        cup_to_find = current_cup - 1\n",
    "        min_to_find = min(rest_li)\n",
    "        while cup_to_find in pick_up_li:\n",
    "            cup_to_find -= 1\n",
    "            if cup_to_find < min_to_find:\n",
    "                break\n",
    "        if cup_to_find < min_to_find:  # find max\n",
    "            destination_cup = max(rest_li)\n",
    "        else:\n",
    "            # find in the rest_li\n",
    "            destination_cup = cup_to_find\n",
    "        # get destination_cup's index\n",
    "        destination_idx = rest_li.index(destination_cup)\n",
    "        # re-arrange\n",
    "        self.cup_li = (\n",
    "            rest_li[: destination_idx + 1]\n",
    "            + pick_up_li\n",
    "            + rest_li[destination_idx + 1 :]\n",
    "            + [current_cup]\n",
    "        )\n",
    "        self.round += 1\n",
    "\n",
    "    def show_current_cup_li(self):\n",
    "        print(f\"The cup list after {self.round} round: {self.cup_li}\")\n",
    "\n",
    "    def play_n_rounds(self, round_num):\n",
    "        for _ in range(round_num):\n",
    "            self.play_one_round()"
   ]
  },
  {
   "cell_type": "code",
   "execution_count": 6,
   "metadata": {},
   "outputs": [
    {
     "name": "stdout",
     "output_type": "stream",
     "text": [
      "The cup list after 0 round: [6, 8, 5, 9, 7, 4, 2, 1, 3]\n",
      "The cup list after 100 round: [1, 8, 2, 6, 3, 5, 9, 4, 7]\n"
     ]
    }
   ],
   "source": [
    "new_game = crab_cup(start_li)\n",
    "new_game.show_current_cup_li()\n",
    "new_game.play_n_rounds(100)\n",
    "new_game.show_current_cup_li()"
   ]
  },
  {
   "cell_type": "code",
   "execution_count": 7,
   "metadata": {},
   "outputs": [],
   "source": [
    "def find_output(li):\n",
    "    one_index = li.index(1)\n",
    "    output_li = li[one_index + 1 :] + li[:one_index]\n",
    "    output_li = [str(i) for i in output_li]\n",
    "    return \"\".join(output_li)"
   ]
  },
  {
   "cell_type": "code",
   "execution_count": 8,
   "metadata": {},
   "outputs": [
    {
     "data": {
      "text/plain": [
       "'82635947'"
      ]
     },
     "execution_count": 8,
     "metadata": {},
     "output_type": "execute_result"
    }
   ],
   "source": [
    "find_output(new_game.cup_li)"
   ]
  },
  {
   "cell_type": "raw",
   "metadata": {},
   "source": [
    "--- Part Two ---\n",
    "\n",
    "Due to what you can only assume is a mistranslation (you're not exactly fluent in Crab), you are quite surprised when the crab starts arranging many cups in a circle on your raft - one million (1000000) in total.\n",
    "\n",
    "Your labeling is still correct for the first few cups; after that, the remaining cups are just numbered in an increasing fashion starting from the number after the highest number in your list and proceeding one by one until one million is reached. (For example, if your labeling were 54321, the cups would be numbered 5, 4, 3, 2, 1, and then start counting up from 6 until one million is reached.) In this way, every number from one through one million is used exactly once.\n",
    "\n",
    "After discovering where you made the mistake in translating Crab Numbers, you realize the small crab isn't going to do merely 100 moves; the crab is going to do ten million (10000000) moves!\n",
    "\n",
    "The crab is going to hide your stars - one each - under the two cups that will end up immediately clockwise of cup 1. You can have them if you predict what the labels on those cups will be when the crab is finished.\n",
    "\n",
    "In the above example (389125467), this would be 934001 and then 159792; multiplying these together produces 149245887792.\n",
    "\n",
    "Determine which two cups will end up immediately clockwise of cup 1. What do you get if you multiply their labels together?\n",
    "\n",
    "Your puzzle answer was 157047826689."
   ]
  },
  {
   "cell_type": "code",
   "execution_count": 9,
   "metadata": {},
   "outputs": [
    {
     "data": {
      "text/plain": [
       "[6, 8, 5, 9, 7, 4, 2, 1, 3]"
      ]
     },
     "execution_count": 9,
     "metadata": {},
     "output_type": "execute_result"
    }
   ],
   "source": [
    "start_li = [int(i) for i in lines[0]]\n",
    "start_li"
   ]
  },
  {
   "cell_type": "code",
   "execution_count": 10,
   "metadata": {},
   "outputs": [
    {
     "name": "stdout",
     "output_type": "stream",
     "text": [
      "1 1000000\n"
     ]
    }
   ],
   "source": [
    "max_num = 1_000_000\n",
    "start_li = start_li + list(range(max(start_li) + 1, max_num + 1))\n",
    "print(min(start_li), max(start_li))"
   ]
  },
  {
   "cell_type": "code",
   "execution_count": 11,
   "metadata": {},
   "outputs": [
    {
     "data": {
      "text/plain": [
       "((1000000, 8), (1, 10), (999, 1001), (999998, 1000000), (999999, 6))"
      ]
     },
     "execution_count": 11,
     "metadata": {},
     "output_type": "execute_result"
    }
   ],
   "source": [
    "# create a dict\n",
    "# each key has a value: (cup_number_befre, cup_number_after)\n",
    "\n",
    "cup_dict = {\n",
    "    cup: (start_li[idx - 1], start_li[(idx + 1) % max_num])\n",
    "    for idx, cup in enumerate(start_li)\n",
    "}\n",
    "cup_dict[6], cup_dict[3], cup_dict[1000], cup_dict[max_num - 1], cup_dict[max_num]"
   ]
  },
  {
   "cell_type": "code",
   "execution_count": 12,
   "metadata": {},
   "outputs": [],
   "source": [
    "class crab_cup:\n",
    "    \"\"\"\n",
    "    use dict\n",
    "    only update locally\n",
    "    fast version !!\n",
    "    \"\"\"\n",
    "\n",
    "    def __init__(self, init_dict, start_cup):\n",
    "        self.cup_dict = init_dict\n",
    "        self.current_cup = start_cup\n",
    "        self.max_num = len(init_dict)\n",
    "        self.round = 0\n",
    "\n",
    "    def find_next_num(self, c, step):\n",
    "        for _ in range(step):\n",
    "            c = self.cup_dict[c][1]\n",
    "        return c\n",
    "\n",
    "    def play_one_round(self):\n",
    "        cup_to_find = self.current_cup - 1\n",
    "        a, b, c = (self.find_next_num(self.current_cup, i + 1) for i in range(3))\n",
    "        pick_up_li = [a, b, c]\n",
    "        while cup_to_find in pick_up_li:\n",
    "            cup_to_find -= 1\n",
    "        if cup_to_find == 0:  # find max\n",
    "            destination_cup = self.max_num\n",
    "            while destination_cup in pick_up_li + [self.current_cup]:\n",
    "                destination_cup -= 1\n",
    "        else:\n",
    "            destination_cup = cup_to_find\n",
    "\n",
    "        # prepare for next round\n",
    "        next_start_cup = self.cup_dict[c][1]\n",
    "        # cut off pick_up_li\n",
    "        self.cup_dict[self.current_cup] = (\n",
    "            self.cup_dict[self.current_cup][0],\n",
    "            next_start_cup,\n",
    "        )\n",
    "        self.cup_dict[next_start_cup] = (\n",
    "            self.current_cup,\n",
    "            self.cup_dict[next_start_cup][1],\n",
    "        )\n",
    "        # insert pick_up_li\n",
    "        after_destination_cups = self.cup_dict[destination_cup][1]\n",
    "        self.cup_dict[destination_cup] = (self.cup_dict[destination_cup][0], a)\n",
    "        self.cup_dict[a] = (destination_cup, b)\n",
    "        self.cup_dict[c] = (b, after_destination_cups)\n",
    "        self.cup_dict[after_destination_cups] = (\n",
    "            c,\n",
    "            self.cup_dict[after_destination_cups][1],\n",
    "        )\n",
    "\n",
    "        self.current_cup = next_start_cup\n",
    "        self.round += 1\n",
    "\n",
    "    def show_numbers_after(self, current_num, step=1):\n",
    "        show_li = [current_num]\n",
    "        for _ in range(step):\n",
    "            current_num = self.cup_dict[current_num][1]\n",
    "            show_li.append(current_num)\n",
    "        print(f\"The cup list after {self.round} round:\")\n",
    "        print(f\"Cups: {show_li}\")\n",
    "        return show_li\n",
    "\n",
    "    def play_n_rounds(self, round_num):\n",
    "        for _ in tqdm(range(round_num)):\n",
    "            self.play_one_round()"
   ]
  },
  {
   "cell_type": "code",
   "execution_count": 13,
   "metadata": {},
   "outputs": [
    {
     "name": "stdout",
     "output_type": "stream",
     "text": [
      "The cup list after 0 round:\n",
      "Cups: [1, 3, 10, 11, 12, 13, 14, 15, 16, 17, 18]\n"
     ]
    },
    {
     "data": {
      "text/plain": [
       "[1, 3, 10, 11, 12, 13, 14, 15, 16, 17, 18]"
      ]
     },
     "execution_count": 13,
     "metadata": {},
     "output_type": "execute_result"
    }
   ],
   "source": [
    "new_game = crab_cup(cup_dict.copy(), start_cup=start_li[0])\n",
    "new_game.show_numbers_after(1, 10)"
   ]
  },
  {
   "cell_type": "code",
   "execution_count": 14,
   "metadata": {},
   "outputs": [
    {
     "name": "stderr",
     "output_type": "stream",
     "text": [
      "100%|██████████████████████████████████████████████████| 10000000/10000000 [01:00<00:00, 164409.18it/s]\n"
     ]
    }
   ],
   "source": [
    "new_game.play_n_rounds(10_000_000)"
   ]
  },
  {
   "cell_type": "code",
   "execution_count": 15,
   "metadata": {},
   "outputs": [
    {
     "name": "stdout",
     "output_type": "stream",
     "text": [
      "The cup list after 10000000 round:\n",
      "Cups: [1, 470997, 333437, 305064]\n"
     ]
    },
    {
     "data": {
      "text/plain": [
       "[1, 470997, 333437, 305064]"
      ]
     },
     "execution_count": 15,
     "metadata": {},
     "output_type": "execute_result"
    }
   ],
   "source": [
    "res_li = new_game.show_numbers_after(1, 3)\n",
    "res_li"
   ]
  },
  {
   "cell_type": "code",
   "execution_count": 16,
   "metadata": {},
   "outputs": [
    {
     "data": {
      "text/plain": [
       "157047826689"
      ]
     },
     "execution_count": 16,
     "metadata": {},
     "output_type": "execute_result"
    }
   ],
   "source": [
    "# output\n",
    "res_li[1] * res_li[2]"
   ]
  }
 ],
 "metadata": {
  "kernelspec": {
   "display_name": "Python [conda env:ds38]",
   "language": "python",
   "name": "conda-env-ds38-py"
  },
  "language_info": {
   "codemirror_mode": {
    "name": "ipython",
    "version": 3
   },
   "file_extension": ".py",
   "mimetype": "text/x-python",
   "name": "python",
   "nbconvert_exporter": "python",
   "pygments_lexer": "ipython3",
   "version": "3.8.5"
  }
 },
 "nbformat": 4,
 "nbformat_minor": 4
}
