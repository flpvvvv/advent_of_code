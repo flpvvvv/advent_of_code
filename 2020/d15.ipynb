{
 "cells": [
  {
   "cell_type": "raw",
   "metadata": {},
   "source": [
    "--- Day 15: Rambunctious Recitation ---\n",
    "\n",
    "You catch the airport shuttle and try to book a new flight to your vacation island. Due to the storm, all direct flights have been cancelled, but a route is available to get around the storm. You take it.\n",
    "\n",
    "While you wait for your flight, you decide to check in with the Elves back at the North Pole. They're playing a memory game and are ever so excited to explain the rules!\n",
    "\n",
    "In this game, the players take turns saying numbers. They begin by taking turns reading from a list of starting numbers (your puzzle input). Then, each turn consists of considering the most recently spoken number:\n",
    "\n",
    "    If that was the first time the number has been spoken, the current player says 0.\n",
    "    Otherwise, the number had been spoken before; the current player announces how many turns apart the number is from when it was previously spoken.\n",
    "\n",
    "So, after the starting numbers, each turn results in that player speaking aloud either 0 (if the last number is new) or an age (if the last number is a repeat).\n",
    "\n",
    "For example, suppose the starting numbers are 0,3,6:\n",
    "\n",
    "    Turn 1: The 1st number spoken is a starting number, 0.\n",
    "    Turn 2: The 2nd number spoken is a starting number, 3.\n",
    "    Turn 3: The 3rd number spoken is a starting number, 6.\n",
    "    Turn 4: Now, consider the last number spoken, 6. Since that was the first time the number had been spoken, the 4th number spoken is 0.\n",
    "    Turn 5: Next, again consider the last number spoken, 0. Since it had been spoken before, the next number to speak is the difference between the turn number when it was last spoken (the previous turn, 4) and the turn number of the time it was most recently spoken before then (turn 1). Thus, the 5th number spoken is 4 - 1, 3.\n",
    "    Turn 6: The last number spoken, 3 had also been spoken before, most recently on turns 5 and 2. So, the 6th number spoken is 5 - 2, 3.\n",
    "    Turn 7: Since 3 was just spoken twice in a row, and the last two turns are 1 turn apart, the 7th number spoken is 1.\n",
    "    Turn 8: Since 1 is new, the 8th number spoken is 0.\n",
    "    Turn 9: 0 was last spoken on turns 8 and 4, so the 9th number spoken is the difference between them, 4.\n",
    "    Turn 10: 4 is new, so the 10th number spoken is 0.\n",
    "\n",
    "(The game ends when the Elves get sick of playing or dinner is ready, whichever comes first.)\n",
    "\n",
    "Their question for you is: what will be the 2020th number spoken? In the example above, the 2020th number spoken will be 436.\n",
    "\n",
    "Here are a few more examples:\n",
    "\n",
    "    Given the starting numbers 1,3,2, the 2020th number spoken is 1.\n",
    "    Given the starting numbers 2,1,3, the 2020th number spoken is 10.\n",
    "    Given the starting numbers 1,2,3, the 2020th number spoken is 27.\n",
    "    Given the starting numbers 2,3,1, the 2020th number spoken is 78.\n",
    "    Given the starting numbers 3,2,1, the 2020th number spoken is 438.\n",
    "    Given the starting numbers 3,1,2, the 2020th number spoken is 1836.\n",
    "\n",
    "Given your starting numbers, what will be the 2020th number spoken?\n",
    "\n",
    "Your puzzle answer was 1015."
   ]
  },
  {
   "cell_type": "code",
   "execution_count": 1,
   "metadata": {},
   "outputs": [],
   "source": [
    "import warnings\n",
    "\n",
    "warnings.filterwarnings(\"ignore\")\n",
    "\n",
    "import os\n",
    "import re\n",
    "import sys\n",
    "from pathlib import Path\n",
    "\n",
    "import numpy as np\n",
    "import pandas as pd\n",
    "from tqdm import tqdm"
   ]
  },
  {
   "cell_type": "code",
   "execution_count": 2,
   "metadata": {},
   "outputs": [],
   "source": [
    "with open(\"d15_input.txt\", \"r\") as f:\n",
    "    lines = f.read().split(\"\\n\")\n",
    "# lines = [(i[0], int(i[1:])) for i in lines]"
   ]
  },
  {
   "cell_type": "code",
   "execution_count": 3,
   "metadata": {},
   "outputs": [
    {
     "data": {
      "text/plain": [
       "('19,0,5,1,10,13', '19,0,5,1,10,13')"
      ]
     },
     "execution_count": 3,
     "metadata": {},
     "output_type": "execute_result"
    }
   ],
   "source": [
    "lines[0], lines[-1]"
   ]
  },
  {
   "cell_type": "code",
   "execution_count": 4,
   "metadata": {},
   "outputs": [
    {
     "data": {
      "text/plain": [
       "[19, 0, 5, 1, 10, 13]"
      ]
     },
     "execution_count": 4,
     "metadata": {},
     "output_type": "execute_result"
    }
   ],
   "source": [
    "inp = lines[0].split(\",\")\n",
    "inp = [int(i) for i in inp]\n",
    "inp"
   ]
  },
  {
   "cell_type": "code",
   "execution_count": 5,
   "metadata": {},
   "outputs": [],
   "source": [
    "def get_number(inp, n_round):\n",
    "    d = {i:[idx,] for idx,i in enumerate(inp)}\n",
    "    n = inp[-1] # last num\n",
    "    for i in tqdm(range(len(inp),n_round)):\n",
    "        if n in d:\n",
    "            li = d[n]\n",
    "            if len(li)==1:\n",
    "                rst = 0\n",
    "            else:\n",
    "                rst = li[-1]-li[-2]\n",
    "        else:\n",
    "            rst = 0\n",
    "        n = rst\n",
    "        if rst in d:\n",
    "            d[rst].append(i)\n",
    "        else:\n",
    "            d[rst] = [i]\n",
    "    return rst"
   ]
  },
  {
   "cell_type": "code",
   "execution_count": 6,
   "metadata": {},
   "outputs": [
    {
     "name": "stderr",
     "output_type": "stream",
     "text": [
      "100%|█████████████████████████████████████████████████████████| 2014/2014 [00:00<00:00, 1008154.70it/s]\n"
     ]
    },
    {
     "data": {
      "text/plain": [
       "1015"
      ]
     },
     "execution_count": 6,
     "metadata": {},
     "output_type": "execute_result"
    }
   ],
   "source": [
    "get_number(inp,2020)"
   ]
  },
  {
   "cell_type": "raw",
   "metadata": {},
   "source": [
    "--- Part Two ---\n",
    "\n",
    "Impressed, the Elves issue you a challenge: determine the 30000000th number spoken. For example, given the same starting numbers as above:\n",
    "\n",
    "    Given 0,3,6, the 30000000th number spoken is 175594.\n",
    "    Given 1,3,2, the 30000000th number spoken is 2578.\n",
    "    Given 2,1,3, the 30000000th number spoken is 3544142.\n",
    "    Given 1,2,3, the 30000000th number spoken is 261214.\n",
    "    Given 2,3,1, the 30000000th number spoken is 6895259.\n",
    "    Given 3,2,1, the 30000000th number spoken is 18.\n",
    "    Given 3,1,2, the 30000000th number spoken is 362.\n",
    "\n",
    "Given your starting numbers, what will be the 30000000th number spoken?\n",
    "\n",
    "Your puzzle answer was 201."
   ]
  },
  {
   "cell_type": "code",
   "execution_count": 7,
   "metadata": {},
   "outputs": [
    {
     "name": "stderr",
     "output_type": "stream",
     "text": [
      "100%|██████████████████████████████████████████████████| 29999994/29999994 [00:37<00:00, 808179.79it/s]\n"
     ]
    },
    {
     "data": {
      "text/plain": [
       "201"
      ]
     },
     "execution_count": 7,
     "metadata": {},
     "output_type": "execute_result"
    }
   ],
   "source": [
    "get_number(inp,30000000)"
   ]
  }
 ],
 "metadata": {
  "kernelspec": {
   "display_name": "Python [conda env:ds38]",
   "language": "python",
   "name": "conda-env-ds38-py"
  },
  "language_info": {
   "codemirror_mode": {
    "name": "ipython",
    "version": 3
   },
   "file_extension": ".py",
   "mimetype": "text/x-python",
   "name": "python",
   "nbconvert_exporter": "python",
   "pygments_lexer": "ipython3",
   "version": "3.8.5"
  }
 },
 "nbformat": 4,
 "nbformat_minor": 4
}
